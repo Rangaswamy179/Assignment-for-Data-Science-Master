{
 "cells": [
  {
   "cell_type": "code",
   "execution_count": null,
   "id": "401f4234-c46e-4f94-b7f0-2e737919fb14",
   "metadata": {},
   "outputs": [],
   "source": [
    "Q1. What is multiprocessing in python? Why is it useful?"
   ]
  },
  {
   "cell_type": "code",
   "execution_count": null,
   "id": "04b21a4d-5901-44ec-8972-3d5a7e0413b0",
   "metadata": {},
   "outputs": [],
   "source": [
    "multiprocessing defined as ability of system supports for the multiple processors,in which executes the \n",
    "sequence of programms execute parallel,it will run independtly.\n",
    "it is mainly used for run multipe task at different processors\n",
    "it will improve the performance of system\n",
    "we can easily save the time"
   ]
  },
  {
   "cell_type": "code",
   "execution_count": null,
   "id": "24b5e024-c2da-480e-be17-fa8ffb9173ad",
   "metadata": {},
   "outputs": [],
   "source": [
    "Q2. What are the differences between multiprocessing and multithreading?\n",
    "In multithreading multiple threads runs in a single processor and threads execute one after the other\n",
    "In multiprocessing multiple threads runs in a multiple processors and threads execute paralley\n",
    "In multithreading there is no classification\n",
    "In multiprocessing divided into symetric and asymetric\n",
    "In multithreading there is no classification\n",
    "In multithreading we use a shared variable and locked variable\n",
    "In multiprocessing we use pool,pipe,queue,and arrays"
   ]
  },
  {
   "cell_type": "code",
   "execution_count": null,
   "id": "7297bc91-ae78-4250-b61a-0e577610e589",
   "metadata": {},
   "outputs": [],
   "source": [
    "Q3. Write a python code to create a process using the multiprocessing module."
   ]
  },
  {
   "cell_type": "code",
   "execution_count": 1,
   "id": "40bf6095-edb3-4f03-8b9d-c6b41f2ad98a",
   "metadata": {},
   "outputs": [],
   "source": [
    "import multiprocessing"
   ]
  },
  {
   "cell_type": "code",
   "execution_count": 3,
   "id": "28e643ca-0f0c-4a2b-8afc-132748c91039",
   "metadata": {},
   "outputs": [
    {
     "name": "stdout",
     "output_type": "stream",
     "text": [
      "This is function to create process by using multiprocessing\n"
     ]
    }
   ],
   "source": [
    "def test():\n",
    "    print('This is function to create process by using multiprocessing')\n",
    "if __name__=='__main__':\n",
    "    m=multiprocessing.Process(target=test)\n",
    "    m.start()"
   ]
  },
  {
   "cell_type": "code",
   "execution_count": null,
   "id": "58928282-b589-441b-8a40-2ae4cff6cfc1",
   "metadata": {},
   "outputs": [],
   "source": [
    "Q4. What is a multiprocessing pool in python? Why is it used?"
   ]
  },
  {
   "cell_type": "code",
   "execution_count": null,
   "id": "603d9523-6345-4890-bc5b-268ac76a2511",
   "metadata": {},
   "outputs": [],
   "source": [
    "multiprocessing pool in python defined used create pool of inpute that are given to parallel execution of function\n",
    "at n number pool input values\n",
    "it is mainly used when large input values are given to function and helps for simultaneous execution and helps\n",
    "create and manage pool"
   ]
  },
  {
   "cell_type": "code",
   "execution_count": null,
   "id": "b9930329-53cf-48c7-b586-9fc620ca5aff",
   "metadata": {},
   "outputs": [],
   "source": [
    "Q5. How can we create a pool of worker processes in python using the multiprocessing module?"
   ]
  },
  {
   "cell_type": "code",
   "execution_count": 5,
   "id": "bbf43d74-5579-4a34-a436-d9b169e763cc",
   "metadata": {},
   "outputs": [
    {
     "name": "stdout",
     "output_type": "stream",
     "text": [
      "[9, 16, 25, 36, 49, 64, 81, 100]\n"
     ]
    }
   ],
   "source": [
    "import multiprocessing\n",
    "def sq_n(n):\n",
    "    return n**2\n",
    "if __name__=='__main__':\n",
    "    with multiprocessing.Pool(processes=5) as m:\n",
    "        output=m.map(sq_n,[3,4,5,6,7,8,9,10])\n",
    "        print(output)"
   ]
  },
  {
   "cell_type": "code",
   "execution_count": null,
   "id": "5845d3c7-c0d7-476f-b7d6-e942927f3050",
   "metadata": {},
   "outputs": [],
   "source": [
    "as shown above code we create a 5 process with use of multiprocessing"
   ]
  },
  {
   "cell_type": "code",
   "execution_count": null,
   "id": "a9ea19f2-2daf-4f97-9ac5-416968e85615",
   "metadata": {},
   "outputs": [],
   "source": [
    "Q6. Write a python program to create 4 processes, each process should print a different number using the\n",
    "multiprocessing module in python."
   ]
  },
  {
   "cell_type": "code",
   "execution_count": 12,
   "id": "8b3f1aa8-7ea7-4602-88b5-a518d06d85c1",
   "metadata": {},
   "outputs": [
    {
     "name": "stdout",
     "output_type": "stream",
     "text": [
      "The given number is 1 and process name Process-31\n",
      "The given number is 2 and process name Process-32\n",
      "The given number is 3 and process name Process-33\n",
      "The given number is 4 and process name Process-34\n"
     ]
    }
   ],
   "source": [
    "import multiprocessing\n",
    "def number(x):\n",
    "    print('The given number is {} and process name {}'.format(x,multiprocessing.current_process().name))\n",
    "if __name__=='__main__':\n",
    "    m1=multiprocessing.Process(target=number,args=(1,))\n",
    "    m2=multiprocessing.Process(target=number,args=(2,))\n",
    "    m3=multiprocessing.Process(target=number,args=(3,))\n",
    "    m4=multiprocessing.Process(target=number,args=(4,))\n",
    "    m1.start()\n",
    "    m2.start()\n",
    "    m3.start()\n",
    "    m4.start()\n",
    "    m1.join()\n",
    "    m2.join()\n",
    "    m3.join()\n",
    "    m4.join()"
   ]
  }
 ],
 "metadata": {
  "kernelspec": {
   "display_name": "Python 3 (ipykernel)",
   "language": "python",
   "name": "python3"
  },
  "language_info": {
   "codemirror_mode": {
    "name": "ipython",
    "version": 3
   },
   "file_extension": ".py",
   "mimetype": "text/x-python",
   "name": "python",
   "nbconvert_exporter": "python",
   "pygments_lexer": "ipython3",
   "version": "3.10.8"
  }
 },
 "nbformat": 4,
 "nbformat_minor": 5
}

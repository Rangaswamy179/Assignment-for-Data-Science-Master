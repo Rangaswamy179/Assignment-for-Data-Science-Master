{
 "cells": [
  {
   "cell_type": "code",
   "execution_count": null,
   "id": "c0763802-32dd-4325-a8de-3609e26bcb52",
   "metadata": {},
   "outputs": [],
   "source": [
    "Q1. Calculate the 95% confidence interval for a sample of data with a mean of 50 and a standard deviation\n",
    "of 5 using Python. Interpret the results."
   ]
  },
  {
   "cell_type": "code",
   "execution_count": 10,
   "id": "e07f134a-4684-4db1-9b13-d751fc078b60",
   "metadata": {},
   "outputs": [
    {
     "name": "stdout",
     "output_type": "stream",
     "text": [
      "95% Confidence Interval: (48.1329693162095, 51.8670306837905)\n"
     ]
    }
   ],
   "source": [
    "import scipy.stats as stats\n",
    "from math import sqrt as s\n",
    "# Sample mean and standard deviation\n",
    "sample_mean = 50\n",
    "sample_std = 5\n",
    "\n",
    "# Sample size\n",
    "sample_size = 30 # You need to provide the sample size\n",
    "\n",
    "# Degrees of freedom\n",
    "degrees_of_freedom = sample_size - 1\n",
    "\n",
    "# Confidence level\n",
    "confidence_level = 0.95\n",
    "\n",
    "# Calculate the margin of error\n",
    "margin_of_error = stats.t.ppf((1 + confidence_level) / 2, df=degrees_of_freedom) * (sample_std / (sample_size)**0.5)\n",
    "\n",
    "# Calculate the lower and upper bounds\n",
    "lower_bound = sample_mean - margin_of_error\n",
    "upper_bound = sample_mean + margin_of_error\n",
    "\n",
    "# Print the results\n",
    "print(f\"95% Confidence Interval: ({lower_bound}, {upper_bound})\")\n"
   ]
  },
  {
   "cell_type": "code",
   "execution_count": null,
   "id": "f48459db-7c5e-45ed-b129-fc697467e374",
   "metadata": {},
   "outputs": [],
   "source": [
    "Q2. Conduct a chi-square goodness of fit test to determine if the distribution of colors of M&Ms in a bag\n",
    "matches the expected distribution of 20% blue, 20% orange, 20% green, 10% yellow, 10% red, and 20%\n",
    "brown. Use Python to perform the test with a significance level of 0.05."
   ]
  },
  {
   "cell_type": "code",
   "execution_count": 19,
   "id": "041946f7-07cf-440b-82f0-a2ffa034daac",
   "metadata": {},
   "outputs": [],
   "source": [
    "import scipy.stats as stats"
   ]
  },
  {
   "cell_type": "code",
   "execution_count": 34,
   "id": "c77862f0-3849-41ba-be7c-0e1f8b5ff8f8",
   "metadata": {},
   "outputs": [
    {
     "data": {
      "text/plain": [
       "(1.0, 1.0)"
      ]
     },
     "execution_count": 34,
     "metadata": {},
     "output_type": "execute_result"
    }
   ],
   "source": [
    "expected_data=[0.2, 0.2, 0.2, 0.1, 0.1, 0.2]\n",
    "observe_data=[0.1,0.2,0.1,0.2,0.2,0.2]\n",
    "sum(expected_data),sum(observe_data)"
   ]
  },
  {
   "cell_type": "code",
   "execution_count": 35,
   "id": "4da68e5d-4b6c-4d91-9503-45095e4bc015",
   "metadata": {},
   "outputs": [],
   "source": [
    "chi_statistics,p_value=stats.chisquare(observe_data,expected_data)"
   ]
  },
  {
   "cell_type": "code",
   "execution_count": 36,
   "id": "54c60b11-4f0c-46b3-95b7-566a0ec6fa79",
   "metadata": {},
   "outputs": [
    {
     "data": {
      "text/plain": [
       "(0.30000000000000004, 0.9976430862605289)"
      ]
     },
     "execution_count": 36,
     "metadata": {},
     "output_type": "execute_result"
    }
   ],
   "source": [
    "chi_statistics,p_value"
   ]
  },
  {
   "cell_type": "code",
   "execution_count": 37,
   "id": "04b437b3-5e04-4506-be19-e3b3049a172e",
   "metadata": {},
   "outputs": [
    {
     "data": {
      "text/plain": [
       "11.070497693516351"
      ]
     },
     "execution_count": 37,
     "metadata": {},
     "output_type": "execute_result"
    }
   ],
   "source": [
    "significance_level=0.05\n",
    "dof=6-1\n",
    "critical_value=stats.chi2.ppf(1-(significance_level),df=dof)\n",
    "critical_value"
   ]
  },
  {
   "cell_type": "code",
   "execution_count": 38,
   "id": "6fd8f0fc-28ab-4dc8-9c58-216952a17c26",
   "metadata": {},
   "outputs": [
    {
     "name": "stdout",
     "output_type": "stream",
     "text": [
      "Fail to reject the null hypothesis\n",
      "Chi-square statistic: 0.30000000000000004\n",
      "Critical value: 11.070497693516351\n"
     ]
    }
   ],
   "source": [
    "if chi_statistics> critical_value:\n",
    "    print(\"Reject the null hypothesis\")\n",
    "else:\n",
    "    print(\"Fail to reject the null hypothesis\")\n",
    "\n",
    "print(f\"Chi-square statistic: {chi_statistics}\")\n",
    "print(f\"Critical value: {critical_value}\")"
   ]
  },
  {
   "cell_type": "code",
   "execution_count": null,
   "id": "540b7115-a9d7-46ce-8a87-bc62dc6cb1a9",
   "metadata": {},
   "outputs": [],
   "source": [
    "Q3. Use Python to calculate the chi-square statistic and p-value for a contingency table with the following\n",
    "data:\n",
    "Interpret the results of the test.\n",
    "\n",
    "          Group A     Group B\n",
    "\n",
    "Outcome 1   20          15\n",
    "Outcome 2   10          25\n",
    "Outcome 3   15          20\n"
   ]
  },
  {
   "cell_type": "code",
   "execution_count": 12,
   "id": "8360e7aa-32c9-470a-881b-74172c35e7e0",
   "metadata": {},
   "outputs": [
    {
     "name": "stdout",
     "output_type": "stream",
     "text": [
      "Chi-square statistic: 5.833333333333334\n",
      "p-value: 0.05411376622282158\n",
      "2\n",
      "[[15. 20.]\n",
      " [15. 20.]\n",
      " [15. 20.]]\n"
     ]
    }
   ],
   "source": [
    "from scipy.stats import chi2_contingency\n",
    "\n",
    "# Create the contingency table\n",
    "observed = [[20, 15],\n",
    "            [10, 25],\n",
    "            [15, 20]]\n",
    "\n",
    "# Calculate the chi-square statistic and p-value\n",
    "chi2, p,dof,expected_data1= chi2_contingency(observed)\n",
    "\n",
    "# Print the results\n",
    "print(\"Chi-square statistic:\", chi2)\n",
    "print(\"p-value:\", p)\n",
    "print(dof)\n",
    "print(expected_data1)\n"
   ]
  },
  {
   "cell_type": "code",
   "execution_count": null,
   "id": "d996059f-18c1-4c7a-b2bf-5cbae9cf871d",
   "metadata": {},
   "outputs": [],
   "source": [
    "Since the p-value is greater than the commonly chosen significance level of 0.05, we fail to reject the null hypothesis,\n",
    "which states that there is no association between the groups and outcomes. This suggests that there is \n",
    "no significant difference in the distribution of outcomes between Group A and Group B."
   ]
  },
  {
   "cell_type": "code",
   "execution_count": null,
   "id": "0915818f-ef84-405b-9d29-dbb888e48211",
   "metadata": {},
   "outputs": [],
   "source": [
    "Q4. A study of the prevalence of smoking in a population of 500 individuals found that 60 individuals\n",
    "smoked. Use Python to calculate the 95% confidence interval for the true proportion of individuals in the\n",
    "population who smoke."
   ]
  },
  {
   "cell_type": "code",
   "execution_count": 13,
   "id": "88899934-a028-42e2-9e7a-ec6f5053d1a7",
   "metadata": {},
   "outputs": [
    {
     "name": "stdout",
     "output_type": "stream",
     "text": [
      "95% Confidence Interval: (0.09151638887130706, 0.14848361112869293)\n"
     ]
    }
   ],
   "source": [
    "import statsmodels.stats.proportion as prop\n",
    "\n",
    "# Define the sample size and the number of individuals who smoke\n",
    "n = 500\n",
    "smokers = 60\n",
    "\n",
    "# Calculate the confidence interval\n",
    "ci = prop.proportion_confint(smokers, n, alpha=0.05, method='normal')\n",
    "\n",
    "# Print the confidence interval\n",
    "print(\"95% Confidence Interval:\", ci)"
   ]
  },
  {
   "cell_type": "code",
   "execution_count": null,
   "id": "38af0715-4c1f-4a4f-86d6-f8ea15408298",
   "metadata": {},
   "outputs": [],
   "source": [
    "Q5. Calculate the 90% confidence interval for a sample of data with a mean of 75 and a standard deviation\n",
    "of 12 using Python. Interpret the results."
   ]
  },
  {
   "cell_type": "code",
   "execution_count": 19,
   "id": "674c9740-7dad-400f-867c-05c1b6a139de",
   "metadata": {},
   "outputs": [
    {
     "name": "stdout",
     "output_type": "stream",
     "text": [
      " 90% confidence interval for a sample of data from 73.00753061280433 to 76.99246938719567\n"
     ]
    }
   ],
   "source": [
    "import scipy.stats as stats\n",
    "from math import sqrt as sqrt\n",
    "sample_mean=75\n",
    "sample_standard_deviation=12\n",
    "sample_size=100\n",
    "confidence_level=0.9\n",
    "dof=sample_size-1\n",
    "margin_error=stats.t.ppf((1+confidence_level)/2,df=dof)*(sample_standard_deviation/sqrt(sample_size))\n",
    "lower_bound=sample_mean-margin_error\n",
    "upper_bound=sample_mean+margin_error\n",
    "print(f' 90% confidence interval for a sample of data from {lower_bound} to {upper_bound}')"
   ]
  },
  {
   "cell_type": "code",
   "execution_count": null,
   "id": "c48f066c-1c49-45ed-ad2d-dc062bd5ab52",
   "metadata": {},
   "outputs": [],
   "source": [
    "Q6. Use Python to plot the chi-square distribution with 10 degrees of freedom. Label the axes and shade the\n",
    "area corresponding to a chi-square statistic of 15."
   ]
  },
  {
   "cell_type": "code",
   "execution_count": 24,
   "id": "f9472ef6-e741-48b3-a328-436b6156873c",
   "metadata": {},
   "outputs": [
    {
     "data": {
      "image/png": "[encoded data removed]",
      "text/plain": [
       "<Figure size 640x480 with 1 Axes>"
      ]
     },
     "metadata": {},
     "output_type": "display_data"
    }
   ],
   "source": [
    "import numpy as np\n",
    "import matplotlib.pyplot as plt\n",
    "import scipy.stats as stats\n",
    "\n",
    "# Set the degrees of freedom\n",
    "df = 10\n",
    "\n",
    "# Generate x values from 0 to 30\n",
    "x = np.linspace(0, 30, 500)\n",
    "\n",
    "# Calculate the chi-square distribution for the given degrees of freedom\n",
    "y = stats.chi2.pdf(x, df)\n",
    "\n",
    "# Create the plot\n",
    "plt.plot(x, y, label='Chi-square (df=10)')\n",
    "plt.xlabel('Chi-square Value')\n",
    "plt.ylabel('Probability Density Function')\n",
    "plt.title('Chi-square Distribution')\n",
    "plt.grid(True)\n",
    "\n",
    "# Shade the area corresponding to a chi-square statistic of 15\n",
    "shade_x = np.linspace(0, 15, 500)\n",
    "shade_y = stats.chi2.pdf(shade_x, df)\n",
    "plt.fill_between(shade_x,shade_y, color='blue', alpha=0.3)\n",
    "\n",
    "# Display the plot\n",
    "plt.show()\n"
   ]
  },
  {
   "cell_type": "code",
   "execution_count": null,
   "id": "829213ae-6557-4acf-9af0-a9f4cd562687",
   "metadata": {},
   "outputs": [],
   "source": [
    "Q7. A random sample of 1000 people was asked if they preferred Coke or Pepsi. Of the sample, 520\n",
    "preferred Coke. Calculate a 99% confidence interval for the true proportion of people in the population who\n",
    "prefer Coke."
   ]
  },
  {
   "cell_type": "code",
   "execution_count": 34,
   "id": "47a4e67e-6ec2-4642-ab57-e1672674f622",
   "metadata": {},
   "outputs": [
    {
     "name": "stdout",
     "output_type": "stream",
     "text": [
      "99% confidence interval for the true proportion of people in the population who prefer coke lies between::(0.4793051576779699, 0.5606948423220302)\n"
     ]
    }
   ],
   "source": [
    "import statsmodels.stats.proportion as prop\n",
    "n=1000\n",
    "sample=520\n",
    "ci=prop.proportion_confint(sample,n,alpha=0.01,method='normal')\n",
    "print(f'99% confidence interval for the true proportion of people in the population who prefer coke lies between::{ci}')"
   ]
  },
  {
   "cell_type": "code",
   "execution_count": null,
   "id": "fa61bd67-903b-4290-8a9a-87e0cf88670a",
   "metadata": {},
   "outputs": [],
   "source": [
    "Q8. A researcher hypothesizes that a coin is biased towards tails. They flip the coin 100 times and observe\n",
    "45 tails. Conduct a chi-square goodness of fit test to determine if the observed frequencies match the\n",
    "expected frequencies of a fair coin. Use a significance level of 0.05."
   ]
  },
  {
   "cell_type": "code",
   "execution_count": 7,
   "id": "cc71b501-b052-40d0-af13-6b07eac89f39",
   "metadata": {},
   "outputs": [
    {
     "name": "stdout",
     "output_type": "stream",
     "text": [
      "Fail to Reject the null hypothesis\n"
     ]
    }
   ],
   "source": [
    "import scipy.stats as stats\n",
    "observed_data=[45,55]\n",
    "expected_data=[50,50]\n",
    "dof=2-1\n",
    "significance_level=0.05\n",
    "chi_statistics,p_value=stats.chisquare(observed_data,expected_data)\n",
    "critical_value=stats.chi2.ppf(1-significance_level,dof)\n",
    "\n",
    "if chi_statistics>critical_value:\n",
    "    print('Reject the null hypothesis')\n",
    "else:\n",
    "    print('Fail to Reject the null hypothesis')"
   ]
  },
  {
   "cell_type": "code",
   "execution_count": null,
   "id": "80970bca-e983-4e0c-be53-9eac70eacd3e",
   "metadata": {},
   "outputs": [],
   "source": [
    "Q9. A study was conducted to determine if there is an association between smoking status (smoker or\n",
    "non-smoker) and lung cancer diagnosis (yes or no). The results are shown in the contingency table below.\n",
    "Conduct a chi-square test for independence to determine if there is a significant association between\n",
    "smoking status and lung cancer diagnosis.\n",
    "\n",
    "\n",
    "           Lung Cancer: Yes      Lung Cancer: No\n",
    "\n",
    "Smoker           60                   140\n",
    "Non-smoker       30                   170\n",
    "\n",
    "Use a significance level of 0.05."
   ]
  },
  {
   "cell_type": "code",
   "execution_count": null,
   "id": "22e8db0d-3667-420b-a090-c3ae0c2dfd64",
   "metadata": {},
   "outputs": [],
   "source": [
    "Null Hypothesis (H0): There is no association between smoking status and lung cancer diagnosis.\n",
    "\n",
    "Alternative Hypothesis (Ha): There is an association between smoking status and lung cancer diagnosis."
   ]
  },
  {
   "cell_type": "code",
   "execution_count": 13,
   "id": "f4beb06e-0776-436f-a796-17604753a890",
   "metadata": {},
   "outputs": [
    {
     "name": "stdout",
     "output_type": "stream",
     "text": [
      "Reject the null hypothesis\n"
     ]
    }
   ],
   "source": [
    "from scipy.stats import chi2_contingency\n",
    "significance_level=0.05\n",
    "observed_data=[[60,140],[30,170]]\n",
    "chi_statistics,p_value,dof,expected_data=stats.chi2_contingency(observed_data)\n",
    "chi_statistics,p_value,dof,expected_data\n",
    "if significance_level>p_value:\n",
    "    print('Reject the null hypothesis')\n",
    "else:\n",
    "    print(' fail to Reject the null hypothesis')"
   ]
  },
  {
   "cell_type": "code",
   "execution_count": null,
   "id": "298fb12e-e117-4591-8630-4a40d0e661c8",
   "metadata": {},
   "outputs": [],
   "source": [
    "Q10. A study was conducted to determine if the proportion of people who prefer milk chocolate, dark\n",
    "chocolate, or white chocolate is different in the U.S. versus the U.K. A random sample of 500 people from\n",
    "the U.S. and a random sample of 500 people from the U.K. were surveyed. The results are shown in the\n",
    "contingency table below. Conduct a chi-square test for independence to determine if there is a significant\n",
    "association between chocolate preference and country of origin.\n",
    "\n",
    "             Milk Chocolate Dark Chocolate White Chocolate\n",
    "\n",
    "U.S. (n=500)      200          150                150\n",
    "U.K. (n=500)      225          175                100\n",
    "\n",
    "Use a significance level of 0.01."
   ]
  },
  {
   "cell_type": "code",
   "execution_count": null,
   "id": "4dc55106-9b48-458d-baa9-02f60e00058b",
   "metadata": {},
   "outputs": [],
   "source": [
    "Null Hypothesis (H0): There is no a significant association between chocolate preference and country of origin.\n",
    "Alernative Hypothesis (H0): There is a significant association between chocolate preference and country of origin."
   ]
  },
  {
   "cell_type": "code",
   "execution_count": 17,
   "id": "ed25ae05-8755-4375-b04b-37e77c6a264a",
   "metadata": {},
   "outputs": [
    {
     "name": "stdout",
     "output_type": "stream",
     "text": [
      "Reject the null hypothesis\n"
     ]
    }
   ],
   "source": [
    "from scipy.stats import chi2_contingency\n",
    "observed_data=[[200,150,150],[225,175,100]]\n",
    "chi_statistics,p_value,dof,expected_data=stats.chi2_contingency(observed_data)\n",
    "significance_level=0.01\n",
    "if significance_level>p_value:\n",
    "    print('Reject the null hypothesis')\n",
    "else:\n",
    "    print(' fail to Reject the null hypothesis')"
   ]
  },
  {
   "cell_type": "code",
   "execution_count": null,
   "id": "ea6249b1-423d-4093-ae4c-6366d1228c22",
   "metadata": {},
   "outputs": [],
   "source": [
    "Q11. A random sample of 30 people was selected from a population with an unknown mean and standard\n",
    "deviation. The sample mean was found to be 72 and the sample standard deviation was found to be 10.\n",
    "Conduct a hypothesis test to determine if the population mean is significantly different from 70. Use a\n",
    "significance level of 0.05."
   ]
  },
  {
   "cell_type": "code",
   "execution_count": null,
   "id": "e589cf67-36f0-435c-b3ef-bd39dc5dde00",
   "metadata": {},
   "outputs": [],
   "source": [
    "Null Hypothesis (H0):  the population mean is equal to 70\n",
    "Alernative Hypothesis (H0):  the population mean is significantly different from 70"
   ]
  },
  {
   "cell_type": "code",
   "execution_count": 4,
   "id": "d2eb2672-52a7-4e20-a076-60ae46c346a8",
   "metadata": {},
   "outputs": [],
   "source": [
    "from math import sqrt\n",
    "n=30\n",
    "x=72\n",
    "s=10\n",
    "dof=n-1\n",
    "alpha=0.05\n",
    "critical_value=2.045\n",
    "u=70"
   ]
  },
  {
   "cell_type": "code",
   "execution_count": 5,
   "id": "1908ce75-f9e5-41df-b2c5-2c3f55bfe2a4",
   "metadata": {},
   "outputs": [],
   "source": [
    "t_value=(x-u)/(s/sqrt(n))"
   ]
  },
  {
   "cell_type": "code",
   "execution_count": 6,
   "id": "65ccf2fa-f50e-400a-8e19-b3a8a83d2f66",
   "metadata": {},
   "outputs": [
    {
     "data": {
      "text/plain": [
       "1.0954451150103321"
      ]
     },
     "execution_count": 6,
     "metadata": {},
     "output_type": "execute_result"
    }
   ],
   "source": [
    "t_value"
   ]
  },
  {
   "cell_type": "code",
   "execution_count": 9,
   "id": "d5355325-d8d5-41f8-ab31-e991593bee64",
   "metadata": {},
   "outputs": [
    {
     "name": "stdout",
     "output_type": "stream",
     "text": [
      " fail to Reject the null hypothesis\n"
     ]
    }
   ],
   "source": [
    "if t_value>critical_value:\n",
    "    print('Reject the null hypothesis')\n",
    "else:\n",
    "    print(' fail to Reject the null hypothesis')"
   ]
  },
  {
   "cell_type": "code",
   "execution_count": null,
   "id": "ef1c21dd-d482-411c-bb51-f17ff5cd7094",
   "metadata": {},
   "outputs": [],
   "source": []
  }
 ],
 "metadata": {
  "kernelspec": {
   "display_name": "Python 3 (ipykernel)",
   "language": "python",
   "name": "python3"
  },
  "language_info": {
   "codemirror_mode": {
    "name": "ipython",
    "version": 3
   },
   "file_extension": ".py",
   "mimetype": "text/x-python",
   "name": "python",
   "nbconvert_exporter": "python",
   "pygments_lexer": "ipython3",
   "version": "3.10.8"
  }
 },
 "nbformat": 4,
 "nbformat_minor": 5
}

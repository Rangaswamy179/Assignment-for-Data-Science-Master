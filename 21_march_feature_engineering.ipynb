{
 "cells": [
  {
   "cell_type": "code",
   "execution_count": null,
   "id": "2da5ec7d-1e2c-4597-9e9e-f300c4f38201",
   "metadata": {},
   "outputs": [],
   "source": [
    "Q1. What is the difference between Ordinal Encoding and Label Encoding? Provide an example of when you\n",
    "might choose one over the other."
   ]
  },
  {
   "cell_type": "code",
   "execution_count": null,
   "id": "5332773b-5368-42d5-be62-35f937ef0715",
   "metadata": {},
   "outputs": [],
   "source": [
    "ordinal encoding is used when we have transfer the categorical data into numerical data in specfic rank\n",
    "or order \n",
    "Label encoding is used when we have transfer the categorical data into numerical data we randomly assigned the label"
   ]
  },
  {
   "cell_type": "code",
   "execution_count": null,
   "id": "4b81d5e4-3421-48d6-809f-2bf454c3fec3",
   "metadata": {},
   "outputs": [],
   "source": [
    "suppose we considerd student marks grade A,B and c of categorical data,when we have to transfer the this categorical data\n",
    "to numerical with rank A has 1st rank,B has second rank,c has third rank and we have train the model this fashion we use the \n",
    "ordinal encoding \n",
    "for the same above example when we consider A,B and C of categorical data,label encoding assign random label with out rank or order\n",
    "it assign B for 1st,A for second and C for third randomly"
   ]
  },
  {
   "cell_type": "code",
   "execution_count": null,
   "id": "a9645214-a543-43c1-b4b3-93eba844119f",
   "metadata": {},
   "outputs": [],
   "source": [
    "Q2. Explain how Target Guided Ordinal Encoding works and provide an example of when you might use it in\n",
    "a machine learning project."
   ]
  },
  {
   "cell_type": "code",
   "execution_count": null,
   "id": "68702b68-6f86-4a51-bcdf-ce8f3cc25256",
   "metadata": {},
   "outputs": [],
   "source": [
    "Target guided ordinal encoding works on the basis of relationship between the target variable the categorical data tranfer into numerical data\n",
    "based on the target variable mean and median so that it is more correlated to the target variable"
   ]
  },
  {
   "cell_type": "code",
   "execution_count": 2,
   "id": "1f778320-e645-4943-bdee-02512981dce8",
   "metadata": {},
   "outputs": [],
   "source": [
    "import pandas as pd\n",
    "df=pd.DataFrame({'grades':['A','C','B','C','A','B','B'],'marks':[90,40,65,35,85,75,70]})"
   ]
  },
  {
   "cell_type": "code",
   "execution_count": 5,
   "id": "9a49885c-a19c-4cce-b6ef-bc9a0f56dee6",
   "metadata": {},
   "outputs": [],
   "source": [
    "mean_marks=df.groupby('grades')['marks'].mean()"
   ]
  },
  {
   "cell_type": "code",
   "execution_count": 6,
   "id": "a5f7ee6a-8d11-4fa4-9234-d46bf539c2cb",
   "metadata": {},
   "outputs": [],
   "source": [
    "df['encoding_grades']=df['grades'].map(mean_marks)"
   ]
  },
  {
   "cell_type": "code",
   "execution_count": 9,
   "id": "78746967-64d8-4992-9b08-a5e359baf755",
   "metadata": {},
   "outputs": [
    {
     "data": {
      "text/html": [
       "<div>\n",
       "<style scoped>\n",
       "    .dataframe tbody tr th:only-of-type {\n",
       "        vertical-align: middle;\n",
       "    }\n",
       "\n",
       "    .dataframe tbody tr th {\n",
       "        vertical-align: top;\n",
       "    }\n",
       "\n",
       "    .dataframe thead th {\n",
       "        text-align: right;\n",
       "    }\n",
       "</style>\n",
       "<table border=\"1\" class=\"dataframe\">\n",
       "  <thead>\n",
       "    <tr style=\"text-align: right;\">\n",
       "      <th></th>\n",
       "      <th>grades</th>\n",
       "      <th>encoding_grades</th>\n",
       "    </tr>\n",
       "  </thead>\n",
       "  <tbody>\n",
       "    <tr>\n",
       "      <th>0</th>\n",
       "      <td>A</td>\n",
       "      <td>87.5</td>\n",
       "    </tr>\n",
       "    <tr>\n",
       "      <th>1</th>\n",
       "      <td>C</td>\n",
       "      <td>37.5</td>\n",
       "    </tr>\n",
       "    <tr>\n",
       "      <th>2</th>\n",
       "      <td>B</td>\n",
       "      <td>70.0</td>\n",
       "    </tr>\n",
       "    <tr>\n",
       "      <th>3</th>\n",
       "      <td>C</td>\n",
       "      <td>37.5</td>\n",
       "    </tr>\n",
       "    <tr>\n",
       "      <th>4</th>\n",
       "      <td>A</td>\n",
       "      <td>87.5</td>\n",
       "    </tr>\n",
       "    <tr>\n",
       "      <th>5</th>\n",
       "      <td>B</td>\n",
       "      <td>70.0</td>\n",
       "    </tr>\n",
       "    <tr>\n",
       "      <th>6</th>\n",
       "      <td>B</td>\n",
       "      <td>70.0</td>\n",
       "    </tr>\n",
       "  </tbody>\n",
       "</table>\n",
       "</div>"
      ],
      "text/plain": [
       "  grades  encoding_grades\n",
       "0      A             87.5\n",
       "1      C             37.5\n",
       "2      B             70.0\n",
       "3      C             37.5\n",
       "4      A             87.5\n",
       "5      B             70.0\n",
       "6      B             70.0"
      ]
     },
     "execution_count": 9,
     "metadata": {},
     "output_type": "execute_result"
    }
   ],
   "source": [
    "df[['grades','encoding_grades']]"
   ]
  },
  {
   "cell_type": "code",
   "execution_count": null,
   "id": "b5321b0d-9ea4-406e-9beb-f3ccbd280963",
   "metadata": {},
   "outputs": [],
   "source": [
    "by above example we transfer the different grades into encoding grades"
   ]
  },
  {
   "cell_type": "code",
   "execution_count": null,
   "id": "8e4505d3-7422-405e-b830-3b2b08916382",
   "metadata": {},
   "outputs": [],
   "source": [
    "Q3. Define covariance and explain why it is important in statistical analysis. How is covariance calculated?"
   ]
  },
  {
   "cell_type": "code",
   "execution_count": null,
   "id": "ba9512d0-0750-40c0-8cb5-277a26fca076",
   "metadata": {},
   "outputs": [],
   "source": [
    "covariance is defined as relationship between two variaables,it tells how the two variables are related.\n",
    "it is important in statistical analysis to determine how the features are related,In machine Learning there are\n",
    "multiple features we have to select the to train the model where features are inter related to each other "
   ]
  },
  {
   "cell_type": "code",
   "execution_count": null,
   "id": "38176d22-9fae-4d8f-a5ff-d48c0a911ef1",
   "metadata": {},
   "outputs": [],
   "source": [
    "covariance is calculated by the formula:suppose x and y are two variables\n",
    "    cov(x,y)"
   ]
  },
  {
   "cell_type": "code",
   "execution_count": null,
   "id": "3d8aad7e-677a-4eeb-aff9-96c13836d942",
   "metadata": {},
   "outputs": [],
   "source": [
    "Q4. For a dataset with the following categorical variables: Color (red, green, blue), Size (small, medium,\n",
    "large), and Material (wood, metal, plastic), perform label encoding using Python's scikit-learn library.\n",
    "Show your code and explain the output."
   ]
  },
  {
   "cell_type": "code",
   "execution_count": 10,
   "id": "c5b7bd46-8667-465e-8b19-187209a1f74a",
   "metadata": {},
   "outputs": [],
   "source": [
    "df=pd.DataFrame({'color':['red','green','blue'],'size':['small','medium','large'],'material':['wood','metal','plastic']})"
   ]
  },
  {
   "cell_type": "code",
   "execution_count": 12,
   "id": "78596133-fc72-4bbd-8feb-1f0736197bec",
   "metadata": {},
   "outputs": [
    {
     "data": {
      "text/html": [
       "<div>\n",
       "<style scoped>\n",
       "    .dataframe tbody tr th:only-of-type {\n",
       "        vertical-align: middle;\n",
       "    }\n",
       "\n",
       "    .dataframe tbody tr th {\n",
       "        vertical-align: top;\n",
       "    }\n",
       "\n",
       "    .dataframe thead th {\n",
       "        text-align: right;\n",
       "    }\n",
       "</style>\n",
       "<table border=\"1\" class=\"dataframe\">\n",
       "  <thead>\n",
       "    <tr style=\"text-align: right;\">\n",
       "      <th></th>\n",
       "      <th>color</th>\n",
       "      <th>size</th>\n",
       "      <th>material</th>\n",
       "    </tr>\n",
       "  </thead>\n",
       "  <tbody>\n",
       "    <tr>\n",
       "      <th>0</th>\n",
       "      <td>red</td>\n",
       "      <td>small</td>\n",
       "      <td>wood</td>\n",
       "    </tr>\n",
       "    <tr>\n",
       "      <th>1</th>\n",
       "      <td>green</td>\n",
       "      <td>medium</td>\n",
       "      <td>metal</td>\n",
       "    </tr>\n",
       "    <tr>\n",
       "      <th>2</th>\n",
       "      <td>blue</td>\n",
       "      <td>large</td>\n",
       "      <td>plastic</td>\n",
       "    </tr>\n",
       "  </tbody>\n",
       "</table>\n",
       "</div>"
      ],
      "text/plain": [
       "   color    size material\n",
       "0    red   small     wood\n",
       "1  green  medium    metal\n",
       "2   blue   large  plastic"
      ]
     },
     "execution_count": 12,
     "metadata": {},
     "output_type": "execute_result"
    }
   ],
   "source": [
    "df.head()"
   ]
  },
  {
   "cell_type": "code",
   "execution_count": 13,
   "id": "6624bdff-13d5-4009-b5d3-779405bc0589",
   "metadata": {},
   "outputs": [],
   "source": [
    "from sklearn.preprocessing import LabelEncoder"
   ]
  },
  {
   "cell_type": "code",
   "execution_count": 14,
   "id": "79b54f37-b942-4c5d-8e0c-d7689e822130",
   "metadata": {},
   "outputs": [],
   "source": [
    "lbl_encoder=LabelEncoder()"
   ]
  },
  {
   "cell_type": "code",
   "execution_count": 23,
   "id": "d18614f8-6889-4b86-809d-99da2adba726",
   "metadata": {},
   "outputs": [
    {
     "name": "stderr",
     "output_type": "stream",
     "text": [
      "/opt/conda/lib/python3.10/site-packages/sklearn/preprocessing/_label.py:116: DataConversionWarning: A column-vector y was passed when a 1d array was expected. Please change the shape of y to (n_samples, ), for example using ravel().\n",
      "  y = column_or_1d(y, warn=True)\n"
     ]
    }
   ],
   "source": [
    "df['encoded_color']=lbl_encoder.fit_transform(df[['color']])"
   ]
  },
  {
   "cell_type": "code",
   "execution_count": 25,
   "id": "0d7c53cf-a72c-4435-b7ec-6bda6ad8e408",
   "metadata": {},
   "outputs": [
    {
     "name": "stderr",
     "output_type": "stream",
     "text": [
      "/opt/conda/lib/python3.10/site-packages/sklearn/preprocessing/_label.py:116: DataConversionWarning: A column-vector y was passed when a 1d array was expected. Please change the shape of y to (n_samples, ), for example using ravel().\n",
      "  y = column_or_1d(y, warn=True)\n"
     ]
    }
   ],
   "source": [
    "df['encoded_size']=lbl_encoder.fit_transform(df[['size']])"
   ]
  },
  {
   "cell_type": "code",
   "execution_count": 28,
   "id": "873105dd-b116-4966-a826-d3b8f0aab632",
   "metadata": {},
   "outputs": [
    {
     "name": "stderr",
     "output_type": "stream",
     "text": [
      "/opt/conda/lib/python3.10/site-packages/sklearn/preprocessing/_label.py:116: DataConversionWarning: A column-vector y was passed when a 1d array was expected. Please change the shape of y to (n_samples, ), for example using ravel().\n",
      "  y = column_or_1d(y, warn=True)\n"
     ]
    }
   ],
   "source": [
    "df['encoded_material']=lbl_encoder.fit_transform(df[['material']])"
   ]
  },
  {
   "cell_type": "code",
   "execution_count": 29,
   "id": "369f801a-0f59-439f-a843-64433aac4185",
   "metadata": {},
   "outputs": [
    {
     "data": {
      "text/html": [
       "<div>\n",
       "<style scoped>\n",
       "    .dataframe tbody tr th:only-of-type {\n",
       "        vertical-align: middle;\n",
       "    }\n",
       "\n",
       "    .dataframe tbody tr th {\n",
       "        vertical-align: top;\n",
       "    }\n",
       "\n",
       "    .dataframe thead th {\n",
       "        text-align: right;\n",
       "    }\n",
       "</style>\n",
       "<table border=\"1\" class=\"dataframe\">\n",
       "  <thead>\n",
       "    <tr style=\"text-align: right;\">\n",
       "      <th></th>\n",
       "      <th>color</th>\n",
       "      <th>size</th>\n",
       "      <th>material</th>\n",
       "      <th>encoded_color</th>\n",
       "      <th>encoded_size</th>\n",
       "      <th>encoded_material</th>\n",
       "    </tr>\n",
       "  </thead>\n",
       "  <tbody>\n",
       "    <tr>\n",
       "      <th>0</th>\n",
       "      <td>red</td>\n",
       "      <td>small</td>\n",
       "      <td>wood</td>\n",
       "      <td>2</td>\n",
       "      <td>2</td>\n",
       "      <td>2</td>\n",
       "    </tr>\n",
       "    <tr>\n",
       "      <th>1</th>\n",
       "      <td>green</td>\n",
       "      <td>medium</td>\n",
       "      <td>metal</td>\n",
       "      <td>1</td>\n",
       "      <td>1</td>\n",
       "      <td>0</td>\n",
       "    </tr>\n",
       "    <tr>\n",
       "      <th>2</th>\n",
       "      <td>blue</td>\n",
       "      <td>large</td>\n",
       "      <td>plastic</td>\n",
       "      <td>0</td>\n",
       "      <td>0</td>\n",
       "      <td>1</td>\n",
       "    </tr>\n",
       "  </tbody>\n",
       "</table>\n",
       "</div>"
      ],
      "text/plain": [
       "   color    size material  encoded_color  encoded_size  encoded_material\n",
       "0    red   small     wood              2             2                 2\n",
       "1  green  medium    metal              1             1                 0\n",
       "2   blue   large  plastic              0             0                 1"
      ]
     },
     "execution_count": 29,
     "metadata": {},
     "output_type": "execute_result"
    }
   ],
   "source": [
    "df"
   ]
  },
  {
   "cell_type": "code",
   "execution_count": null,
   "id": "bd85dcba-2727-4396-8bbc-5be1d8c33969",
   "metadata": {},
   "outputs": [],
   "source": [
    "Q5. Calculate the covariance matrix for the following variables in a dataset: Age, Income, and Education\n",
    "level. Interpret the results."
   ]
  },
  {
   "cell_type": "code",
   "execution_count": 31,
   "id": "2c27d5ad-8385-4e6d-98cf-6b55207428c4",
   "metadata": {},
   "outputs": [],
   "source": [
    "df=pd.DataFrame({'age':[16,18,23,26],'income':[20000,40000,35000,40000],'education_level':['high_school','puc','under_graduate','post_graduate']})"
   ]
  },
  {
   "cell_type": "code",
   "execution_count": 32,
   "id": "d357e8c5-2a02-42f2-941c-398e14cac6cc",
   "metadata": {},
   "outputs": [
    {
     "name": "stderr",
     "output_type": "stream",
     "text": [
      "/tmp/ipykernel_207/1545644723.py:1: FutureWarning: The default value of numeric_only in DataFrame.cov is deprecated. In a future version, it will default to False. Select only valid columns or specify the value of numeric_only to silence this warning.\n",
      "  df.cov()\n"
     ]
    },
    {
     "data": {
      "text/html": [
       "<div>\n",
       "<style scoped>\n",
       "    .dataframe tbody tr th:only-of-type {\n",
       "        vertical-align: middle;\n",
       "    }\n",
       "\n",
       "    .dataframe tbody tr th {\n",
       "        vertical-align: top;\n",
       "    }\n",
       "\n",
       "    .dataframe thead th {\n",
       "        text-align: right;\n",
       "    }\n",
       "</style>\n",
       "<table border=\"1\" class=\"dataframe\">\n",
       "  <thead>\n",
       "    <tr style=\"text-align: right;\">\n",
       "      <th></th>\n",
       "      <th>age</th>\n",
       "      <th>income</th>\n",
       "    </tr>\n",
       "  </thead>\n",
       "  <tbody>\n",
       "    <tr>\n",
       "      <th>age</th>\n",
       "      <td>20.916667</td>\n",
       "      <td>2.791667e+04</td>\n",
       "    </tr>\n",
       "    <tr>\n",
       "      <th>income</th>\n",
       "      <td>27916.666667</td>\n",
       "      <td>8.958333e+07</td>\n",
       "    </tr>\n",
       "  </tbody>\n",
       "</table>\n",
       "</div>"
      ],
      "text/plain": [
       "                 age        income\n",
       "age        20.916667  2.791667e+04\n",
       "income  27916.666667  8.958333e+07"
      ]
     },
     "execution_count": 32,
     "metadata": {},
     "output_type": "execute_result"
    }
   ],
   "source": [
    "df.cov()"
   ]
  },
  {
   "cell_type": "code",
   "execution_count": null,
   "id": "37326ad7-134f-48d2-8943-57088e5fc1cf",
   "metadata": {},
   "outputs": [],
   "source": [
    "Q6. You are working on a machine learning project with a dataset containing several categorical\n",
    "variables, including \"Gender\" (Male/Female), \"Education Level\" (High School/Bachelor's/Master's/PhD),\n",
    "and \"Employment Status\" (Unemployed/Part-Time/Full-Time). Which encoding method would you use for\n",
    "each variable, and why?"
   ]
  },
  {
   "cell_type": "code",
   "execution_count": null,
   "id": "cc60de5e-284b-4d80-9795-a5d9113991ff",
   "metadata": {},
   "outputs": [],
   "source": [
    "for gender male or female we can use the label encoding or one hot encoding where in label encoding\n",
    "assign male for one label and female for another label.one hot encoding assign binary values for each unique categorical data\n",
    "for educational level (High School/Bachelor's/Master's/PhD) we use the oridal encoding where it transfer the \n",
    "categorical data into the specific rank or order,for high school it assign 1,bachelor 2,master for 3 phd for 4.\n",
    "for \"Employment Status\" (Unemployed/Part-Time/Full-Time) we can use the label encoding or one hot encoding where in label encoding\n",
    "assign (Unemployed/Part-Time/Full-Time) different labels.one hot encoding assign binary values for each unique categorical data"
   ]
  },
  {
   "cell_type": "code",
   "execution_count": null,
   "id": "f931836d-578c-43bc-903b-7a907f9757d6",
   "metadata": {},
   "outputs": [],
   "source": [
    "Q7. You are analyzing a dataset with two continuous variables, \"Temperature\" and \"Humidity\", and two\n",
    "categorical variables, \"Weather Condition\" (Sunny/Cloudy/Rainy) and \"Wind Direction\" (North/South/\n",
    "East/West). Calculate the covariance between each pair of variables and interpret the results."
   ]
  },
  {
   "cell_type": "code",
   "execution_count": null,
   "id": "1e03d30e-3458-4fab-88ed-5ddf83920be9",
   "metadata": {},
   "outputs": [],
   "source": [
    "However, if you want to explore the relationship between the categorical variables and the continuous variables, you can use methods such as analysis of variance (ANOVA) or regression analysis, which can provide insights into how categorical variables affect the\n",
    "mean values of continuous variables.\n",
    "\n",
    "To summarize, while covariance can be calculated between continuous variables to measure their linear relationship, it is not applicable to calculate covariance between continuous and categorical variables. To explore the relationship between categorical and continuous\n",
    "variables, other statistical techniques are more suitable."
   ]
  }
 ],
 "metadata": {
  "kernelspec": {
   "display_name": "Python 3 (ipykernel)",
   "language": "python",
   "name": "python3"
  },
  "language_info": {
   "codemirror_mode": {
    "name": "ipython",
    "version": 3
   },
   "file_extension": ".py",
   "mimetype": "text/x-python",
   "name": "python",
   "nbconvert_exporter": "python",
   "pygments_lexer": "ipython3",
   "version": "3.10.8"
  }
 },
 "nbformat": 4,
 "nbformat_minor": 5
}

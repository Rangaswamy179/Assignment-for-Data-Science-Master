{
 "cells": [
  {
   "cell_type": "code",
   "execution_count": null,
   "id": "827b26ec-3dfe-465d-801f-32fd9c407849",
   "metadata": {},
   "outputs": [],
   "source": [
    "Q1. What is the Probability density function?"
   ]
  },
  {
   "cell_type": "code",
   "execution_count": null,
   "id": "4dced8b8-eb72-4e7a-bafa-32df68505870",
   "metadata": {},
   "outputs": [],
   "source": [
    "Probability density function is defined as distribution of data in continuous format"
   ]
  },
  {
   "cell_type": "code",
   "execution_count": null,
   "id": "0844ecd8-7a6e-4202-8387-99882f44cf39",
   "metadata": {},
   "outputs": [],
   "source": [
    "Q2. What are the types of Probability distribution?"
   ]
  },
  {
   "cell_type": "code",
   "execution_count": null,
   "id": "144fddb3-029d-4121-aea5-af83d93d4f79",
   "metadata": {},
   "outputs": [],
   "source": [
    "the types of Probability distribution are:\n",
    "     Probability density function:\n",
    "        Normal Distribution\n",
    "        Uniform Distribution\n",
    "        Log-Normal Distribution\n",
    "     Probability mass function:\n",
    "        Binomial Distribution\n",
    "        Bernoulli's Distribution\n",
    "        poison Distribution\n",
    "     cumulative distribution function"
   ]
  },
  {
   "cell_type": "code",
   "execution_count": null,
   "id": "dcb5500f-50e1-4bb6-8fc9-00bc3221b5f0",
   "metadata": {},
   "outputs": [],
   "source": [
    "Q3. Write a Python function to calculate the probability density function of a normal distribution with\n",
    "given mean and standard deviation at a given point."
   ]
  },
  {
   "cell_type": "code",
   "execution_count": 6,
   "id": "d1856226-eed5-4a0a-bac0-db738571f3b0",
   "metadata": {},
   "outputs": [],
   "source": [
    "def pdf_norm(mean,std):\n",
    "    from scipy.stats import norm\n",
    "    import numpy as np\n",
    "    probability_pdf = norm.pdf(3, loc=mean, scale=std)\n",
    "    print(probability_pdf)"
   ]
  },
  {
   "cell_type": "code",
   "execution_count": 7,
   "id": "821bafd9-be4f-4a51-b096-c059e96ebf04",
   "metadata": {},
   "outputs": [
    {
     "name": "stdout",
     "output_type": "stream",
     "text": [
      "0.3278664300849499\n"
     ]
    }
   ],
   "source": [
    "pdf_norm(2.8,1.2)"
   ]
  },
  {
   "cell_type": "code",
   "execution_count": null,
   "id": "7b86ff1e-c594-480a-a315-c702e1a4d4bd",
   "metadata": {},
   "outputs": [],
   "source": [
    "Q4. What are the properties of Binomial distribution? Give two examples of events where binomial\n",
    "distribution can be applied."
   ]
  },
  {
   "cell_type": "code",
   "execution_count": null,
   "id": "a529ce9a-062a-41da-a534-049c85a6712a",
   "metadata": {},
   "outputs": [],
   "source": [
    "the properties of Binomial distribution are:\n",
    "    The binomial distribution occurs the when experiment performed assumtion of 3\n",
    "    bernoulli trial:\n",
    "        *In Bernoulli trial the probablity of outcome occcurs in two ways success or failure\n",
    "        *for success outcome we denoted as p and for a failure outcome we denoted as 1-p as q\n",
    "        *Both the outcome are indpendent to each other and series of bernoulli trial is called as binomial distribution\n",
    "         and single bernoulli trial is called as the binomial distribution"
   ]
  },
  {
   "cell_type": "code",
   "execution_count": null,
   "id": "d05421b3-4b31-4438-94cf-1858b88d01cc",
   "metadata": {},
   "outputs": [],
   "source": [
    "Two examples of events where binomial distribution can be applied:\n",
    "    Tossing a coin 10 times has two outcomes head or tail\n",
    "    conducting a survey report positive and negative for specfic product "
   ]
  },
  {
   "cell_type": "code",
   "execution_count": null,
   "id": "5d32716e-8fa3-4c82-bd76-9c6dbd52aedf",
   "metadata": {},
   "outputs": [],
   "source": [
    "Q5. Generate a random sample of size 1000 from a` binomial distribution with probability of success 0.4\n",
    "and plot a histogram of the results using matplotlib."
   ]
  },
  {
   "cell_type": "code",
   "execution_count": 15,
   "id": "2d6cacbe-0179-47bf-ac6d-85b9b7421b08",
   "metadata": {},
   "outputs": [
    {
     "data": {
      "image/png": "[encoded data removed]",
      "text/plain": [
       "<Figure size 640x480 with 1 Axes>"
      ]
     },
     "metadata": {},
     "output_type": "display_data"
    }
   ],
   "source": [
    "import numpy as np\n",
    "import matplotlib.pyplot as plt\n",
    "\n",
    "# set the probability of success\n",
    "p = 0.4\n",
    "\n",
    "# generate a random sample of size 1000 from a binomial distribution\n",
    "sample = np.random.binomial(n=1, p=p, size=1000)\n",
    "# plot a histogram of the sample\n",
    "plt.hist(sample,bins=2,  edgecolor='black')\n",
    "plt.xlabel('Success or Failure')\n",
    "plt.ylabel('Frequency')\n",
    "plt.title('Binomial Distribution with p=0.4')\n",
    "plt.show()\n"
   ]
  },
  {
   "cell_type": "code",
   "execution_count": null,
   "id": "0235f532-6bb7-400d-9035-197fbb16e7f4",
   "metadata": {},
   "outputs": [],
   "source": [
    "Q6. Write a Python function to calculate the cumulative distribution function of a Poisson distribution\n",
    "with given mean at a given point."
   ]
  },
  {
   "cell_type": "code",
   "execution_count": 17,
   "id": "49dc6571-9b3c-4845-9582-4c1edd9e5e87",
   "metadata": {},
   "outputs": [],
   "source": [
    "from scipy.stats import poisson\n",
    "\n",
    "def poisson_cdf(mean, point):\n",
    "    # Calculate the CDF using the cumulative distribution function (cdf) method of the poisson distribution\n",
    "    cdf = poisson.cdf(point, mu=mean)\n",
    "    return cdf"
   ]
  },
  {
   "cell_type": "code",
   "execution_count": 18,
   "id": "38a257e5-c9e6-4424-afd6-086a009e14c0",
   "metadata": {},
   "outputs": [
    {
     "data": {
      "text/plain": [
       "0.8911780189141513"
      ]
     },
     "execution_count": 18,
     "metadata": {},
     "output_type": "execute_result"
    }
   ],
   "source": [
    "poisson_cdf(2.5,4)"
   ]
  },
  {
   "cell_type": "code",
   "execution_count": null,
   "id": "bf3de1bf-e0ce-493b-b0d2-a8b5d60efa3a",
   "metadata": {},
   "outputs": [],
   "source": [
    "Q7. How Binomial distribution different from Poisson distribution?"
   ]
  },
  {
   "cell_type": "code",
   "execution_count": null,
   "id": "2ebaaac5-228d-4d92-8589-75b666f1e21d",
   "metadata": {},
   "outputs": [],
   "source": [
    "The binomial and Poisson distributions are both commonly used in probability theory and statistics, but they are used to model different types of events.\n",
    "\n",
    "The binomial distribution is used to model the probability of a certain number \n",
    "of successes in a fixed number of independent trials, where each trial has the \n",
    "same probability of success. For example, if you toss a coin 10 times and want \n",
    "to know the probability of getting exactly 4 heads, you would use the binomial \n",
    "distribution.\n",
    "\n",
    "The Poisson distribution, on the other hand, is used to model the probability of\n",
    "a certain number of events occurring in a fixed interval of time or space. For \n",
    "example, if you want to know the probability of a certain number of customers \n",
    "arriving at a store in a certain time period, you would use the Poisson distribution.\n",
    "\n",
    "Another key difference between the two distributions is that the binomial \n",
    "distribution requires a fixed number of trials, while the Poisson distribution \n",
    "does not. Additionally, the Poisson distribution assumes that the events occur\n",
    "randomly and independently, while the binomial distribution assumes that the \n",
    "events are independent but not necessarily random."
   ]
  },
  {
   "cell_type": "code",
   "execution_count": null,
   "id": "8e119bdc-bcab-4bc7-ab3a-4f6bb05cefc0",
   "metadata": {},
   "outputs": [],
   "source": [
    "Q8. Generate a random sample of size 1000 from a Poisson distribution with mean 5 and calculate the\n",
    "sample mean and variance."
   ]
  },
  {
   "cell_type": "code",
   "execution_count": 7,
   "id": "9bb8edee-894b-495b-bf5c-ab321b526c3c",
   "metadata": {},
   "outputs": [
    {
     "name": "stdout",
     "output_type": "stream",
     "text": [
      "4.64\n",
      "4.3104000000000005\n"
     ]
    }
   ],
   "source": [
    "import scipy.stats as stats\n",
    "import numpy as np\n",
    "mean=5\n",
    "sample=np.random.poisson(mean,size=100)\n",
    "sample_mean=np.mean(sample)\n",
    "sample_var=np.var(sample)\n",
    "print(sample_mean)\n",
    "print(sample_var)"
   ]
  },
  {
   "cell_type": "code",
   "execution_count": null,
   "id": "b1987bf4-8dfc-4bdb-acae-63856e6ee637",
   "metadata": {},
   "outputs": [],
   "source": [
    "Q9. How mean and variance are related in Binomial distribution and Poisson distribution?"
   ]
  },
  {
   "cell_type": "code",
   "execution_count": null,
   "id": "56870ee7-774b-4e6d-a1b4-b5acd1ff5914",
   "metadata": {},
   "outputs": [],
   "source": [
    "In both binomial and Poisson distributions, the mean and variance are related to each other.\n",
    "\n",
    "In the binomial distribution, if X is the random variable representing the number of successes \n",
    "in n independent trials with a probability of success p, then the mean is μ = np and the variance \n",
    "is σ² = np(1-p).\n",
    "\n",
    "In the Poisson distribution, if X is the random variable representing the number of events in a\n",
    "fixed interval of time or space with a rate parameter λ, then the mean is μ = λ and the variance \n",
    "is σ² = λ."
   ]
  },
  {
   "cell_type": "code",
   "execution_count": null,
   "id": "e25802a8-14be-4528-b9bb-219bfa7e447e",
   "metadata": {},
   "outputs": [],
   "source": [
    "Q10. In normal distribution with respect to mean position, where does the least frequent data appear?"
   ]
  },
  {
   "cell_type": "code",
   "execution_count": null,
   "id": "c2fa189a-4c80-4b4c-ae71-25ee2905b6b1",
   "metadata": {},
   "outputs": [],
   "source": [
    "In a normal distribution, the least frequent data appears at the tails of the distribution, \n",
    "which are the regions that are farthest away from the mean. The normal distribution is \n",
    "symmetric around the mean, which means that the same proportion of data falls to the left and\n",
    "right of the mean.\n",
    "\n",
    "Therefore, the least frequent data in a normal distribution is located in the regions beyond \n",
    "three standard deviations away from the mean. These extreme values are rare and may be considered\n",
    "outliers or anomalies in the data."
   ]
  }
 ],
 "metadata": {
  "kernelspec": {
   "display_name": "Python 3 (ipykernel)",
   "language": "python",
   "name": "python3"
  },
  "language_info": {
   "codemirror_mode": {
    "name": "ipython",
    "version": 3
   },
   "file_extension": ".py",
   "mimetype": "text/x-python",
   "name": "python",
   "nbconvert_exporter": "python",
   "pygments_lexer": "ipython3",
   "version": "3.10.8"
  }
 },
 "nbformat": 4,
 "nbformat_minor": 5
}

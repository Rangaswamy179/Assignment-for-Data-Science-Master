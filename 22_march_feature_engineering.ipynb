{
 "cells": [
  {
   "cell_type": "code",
   "execution_count": null,
   "id": "58c1669c-f111-4818-95f7-1f75d37a63e1",
   "metadata": {},
   "outputs": [],
   "source": [
    "Q1. Pearson correlation coefficient is a measure of the linear relationship between two variables. Suppose\n",
    "you have collected data on the amount of time students spend studying for an exam and their final exam\n",
    "scores. Calculate the Pearson correlation coefficient between these two variables and interpret the result."
   ]
  },
  {
   "cell_type": "code",
   "execution_count": 1,
   "id": "530b4f64-1b2c-4205-88eb-075eb5d714a2",
   "metadata": {},
   "outputs": [],
   "source": [
    "import pandas as pd\n",
    "df=pd.DataFrame({'students':['a','b','c','d','e'],'study_exam':[3,2,1,3,4],'study_final_exam':[6,4,3,6,8]})"
   ]
  },
  {
   "cell_type": "code",
   "execution_count": 7,
   "id": "d768ae85-d63a-4403-bcd6-d97e91b06d07",
   "metadata": {},
   "outputs": [
    {
     "name": "stderr",
     "output_type": "stream",
     "text": [
      "/tmp/ipykernel_986/1928163937.py:1: FutureWarning: The default value of numeric_only in DataFrame.corr is deprecated. In a future version, it will default to False. Select only valid columns or specify the value of numeric_only to silence this warning.\n",
      "  df.corr(method='pearson')\n"
     ]
    },
    {
     "data": {
      "text/html": [
       "<div>\n",
       "<style scoped>\n",
       "    .dataframe tbody tr th:only-of-type {\n",
       "        vertical-align: middle;\n",
       "    }\n",
       "\n",
       "    .dataframe tbody tr th {\n",
       "        vertical-align: top;\n",
       "    }\n",
       "\n",
       "    .dataframe thead th {\n",
       "        text-align: right;\n",
       "    }\n",
       "</style>\n",
       "<table border=\"1\" class=\"dataframe\">\n",
       "  <thead>\n",
       "    <tr style=\"text-align: right;\">\n",
       "      <th></th>\n",
       "      <th>study_exam</th>\n",
       "      <th>study_final_exam</th>\n",
       "    </tr>\n",
       "  </thead>\n",
       "  <tbody>\n",
       "    <tr>\n",
       "      <th>study_exam</th>\n",
       "      <td>1.000000</td>\n",
       "      <td>0.989827</td>\n",
       "    </tr>\n",
       "    <tr>\n",
       "      <th>study_final_exam</th>\n",
       "      <td>0.989827</td>\n",
       "      <td>1.000000</td>\n",
       "    </tr>\n",
       "  </tbody>\n",
       "</table>\n",
       "</div>"
      ],
      "text/plain": [
       "                  study_exam  study_final_exam\n",
       "study_exam          1.000000          0.989827\n",
       "study_final_exam    0.989827          1.000000"
      ]
     },
     "execution_count": 7,
     "metadata": {},
     "output_type": "execute_result"
    }
   ],
   "source": [
    "df.corr(method='pearson')"
   ]
  },
  {
   "cell_type": "code",
   "execution_count": null,
   "id": "ec20065e-220b-4d7a-b500-cbae4632be9d",
   "metadata": {},
   "outputs": [],
   "source": [
    "Q2. Spearman's rank correlation is a measure of the monotonic relationship between two variables.\n",
    "Suppose you have collected data on the amount of sleep individuals get each night and their overall job\n",
    "satisfaction level on a scale of 1 to 10. Calculate the Spearman's rank correlation between these two\n",
    "variables and interpret the result."
   ]
  },
  {
   "cell_type": "code",
   "execution_count": 3,
   "id": "aface548-9c35-496a-b9e1-72833437bbd3",
   "metadata": {},
   "outputs": [],
   "source": [
    "df=pd.DataFrame({'sleep_individual':[5,6,7,8,8,9,],'job_satisfication':[4,7,7,9,10,10]})"
   ]
  },
  {
   "cell_type": "code",
   "execution_count": 5,
   "id": "fec186f6-2b67-4716-8d95-2a0b8f946e00",
   "metadata": {},
   "outputs": [
    {
     "data": {
      "text/html": [
       "<div>\n",
       "<style scoped>\n",
       "    .dataframe tbody tr th:only-of-type {\n",
       "        vertical-align: middle;\n",
       "    }\n",
       "\n",
       "    .dataframe tbody tr th {\n",
       "        vertical-align: top;\n",
       "    }\n",
       "\n",
       "    .dataframe thead th {\n",
       "        text-align: right;\n",
       "    }\n",
       "</style>\n",
       "<table border=\"1\" class=\"dataframe\">\n",
       "  <thead>\n",
       "    <tr style=\"text-align: right;\">\n",
       "      <th></th>\n",
       "      <th>sleep_individual</th>\n",
       "      <th>job_satisfication</th>\n",
       "    </tr>\n",
       "  </thead>\n",
       "  <tbody>\n",
       "    <tr>\n",
       "      <th>sleep_individual</th>\n",
       "      <td>1.000000</td>\n",
       "      <td>0.940403</td>\n",
       "    </tr>\n",
       "    <tr>\n",
       "      <th>job_satisfication</th>\n",
       "      <td>0.940403</td>\n",
       "      <td>1.000000</td>\n",
       "    </tr>\n",
       "  </tbody>\n",
       "</table>\n",
       "</div>"
      ],
      "text/plain": [
       "                   sleep_individual  job_satisfication\n",
       "sleep_individual           1.000000           0.940403\n",
       "job_satisfication          0.940403           1.000000"
      ]
     },
     "execution_count": 5,
     "metadata": {},
     "output_type": "execute_result"
    }
   ],
   "source": [
    "df.corr(method='spearman')"
   ]
  },
  {
   "cell_type": "code",
   "execution_count": null,
   "id": "c08f6360-12c9-401d-bbe1-497fd90ea28b",
   "metadata": {},
   "outputs": [],
   "source": [
    "Q3. Suppose you are conducting a study to examine the relationship between the number of hours of\n",
    "exercise per week and body mass index (BMI) in a sample of adults. You collected data on both variables\n",
    "for 50 participants. Calculate the Pearson correlation coefficient and the Spearman's rank correlation\n",
    "between these two variables and compare the results."
   ]
  },
  {
   "cell_type": "code",
   "execution_count": 2,
   "id": "c45eb881-241a-4b8a-bba8-7fa207398115",
   "metadata": {},
   "outputs": [],
   "source": [
    "df=pd.DataFrame({'no_hours':[1,2,3,2,1,2],'Bmi':[24,20,19,18,23,22]})"
   ]
  },
  {
   "cell_type": "code",
   "execution_count": 3,
   "id": "1b751eb3-8f70-4697-b9ec-a03aa6a852ad",
   "metadata": {},
   "outputs": [
    {
     "data": {
      "text/html": [
       "<div>\n",
       "<style scoped>\n",
       "    .dataframe tbody tr th:only-of-type {\n",
       "        vertical-align: middle;\n",
       "    }\n",
       "\n",
       "    .dataframe tbody tr th {\n",
       "        vertical-align: top;\n",
       "    }\n",
       "\n",
       "    .dataframe thead th {\n",
       "        text-align: right;\n",
       "    }\n",
       "</style>\n",
       "<table border=\"1\" class=\"dataframe\">\n",
       "  <thead>\n",
       "    <tr style=\"text-align: right;\">\n",
       "      <th></th>\n",
       "      <th>no_hours</th>\n",
       "      <th>Bmi</th>\n",
       "    </tr>\n",
       "  </thead>\n",
       "  <tbody>\n",
       "    <tr>\n",
       "      <th>no_hours</th>\n",
       "      <td>1.000000</td>\n",
       "      <td>-0.785905</td>\n",
       "    </tr>\n",
       "    <tr>\n",
       "      <th>Bmi</th>\n",
       "      <td>-0.785905</td>\n",
       "      <td>1.000000</td>\n",
       "    </tr>\n",
       "  </tbody>\n",
       "</table>\n",
       "</div>"
      ],
      "text/plain": [
       "          no_hours       Bmi\n",
       "no_hours  1.000000 -0.785905\n",
       "Bmi      -0.785905  1.000000"
      ]
     },
     "execution_count": 3,
     "metadata": {},
     "output_type": "execute_result"
    }
   ],
   "source": [
    "df.corr(method='pearson')"
   ]
  },
  {
   "cell_type": "code",
   "execution_count": 4,
   "id": "6af87880-8ecf-4060-81ff-2aadd3664f3d",
   "metadata": {},
   "outputs": [
    {
     "data": {
      "text/html": [
       "<div>\n",
       "<style scoped>\n",
       "    .dataframe tbody tr th:only-of-type {\n",
       "        vertical-align: middle;\n",
       "    }\n",
       "\n",
       "    .dataframe tbody tr th {\n",
       "        vertical-align: top;\n",
       "    }\n",
       "\n",
       "    .dataframe thead th {\n",
       "        text-align: right;\n",
       "    }\n",
       "</style>\n",
       "<table border=\"1\" class=\"dataframe\">\n",
       "  <thead>\n",
       "    <tr style=\"text-align: right;\">\n",
       "      <th></th>\n",
       "      <th>no_hours</th>\n",
       "      <th>Bmi</th>\n",
       "    </tr>\n",
       "  </thead>\n",
       "  <tbody>\n",
       "    <tr>\n",
       "      <th>no_hours</th>\n",
       "      <td>1.000000</td>\n",
       "      <td>-0.802377</td>\n",
       "    </tr>\n",
       "    <tr>\n",
       "      <th>Bmi</th>\n",
       "      <td>-0.802377</td>\n",
       "      <td>1.000000</td>\n",
       "    </tr>\n",
       "  </tbody>\n",
       "</table>\n",
       "</div>"
      ],
      "text/plain": [
       "          no_hours       Bmi\n",
       "no_hours  1.000000 -0.802377\n",
       "Bmi      -0.802377  1.000000"
      ]
     },
     "execution_count": 4,
     "metadata": {},
     "output_type": "execute_result"
    }
   ],
   "source": [
    "df.corr(method='spearman')"
   ]
  },
  {
   "cell_type": "code",
   "execution_count": null,
   "id": "082af7d2-0a40-4664-89d4-78711e77d2dc",
   "metadata": {},
   "outputs": [],
   "source": [
    "Q4. A researcher is interested in examining the relationship between the number of hours individuals\n",
    "spend watching television per day and their level of physical activity. The researcher collected data on\n",
    "both variables from a sample of 50 participants. Calculate the Pearson correlation coefficient between\n",
    "these two variables."
   ]
  },
  {
   "cell_type": "code",
   "execution_count": 19,
   "id": "a548797b-219b-43cd-8e84-0a19c00997fc",
   "metadata": {},
   "outputs": [],
   "source": [
    "df=pd.DataFrame({'no_hours':[7,6,5,4,3,6,8,3,2,1,7,8,9,2,3,4,5,8,1,2,3,5,7,2,1,7,6,5,4,3,6,8,3,2,1,7,8,9,2,3,4,5,8,1,2,3,5,7,2,1],'physical_activity':[1,2,2,2,3,2,2,5,6,4,2,1,2,3,3,2,4,3,2,1,5,5,2,6,5,1,2,2,2,3,2,2,5,6,4,2,1,2,3,3,2,4,3,2,1,5,5,2,6,5]})"
   ]
  },
  {
   "cell_type": "code",
   "execution_count": 21,
   "id": "a01b1da1-9f86-45cc-a8fb-76edfcb9074f",
   "metadata": {},
   "outputs": [
    {
     "data": {
      "text/html": [
       "<div>\n",
       "<style scoped>\n",
       "    .dataframe tbody tr th:only-of-type {\n",
       "        vertical-align: middle;\n",
       "    }\n",
       "\n",
       "    .dataframe tbody tr th {\n",
       "        vertical-align: top;\n",
       "    }\n",
       "\n",
       "    .dataframe thead th {\n",
       "        text-align: right;\n",
       "    }\n",
       "</style>\n",
       "<table border=\"1\" class=\"dataframe\">\n",
       "  <thead>\n",
       "    <tr style=\"text-align: right;\">\n",
       "      <th></th>\n",
       "      <th>no_hours</th>\n",
       "      <th>physical_activity</th>\n",
       "    </tr>\n",
       "  </thead>\n",
       "  <tbody>\n",
       "    <tr>\n",
       "      <th>no_hours</th>\n",
       "      <td>1.000000</td>\n",
       "      <td>-0.521456</td>\n",
       "    </tr>\n",
       "    <tr>\n",
       "      <th>physical_activity</th>\n",
       "      <td>-0.521456</td>\n",
       "      <td>1.000000</td>\n",
       "    </tr>\n",
       "  </tbody>\n",
       "</table>\n",
       "</div>"
      ],
      "text/plain": [
       "                   no_hours  physical_activity\n",
       "no_hours           1.000000          -0.521456\n",
       "physical_activity -0.521456           1.000000"
      ]
     },
     "execution_count": 21,
     "metadata": {},
     "output_type": "execute_result"
    }
   ],
   "source": [
    "df.corr(method='pearson')"
   ]
  },
  {
   "cell_type": "code",
   "execution_count": null,
   "id": "4e9a0583-bf8c-4a0b-a6a4-9e136900dd75",
   "metadata": {},
   "outputs": [],
   "source": [
    "Q5. A survey was conducted to examine the relationship between age and preference for a particular\n",
    "brand of soft drink. The survey results are shown below:\n",
    "\n",
    "Age(Years)      Soft drink Preference\n",
    "25                            Coke\n",
    "42                            Pepsi\n",
    "37                            Mountain dew\n",
    "19                              Coke\n",
    "31                             Pepsi\n",
    "28                             Coke"
   ]
  },
  {
   "cell_type": "code",
   "execution_count": 24,
   "id": "e9e9feaf-2092-4b75-a78b-7206aafa91ce",
   "metadata": {},
   "outputs": [],
   "source": [
    "df=pd.DataFrame({'age':[25,42,37,19,31,28],'soft_drink':['coke','pepsi',' Mountain dew','coke','pepsi','coke']})"
   ]
  },
  {
   "cell_type": "code",
   "execution_count": 22,
   "id": "716d3d35-d8c4-4b52-976c-4863cafa629d",
   "metadata": {},
   "outputs": [],
   "source": [
    "from sklearn.preprocessing import LabelEncoder"
   ]
  },
  {
   "cell_type": "code",
   "execution_count": 23,
   "id": "5944666d-26d3-440c-853c-277b97a458ca",
   "metadata": {},
   "outputs": [],
   "source": [
    "encoder=LabelEncoder()"
   ]
  },
  {
   "cell_type": "code",
   "execution_count": 27,
   "id": "9646d9e5-7122-4b8c-ab86-26d24a459ceb",
   "metadata": {},
   "outputs": [
    {
     "name": "stderr",
     "output_type": "stream",
     "text": [
      "/opt/conda/lib/python3.10/site-packages/sklearn/preprocessing/_label.py:116: DataConversionWarning: A column-vector y was passed when a 1d array was expected. Please change the shape of y to (n_samples, ), for example using ravel().\n",
      "  y = column_or_1d(y, warn=True)\n"
     ]
    }
   ],
   "source": [
    "df['soft_encoded']=encoder.fit_transform(df[['soft_drink']])"
   ]
  },
  {
   "cell_type": "code",
   "execution_count": 28,
   "id": "3b2075e6-3c5a-4998-a5c1-5b477c4d89a3",
   "metadata": {},
   "outputs": [
    {
     "name": "stderr",
     "output_type": "stream",
     "text": [
      "/tmp/ipykernel_199/1134722465.py:1: FutureWarning: The default value of numeric_only in DataFrame.corr is deprecated. In a future version, it will default to False. Select only valid columns or specify the value of numeric_only to silence this warning.\n",
      "  df.corr()\n"
     ]
    },
    {
     "data": {
      "text/html": [
       "<div>\n",
       "<style scoped>\n",
       "    .dataframe tbody tr th:only-of-type {\n",
       "        vertical-align: middle;\n",
       "    }\n",
       "\n",
       "    .dataframe tbody tr th {\n",
       "        vertical-align: top;\n",
       "    }\n",
       "\n",
       "    .dataframe thead th {\n",
       "        text-align: right;\n",
       "    }\n",
       "</style>\n",
       "<table border=\"1\" class=\"dataframe\">\n",
       "  <thead>\n",
       "    <tr style=\"text-align: right;\">\n",
       "      <th></th>\n",
       "      <th>age</th>\n",
       "      <th>soft_encoded</th>\n",
       "    </tr>\n",
       "  </thead>\n",
       "  <tbody>\n",
       "    <tr>\n",
       "      <th>age</th>\n",
       "      <td>1.000000</td>\n",
       "      <td>0.181686</td>\n",
       "    </tr>\n",
       "    <tr>\n",
       "      <th>soft_encoded</th>\n",
       "      <td>0.181686</td>\n",
       "      <td>1.000000</td>\n",
       "    </tr>\n",
       "  </tbody>\n",
       "</table>\n",
       "</div>"
      ],
      "text/plain": [
       "                   age  soft_encoded\n",
       "age           1.000000      0.181686\n",
       "soft_encoded  0.181686      1.000000"
      ]
     },
     "execution_count": 28,
     "metadata": {},
     "output_type": "execute_result"
    }
   ],
   "source": [
    "df.corr()"
   ]
  },
  {
   "cell_type": "code",
   "execution_count": null,
   "id": "521f3d51-a39e-48fb-9296-1e290d95101a",
   "metadata": {},
   "outputs": [],
   "source": [
    "Q6. A company is interested in Aexamining the relationship between the number of sales calls made per day\n",
    "and the number of sales made per week. The company collected data on both variables from a sample of\n",
    "30 sales representatives. Calculate the Pearson correlation coefficient between these two variables."
   ]
  },
  {
   "cell_type": "code",
   "execution_count": 29,
   "id": "e1021e4d-508e-4c3e-8abe-65c59d75f341",
   "metadata": {},
   "outputs": [],
   "source": [
    "df=pd.DataFrame({'sales_call':[55,65,45,35,56,43,75,50,56,60,55,65,45,35,56,43,75,50,56,60,55,65,45,35,56,43,75,50,56,60],'sales_made':[10,15,12,7,20,18,35,20,22,25,10,15,12,7,20,18,35,20,22,25,10,15,12,7,20,18,35,20,22,25]})"
   ]
  },
  {
   "cell_type": "code",
   "execution_count": 30,
   "id": "7c55c60f-0083-4b75-894d-2f415506e8a7",
   "metadata": {},
   "outputs": [
    {
     "data": {
      "text/html": [
       "<div>\n",
       "<style scoped>\n",
       "    .dataframe tbody tr th:only-of-type {\n",
       "        vertical-align: middle;\n",
       "    }\n",
       "\n",
       "    .dataframe tbody tr th {\n",
       "        vertical-align: top;\n",
       "    }\n",
       "\n",
       "    .dataframe thead th {\n",
       "        text-align: right;\n",
       "    }\n",
       "</style>\n",
       "<table border=\"1\" class=\"dataframe\">\n",
       "  <thead>\n",
       "    <tr style=\"text-align: right;\">\n",
       "      <th></th>\n",
       "      <th>sales_call</th>\n",
       "      <th>sales_made</th>\n",
       "    </tr>\n",
       "  </thead>\n",
       "  <tbody>\n",
       "    <tr>\n",
       "      <th>sales_call</th>\n",
       "      <td>1.000000</td>\n",
       "      <td>0.746904</td>\n",
       "    </tr>\n",
       "    <tr>\n",
       "      <th>sales_made</th>\n",
       "      <td>0.746904</td>\n",
       "      <td>1.000000</td>\n",
       "    </tr>\n",
       "  </tbody>\n",
       "</table>\n",
       "</div>"
      ],
      "text/plain": [
       "            sales_call  sales_made\n",
       "sales_call    1.000000    0.746904\n",
       "sales_made    0.746904    1.000000"
      ]
     },
     "execution_count": 30,
     "metadata": {},
     "output_type": "execute_result"
    }
   ],
   "source": [
    "df.corr('pearson')"
   ]
  },
  {
   "cell_type": "code",
   "execution_count": null,
   "id": "0354f1c3-4ad7-4134-82f8-795fd649f776",
   "metadata": {},
   "outputs": [],
   "source": []
  }
 ],
 "metadata": {
  "kernelspec": {
   "display_name": "Python 3 (ipykernel)",
   "language": "python",
   "name": "python3"
  },
  "language_info": {
   "codemirror_mode": {
    "name": "ipython",
    "version": 3
   },
   "file_extension": ".py",
   "mimetype": "text/x-python",
   "name": "python",
   "nbconvert_exporter": "python",
   "pygments_lexer": "ipython3",
   "version": "3.10.8"
  }
 },
 "nbformat": 4,
 "nbformat_minor": 5
}

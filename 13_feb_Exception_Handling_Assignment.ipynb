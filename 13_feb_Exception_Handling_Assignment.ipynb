{
 "cells": [
  {
   "cell_type": "code",
   "execution_count": null,
   "id": "c0f5f3e4-ef0d-43fc-9dc2-bea83478728b",
   "metadata": {},
   "outputs": [],
   "source": [
    "Q1. Explain why we have to use the Exception class while creating a Custom Exception."
   ]
  },
  {
   "cell_type": "code",
   "execution_count": null,
   "id": "a2369662-980c-41bc-a3ee-464261a09c10",
   "metadata": {},
   "outputs": [],
   "source": [
    "Exception class is the super class or the base class of the Exceptions,if we want to create custom exceptions we have to \n",
    "inherit the property of super class Exception so for this purpose we use exception class"
   ]
  },
  {
   "cell_type": "code",
   "execution_count": null,
   "id": "edf280df-9b1b-48bf-be96-c58453cab050",
   "metadata": {},
   "outputs": [],
   "source": [
    "Q2. Write a python program to print Python Exception Hierarchy."
   ]
  },
  {
   "cell_type": "code",
   "execution_count": 1,
   "id": "a212e615-f26d-48bb-81d2-cb084c504c21",
   "metadata": {},
   "outputs": [
    {
     "name": "stdout",
     "output_type": "stream",
     "text": [
      "This is super class exception hierarchy and error of above try block is:: division by zero\n"
     ]
    }
   ],
   "source": [
    "try:\n",
    "    print(10/0)\n",
    "except Exception as e:\n",
    "    print('This is super class exception hierarchy and error of above try block is::',e)\n",
    "except ZeroDivisionError as e:\n",
    "    print('This is child class exception hierarchy and error of above try block is::',e)"
   ]
  },
  {
   "cell_type": "code",
   "execution_count": null,
   "id": "648d4099-3712-4eb1-b0cf-f249ce16bce5",
   "metadata": {},
   "outputs": [],
   "source": [
    "Q3. What errors are defined in the ArithmeticError class? Explain any two with an example."
   ]
  },
  {
   "cell_type": "code",
   "execution_count": null,
   "id": "21d58fd7-1256-4e89-95e4-f6617eee193b",
   "metadata": {},
   "outputs": [],
   "source": [
    "The errors are defined in the ArithmeticError class are:\n",
    "    OverflowError\n",
    "    ZeroDivisionError\n",
    "    FloatingPointError"
   ]
  },
  {
   "cell_type": "code",
   "execution_count": 14,
   "id": "9b66c211-81ac-4e89-9b40-b0902d846e57",
   "metadata": {},
   "outputs": [
    {
     "name": "stdout",
     "output_type": "stream",
     "text": [
      "5.0\n",
      "25.0\n",
      "15625.0\n",
      "5.960464477539062e+16\n",
      "7.52316384526264e+83\n",
      "Arthimetic class of overflowerrror (34, 'Numerical result out of range') has happend::\n"
     ]
    }
   ],
   "source": [
    "#OverflowError\n",
    "j=5.0\n",
    "try:\n",
    "    for i in range(1,1000):\n",
    "        j=j**i\n",
    "        print(j)\n",
    "except ArithmeticError as e:\n",
    "    print(f'Arthimetic class of overflowerrror {e} has happend::')"
   ]
  },
  {
   "cell_type": "code",
   "execution_count": null,
   "id": "1f0d3191-2b8d-4d1d-abe9-87ee9d89ccf3",
   "metadata": {},
   "outputs": [],
   "source": [
    "In above example arithmetic class overflowerror encountered,certain values of arithemetic operation to big to store a values\n",
    "so that it can overflow from specified range"
   ]
  },
  {
   "cell_type": "code",
   "execution_count": 12,
   "id": "106c33bf-4a0c-412e-be27-d50e9cdfaaeb",
   "metadata": {},
   "outputs": [
    {
     "name": "stdout",
     "output_type": "stream",
     "text": [
      "Arthimetic class of division by zero has happend::\n"
     ]
    }
   ],
   "source": [
    "#zerodivisionerror\n",
    "try:\n",
    "    print(4/0)\n",
    "except ArithmeticError as e:\n",
    "    print(f'Arthimetic class of {e} has happend::')"
   ]
  },
  {
   "cell_type": "code",
   "execution_count": null,
   "id": "8a1f23ae-7fb3-4011-9566-7afad8443141",
   "metadata": {},
   "outputs": [],
   "source": [
    "in above example any number divided by zero encounters a division by zero which belongs to arithmetic class"
   ]
  },
  {
   "cell_type": "code",
   "execution_count": null,
   "id": "7b001009-b368-496c-8244-90464e968e36",
   "metadata": {},
   "outputs": [],
   "source": [
    "Q4. Why LookupError class is used? Explain with an example KeyError and IndexError."
   ]
  },
  {
   "cell_type": "code",
   "execution_count": null,
   "id": "b754e380-db49-489d-aec1-ddb9955d5d0c",
   "metadata": {},
   "outputs": [],
   "source": [
    "lookuperror class is mainly used for the when an index or a key is not found for a sequence or dictionary respectively."
   ]
  },
  {
   "cell_type": "code",
   "execution_count": 22,
   "id": "62853cec-8014-4680-9362-b636a8fa9479",
   "metadata": {},
   "outputs": [
    {
     "name": "stdout",
     "output_type": "stream",
     "text": [
      "we get keyerror,please provide pesented key in give dictionary to retrive value  'key2'\n"
     ]
    }
   ],
   "source": [
    "#keyerror\n",
    "try:\n",
    "    d={1:[1,2,3],'key1':'value1'}\n",
    "    d['key2']\n",
    "except KeyError as e:\n",
    "    print('we get keyerror,please provide pesented key in give dictionary to retrive value ',e)"
   ]
  },
  {
   "cell_type": "code",
   "execution_count": null,
   "id": "a52a1631-46a9-43b1-9520-413ba2d92f13",
   "metadata": {},
   "outputs": [],
   "source": [
    "in above example we get keyerror from lookuperror class because user provide wrong keys,we can handle by above method"
   ]
  },
  {
   "cell_type": "code",
   "execution_count": 26,
   "id": "d0751193-a48b-4c2c-9620-59bfc4c05308",
   "metadata": {},
   "outputs": [
    {
     "name": "stdout",
     "output_type": "stream",
     "text": [
      "we get IndexError,please provide right index to retrive value:: list index out of range\n"
     ]
    }
   ],
   "source": [
    "#indexerror\n",
    "try:\n",
    "    l=[10,15,20]\n",
    "    l[3]\n",
    "except IndexError as e:\n",
    "    print('we get IndexError,please provide right index to retrive value::',e)"
   ]
  },
  {
   "cell_type": "code",
   "execution_count": null,
   "id": "f37136cb-cc28-4233-9f6f-3ff556a9b10e",
   "metadata": {},
   "outputs": [],
   "source": [
    "in above example when user provides index that not presesent in list we get error,we can handle by above example"
   ]
  },
  {
   "cell_type": "code",
   "execution_count": null,
   "id": "6fac41aa-4bf5-4d53-b093-6ec49d99c546",
   "metadata": {},
   "outputs": [],
   "source": [
    "Q5. Explain ImportError. What is ModuleNotFoundError?"
   ]
  },
  {
   "cell_type": "code",
   "execution_count": 33,
   "id": "ce9a0b6e-512d-43b2-816d-78dc1aa9c453",
   "metadata": {},
   "outputs": [
    {
     "name": "stdout",
     "output_type": "stream",
     "text": [
      "No module named 'exception'\n"
     ]
    }
   ],
   "source": [
    "try:\n",
    "    from exception import myexception\n",
    "except ImportError as e:\n",
    "    print(e)"
   ]
  },
  {
   "cell_type": "code",
   "execution_count": null,
   "id": "22ebc245-9cc3-4548-86e8-65a339a80aa1",
   "metadata": {},
   "outputs": [],
   "source": [
    "import error or modulenotfound error occurs when module or member of module does not exist in private table and \n",
    "when we import that we get import error,in above example there is no module named exception so we get modulenotfound\n",
    "error and we import myexception we get import error"
   ]
  },
  {
   "cell_type": "code",
   "execution_count": null,
   "id": "ceaa47b4-b2cd-442f-9586-085ed23bbc34",
   "metadata": {},
   "outputs": [],
   "source": [
    "Q6. List down some best practices for exception handling in python."
   ]
  },
  {
   "cell_type": "code",
   "execution_count": 34,
   "id": "540d4788-3f5a-4b92-bee4-046d0f9d95bc",
   "metadata": {},
   "outputs": [
    {
     "name": "stdout",
     "output_type": "stream",
     "text": [
      "[Errno 2] No such file or directory: 'test8.txt'\n"
     ]
    }
   ],
   "source": [
    "#use specific exception to handle the errors do not use super class exception\n",
    "try:\n",
    "    with open('test8.txt','r') as f:\n",
    "        f.write('hello')\n",
    "except FileNotFoundError as e:\n",
    "    print(e)"
   ]
  },
  {
   "cell_type": "code",
   "execution_count": 35,
   "id": "7d221837-19fa-4c64-82c7-991002c8dddc",
   "metadata": {},
   "outputs": [
    {
     "name": "stdout",
     "output_type": "stream",
     "text": [
      "The given file is not present in the directory,please provide valid file name [Errno 2] No such file or directory: 'test8.txt'\n"
     ]
    }
   ],
   "source": [
    "#print meaningfull messages\n",
    "try:\n",
    "    with open('test8.txt','r') as f:\n",
    "        f.write('hello')\n",
    "except FileNotFoundError as e:\n",
    "    print('The given file is not present in the directory,please provide valid file name',e)"
   ]
  },
  {
   "cell_type": "code",
   "execution_count": 36,
   "id": "62c42ce1-cf77-4516-835e-25df46ef5b70",
   "metadata": {},
   "outputs": [],
   "source": [
    "#always try to use logging avoid print statement:logging use to store in specific file but print it will display in console only\n",
    "import logging\n",
    "logging.basicConfig(filename='error.log',level=logging.ERROR)\n",
    "try:\n",
    "    with open('test8.txt','r') as f:\n",
    "        f.write('hello')\n",
    "except FileNotFoundError as e:\n",
    "    logging.error('The given file is not present in the directory,please provide valid file name:{}'.format(e))"
   ]
  },
  {
   "cell_type": "code",
   "execution_count": null,
   "id": "c5200e69-5847-443e-83ca-c271055e1688",
   "metadata": {},
   "outputs": [],
   "source": [
    "#always try to avoid use of multiple except block\n",
    "try:\n",
    "    print(10/0)\n",
    "except FileNotFoundError as e:\n",
    "    logging.error('The given file is not present in the directory,please provide valid file name:{}'.format(e))\n",
    "except ZeroDivisionError as e:\n",
    "    logging.error('This is error due to number divided by zero:{}'.format(e))"
   ]
  },
  {
   "cell_type": "code",
   "execution_count": null,
   "id": "68af148d-b162-4417-953e-17eabb3b5d25",
   "metadata": {},
   "outputs": [],
   "source": [
    "#prepare a proper documentation"
   ]
  },
  {
   "cell_type": "code",
   "execution_count": null,
   "id": "b6ee7a09-aba5-44e9-b259-6b5716794ba6",
   "metadata": {},
   "outputs": [],
   "source": [
    "#clean all the resources\n",
    "try:\n",
    "    f=open('test6.txt','w')\n",
    "    f.write('hello')\n",
    "except FileNotFoundError as e:\n",
    "    logging.error('The given file is not present in the directory,please provide valid file name:{}'.format(e))\n",
    "finally:\n",
    "    f.close()"
   ]
  },
  {
   "cell_type": "code",
   "execution_count": null,
   "id": "b3a63815-c954-41be-b196-788c6ed063e4",
   "metadata": {},
   "outputs": [],
   "source": []
  },
  {
   "cell_type": "code",
   "execution_count": null,
   "id": "47208781-9708-4b35-aee3-4c18b0f56f31",
   "metadata": {},
   "outputs": [],
   "source": []
  }
 ],
 "metadata": {
  "kernelspec": {
   "display_name": "Python 3 (ipykernel)",
   "language": "python",
   "name": "python3"
  },
  "language_info": {
   "codemirror_mode": {
    "name": "ipython",
    "version": 3
   },
   "file_extension": ".py",
   "mimetype": "text/x-python",
   "name": "python",
   "nbconvert_exporter": "python",
   "pygments_lexer": "ipython3",
   "version": "3.10.8"
  }
 },
 "nbformat": 4,
 "nbformat_minor": 5
}

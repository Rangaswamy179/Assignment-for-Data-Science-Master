{
 "cells": [
  {
   "cell_type": "code",
   "execution_count": null,
   "id": "5812f95d-fe78-42bd-9b63-3cb924a0aca5",
   "metadata": {},
   "outputs": [],
   "source": [
    "Q1. Write a Python function that takes in two arrays of data and calculates the F-value for a variance ratio\n",
    "test. The function should return the F-value and the corresponding p-value for the test."
   ]
  },
  {
   "cell_type": "code",
   "execution_count": 3,
   "id": "e300a397-0f0f-4c65-b3ac-e7e4f822e5f9",
   "metadata": {},
   "outputs": [
    {
     "data": {
      "text/plain": [
       "(1.0, 0.5000000000000001)"
      ]
     },
     "execution_count": 3,
     "metadata": {},
     "output_type": "execute_result"
    }
   ],
   "source": [
    "import numpy as np\n",
    "from scipy.stats import f\n",
    "a=[1,2,3,4,5,6]\n",
    "b=[7,8,9,10,11,12]\n",
    "def f1(a,b):\n",
    "    v1=np.var(a,ddof=1)\n",
    "    v2=np.var(b,ddof=1)\n",
    "    f_value=v1/v2\n",
    "    p_value=f.sf(f_value,len(a)-1,len(b)-1)\n",
    "    return f_value,p_value\n",
    "f1(a,b)"
   ]
  },
  {
   "cell_type": "code",
   "execution_count": null,
   "id": "f6168c66-b813-47bf-8ccc-4f3752887db1",
   "metadata": {},
   "outputs": [],
   "source": [
    "Q2. Given a significance level of 0.05 and the degrees of freedom for the numerator and denominator of an\n",
    "F-distribution, write a Python function that returns the critical F-value for a two-tailed test."
   ]
  },
  {
   "cell_type": "code",
   "execution_count": 2,
   "id": "1c262a30-6362-4739-bda9-e15159f94aee",
   "metadata": {},
   "outputs": [
    {
     "name": "stdin",
     "output_type": "stream",
     "text": [
      "enter the numerator degree of freedom 6\n",
      "enter the denomerator degree of freedom 8\n"
     ]
    },
    {
     "data": {
      "text/plain": [
       "('The critical  value of given data =', 3.5805803197614603)"
      ]
     },
     "execution_count": 2,
     "metadata": {},
     "output_type": "execute_result"
    }
   ],
   "source": [
    "import scipy.stats as stats \n",
    "def f2(d1,d2):\n",
    "    alpha=0.05\n",
    "    f_value=stats.f.ppf(1-alpha,d1,d2)\n",
    "    return 'The critical  value of given data =',f_value\n",
    "d1=int(input('enter the numerator degree of freedom'))\n",
    "d2=int(input('enter the denomerator degree of freedom'))\n",
    "f2(d1,d2)"
   ]
  },
  {
   "cell_type": "code",
   "execution_count": null,
   "id": "65d7afb5-6449-4826-9b8e-09e9d31a1a61",
   "metadata": {},
   "outputs": [],
   "source": [
    "Q3. Write a Python program that generates random samples from two normal distributions with known\n",
    "variances and uses an F-test to determine if the variances are equal. The program should output the F-\n",
    "value, degrees of freedom, and p-value for the test."
   ]
  },
  {
   "cell_type": "code",
   "execution_count": 7,
   "id": "7c707ce8-f8aa-4c55-abbc-e6a98f13575a",
   "metadata": {},
   "outputs": [
    {
     "name": "stdout",
     "output_type": "stream",
     "text": [
      "F-value: 0.7877669776399199\n",
      "Degrees of freedom: 99 , 99\n",
      "p-value: 0.8814759674890054\n"
     ]
    }
   ],
   "source": [
    "import numpy as np\n",
    "from scipy.stats import f\n",
    "n1=np.random.normal(0,1,100)\n",
    "n2=np.random.normal(0,1,100)\n",
    "v1=np.var(n1)\n",
    "v2=np.var(n2)\n",
    "dof1=len(n1)-1\n",
    "dof2=len(n2)-1\n",
    "f_value=v1/v2\n",
    "p_value=f.sf(f_value,dof1,dof2)\n",
    "print(\"F-value:\", f_value)\n",
    "print(\"Degrees of freedom:\", dof1, \",\", dof2)\n",
    "print(\"p-value:\", p_value)"
   ]
  },
  {
   "cell_type": "code",
   "execution_count": null,
   "id": "9f18b3f1-b8fa-431b-a2b4-1c3ab15adefa",
   "metadata": {},
   "outputs": [],
   "source": [
    "Q4.The variances of two populations are known to be 10 and 15. A sample of 12 observations is taken from\n",
    "each population. Conduct an F-test at the 5% significance level to determine if the variances are\n",
    "significantly different."
   ]
  },
  {
   "cell_type": "code",
   "execution_count": null,
   "id": "2e632503-2084-466a-a08f-c980b266ca18",
   "metadata": {},
   "outputs": [],
   "source": [
    "null hypothesis=h0=  the variances are same.\n",
    "alternative hypothesis=  the variances are significantly different. "
   ]
  },
  {
   "cell_type": "code",
   "execution_count": 8,
   "id": "af8cf8bd-86ca-4c2f-8cce-6d545040553e",
   "metadata": {},
   "outputs": [
    {
     "name": "stdout",
     "output_type": "stream",
     "text": [
      "fail to reject the null hypothesis\n"
     ]
    }
   ],
   "source": [
    "import scipy.stats as stats\n",
    "v1=10\n",
    "v2=15\n",
    "df1=11\n",
    "df2=11\n",
    "q=1-0.05\n",
    "f_test=v2/v1\n",
    "critical_value=stats.f.ppf(q,df1,df2)\n",
    "if f_test>critical_value:\n",
    "    print('reject the null hypothesis')\n",
    "else:\n",
    "    print('fail to reject the null hypothesis')"
   ]
  },
  {
   "cell_type": "code",
   "execution_count": null,
   "id": "3023e427-950d-43c3-8eac-eae52c359530",
   "metadata": {},
   "outputs": [],
   "source": [
    "Q5. A manufacturer claims that the variance of the diameter of a certain product is 0.005. A sample of 25\n",
    "products is taken, and the sample variance is found to be 0.006. Conduct an F-test at the 1% significance\n",
    "level to determine if the claim is justified."
   ]
  },
  {
   "cell_type": "code",
   "execution_count": null,
   "id": "8c92731d-2460-47d7-9bb3-e47dc56b6310",
   "metadata": {},
   "outputs": [],
   "source": [
    "null hypothesis=h0= diameter of product is same.\n",
    "alternative hypothesis= diameter of product is not same."
   ]
  },
  {
   "cell_type": "code",
   "execution_count": 17,
   "id": "511f5356-2791-4910-b6db-0bf4529de993",
   "metadata": {},
   "outputs": [
    {
     "name": "stdout",
     "output_type": "stream",
     "text": [
      "fail to reject the null hypothesis\n"
     ]
    }
   ],
   "source": [
    "import scipy.stats as stats\n",
    "v1=0.005\n",
    "v2=0.006\n",
    "df1=23\n",
    "df2=1\n",
    "q=0.01\n",
    "f_test=v2/v1\n",
    "critical_value=stats.f.ppf(1-q,df1,df2)\n",
    "if f_test>critical_value:\n",
    "    print('reject the null hypothesis')\n",
    "else:\n",
    "    print('fail to reject the null hypothesis')\n"
   ]
  },
  {
   "cell_type": "code",
   "execution_count": null,
   "id": "176ae3d5-527c-4b6f-82d7-9ee3b0c7c4cc",
   "metadata": {},
   "outputs": [],
   "source": [
    "Q6. Write a Python function that takes in the degrees of freedom for the numerator and denominator of an\n",
    "F-distribution and calculates the mean and variance of the distribution. The function should return the\n",
    "mean and variance as a tuple."
   ]
  },
  {
   "cell_type": "code",
   "execution_count": 24,
   "id": "b4dee2da-11f5-4cca-b2c8-609d55e6db71",
   "metadata": {},
   "outputs": [
    {
     "name": "stdout",
     "output_type": "stream",
     "text": [
      "Mean: 1.25\n",
      "Variance: 1.3541666666666667\n"
     ]
    }
   ],
   "source": [
    "def calculate_f_distribution_stats(df_numerator, df_denominator):\n",
    "    # Calculate the mean\n",
    "    mean = df_denominator / (df_denominator - 2)\n",
    "\n",
    "    # Calculate the variance\n",
    "    variance_numerator = 2 * (df_denominator ** 2) * (df_numerator + df_denominator - 2)\n",
    "    variance_denominator = df_numerator * (df_denominator - 2) ** 2 * (df_denominator - 4)\n",
    "    variance = variance_numerator / variance_denominator\n",
    "\n",
    "    return mean, variance\n",
    "df_numerator = 5\n",
    "df_denominator = 10\n",
    "\n",
    "mean, variance = calculate_f_distribution_stats(df_numerator, df_denominator)\n",
    "print(\"Mean:\", mean)\n",
    "print(\"Variance:\", variance)\n"
   ]
  },
  {
   "cell_type": "code",
   "execution_count": null,
   "id": "125c5c43-5bdb-4ca6-9f2e-b9c1886ec78e",
   "metadata": {},
   "outputs": [],
   "source": [
    "Q7. A random sample of 10 measurements is taken from a normal population with unknown variance. The\n",
    "sample variance is found to be 25. Another random sample of 15 measurements is taken from another\n",
    "normal population with unknown variance, and the sample variance is found to be 20. Conduct an F-test\n",
    "at the 10% significance level to determine if the variances are significantly different."
   ]
  },
  {
   "cell_type": "code",
   "execution_count": null,
   "id": "092d4e59-523b-436d-8433-e6db717373eb",
   "metadata": {},
   "outputs": [],
   "source": [
    "null hypothesis=h0=  the variances are same.\n",
    "alternative hypothesis= the variances are significantly different. "
   ]
  },
  {
   "cell_type": "code",
   "execution_count": 31,
   "id": "6f2f16d7-fd3a-4cdd-a439-98448bfdb847",
   "metadata": {},
   "outputs": [
    {
     "name": "stdout",
     "output_type": "stream",
     "text": [
      "fail to reject the null hypothesis\n"
     ]
    }
   ],
   "source": [
    "import scipy.stats as stats\n",
    "v1=25\n",
    "v2=20\n",
    "df1=9\n",
    "df2=14\n",
    "q=1-0.1\n",
    "f_test=v1/v2\n",
    "critical_value=stats.f.ppf(q,df1,df2)\n",
    "if f_test>critical_value:\n",
    "    print('reject the null hypothesis')\n",
    "else:\n",
    "    print('fail to reject the null hypothesis')\n"
   ]
  },
  {
   "cell_type": "code",
   "execution_count": null,
   "id": "fc6409bf-23aa-4b51-bec5-e6bd30df3b5a",
   "metadata": {},
   "outputs": [],
   "source": [
    "Q8. The following data represent the waiting times in minutes at two different restaurants on a Saturday\n",
    "night: Restaurant A: 24, 25, 28, 23, 22, 20, 27; Restaurant B: 31, 33, 35, 30, 32, 36. Conduct an F-test at the 5%\n",
    "significance level to determine if the variances are significantly different."
   ]
  },
  {
   "cell_type": "code",
   "execution_count": null,
   "id": "703e4f58-48d1-4a66-9b41-4b6655636110",
   "metadata": {},
   "outputs": [],
   "source": [
    "null hypothesis=h0=  the variances are same.\n",
    "alternative hypothesis= the variances are significantly different. "
   ]
  },
  {
   "cell_type": "code",
   "execution_count": 34,
   "id": "cb5ca919-f8f2-41d2-8bb8-b58b4efe4c07",
   "metadata": {},
   "outputs": [
    {
     "name": "stdout",
     "output_type": "stream",
     "text": [
      "fail to reject the null hypothesis\n"
     ]
    }
   ],
   "source": [
    "import numpy as np\n",
    "import scipy.stats as stats\n",
    "a=[24, 25, 28, 23, 22, 20, 27]\n",
    "b=[31, 33, 35, 30, 32, 36]\n",
    "v1=np.var(a)\n",
    "v2=np.var(b)\n",
    "df1=len(a)-1\n",
    "df2=len(b)-1\n",
    "f_test=v1/v2\n",
    "alpha=0.05\n",
    "critical_value=stats.f.ppf(1-alpha/2,df1,df2)\n",
    "critical_value=stats.f.ppf(q,df1,df2)\n",
    "if f_test>critical_value:\n",
    "    print('reject the null hypothesis')\n",
    "else:\n",
    "    print('fail to reject the null hypothesis')\n"
   ]
  },
  {
   "cell_type": "code",
   "execution_count": null,
   "id": "130c4662-af8c-4ae3-9144-68ec75bf74d1",
   "metadata": {},
   "outputs": [],
   "source": [
    "Q9. The following data represent the test scores of two groups of students: Group A: 80, 85, 90, 92, 87, 83;\n",
    "Group B: 75, 78, 82, 79, 81, 84. Conduct an F-test at the 1% significance level to determine if the variances\n",
    "are significantly different."
   ]
  },
  {
   "cell_type": "code",
   "execution_count": null,
   "id": "3d10392f-a4b1-412c-a358-e27e18a858af",
   "metadata": {},
   "outputs": [],
   "source": [
    "null hypothesis=h0=  the variances are same.\n",
    "alternative hypothesis= the variances are significantly different. "
   ]
  },
  {
   "cell_type": "code",
   "execution_count": 37,
   "id": "fe809800-1daa-491b-b938-9576c801c96c",
   "metadata": {},
   "outputs": [
    {
     "name": "stdout",
     "output_type": "stream",
     "text": [
      "fail to reject the null hypothesis\n"
     ]
    }
   ],
   "source": [
    "import numpy as np\n",
    "import scipy.stats as stats\n",
    "a= [80, 85, 90, 92, 87, 83]\n",
    "b=[75, 78, 82, 79, 81, 84]\n",
    "v1=np.var(a)\n",
    "v2=np.var(b)\n",
    "df1=len(a)-1\n",
    "df2=len(b)-1\n",
    "f_test=v1/v2\n",
    "alpha=0.01\n",
    "critical_value=stats.f.ppf(1-alpha/2,df1,df2)\n",
    "critical_value=stats.f.ppf(q,df1,df2)\n",
    "if f_test>critical_value:\n",
    "    print('reject the null hypothesis')\n",
    "else:\n",
    "    print('fail to reject the null hypothesis')\n"
   ]
  },
  {
   "cell_type": "code",
   "execution_count": null,
   "id": "4d546321-0d15-4d70-82ba-08b6a62b6d29",
   "metadata": {},
   "outputs": [],
   "source": []
  }
 ],
 "metadata": {
  "kernelspec": {
   "display_name": "Python 3 (ipykernel)",
   "language": "python",
   "name": "python3"
  },
  "language_info": {
   "codemirror_mode": {
    "name": "ipython",
    "version": 3
   },
   "file_extension": ".py",
   "mimetype": "text/x-python",
   "name": "python",
   "nbconvert_exporter": "python",
   "pygments_lexer": "ipython3",
   "version": "3.10.8"
  }
 },
 "nbformat": 4,
 "nbformat_minor": 5
}

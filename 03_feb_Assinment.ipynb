{
 "cells": [
  {
   "cell_type": "code",
   "execution_count": null,
   "id": "44d6fea8-31ae-48ad-981f-895946ae0e41",
   "metadata": {},
   "outputs": [],
   "source": [
    "Q1. Which keyword is used to create a function? Create a function to return a list of odd numbers in the\n",
    "range of 1 to 25."
   ]
  },
  {
   "cell_type": "code",
   "execution_count": null,
   "id": "56ac9ed2-0b1b-4600-b6e6-2155ed48f65c",
   "metadata": {},
   "outputs": [],
   "source": [
    ">> def keyword is used to create a function"
   ]
  },
  {
   "cell_type": "code",
   "execution_count": 1,
   "id": "3293462c-5b2e-4273-a646-7d1d63c8d84d",
   "metadata": {},
   "outputs": [
    {
     "data": {
      "text/plain": [
       "[1, 3, 5, 7, 9, 11, 13, 15, 17, 19, 21, 23, 25]"
      ]
     },
     "execution_count": 1,
     "metadata": {},
     "output_type": "execute_result"
    }
   ],
   "source": [
    "def f1(n):\n",
    "    l=[]\n",
    "    for i in range(1,n):\n",
    "        if i%2!=0:\n",
    "            l.append(i)\n",
    "    return l\n",
    "f1(26)"
   ]
  },
  {
   "cell_type": "code",
   "execution_count": null,
   "id": "3e5341cc-69fc-4674-80d8-60177a48f825",
   "metadata": {},
   "outputs": [],
   "source": [
    "Q2. Why *args and **kwargs is used in some functions? Create a function each for *args and **kwargs to\n",
    "demonstrate their use."
   ]
  },
  {
   "cell_type": "code",
   "execution_count": null,
   "id": "48725220-b8f7-400a-80a1-8565df5941f5",
   "metadata": {},
   "outputs": [],
   "source": [
    "> *args mainly used for return n number of sequence any format elements without storing in any variable in tuple format"
   ]
  },
  {
   "cell_type": "code",
   "execution_count": null,
   "id": "c9dbf0e1-8236-4401-94b0-25362aebda84",
   "metadata": {},
   "outputs": [],
   "source": [
    "> **kwargs mainly used for return n number of sequence dictionary elements in key and value format without storing in any variable in tuple format"
   ]
  },
  {
   "cell_type": "code",
   "execution_count": null,
   "id": "a617f0a3-f801-42c4-92cf-bc95315f5a4b",
   "metadata": {},
   "outputs": [],
   "source": [
    "> Below example of *args and **kwargs:"
   ]
  },
  {
   "cell_type": "code",
   "execution_count": 2,
   "id": "83332132-4539-47ed-a58a-991bfcf8888a",
   "metadata": {},
   "outputs": [
    {
     "data": {
      "text/plain": [
       "(1, 2.2, True, [4, 5, 'hi'], 'rangu', (6.6, False))"
      ]
     },
     "execution_count": 2,
     "metadata": {},
     "output_type": "execute_result"
    }
   ],
   "source": [
    "def f2(*args):\n",
    "    return args\n",
    "f2(1,2.2,True,[4,5,'hi'],'rangu',(6.6,False))"
   ]
  },
  {
   "cell_type": "code",
   "execution_count": 14,
   "id": "820d129a-8ab8-46fd-90bc-cce3fa4b925b",
   "metadata": {},
   "outputs": [
    {
     "data": {
      "text/plain": [
       "{'a': 1, 'b': 3.3, 'c': False, 'd': 'good morning', 'e': {'k1': 'v1'}}"
      ]
     },
     "execution_count": 14,
     "metadata": {},
     "output_type": "execute_result"
    }
   ],
   "source": [
    "def f2(**kwargs):\n",
    "    return kwargs\n",
    "f2(a=1,b=3.3,c=False,d='good morning',e={'k1':'v1'})"
   ]
  },
  {
   "cell_type": "code",
   "execution_count": null,
   "id": "9812bc8b-0aed-4c2c-80ec-569535db9ead",
   "metadata": {},
   "outputs": [],
   "source": [
    "Q3.  What is an iterator in python? Name the method used to initialise the iterator object and the method\n",
    "used for iteration. Use these methods to print the first five elements of the given list [2, 4, 6, 8, 10, 12, 14, 16,\n",
    "18, 20]."
   ]
  },
  {
   "cell_type": "code",
   "execution_count": null,
   "id": "da3c445b-01ea-40a0-b2a0-87ca038dae25",
   "metadata": {},
   "outputs": [],
   "source": [
    ">> Iterator in Python is an object that is used to iterate over iterable objects like lists, tuples, dicts, and sets\n",
    "   and each element access by each time"
   ]
  },
  {
   "cell_type": "code",
   "execution_count": null,
   "id": "677ea04b-208b-42e8-854f-9c153f61e2b1",
   "metadata": {},
   "outputs": [],
   "source": [
    "*    __iter__() the method used to initialise the iterator object and __next__ the method\n",
    "     used for iteration of each element in iter."
   ]
  },
  {
   "cell_type": "code",
   "execution_count": 18,
   "id": "4383f6cf-34f9-4839-a6d8-14cf33a42e26",
   "metadata": {},
   "outputs": [
    {
     "name": "stdout",
     "output_type": "stream",
     "text": [
      "2\n",
      "4\n",
      "6\n",
      "8\n",
      "10\n"
     ]
    }
   ],
   "source": [
    "l=[2,4,6,8,10,12,14,16,18,20]\n",
    "l1=iter(l)\n",
    "for i in range(5):\n",
    "    print(next(l1))"
   ]
  },
  {
   "cell_type": "code",
   "execution_count": null,
   "id": "564dc4be-9093-44c7-8b77-014476f51557",
   "metadata": {},
   "outputs": [],
   "source": [
    "Q4.  What is a generator function in python? Why yield keyword is used? Give an example of a generator\n",
    "    function."
   ]
  },
  {
   "cell_type": "code",
   "execution_count": null,
   "id": "db6e2a18-acff-4b6f-8ca4-799e11d3f00e",
   "metadata": {},
   "outputs": [],
   "source": [
    ">>  generator functions in python used to create a iterators which return a traverse obects like list,tuple,dictionarty etc"
   ]
  },
  {
   "cell_type": "code",
   "execution_count": null,
   "id": "4016a927-5d07-4184-b342-197f5aac6ac7",
   "metadata": {},
   "outputs": [],
   "source": [
    ">> yield key word mainly used for create a generator functions,it is same return keyword but major difference is it will keep on executed\n",
    "   in function and yield the value each time without terminated like return and it will not store in memory so more memory effiecient."
   ]
  },
  {
   "cell_type": "code",
   "execution_count": null,
   "id": "5f0bef7e-6fae-4cb5-83d6-d7105a90ca3b",
   "metadata": {},
   "outputs": [],
   "source": [
    "# A simple generator for Fibonacci Numbers upto 10"
   ]
  },
  {
   "cell_type": "code",
   "execution_count": 24,
   "id": "031ae184-082e-402b-9460-6316d3d2de5b",
   "metadata": {},
   "outputs": [
    {
     "name": "stdout",
     "output_type": "stream",
     "text": [
      "0\n",
      "1\n",
      "1\n",
      "2\n",
      "3\n",
      "5\n",
      "8\n",
      "13\n",
      "21\n",
      "34\n"
     ]
    }
   ],
   "source": [
    "def f3(n):\n",
    "    a=0\n",
    "    b=1\n",
    "    while n>0:\n",
    "        yield a\n",
    "        a,b=b,a+b\n",
    "        n-=1\n",
    "for i in f3(10):\n",
    "    print(i)"
   ]
  },
  {
   "cell_type": "code",
   "execution_count": null,
   "id": "9962cc11-1179-4a84-aec8-b0e36ecebdcb",
   "metadata": {},
   "outputs": [],
   "source": [
    "Q5. Create a generator function for prime numbers less than 1000. Use the next() method to print the\n",
    "    first 20 prime numbers."
   ]
  },
  {
   "cell_type": "code",
   "execution_count": null,
   "id": "0c09d279-9bba-418c-9d55-716943f8662c",
   "metadata": {},
   "outputs": [],
   "source": [
    "#generator function for prime numbers less than 1000"
   ]
  },
  {
   "cell_type": "code",
   "execution_count": 33,
   "id": "4f8cf63e-c5ed-4977-b23e-e5f4689962dd",
   "metadata": {},
   "outputs": [
    {
     "data": {
      "text/plain": [
       "<generator object f4 at 0x7f1cdc206d50>"
      ]
     },
     "execution_count": 33,
     "metadata": {},
     "output_type": "execute_result"
    }
   ],
   "source": [
    "def f4():\n",
    "    l = []\n",
    "    for i in range(2, 1000):\n",
    "        for j in l:\n",
    "            if i % j == 0:\n",
    "                break\n",
    "        else:\n",
    "            l.append(i)\n",
    "            yield i\n",
    "f4()"
   ]
  },
  {
   "cell_type": "code",
   "execution_count": 34,
   "id": "1133b2db-d236-4be8-8371-cd74140c7ea5",
   "metadata": {},
   "outputs": [
    {
     "name": "stdout",
     "output_type": "stream",
     "text": [
      "2  3  5  7  11  13  17  19  23  29  31  37  41  43  47  53  59  61  67  71  73  79  83  89  97  101  103  107  109  113  127  131  137  139  149  151  157  163  167  173  179  181  191  193  197  199  211  223  227  229  233  239  241  251  257  263  269  271  277  281  283  293  307  311  313  317  331  337  347  349  353  359  367  373  379  383  389  397  401  409  419  421  431  433  439  443  449  457  461  463  467  479  487  491  499  503  509  521  523  541  547  557  563  569  571  577  587  593  599  601  607  613  617  619  631  641  643  647  653  659  661  673  677  683  691  701  709  719  727  733  739  743  751  757  761  769  773  787  797  809  811  821  823  827  829  839  853  857  859  863  877  881  883  887  907  911  919  929  937  941  947  953  967  971  977  983  991  997  "
     ]
    }
   ],
   "source": [
    "for i in f4():\n",
    "    print(i,end='  ')"
   ]
  },
  {
   "cell_type": "code",
   "execution_count": 39,
   "id": "651ed83a-0d6e-48ad-b810-7cb1048cc01e",
   "metadata": {},
   "outputs": [],
   "source": [
    "a=iter(f4())"
   ]
  },
  {
   "cell_type": "code",
   "execution_count": 40,
   "id": "e9af8f76-7a35-4dd7-a65f-d2b8c7664b11",
   "metadata": {},
   "outputs": [
    {
     "name": "stdout",
     "output_type": "stream",
     "text": [
      "2\n",
      "3\n",
      "5\n",
      "7\n",
      "11\n",
      "13\n",
      "17\n",
      "19\n",
      "23\n",
      "29\n",
      "31\n",
      "37\n",
      "41\n",
      "43\n",
      "47\n",
      "53\n",
      "59\n",
      "61\n",
      "67\n",
      "71\n"
     ]
    }
   ],
   "source": [
    "for i in range(20):\n",
    "    print(next(a))"
   ]
  },
  {
   "cell_type": "code",
   "execution_count": null,
   "id": "168aecfb-c4b6-415c-9eb0-d0a980217fa2",
   "metadata": {},
   "outputs": [],
   "source": []
  }
 ],
 "metadata": {
  "kernelspec": {
   "display_name": "Python 3 (ipykernel)",
   "language": "python",
   "name": "python3"
  },
  "language_info": {
   "codemirror_mode": {
    "name": "ipython",
    "version": 3
   },
   "file_extension": ".py",
   "mimetype": "text/x-python",
   "name": "python",
   "nbconvert_exporter": "python",
   "pygments_lexer": "ipython3",
   "version": "3.10.8"
  }
 },
 "nbformat": 4,
 "nbformat_minor": 5
}

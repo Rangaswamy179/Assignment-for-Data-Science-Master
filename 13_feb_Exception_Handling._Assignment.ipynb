{
 "cells": [
  {
   "cell_type": "code",
   "execution_count": null,
   "id": "66b730b4-4c8e-4dc6-a95f-cd71c6d1ccbf",
   "metadata": {},
   "outputs": [],
   "source": [
    "Q1 What is an exception in python?write difference between exception and syntax error."
   ]
  },
  {
   "cell_type": "code",
   "execution_count": null,
   "id": "d07ea2c2-3f60-4601-a7cd-76e9dd92a2c5",
   "metadata": {},
   "outputs": [],
   "source": [
    "Exception is known as logical errors these are raised in run time program even though syntax\n",
    "of program correct due to logical mistake in programme we get an these logical errors"
   ]
  },
  {
   "cell_type": "code",
   "execution_count": null,
   "id": "ef1a90a4-2a80-458c-9412-6d520a380a49",
   "metadata": {},
   "outputs": [],
   "source": [
    "The major difference between between syntax and logical errors are:\n",
    "    *The syntax error due to syntax mistake in programme and \n",
    "     exception are raised due to logical mistake in run time\n",
    "    * syntax error unable to solve in run time manually we can solve a syntax and\n",
    "      excetion errors are solved using exception handling methods  "
   ]
  },
  {
   "cell_type": "code",
   "execution_count": null,
   "id": "b8bc388a-e2db-4582-872b-46126990ee12",
   "metadata": {},
   "outputs": [],
   "source": [
    "syntax error example"
   ]
  },
  {
   "cell_type": "code",
   "execution_count": 4,
   "id": "1c54763d-e13f-4413-a488-1371d408f3a2",
   "metadata": {},
   "outputs": [
    {
     "ename": "SyntaxError",
     "evalue": "expected ':' (2000122295.py, line 2)",
     "output_type": "error",
     "traceback": [
      "\u001b[0;36m  Cell \u001b[0;32mIn[4], line 2\u001b[0;36m\u001b[0m\n\u001b[0;31m    if a>0\u001b[0m\n\u001b[0m          ^\u001b[0m\n\u001b[0;31mSyntaxError\u001b[0m\u001b[0;31m:\u001b[0m expected ':'\n"
     ]
    }
   ],
   "source": [
    "a=10\n",
    "if a>0\n",
    "print('hello')"
   ]
  },
  {
   "cell_type": "code",
   "execution_count": null,
   "id": "79e0564f-f7a1-4a86-aac9-65e6c59fdcab",
   "metadata": {},
   "outputs": [],
   "source": [
    "exception error example"
   ]
  },
  {
   "cell_type": "code",
   "execution_count": 5,
   "id": "f0eb2f9f-f8a0-4876-bdcb-7fcd71a2b737",
   "metadata": {},
   "outputs": [
    {
     "ename": "ZeroDivisionError",
     "evalue": "division by zero",
     "output_type": "error",
     "traceback": [
      "\u001b[0;31m---------------------------------------------------------------------------\u001b[0m",
      "\u001b[0;31mZeroDivisionError\u001b[0m                         Traceback (most recent call last)",
      "Cell \u001b[0;32mIn[5], line 2\u001b[0m\n\u001b[1;32m      1\u001b[0m a\u001b[38;5;241m=\u001b[39m\u001b[38;5;241m10\u001b[39m\n\u001b[0;32m----> 2\u001b[0m \u001b[43ma\u001b[49m\u001b[38;5;241;43m/\u001b[39;49m\u001b[38;5;241;43m0\u001b[39;49m\n",
      "\u001b[0;31mZeroDivisionError\u001b[0m: division by zero"
     ]
    }
   ],
   "source": [
    "a=10\n",
    "a/0"
   ]
  },
  {
   "cell_type": "code",
   "execution_count": null,
   "id": "212b8fbd-2603-4df3-9094-9e5aea443d04",
   "metadata": {},
   "outputs": [],
   "source": [
    "Q2. What happens when an exception is not handled? Explain with an example?"
   ]
  },
  {
   "cell_type": "code",
   "execution_count": null,
   "id": "036be109-5084-4a04-994f-aa6d4c01f886",
   "metadata": {},
   "outputs": [],
   "source": [
    "when exception is not handled we get an exception error and program will stop wherever it\n",
    "encounters error and remaining code will not executed"
   ]
  },
  {
   "cell_type": "code",
   "execution_count": 7,
   "id": "61b8873e-d9c6-479d-a1af-1f44d2b64be6",
   "metadata": {},
   "outputs": [
    {
     "ename": "FileNotFoundError",
     "evalue": "[Errno 2] No such file or directory: 'test6.txt'",
     "output_type": "error",
     "traceback": [
      "\u001b[0;31m---------------------------------------------------------------------------\u001b[0m",
      "\u001b[0;31mFileNotFoundError\u001b[0m                         Traceback (most recent call last)",
      "Cell \u001b[0;32mIn[7], line 1\u001b[0m\n\u001b[0;32m----> 1\u001b[0m f\u001b[38;5;241m=\u001b[39m\u001b[38;5;28;43mopen\u001b[39;49m\u001b[43m(\u001b[49m\u001b[38;5;124;43m'\u001b[39;49m\u001b[38;5;124;43mtest6.txt\u001b[39;49m\u001b[38;5;124;43m'\u001b[39;49m\u001b[43m,\u001b[49m\u001b[38;5;124;43m'\u001b[39;49m\u001b[38;5;124;43mr\u001b[39;49m\u001b[38;5;124;43m'\u001b[39;49m\u001b[43m)\u001b[49m\n\u001b[1;32m      2\u001b[0m \u001b[38;5;28mprint\u001b[39m(\u001b[38;5;124m'\u001b[39m\u001b[38;5;124mfile is opened for the read\u001b[39m\u001b[38;5;124m'\u001b[39m)\n\u001b[1;32m      3\u001b[0m a\u001b[38;5;241m=\u001b[39m\u001b[38;5;241m10\u001b[39m\n",
      "File \u001b[0;32m/opt/conda/lib/python3.10/site-packages/IPython/core/interactiveshell.py:282\u001b[0m, in \u001b[0;36m_modified_open\u001b[0;34m(file, *args, **kwargs)\u001b[0m\n\u001b[1;32m    275\u001b[0m \u001b[38;5;28;01mif\u001b[39;00m file \u001b[38;5;129;01min\u001b[39;00m {\u001b[38;5;241m0\u001b[39m, \u001b[38;5;241m1\u001b[39m, \u001b[38;5;241m2\u001b[39m}:\n\u001b[1;32m    276\u001b[0m     \u001b[38;5;28;01mraise\u001b[39;00m \u001b[38;5;167;01mValueError\u001b[39;00m(\n\u001b[1;32m    277\u001b[0m         \u001b[38;5;124mf\u001b[39m\u001b[38;5;124m\"\u001b[39m\u001b[38;5;124mIPython won\u001b[39m\u001b[38;5;124m'\u001b[39m\u001b[38;5;124mt let you open fd=\u001b[39m\u001b[38;5;132;01m{\u001b[39;00mfile\u001b[38;5;132;01m}\u001b[39;00m\u001b[38;5;124m by default \u001b[39m\u001b[38;5;124m\"\u001b[39m\n\u001b[1;32m    278\u001b[0m         \u001b[38;5;124m\"\u001b[39m\u001b[38;5;124mas it is likely to crash IPython. If you know what you are doing, \u001b[39m\u001b[38;5;124m\"\u001b[39m\n\u001b[1;32m    279\u001b[0m         \u001b[38;5;124m\"\u001b[39m\u001b[38;5;124myou can use builtins\u001b[39m\u001b[38;5;124m'\u001b[39m\u001b[38;5;124m open.\u001b[39m\u001b[38;5;124m\"\u001b[39m\n\u001b[1;32m    280\u001b[0m     )\n\u001b[0;32m--> 282\u001b[0m \u001b[38;5;28;01mreturn\u001b[39;00m \u001b[43mio_open\u001b[49m\u001b[43m(\u001b[49m\u001b[43mfile\u001b[49m\u001b[43m,\u001b[49m\u001b[43m \u001b[49m\u001b[38;5;241;43m*\u001b[39;49m\u001b[43margs\u001b[49m\u001b[43m,\u001b[49m\u001b[43m \u001b[49m\u001b[38;5;241;43m*\u001b[39;49m\u001b[38;5;241;43m*\u001b[39;49m\u001b[43mkwargs\u001b[49m\u001b[43m)\u001b[49m\n",
      "\u001b[0;31mFileNotFoundError\u001b[0m: [Errno 2] No such file or directory: 'test6.txt'"
     ]
    }
   ],
   "source": [
    "f=open('test6.txt','r')\n",
    "print('file is opened for the read')\n",
    "a=10\n",
    "print(a)"
   ]
  },
  {
   "cell_type": "code",
   "execution_count": null,
   "id": "817b617e-a3e1-428f-a701-546e93538d1b",
   "metadata": {},
   "outputs": [],
   "source": [
    "in above code we did not handle exception so that it raise an exception and bottom of code not executed"
   ]
  },
  {
   "cell_type": "code",
   "execution_count": null,
   "id": "44c117aa-e922-474b-953d-6a8b8d914ec8",
   "metadata": {},
   "outputs": [],
   "source": [
    "Q3. which python statements are used to catch and handle exceptions?explain with example"
   ]
  },
  {
   "cell_type": "code",
   "execution_count": null,
   "id": "462cdc9c-9460-42fb-a024-408e7af261ac",
   "metadata": {},
   "outputs": [],
   "source": [
    "try and except statements are used to catch and handle exceptions"
   ]
  },
  {
   "cell_type": "code",
   "execution_count": 9,
   "id": "fa217d00-b315-467f-b5ad-46437938dc17",
   "metadata": {},
   "outputs": [
    {
     "name": "stdout",
     "output_type": "stream",
     "text": [
      "The above code contains a error please resolve it and error name is:: division by zero\n"
     ]
    }
   ],
   "source": [
    "try:\n",
    "    a=10\n",
    "    print(a/0)\n",
    "except Exception as e:\n",
    "    print('The above code contains a error please resolve it and error name is::',e)"
   ]
  },
  {
   "cell_type": "code",
   "execution_count": null,
   "id": "7d15b643-10cd-4a5f-b055-0fadc8fe4e4e",
   "metadata": {},
   "outputs": [],
   "source": [
    "when we handle exception we put risky code in try block and handle through except \n",
    "by this we can easily detect the exceptions,in above code as risky code we put in \n",
    "try block,it encounters the zerodivision error and we can handle using except block\n",
    "without getting an exception or termination of program"
   ]
  },
  {
   "cell_type": "code",
   "execution_count": null,
   "id": "ea4b34cd-5af6-498d-9522-f1514ff20c35",
   "metadata": {},
   "outputs": [],
   "source": [
    "Q4 explain the followings:\n",
    "    a try and else\n",
    "    b finally\n",
    "    c raise"
   ]
  },
  {
   "cell_type": "code",
   "execution_count": null,
   "id": "4a55e888-ef39-4cd8-a71c-de3b05ed431f",
   "metadata": {},
   "outputs": [],
   "source": [
    "a try and else"
   ]
  },
  {
   "cell_type": "code",
   "execution_count": null,
   "id": "eff5ed4b-280d-4932-a050-68d586b63d1b",
   "metadata": {},
   "outputs": [],
   "source": [
    "when a try block executed without any exception during that time associted else block will executed"
   ]
  },
  {
   "cell_type": "code",
   "execution_count": 11,
   "id": "26ace45f-23e9-4134-89cd-09b6ebc6ee2a",
   "metadata": {},
   "outputs": [
    {
     "name": "stdout",
     "output_type": "stream",
     "text": [
      "we successfully opened,write,and closed file no 5\n"
     ]
    }
   ],
   "source": [
    "try:\n",
    "    f=open('test5.txt','w')\n",
    "    f.write('this is file no 5')\n",
    "except Exception as e:\n",
    "    print('we get a error as',e)\n",
    "else:\n",
    "    f.close()\n",
    "    print('we successfully opened,write,and closed file no 5')"
   ]
  },
  {
   "cell_type": "code",
   "execution_count": null,
   "id": "e93b24bc-2b5c-4d3e-8998-56c846a1230e",
   "metadata": {},
   "outputs": [],
   "source": [
    "b finally"
   ]
  },
  {
   "cell_type": "code",
   "execution_count": null,
   "id": "3f2922e6-a8d8-47a3-976c-f7033cdcde2e",
   "metadata": {},
   "outputs": [],
   "source": [
    "finally block will executed wheteher we get an exception or we handle the exception "
   ]
  },
  {
   "cell_type": "code",
   "execution_count": 13,
   "id": "01322f41-0d6f-43f0-9dab-6e4eef2d5176",
   "metadata": {},
   "outputs": [
    {
     "name": "stdout",
     "output_type": "stream",
     "text": [
      "you get error please resolve and error is:: unsupported operand type(s) for +: 'int' and 'str'\n",
      "This is finally block it is always executed\n"
     ]
    }
   ],
   "source": [
    "try:\n",
    "    print(10+'a')\n",
    "except Exception as e:\n",
    "    print('you get error please resolve and error is::',e)\n",
    "finally:\n",
    "    print('This is finally block it is always executed')"
   ]
  },
  {
   "cell_type": "code",
   "execution_count": null,
   "id": "1da55da2-5f5b-49cc-8f0c-d1293336d14b",
   "metadata": {},
   "outputs": [
    {
     "name": "stdout",
     "output_type": "stream",
     "text": [
      "This is finally block it is always executed\n"
     ]
    },
    {
     "ename": "TypeError",
     "evalue": "unsupported operand type(s) for +: 'int' and 'str'",
     "output_type": "error",
     "traceback": [
      "\u001b[0;31m---------------------------------------------------------------------------\u001b[0m",
      "\u001b[0;31mTypeError\u001b[0m                                 Traceback (most recent call last)",
      "Cell \u001b[0;32mIn[14], line 2\u001b[0m\n\u001b[1;32m      1\u001b[0m \u001b[38;5;28;01mtry\u001b[39;00m:\n\u001b[0;32m----> 2\u001b[0m     \u001b[38;5;28mprint\u001b[39m(\u001b[38;5;241;43m10\u001b[39;49m\u001b[38;5;241;43m+\u001b[39;49m\u001b[38;5;124;43m'\u001b[39;49m\u001b[38;5;124;43ma\u001b[39;49m\u001b[38;5;124;43m'\u001b[39;49m)\n\u001b[1;32m      4\u001b[0m \u001b[38;5;28;01mfinally\u001b[39;00m:\n\u001b[1;32m      5\u001b[0m     \u001b[38;5;28mprint\u001b[39m(\u001b[38;5;124m'\u001b[39m\u001b[38;5;124mThis is finally block it is always executed\u001b[39m\u001b[38;5;124m'\u001b[39m)\n",
      "\u001b[0;31mTypeError\u001b[0m: unsupported operand type(s) for +: 'int' and 'str'"
     ]
    }
   ],
   "source": [
    "try:\n",
    "    print(10+'a')\n",
    "\n",
    "finally:\n",
    "    print('This is finally block it is always executed')"
   ]
  },
  {
   "cell_type": "code",
   "execution_count": null,
   "id": "83edc575-37c8-40f7-9111-7c943bdf267e",
   "metadata": {},
   "outputs": [],
   "source": [
    "In above both condition finally will executed"
   ]
  },
  {
   "cell_type": "code",
   "execution_count": null,
   "id": "eecdaeec-8d80-41e6-8da0-b92ebfa8f069",
   "metadata": {},
   "outputs": [],
   "source": [
    "c raise"
   ]
  },
  {
   "cell_type": "code",
   "execution_count": null,
   "id": "a77c7db1-b0bb-4754-a420-df24b28d128a",
   "metadata": {},
   "outputs": [],
   "source": [
    "raise mainly used for raise an exception during exception handling"
   ]
  },
  {
   "cell_type": "code",
   "execution_count": 2,
   "id": "7e33d4d7-0e02-4487-8d25-c2d39fb13f95",
   "metadata": {},
   "outputs": [
    {
     "name": "stdin",
     "output_type": "stream",
     "text": [
      "enter a number -2\n"
     ]
    },
    {
     "ename": "Exception",
     "evalue": "please enter a number greater than zero",
     "output_type": "error",
     "traceback": [
      "\u001b[0;31m---------------------------------------------------------------------------\u001b[0m",
      "\u001b[0;31mException\u001b[0m                                 Traceback (most recent call last)",
      "Cell \u001b[0;32mIn[2], line 3\u001b[0m\n\u001b[1;32m      1\u001b[0m a\u001b[38;5;241m=\u001b[39m\u001b[38;5;28mint\u001b[39m(\u001b[38;5;28minput\u001b[39m(\u001b[38;5;124m'\u001b[39m\u001b[38;5;124menter a number\u001b[39m\u001b[38;5;124m'\u001b[39m))\n\u001b[1;32m      2\u001b[0m \u001b[38;5;28;01mif\u001b[39;00m a\u001b[38;5;241m<\u001b[39m\u001b[38;5;241m0\u001b[39m:\n\u001b[0;32m----> 3\u001b[0m     \u001b[38;5;28;01mraise\u001b[39;00m \u001b[38;5;167;01mException\u001b[39;00m(\u001b[38;5;124m'\u001b[39m\u001b[38;5;124mplease enter a number greater than zero\u001b[39m\u001b[38;5;124m'\u001b[39m)\n",
      "\u001b[0;31mException\u001b[0m: please enter a number greater than zero"
     ]
    }
   ],
   "source": [
    "a=int(input('enter a number'))\n",
    "if a<0:\n",
    "    raise Exception('please enter a number greater than zero')"
   ]
  },
  {
   "cell_type": "code",
   "execution_count": null,
   "id": "27e06b61-5b8d-44de-be2f-8ef2a6bdcebe",
   "metadata": {},
   "outputs": [],
   "source": [
    "Q5 what are the custom exceptions in python?why do we need custom exceptions?explain with example"
   ]
  },
  {
   "cell_type": "code",
   "execution_count": null,
   "id": "8d64ef3e-e4eb-4fb1-9989-de2aac4852ab",
   "metadata": {},
   "outputs": [],
   "source": [
    "custom exceptions are user defined exceptions in python,user can define and evalute the exception\n",
    "custom exceptions mainly used for define and create thier own exception and they can handle thier exceptions"
   ]
  },
  {
   "cell_type": "code",
   "execution_count": 11,
   "id": "ae2101fa-ea96-4591-8ad5-5551d418a4f6",
   "metadata": {},
   "outputs": [
    {
     "name": "stdin",
     "output_type": "stream",
     "text": [
      "enter a number -3\n"
     ]
    }
   ],
   "source": [
    "a=int(input('enter a positive number'))"
   ]
  },
  {
   "cell_type": "code",
   "execution_count": null,
   "id": "988ddbad-d21d-41e5-b58a-dc74d12c2073",
   "metadata": {},
   "outputs": [],
   "source": [
    "in above example user wants to provide a positive number by mistake when he enters a negative number\n",
    "system does not provide any exception,so to handle these condition we use a custom exception,so we create\n",
    "a custom class and raise custom exception where we need"
   ]
  },
  {
   "cell_type": "code",
   "execution_count": null,
   "id": "38626f72-468e-4e67-b0b5-906f9fada44a",
   "metadata": {},
   "outputs": [],
   "source": [
    "Q6 create custom exception class?use this class handle exception"
   ]
  },
  {
   "cell_type": "code",
   "execution_count": 6,
   "id": "34b653b7-dffd-447d-bff7-181ae7570c8f",
   "metadata": {},
   "outputs": [],
   "source": [
    "class custom_exception(Exception):\n",
    "    def __init__(self,arg):\n",
    "        self.arg=arg"
   ]
  },
  {
   "cell_type": "code",
   "execution_count": 7,
   "id": "07ee3d00-2842-4599-a11e-f1c681897228",
   "metadata": {},
   "outputs": [],
   "source": [
    "def valid_user(age):\n",
    "    if age<18:\n",
    "        raise custom_exception('your to young to vote')\n",
    "    elif age>60:\n",
    "        raise custom_exception('your to old to vote')\n",
    "    else:\n",
    "        print('your valid user to vote')"
   ]
  },
  {
   "cell_type": "code",
   "execution_count": 8,
   "id": "4a1776d5-5350-4de5-9a20-fbe2b2832c3a",
   "metadata": {},
   "outputs": [
    {
     "name": "stdin",
     "output_type": "stream",
     "text": [
      "enter age to validate to vote 17\n"
     ]
    },
    {
     "name": "stdout",
     "output_type": "stream",
     "text": [
      "your to young to vote\n"
     ]
    }
   ],
   "source": [
    "try:\n",
    "    age=int(input('enter age to validate to vote'))\n",
    "    valid_user(age)\n",
    "except custom_exception as e:\n",
    "    print(e)"
   ]
  },
  {
   "cell_type": "code",
   "execution_count": 9,
   "id": "3ed8d4b1-baf6-4cf0-8b47-31cba07831da",
   "metadata": {},
   "outputs": [
    {
     "name": "stdin",
     "output_type": "stream",
     "text": [
      "enter age to validate to vote 63\n"
     ]
    },
    {
     "name": "stdout",
     "output_type": "stream",
     "text": [
      "your to old to vote\n"
     ]
    }
   ],
   "source": [
    "try:\n",
    "    age=int(input('enter age to validate to vote'))\n",
    "    valid_user(age)\n",
    "except custom_exception as e:\n",
    "    print(e)"
   ]
  },
  {
   "cell_type": "code",
   "execution_count": 10,
   "id": "f269e72e-523a-4622-935f-9e2ec59f8084",
   "metadata": {},
   "outputs": [
    {
     "name": "stdin",
     "output_type": "stream",
     "text": [
      "enter age to validate to vote 33\n"
     ]
    },
    {
     "name": "stdout",
     "output_type": "stream",
     "text": [
      "your valid user to vote\n"
     ]
    }
   ],
   "source": [
    "try:\n",
    "    age=int(input('enter age to validate to vote'))\n",
    "    valid_user(age)\n",
    "except custom_exception as e:\n",
    "    print(e)"
   ]
  },
  {
   "cell_type": "code",
   "execution_count": null,
   "id": "8306000f-496b-4364-9135-834eb568dcf6",
   "metadata": {},
   "outputs": [],
   "source": [
    "By above example we can easily create a custom exception class and we can use this class with our own needs"
   ]
  },
  {
   "cell_type": "code",
   "execution_count": null,
   "id": "ee9902bd-7ddc-4482-b549-fdfa9a4e79d7",
   "metadata": {},
   "outputs": [],
   "source": []
  }
 ],
 "metadata": {
  "kernelspec": {
   "display_name": "Python 3 (ipykernel)",
   "language": "python",
   "name": "python3"
  },
  "language_info": {
   "codemirror_mode": {
    "name": "ipython",
    "version": 3
   },
   "file_extension": ".py",
   "mimetype": "text/x-python",
   "name": "python",
   "nbconvert_exporter": "python",
   "pygments_lexer": "ipython3",
   "version": "3.10.8"
  }
 },
 "nbformat": 4,
 "nbformat_minor": 5
}

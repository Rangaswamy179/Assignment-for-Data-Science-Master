{
 "cells": [
  {
   "cell_type": "code",
   "execution_count": 1,
   "id": "1ec9ffcd-b8b6-4793-b571-240a6a2a8ec8",
   "metadata": {},
   "outputs": [],
   "source": [
    "import numpy as np"
   ]
  },
  {
   "cell_type": "code",
   "execution_count": 3,
   "id": "77979866-954e-4c1a-b8e3-f69dba112174",
   "metadata": {},
   "outputs": [],
   "source": [
    "l=[1,2,3,4]"
   ]
  },
  {
   "cell_type": "code",
   "execution_count": 4,
   "id": "ab4fb79e-035f-4ac2-ad15-d6ab025b30ea",
   "metadata": {},
   "outputs": [
    {
     "data": {
      "text/plain": [
       "array([1, 2, 3, 4])"
      ]
     },
     "execution_count": 4,
     "metadata": {},
     "output_type": "execute_result"
    }
   ],
   "source": [
    "np.array(l)"
   ]
  },
  {
   "cell_type": "code",
   "execution_count": 5,
   "id": "40340b0f-ddf8-41e3-94fb-afa25e866db8",
   "metadata": {},
   "outputs": [
    {
     "data": {
      "text/plain": [
       "numpy.ndarray"
      ]
     },
     "execution_count": 5,
     "metadata": {},
     "output_type": "execute_result"
    }
   ],
   "source": [
    "arr=np.array(l)\n",
    "type(arr)"
   ]
  },
  {
   "cell_type": "code",
   "execution_count": 8,
   "id": "970a3f88-7cb8-44b4-9bf4-4e1a16de5672",
   "metadata": {},
   "outputs": [
    {
     "data": {
      "text/plain": [
       "1"
      ]
     },
     "execution_count": 8,
     "metadata": {},
     "output_type": "execute_result"
    }
   ],
   "source": [
    "#one dimensional array\n",
    "arr.ndim"
   ]
  },
  {
   "cell_type": "code",
   "execution_count": 6,
   "id": "cc1964bc-4065-4e50-a8f3-f61055c83390",
   "metadata": {},
   "outputs": [
    {
     "data": {
      "text/plain": [
       "array([1, 2, 3, 4])"
      ]
     },
     "execution_count": 6,
     "metadata": {},
     "output_type": "execute_result"
    }
   ],
   "source": [
    "np.asarray(l)"
   ]
  },
  {
   "cell_type": "code",
   "execution_count": 7,
   "id": "6ff44c02-f9a3-429c-9925-e1b7956b4a97",
   "metadata": {},
   "outputs": [
    {
     "data": {
      "text/plain": [
       "array([[1, 2, 3],\n",
       "       [4, 5, 6]])"
      ]
     },
     "execution_count": 7,
     "metadata": {},
     "output_type": "execute_result"
    }
   ],
   "source": [
    "np.array([[1,2,3],[4,5,6]])"
   ]
  },
  {
   "cell_type": "code",
   "execution_count": 9,
   "id": "020101b8-d99e-43f8-b6dd-6339d674f7b1",
   "metadata": {},
   "outputs": [
    {
     "data": {
      "text/plain": [
       "2"
      ]
     },
     "execution_count": 9,
     "metadata": {},
     "output_type": "execute_result"
    }
   ],
   "source": [
    "#2 dimensional array\n",
    "arr1=np.array([[1,2,3],[4,5,6]])\n",
    "arr1.ndim"
   ]
  },
  {
   "cell_type": "code",
   "execution_count": 10,
   "id": "5b59ff5c-b01b-41ea-a03f-a05dff6cf87e",
   "metadata": {},
   "outputs": [
    {
     "data": {
      "text/plain": [
       "matrix([[1, 2, 3, 4]])"
      ]
     },
     "execution_count": 10,
     "metadata": {},
     "output_type": "execute_result"
    }
   ],
   "source": [
    "np.matrix(l)#convert 2 dimensional array"
   ]
  },
  {
   "cell_type": "code",
   "execution_count": 13,
   "id": "039c5564-e60a-4001-8497-300740ab10b8",
   "metadata": {},
   "outputs": [],
   "source": [
    "mat=np.matrix(l)"
   ]
  },
  {
   "cell_type": "code",
   "execution_count": 11,
   "id": "8d4e3077-f696-41e2-aec5-e9023e44f016",
   "metadata": {},
   "outputs": [
    {
     "data": {
      "text/plain": [
       "array([1, 2, 3, 4])"
      ]
     },
     "execution_count": 11,
     "metadata": {},
     "output_type": "execute_result"
    }
   ],
   "source": [
    "np.asanyarray(l)"
   ]
  },
  {
   "cell_type": "code",
   "execution_count": 15,
   "id": "06bf1553-00df-4856-a20b-bbbbe15d84af",
   "metadata": {},
   "outputs": [
    {
     "data": {
      "text/plain": [
       "matrix([[1, 2, 3, 4]])"
      ]
     },
     "execution_count": 15,
     "metadata": {},
     "output_type": "execute_result"
    }
   ],
   "source": [
    "np.asanyarray(mat)#it does not convert into any array because matrix is subclass of\n",
    "#array default matrix is array"
   ]
  },
  {
   "cell_type": "code",
   "execution_count": 17,
   "id": "74641d00-e152-4974-8a4e-431db6f4d70f",
   "metadata": {},
   "outputs": [],
   "source": [
    "#shallow copy\n",
    "a=arr"
   ]
  },
  {
   "cell_type": "code",
   "execution_count": 18,
   "id": "6db3ac9d-b55c-4b09-86a5-79d6d9ae515b",
   "metadata": {},
   "outputs": [
    {
     "data": {
      "text/plain": [
       "array([1, 2, 3, 4])"
      ]
     },
     "execution_count": 18,
     "metadata": {},
     "output_type": "execute_result"
    }
   ],
   "source": [
    "a"
   ]
  },
  {
   "cell_type": "code",
   "execution_count": 19,
   "id": "f8817561-4c77-4053-9a4e-da8d220f8055",
   "metadata": {},
   "outputs": [],
   "source": [
    "arr[0]=100"
   ]
  },
  {
   "cell_type": "code",
   "execution_count": 20,
   "id": "66372c41-e6b3-4a48-b233-e61fc353c4a4",
   "metadata": {},
   "outputs": [
    {
     "data": {
      "text/plain": [
       "array([100,   2,   3,   4])"
      ]
     },
     "execution_count": 20,
     "metadata": {},
     "output_type": "execute_result"
    }
   ],
   "source": [
    "arr"
   ]
  },
  {
   "cell_type": "code",
   "execution_count": 21,
   "id": "5af44e44-61e8-40f8-8943-e465b0e97047",
   "metadata": {},
   "outputs": [
    {
     "data": {
      "text/plain": [
       "array([100,   2,   3,   4])"
      ]
     },
     "execution_count": 21,
     "metadata": {},
     "output_type": "execute_result"
    }
   ],
   "source": [
    "a"
   ]
  },
  {
   "cell_type": "code",
   "execution_count": 23,
   "id": "5e2c90cd-ab4c-486e-acc1-3dac06f293a7",
   "metadata": {},
   "outputs": [],
   "source": [
    "#deep copy\n",
    "b=np.copy(arr)"
   ]
  },
  {
   "cell_type": "code",
   "execution_count": 24,
   "id": "65fdde5e-cd95-42a1-b147-8feaee8aa158",
   "metadata": {},
   "outputs": [
    {
     "data": {
      "text/plain": [
       "array([100,   2,   3,   4])"
      ]
     },
     "execution_count": 24,
     "metadata": {},
     "output_type": "execute_result"
    }
   ],
   "source": [
    "b"
   ]
  },
  {
   "cell_type": "code",
   "execution_count": 25,
   "id": "91d27c72-c251-4d17-b498-5aee5c49f90a",
   "metadata": {},
   "outputs": [],
   "source": [
    "b[0]=200"
   ]
  },
  {
   "cell_type": "code",
   "execution_count": 26,
   "id": "8eac2fcd-fa5d-466e-be79-e716266fe8cc",
   "metadata": {},
   "outputs": [
    {
     "data": {
      "text/plain": [
       "array([200,   2,   3,   4])"
      ]
     },
     "execution_count": 26,
     "metadata": {},
     "output_type": "execute_result"
    }
   ],
   "source": [
    "b"
   ]
  },
  {
   "cell_type": "code",
   "execution_count": 27,
   "id": "fc1959c8-c2e1-497b-b7bd-3baf65f338ad",
   "metadata": {},
   "outputs": [
    {
     "data": {
      "text/plain": [
       "array([100,   2,   3,   4])"
      ]
     },
     "execution_count": 27,
     "metadata": {},
     "output_type": "execute_result"
    }
   ],
   "source": [
    "arr"
   ]
  },
  {
   "cell_type": "code",
   "execution_count": 29,
   "id": "0b853cb7-9d60-4470-9004-39a156c7b3dd",
   "metadata": {},
   "outputs": [
    {
     "data": {
      "text/plain": [
       "array([[ True, False, False],\n",
       "       [False,  True, False],\n",
       "       [False, False,  True]])"
      ]
     },
     "execution_count": 29,
     "metadata": {},
     "output_type": "execute_result"
    }
   ],
   "source": [
    "np.fromfunction(lambda i,j:i==j,(3,3))"
   ]
  },
  {
   "cell_type": "code",
   "execution_count": 30,
   "id": "1552858d-f039-463a-963b-d8f2fe4b1690",
   "metadata": {},
   "outputs": [
    {
     "data": {
      "text/plain": [
       "array([[0., 0., 0.],\n",
       "       [0., 1., 2.],\n",
       "       [0., 2., 4.]])"
      ]
     },
     "execution_count": 30,
     "metadata": {},
     "output_type": "execute_result"
    }
   ],
   "source": [
    "np.fromfunction(lambda i,j:i*j,(3,3))"
   ]
  },
  {
   "cell_type": "code",
   "execution_count": 31,
   "id": "9a913e30-e402-4b53-b714-a92d4d1b42ad",
   "metadata": {},
   "outputs": [
    {
     "data": {
      "text/plain": [
       "[0, 1, 4, 9, 16]"
      ]
     },
     "execution_count": 31,
     "metadata": {},
     "output_type": "execute_result"
    }
   ],
   "source": [
    "list((i*i for i in range(5)))"
   ]
  },
  {
   "cell_type": "code",
   "execution_count": 32,
   "id": "a24b808f-b47e-4538-bb4c-12eba01e72e6",
   "metadata": {},
   "outputs": [],
   "source": [
    "iterable=(i*i for i in range(5))"
   ]
  },
  {
   "cell_type": "code",
   "execution_count": 34,
   "id": "0345ef13-dffd-4e5b-ae25-a476dd6b092d",
   "metadata": {},
   "outputs": [
    {
     "data": {
      "text/plain": [
       "array([ 0.,  1.,  4.,  9., 16.])"
      ]
     },
     "execution_count": 34,
     "metadata": {},
     "output_type": "execute_result"
    }
   ],
   "source": [
    "np.fromiter(iterable,float)"
   ]
  },
  {
   "cell_type": "code",
   "execution_count": 36,
   "id": "dc8b75bb-d883-4185-931f-4cd2d3ba47d8",
   "metadata": {},
   "outputs": [
    {
     "data": {
      "text/plain": [
       "array([23., 24., 25., 26.])"
      ]
     },
     "execution_count": 36,
     "metadata": {},
     "output_type": "execute_result"
    }
   ],
   "source": [
    "np.fromstring('23,24,25,26', sep=',')"
   ]
  },
  {
   "cell_type": "code",
   "execution_count": 37,
   "id": "a7a0d28a-4e7b-4d64-a9df-66039ccbb55e",
   "metadata": {},
   "outputs": [
    {
     "data": {
      "text/plain": [
       "array([23., 24., 25., 26.])"
      ]
     },
     "execution_count": 37,
     "metadata": {},
     "output_type": "execute_result"
    }
   ],
   "source": [
    "np.fromstring('23 24 25 26', sep=' ')"
   ]
  },
  {
   "cell_type": "code",
   "execution_count": 38,
   "id": "5028b3cc-1119-493a-ae51-fb6a6e79e7f8",
   "metadata": {},
   "outputs": [
    {
     "data": {
      "text/plain": [
       "1"
      ]
     },
     "execution_count": 38,
     "metadata": {},
     "output_type": "execute_result"
    }
   ],
   "source": [
    "#to check dimension\n",
    "arr.ndim"
   ]
  },
  {
   "cell_type": "code",
   "execution_count": 39,
   "id": "6b85de37-3c44-48be-bd3e-0d395b0b1711",
   "metadata": {},
   "outputs": [
    {
     "data": {
      "text/plain": [
       "2"
      ]
     },
     "execution_count": 39,
     "metadata": {},
     "output_type": "execute_result"
    }
   ],
   "source": [
    "arr1.ndim"
   ]
  },
  {
   "cell_type": "code",
   "execution_count": 40,
   "id": "866c89f1-cfcb-4e02-9924-8d78e50e632b",
   "metadata": {},
   "outputs": [
    {
     "data": {
      "text/plain": [
       "4"
      ]
     },
     "execution_count": 40,
     "metadata": {},
     "output_type": "execute_result"
    }
   ],
   "source": [
    "#to check the number of elements\n",
    "arr.size"
   ]
  },
  {
   "cell_type": "code",
   "execution_count": 41,
   "id": "25fa353d-d866-4dee-8a94-c85874c525e4",
   "metadata": {},
   "outputs": [
    {
     "data": {
      "text/plain": [
       "4"
      ]
     },
     "execution_count": 41,
     "metadata": {},
     "output_type": "execute_result"
    }
   ],
   "source": [
    "arr.size"
   ]
  },
  {
   "cell_type": "code",
   "execution_count": 42,
   "id": "c7135563-425d-4332-b573-ce0ef7bf1e4c",
   "metadata": {},
   "outputs": [
    {
     "data": {
      "text/plain": [
       "(4,)"
      ]
     },
     "execution_count": 42,
     "metadata": {},
     "output_type": "execute_result"
    }
   ],
   "source": [
    "#it tells the matrix shape which means number of rows and columns\n",
    "arr.shape"
   ]
  },
  {
   "cell_type": "code",
   "execution_count": 43,
   "id": "16a6a11a-9180-49eb-9c08-2e81f6edf8bd",
   "metadata": {},
   "outputs": [
    {
     "data": {
      "text/plain": [
       "(2, 3)"
      ]
     },
     "execution_count": 43,
     "metadata": {},
     "output_type": "execute_result"
    }
   ],
   "source": [
    "arr1.shape"
   ]
  },
  {
   "cell_type": "code",
   "execution_count": 45,
   "id": "89680acd-80f5-4c08-8ed5-32eaee6dd489",
   "metadata": {},
   "outputs": [
    {
     "data": {
      "text/plain": [
       "dtype('int64')"
      ]
     },
     "execution_count": 45,
     "metadata": {},
     "output_type": "execute_result"
    }
   ],
   "source": [
    "#to check the data types\n",
    "arr.dtype"
   ]
  },
  {
   "cell_type": "code",
   "execution_count": 46,
   "id": "9342c880-1c0f-4e74-b4cd-1663ca4f5531",
   "metadata": {},
   "outputs": [
    {
     "data": {
      "text/plain": [
       "dtype('int64')"
      ]
     },
     "execution_count": 46,
     "metadata": {},
     "output_type": "execute_result"
    }
   ],
   "source": [
    "arr1.dtype"
   ]
  },
  {
   "cell_type": "code",
   "execution_count": 47,
   "id": "68811b43-227d-4b84-8e25-87193a6dd7f4",
   "metadata": {},
   "outputs": [],
   "source": [
    "#numpy part2"
   ]
  },
  {
   "cell_type": "code",
   "execution_count": 48,
   "id": "6168881f-c0a1-4084-8737-d893849ef8e6",
   "metadata": {},
   "outputs": [
    {
     "data": {
      "text/plain": [
       "[0, 1, 2, 3, 4, 5, 6, 7, 8, 9]"
      ]
     },
     "execution_count": 48,
     "metadata": {},
     "output_type": "execute_result"
    }
   ],
   "source": [
    "list(range(0,10))"
   ]
  },
  {
   "cell_type": "code",
   "execution_count": 49,
   "id": "7767b84d-a174-4c12-a9b2-3886bc4b8d36",
   "metadata": {},
   "outputs": [
    {
     "ename": "TypeError",
     "evalue": "'float' object cannot be interpreted as an integer",
     "output_type": "error",
     "traceback": [
      "\u001b[0;31m---------------------------------------------------------------------------\u001b[0m",
      "\u001b[0;31mTypeError\u001b[0m                                 Traceback (most recent call last)",
      "Cell \u001b[0;32mIn[49], line 1\u001b[0m\n\u001b[0;32m----> 1\u001b[0m \u001b[38;5;28mlist\u001b[39m(\u001b[38;5;28;43mrange\u001b[39;49m\u001b[43m(\u001b[49m\u001b[38;5;241;43m0.4\u001b[39;49m\u001b[43m,\u001b[49m\u001b[38;5;241;43m10.4\u001b[39;49m\u001b[43m)\u001b[49m)\n",
      "\u001b[0;31mTypeError\u001b[0m: 'float' object cannot be interpreted as an integer"
     ]
    }
   ],
   "source": [
    "list(range(0.4,10.4))"
   ]
  },
  {
   "cell_type": "code",
   "execution_count": 50,
   "id": "9b9d6999-9c8d-4c1c-9961-f6e05c587e7e",
   "metadata": {},
   "outputs": [
    {
     "data": {
      "text/plain": [
       "array([0.4, 1.4, 2.4, 3.4, 4.4, 5.4, 6.4, 7.4, 8.4, 9.4])"
      ]
     },
     "execution_count": 50,
     "metadata": {},
     "output_type": "execute_result"
    }
   ],
   "source": [
    "np.arange(.4,10.4)"
   ]
  },
  {
   "cell_type": "code",
   "execution_count": 51,
   "id": "a58cb118-7c50-4d8c-aa4a-426f4b63f4eb",
   "metadata": {},
   "outputs": [
    {
     "data": {
      "text/plain": [
       "[0.4,\n",
       " 1.4,\n",
       " 2.4,\n",
       " 3.3999999999999995,\n",
       " 4.3999999999999995,\n",
       " 5.3999999999999995,\n",
       " 6.3999999999999995,\n",
       " 7.3999999999999995,\n",
       " 8.399999999999999,\n",
       " 9.399999999999999]"
      ]
     },
     "execution_count": 51,
     "metadata": {},
     "output_type": "execute_result"
    }
   ],
   "source": [
    "list(np.arange(.4,10.4))"
   ]
  },
  {
   "cell_type": "code",
   "execution_count": 52,
   "id": "700f4f97-0008-4d13-aee2-21fb3fffedb6",
   "metadata": {},
   "outputs": [
    {
     "data": {
      "text/plain": [
       "[0.4,\n",
       " 0.9,\n",
       " 1.4,\n",
       " 1.9,\n",
       " 2.4,\n",
       " 2.9,\n",
       " 3.4,\n",
       " 3.9,\n",
       " 4.4,\n",
       " 4.9,\n",
       " 5.4,\n",
       " 5.9,\n",
       " 6.4,\n",
       " 6.9,\n",
       " 7.4,\n",
       " 7.9,\n",
       " 8.4,\n",
       " 8.9,\n",
       " 9.4,\n",
       " 9.9]"
      ]
     },
     "execution_count": 52,
     "metadata": {},
     "output_type": "execute_result"
    }
   ],
   "source": [
    "list(np.arange(.4,10.4,0.5))"
   ]
  },
  {
   "cell_type": "code",
   "execution_count": 54,
   "id": "9b5bdd4e-56ad-4161-9120-c4c046dabd3a",
   "metadata": {},
   "outputs": [
    {
     "data": {
      "text/plain": [
       "array([1.        , 3.33333333, 5.66666667, 8.        ])"
      ]
     },
     "execution_count": 54,
     "metadata": {},
     "output_type": "execute_result"
    }
   ],
   "source": [
    "np.linspace(1,8, 4)"
   ]
  },
  {
   "cell_type": "code",
   "execution_count": 55,
   "id": "d4b48b5b-7d49-4782-897a-8c626d2df161",
   "metadata": {},
   "outputs": [
    {
     "data": {
      "text/plain": [
       "array([1.        , 1.36842105, 1.73684211, 2.10526316, 2.47368421,\n",
       "       2.84210526, 3.21052632, 3.57894737, 3.94736842, 4.31578947,\n",
       "       4.68421053, 5.05263158, 5.42105263, 5.78947368, 6.15789474,\n",
       "       6.52631579, 6.89473684, 7.26315789, 7.63157895, 8.        ])"
      ]
     },
     "execution_count": 55,
     "metadata": {},
     "output_type": "execute_result"
    }
   ],
   "source": [
    "np.linspace(1,8, 20)"
   ]
  },
  {
   "cell_type": "code",
   "execution_count": 57,
   "id": "fabb03de-a8c7-4875-a3e5-307661b888dc",
   "metadata": {},
   "outputs": [
    {
     "data": {
      "text/plain": [
       "array([1.00000000e+01, 2.97635144e+01, 8.85866790e+01, 2.63665090e+02,\n",
       "       7.84759970e+02, 2.33572147e+03, 6.95192796e+03, 2.06913808e+04,\n",
       "       6.15848211e+04, 1.83298071e+05, 5.45559478e+05, 1.62377674e+06,\n",
       "       4.83293024e+06, 1.43844989e+07, 4.28133240e+07, 1.27427499e+08,\n",
       "       3.79269019e+08, 1.12883789e+09, 3.35981829e+09, 1.00000000e+10])"
      ]
     },
     "execution_count": 57,
     "metadata": {},
     "output_type": "execute_result"
    }
   ],
   "source": [
    "np.logspace(1,10,20)"
   ]
  },
  {
   "cell_type": "code",
   "execution_count": 58,
   "id": "4994c6f8-e5be-4ecb-aabc-4011a9f9d88f",
   "metadata": {},
   "outputs": [
    {
     "data": {
      "text/plain": [
       "array([   2.        ,    2.77730229,    3.85670399,    5.3556164 ,\n",
       "          7.43708284,   10.32751358,   14.34131354,   19.91508143,\n",
       "         27.65510059,   38.40328703,   53.32876841,   74.05505519,\n",
       "        102.836637  ,  142.80421347,  198.30523421,  275.37679007,\n",
       "        382.40229418,  531.02338276,  737.40622722, 1024.        ])"
      ]
     },
     "execution_count": 58,
     "metadata": {},
     "output_type": "execute_result"
    }
   ],
   "source": [
    "#we can change the base default is base 10\n",
    "np.logspace(1,10,20,base=2)"
   ]
  },
  {
   "cell_type": "code",
   "execution_count": 59,
   "id": "c530d148-ee91-4c74-93e3-78c362e400d9",
   "metadata": {},
   "outputs": [
    {
     "data": {
      "text/plain": [
       "array([0., 0., 0., 0., 0.])"
      ]
     },
     "execution_count": 59,
     "metadata": {},
     "output_type": "execute_result"
    }
   ],
   "source": [
    "np.zeros(5)"
   ]
  },
  {
   "cell_type": "code",
   "execution_count": 61,
   "id": "4b8c7b1f-ed1e-48f6-9765-1b0aa3ec8ee1",
   "metadata": {},
   "outputs": [
    {
     "data": {
      "text/plain": [
       "array([[0., 0., 0., 0., 0.],\n",
       "       [0., 0., 0., 0., 0.],\n",
       "       [0., 0., 0., 0., 0.]])"
      ]
     },
     "execution_count": 61,
     "metadata": {},
     "output_type": "execute_result"
    }
   ],
   "source": [
    "#3 rows and 5 columns\n",
    "np.zeros((3,5))"
   ]
  },
  {
   "cell_type": "code",
   "execution_count": 63,
   "id": "0e62036d-b66e-43ef-9e63-1b54adb1e3e4",
   "metadata": {},
   "outputs": [
    {
     "data": {
      "text/plain": [
       "array([[[0., 0.],\n",
       "        [0., 0.],\n",
       "        [0., 0.],\n",
       "        [0., 0.]],\n",
       "\n",
       "       [[0., 0.],\n",
       "        [0., 0.],\n",
       "        [0., 0.],\n",
       "        [0., 0.]],\n",
       "\n",
       "       [[0., 0.],\n",
       "        [0., 0.],\n",
       "        [0., 0.],\n",
       "        [0., 0.]]])"
      ]
     },
     "execution_count": 63,
     "metadata": {},
     "output_type": "execute_result"
    }
   ],
   "source": [
    "#generate 3d array with 4 rows and 2 columns\n",
    "np.zeros((3,4,2))"
   ]
  },
  {
   "cell_type": "code",
   "execution_count": 5,
   "id": "d957e29b-f192-4d43-895c-705c3a271fe5",
   "metadata": {},
   "outputs": [
    {
     "data": {
      "text/plain": [
       "array([[[[0., 0.],\n",
       "         [0., 0.],\n",
       "         [0., 0.],\n",
       "         [0., 0.]],\n",
       "\n",
       "        [[0., 0.],\n",
       "         [0., 0.],\n",
       "         [0., 0.],\n",
       "         [0., 0.]],\n",
       "\n",
       "        [[0., 0.],\n",
       "         [0., 0.],\n",
       "         [0., 0.],\n",
       "         [0., 0.]],\n",
       "\n",
       "        [[0., 0.],\n",
       "         [0., 0.],\n",
       "         [0., 0.],\n",
       "         [0., 0.]]],\n",
       "\n",
       "\n",
       "       [[[0., 0.],\n",
       "         [0., 0.],\n",
       "         [0., 0.],\n",
       "         [0., 0.]],\n",
       "\n",
       "        [[0., 0.],\n",
       "         [0., 0.],\n",
       "         [0., 0.],\n",
       "         [0., 0.]],\n",
       "\n",
       "        [[0., 0.],\n",
       "         [0., 0.],\n",
       "         [0., 0.],\n",
       "         [0., 0.]],\n",
       "\n",
       "        [[0., 0.],\n",
       "         [0., 0.],\n",
       "         [0., 0.],\n",
       "         [0., 0.]]],\n",
       "\n",
       "\n",
       "       [[[0., 0.],\n",
       "         [0., 0.],\n",
       "         [0., 0.],\n",
       "         [0., 0.]],\n",
       "\n",
       "        [[0., 0.],\n",
       "         [0., 0.],\n",
       "         [0., 0.],\n",
       "         [0., 0.]],\n",
       "\n",
       "        [[0., 0.],\n",
       "         [0., 0.],\n",
       "         [0., 0.],\n",
       "         [0., 0.]],\n",
       "\n",
       "        [[0., 0.],\n",
       "         [0., 0.],\n",
       "         [0., 0.],\n",
       "         [0., 0.]]]])"
      ]
     },
     "execution_count": 5,
     "metadata": {},
     "output_type": "execute_result"
    }
   ],
   "source": [
    "np.zeros((3,4,4,2))"
   ]
  },
  {
   "cell_type": "code",
   "execution_count": 11,
   "id": "506f9e3d-3fd8-4461-a46e-ba83982b2e04",
   "metadata": {},
   "outputs": [
    {
     "data": {
      "text/plain": [
       "array([1., 1., 1., 1., 1., 1.])"
      ]
     },
     "execution_count": 11,
     "metadata": {},
     "output_type": "execute_result"
    }
   ],
   "source": [
    "#generate ones with six column\n",
    "np.ones((6))"
   ]
  },
  {
   "cell_type": "code",
   "execution_count": 8,
   "id": "847e3deb-558d-41e8-8590-cf48ff0098a2",
   "metadata": {},
   "outputs": [
    {
     "data": {
      "text/plain": [
       "array([[1., 1., 1.],\n",
       "       [1., 1., 1.]])"
      ]
     },
     "execution_count": 8,
     "metadata": {},
     "output_type": "execute_result"
    }
   ],
   "source": [
    "np.ones((2,3))"
   ]
  },
  {
   "cell_type": "code",
   "execution_count": 9,
   "id": "515711bf-7605-4af9-89b1-4ea4544afb6e",
   "metadata": {},
   "outputs": [
    {
     "data": {
      "text/plain": [
       "array([[[1., 1., 1.],\n",
       "        [1., 1., 1.]],\n",
       "\n",
       "       [[1., 1., 1.],\n",
       "        [1., 1., 1.]],\n",
       "\n",
       "       [[1., 1., 1.],\n",
       "        [1., 1., 1.]]])"
      ]
     },
     "execution_count": 9,
     "metadata": {},
     "output_type": "execute_result"
    }
   ],
   "source": [
    "np.ones((3,2,3))"
   ]
  },
  {
   "cell_type": "code",
   "execution_count": 10,
   "id": "77c7df27-90c1-4101-a814-e4926fa2b528",
   "metadata": {},
   "outputs": [],
   "source": [
    "arr=np.ones((2,3))"
   ]
  },
  {
   "cell_type": "code",
   "execution_count": 11,
   "id": "a5f39ae0-31f3-48fb-8ff6-ec01b9d1fae0",
   "metadata": {},
   "outputs": [
    {
     "data": {
      "text/plain": [
       "array([[6., 6., 6.],\n",
       "       [6., 6., 6.]])"
      ]
     },
     "execution_count": 11,
     "metadata": {},
     "output_type": "execute_result"
    }
   ],
   "source": [
    "arr+5"
   ]
  },
  {
   "cell_type": "code",
   "execution_count": 12,
   "id": "659e0536-5389-42a4-bd00-17522f3a50f2",
   "metadata": {},
   "outputs": [
    {
     "data": {
      "text/plain": [
       "array([[7., 7., 7.],\n",
       "       [7., 7., 7.]])"
      ]
     },
     "execution_count": 12,
     "metadata": {},
     "output_type": "execute_result"
    }
   ],
   "source": [
    "arr*7"
   ]
  },
  {
   "cell_type": "code",
   "execution_count": 17,
   "id": "f20fc30f-f3bc-4ae9-8f33-a0798c91debe",
   "metadata": {},
   "outputs": [
    {
     "data": {
      "text/plain": [
       "array([[0., 0., 0., 0.],\n",
       "       [0., 0., 0., 0.],\n",
       "       [0., 0., 0., 0.]])"
      ]
     },
     "execution_count": 17,
     "metadata": {},
     "output_type": "execute_result"
    }
   ],
   "source": [
    "#empty will create any same values with given shape\n",
    "np.empty((3,4))"
   ]
  },
  {
   "cell_type": "code",
   "execution_count": 18,
   "id": "5abd3f09-fc69-4101-b8bc-604db7410794",
   "metadata": {},
   "outputs": [
    {
     "data": {
      "text/plain": [
       "array([[7., 7., 7.],\n",
       "       [7., 7., 7.]])"
      ]
     },
     "execution_count": 18,
     "metadata": {},
     "output_type": "execute_result"
    }
   ],
   "source": [
    "np.empty((2,3))"
   ]
  },
  {
   "cell_type": "code",
   "execution_count": 19,
   "id": "19ec4d32-5ab2-46f3-8233-33dc8d02b090",
   "metadata": {},
   "outputs": [
    {
     "data": {
      "text/plain": [
       "array([[1., 0., 0., 0.],\n",
       "       [0., 1., 0., 0.],\n",
       "       [0., 0., 1., 0.],\n",
       "       [0., 0., 0., 1.]])"
      ]
     },
     "execution_count": 19,
     "metadata": {},
     "output_type": "execute_result"
    }
   ],
   "source": [
    "#identity matrix\n",
    "np.eye(4)"
   ]
  },
  {
   "cell_type": "code",
   "execution_count": 20,
   "id": "3dea15c7-4078-4633-ae54-07655bc5d332",
   "metadata": {},
   "outputs": [
    {
     "data": {
      "text/html": [
       "<div>\n",
       "<style scoped>\n",
       "    .dataframe tbody tr th:only-of-type {\n",
       "        vertical-align: middle;\n",
       "    }\n",
       "\n",
       "    .dataframe tbody tr th {\n",
       "        vertical-align: top;\n",
       "    }\n",
       "\n",
       "    .dataframe thead th {\n",
       "        text-align: right;\n",
       "    }\n",
       "</style>\n",
       "<table border=\"1\" class=\"dataframe\">\n",
       "  <thead>\n",
       "    <tr style=\"text-align: right;\">\n",
       "      <th></th>\n",
       "      <th>0</th>\n",
       "      <th>1</th>\n",
       "      <th>2</th>\n",
       "      <th>3</th>\n",
       "    </tr>\n",
       "  </thead>\n",
       "  <tbody>\n",
       "    <tr>\n",
       "      <th>0</th>\n",
       "      <td>1.0</td>\n",
       "      <td>0.0</td>\n",
       "      <td>0.0</td>\n",
       "      <td>0.0</td>\n",
       "    </tr>\n",
       "    <tr>\n",
       "      <th>1</th>\n",
       "      <td>0.0</td>\n",
       "      <td>1.0</td>\n",
       "      <td>0.0</td>\n",
       "      <td>0.0</td>\n",
       "    </tr>\n",
       "    <tr>\n",
       "      <th>2</th>\n",
       "      <td>0.0</td>\n",
       "      <td>0.0</td>\n",
       "      <td>1.0</td>\n",
       "      <td>0.0</td>\n",
       "    </tr>\n",
       "    <tr>\n",
       "      <th>3</th>\n",
       "      <td>0.0</td>\n",
       "      <td>0.0</td>\n",
       "      <td>0.0</td>\n",
       "      <td>1.0</td>\n",
       "    </tr>\n",
       "  </tbody>\n",
       "</table>\n",
       "</div>"
      ],
      "text/plain": [
       "     0    1    2    3\n",
       "0  1.0  0.0  0.0  0.0\n",
       "1  0.0  1.0  0.0  0.0\n",
       "2  0.0  0.0  1.0  0.0\n",
       "3  0.0  0.0  0.0  1.0"
      ]
     },
     "execution_count": 20,
     "metadata": {},
     "output_type": "execute_result"
    }
   ],
   "source": [
    "#conversion of nd-array to dataframe\n",
    "a=np.eye(4)\n",
    "import pandas as pd\n",
    "pd.DataFrame(a)"
   ]
  },
  {
   "cell_type": "code",
   "execution_count": 7,
   "id": "dc08035f-b1ba-4153-a47b-95dafc399d14",
   "metadata": {},
   "outputs": [
    {
     "data": {
      "text/plain": [
       "array([[0.5959389 , 0.59696942, 0.23320744],\n",
       "       [0.32713205, 0.51254186, 0.19228114]])"
      ]
     },
     "execution_count": 7,
     "metadata": {},
     "output_type": "execute_result"
    }
   ],
   "source": [
    "#when we want generate random numbers with given shape\n",
    "np.random.rand(2,3)"
   ]
  },
  {
   "cell_type": "code",
   "execution_count": 26,
   "id": "c78c1d72-e5d2-4ba5-948d-3902e55387b1",
   "metadata": {},
   "outputs": [
    {
     "data": {
      "text/plain": [
       "array([[-1.71536055,  0.67357754,  0.97085467],\n",
       "       [ 0.84647227,  0.14041716,  1.56437195]])"
      ]
     },
     "execution_count": 26,
     "metadata": {},
     "output_type": "execute_result"
    }
   ],
   "source": [
    "#the diffference between rand and randn is rand produces any meand and standard deviation but randn produces mean 0 and standard deviation 1\n",
    "np.random.randn(2,3)"
   ]
  },
  {
   "cell_type": "code",
   "execution_count": 27,
   "id": "a10894bc-478d-481d-9eed-2c44def59254",
   "metadata": {},
   "outputs": [
    {
     "data": {
      "text/plain": [
       "array([[7, 4, 3, 5],\n",
       "       [6, 3, 2, 2],\n",
       "       [1, 6, 3, 3]])"
      ]
     },
     "execution_count": 27,
     "metadata": {},
     "output_type": "execute_result"
    }
   ],
   "source": [
    "#when we want to generate random integers with integers in between 1 to 8 with given shape\n",
    "np.random.randint(1,8,(3,4))"
   ]
  },
  {
   "cell_type": "code",
   "execution_count": 28,
   "id": "c85151d0-6c63-4a1e-b7f0-7404ac6a3204",
   "metadata": {},
   "outputs": [
    {
     "data": {
      "text/plain": [
       "12"
      ]
     },
     "execution_count": 28,
     "metadata": {},
     "output_type": "execute_result"
    }
   ],
   "source": [
    "a2=np.random.randint(1,8,(3,4))\n",
    "a2.size"
   ]
  },
  {
   "cell_type": "code",
   "execution_count": 29,
   "id": "bfebce5a-b1ec-4757-b8d2-3f4267247ad9",
   "metadata": {},
   "outputs": [
    {
     "data": {
      "text/plain": [
       "(3, 4)"
      ]
     },
     "execution_count": 29,
     "metadata": {},
     "output_type": "execute_result"
    }
   ],
   "source": [
    "#when we want to get a shape\n",
    "a2.shape"
   ]
  },
  {
   "cell_type": "code",
   "execution_count": 30,
   "id": "60e9d3cb-10da-4eaf-b0d9-7afa4c57da23",
   "metadata": {},
   "outputs": [
    {
     "data": {
      "text/plain": [
       "array([[3, 3],\n",
       "       [2, 2],\n",
       "       [6, 3],\n",
       "       [6, 2],\n",
       "       [1, 2],\n",
       "       [4, 7]])"
      ]
     },
     "execution_count": 30,
     "metadata": {},
     "output_type": "execute_result"
    }
   ],
   "source": [
    "#if we want to reshape the given shape we use reshape function in that matrix m*n should greater of new reshape values\n",
    "#suppoose we have 3*4 matrix its size hold 12 elements we have to reshape matrix such way that new m*n==12\n",
    "a2.reshape(6,2)"
   ]
  },
  {
   "cell_type": "code",
   "execution_count": 31,
   "id": "63d2fe81-d7e2-41d0-a1c1-d8c55fafbe46",
   "metadata": {},
   "outputs": [
    {
     "data": {
      "text/plain": [
       "array([[3, 3, 2, 2, 6, 3],\n",
       "       [6, 2, 1, 2, 4, 7]])"
      ]
     },
     "execution_count": 31,
     "metadata": {},
     "output_type": "execute_result"
    }
   ],
   "source": [
    "a2.reshape(2,6)"
   ]
  },
  {
   "cell_type": "code",
   "execution_count": 32,
   "id": "0e65a53d-0e74-490c-a06a-30c81a946c66",
   "metadata": {},
   "outputs": [
    {
     "data": {
      "text/plain": [
       "array([[3, 3, 2],\n",
       "       [2, 6, 3],\n",
       "       [6, 2, 1],\n",
       "       [2, 4, 7]])"
      ]
     },
     "execution_count": 32,
     "metadata": {},
     "output_type": "execute_result"
    }
   ],
   "source": [
    "a2.reshape(4,3)"
   ]
  },
  {
   "cell_type": "code",
   "execution_count": 33,
   "id": "5aec3a63-dd15-4bad-8df6-82931aa910c6",
   "metadata": {},
   "outputs": [
    {
     "data": {
      "text/plain": [
       "array([[3, 3, 2],\n",
       "       [2, 6, 3],\n",
       "       [6, 2, 1],\n",
       "       [2, 4, 7]])"
      ]
     },
     "execution_count": 33,
     "metadata": {},
     "output_type": "execute_result"
    }
   ],
   "source": [
    "a2.reshape(4,-1)"
   ]
  },
  {
   "cell_type": "code",
   "execution_count": 34,
   "id": "89301372-ba3f-46b4-ac49-a5f07e844bf2",
   "metadata": {},
   "outputs": [
    {
     "data": {
      "text/plain": [
       "array([[3, 3, 2, 2],\n",
       "       [6, 3, 6, 2],\n",
       "       [1, 2, 4, 7]])"
      ]
     },
     "execution_count": 34,
     "metadata": {},
     "output_type": "execute_result"
    }
   ],
   "source": [
    "a2.reshape(-1,4)"
   ]
  },
  {
   "cell_type": "code",
   "execution_count": 35,
   "id": "043b6474-8775-4915-b4ed-60f0c19d419e",
   "metadata": {},
   "outputs": [
    {
     "data": {
      "text/plain": [
       "array([[[3, 3, 2],\n",
       "        [2, 6, 3]],\n",
       "\n",
       "       [[6, 2, 1],\n",
       "        [2, 4, 7]]])"
      ]
     },
     "execution_count": 35,
     "metadata": {},
     "output_type": "execute_result"
    }
   ],
   "source": [
    "a2.reshape(2,2,3)"
   ]
  },
  {
   "cell_type": "code",
   "execution_count": 36,
   "id": "45e046d3-a40f-4119-89e4-0d106031e68f",
   "metadata": {},
   "outputs": [
    {
     "data": {
      "text/plain": [
       "array([[[[[[[3]]]],\n",
       "\n",
       "\n",
       "\n",
       "         [[[[3]]]],\n",
       "\n",
       "\n",
       "\n",
       "         [[[[2]]]]],\n",
       "\n",
       "\n",
       "\n",
       "\n",
       "        [[[[[2]]]],\n",
       "\n",
       "\n",
       "\n",
       "         [[[[6]]]],\n",
       "\n",
       "\n",
       "\n",
       "         [[[[3]]]]]],\n",
       "\n",
       "\n",
       "\n",
       "\n",
       "\n",
       "       [[[[[[6]]]],\n",
       "\n",
       "\n",
       "\n",
       "         [[[[2]]]],\n",
       "\n",
       "\n",
       "\n",
       "         [[[[1]]]]],\n",
       "\n",
       "\n",
       "\n",
       "\n",
       "        [[[[[2]]]],\n",
       "\n",
       "\n",
       "\n",
       "         [[[[4]]]],\n",
       "\n",
       "\n",
       "\n",
       "         [[[[7]]]]]]])"
      ]
     },
     "execution_count": 36,
     "metadata": {},
     "output_type": "execute_result"
    }
   ],
   "source": [
    "a2.reshape(2,2,3,1,1,1,1)"
   ]
  },
  {
   "cell_type": "code",
   "execution_count": 37,
   "id": "7e3af732-af69-430e-9c21-2fceb98a0ee0",
   "metadata": {},
   "outputs": [],
   "source": [
    "a3=np.random.randint(1,8,(5,7))"
   ]
  },
  {
   "cell_type": "code",
   "execution_count": 38,
   "id": "052f3cd5-443e-4b32-a98b-5f5d03f2011f",
   "metadata": {},
   "outputs": [
    {
     "data": {
      "text/plain": [
       "array([[4, 4, 6, 6, 3, 7, 1],\n",
       "       [3, 6, 1, 3, 5, 5, 5],\n",
       "       [5, 1, 1, 3, 6, 7, 2],\n",
       "       [5, 5, 7, 7, 6, 6, 3],\n",
       "       [7, 2, 6, 7, 4, 7, 7]])"
      ]
     },
     "execution_count": 38,
     "metadata": {},
     "output_type": "execute_result"
    }
   ],
   "source": [
    "a3"
   ]
  },
  {
   "cell_type": "code",
   "execution_count": 39,
   "id": "b5831d89-2e97-44f6-b864-62e41d7af6fb",
   "metadata": {},
   "outputs": [
    {
     "data": {
      "text/plain": [
       "array([[False, False,  True,  True, False,  True, False],\n",
       "       [False,  True, False, False,  True,  True,  True],\n",
       "       [ True, False, False, False,  True,  True, False],\n",
       "       [ True,  True,  True,  True,  True,  True, False],\n",
       "       [ True, False,  True,  True, False,  True,  True]])"
      ]
     },
     "execution_count": 39,
     "metadata": {},
     "output_type": "execute_result"
    }
   ],
   "source": [
    "#filter the data in an array                          \n",
    "a3>4"
   ]
  },
  {
   "cell_type": "code",
   "execution_count": 40,
   "id": "37bfa008-cecd-4bca-b9e5-5f1006843acd",
   "metadata": {},
   "outputs": [
    {
     "data": {
      "text/plain": [
       "array([6, 6, 7, 6, 5, 5, 5, 5, 6, 7, 5, 5, 7, 7, 6, 6, 7, 6, 7, 7, 7])"
      ]
     },
     "execution_count": 40,
     "metadata": {},
     "output_type": "execute_result"
    }
   ],
   "source": [
    "a3[a3>4]"
   ]
  },
  {
   "cell_type": "code",
   "execution_count": 42,
   "id": "3d1595c6-54e7-4348-8816-05ba03a785d1",
   "metadata": {},
   "outputs": [
    {
     "data": {
      "text/plain": [
       "array([[3, 3, 2, 2],\n",
       "       [6, 3, 6, 2],\n",
       "       [1, 2, 4, 7]])"
      ]
     },
     "execution_count": 42,
     "metadata": {},
     "output_type": "execute_result"
    }
   ],
   "source": [
    "a2"
   ]
  },
  {
   "cell_type": "code",
   "execution_count": 43,
   "id": "f91755f4-21a6-4bfa-932c-9837acaf8bad",
   "metadata": {},
   "outputs": [
    {
     "data": {
      "text/plain": [
       "array([3, 3])"
      ]
     },
     "execution_count": 43,
     "metadata": {},
     "output_type": "execute_result"
    }
   ],
   "source": [
    "#when we want to extract the elements 3,3 that are located in first row\n",
    "a2[0,[0,1]]"
   ]
  },
  {
   "cell_type": "code",
   "execution_count": 49,
   "id": "49efdb0b-96c1-4236-8598-10f9adb379a7",
   "metadata": {},
   "outputs": [
    {
     "data": {
      "text/plain": [
       "array([[3, 6],\n",
       "       [2, 4]])"
      ]
     },
     "execution_count": 49,
     "metadata": {},
     "output_type": "execute_result"
    }
   ],
   "source": [
    "a2[1:3,[1,2]]"
   ]
  },
  {
   "cell_type": "code",
   "execution_count": 48,
   "id": "f21925a1-0678-4457-8cb7-c900b242c083",
   "metadata": {},
   "outputs": [
    {
     "data": {
      "text/plain": [
       "array([[3, 6, 2],\n",
       "       [2, 4, 7]])"
      ]
     },
     "execution_count": 48,
     "metadata": {},
     "output_type": "execute_result"
    }
   ],
   "source": [
    "a2[1:3,[1,2,3]]"
   ]
  },
  {
   "cell_type": "code",
   "execution_count": 50,
   "id": "62846ec5-d6c3-4a86-bbb3-2fa29e1e3d03",
   "metadata": {},
   "outputs": [],
   "source": [
    "a4=np.random.randint(1,3,(3,3))\n",
    "a5=np.random.randint(1,3,(3,3))"
   ]
  },
  {
   "cell_type": "code",
   "execution_count": 51,
   "id": "8b8c4e1f-75b5-49db-b10c-e4189229d831",
   "metadata": {},
   "outputs": [
    {
     "data": {
      "text/plain": [
       "array([[1, 1, 2],\n",
       "       [1, 1, 1],\n",
       "       [2, 1, 1]])"
      ]
     },
     "execution_count": 51,
     "metadata": {},
     "output_type": "execute_result"
    }
   ],
   "source": [
    "a4"
   ]
  },
  {
   "cell_type": "code",
   "execution_count": 52,
   "id": "bebe24bc-19f0-4b86-bf02-dea0e754c5b0",
   "metadata": {},
   "outputs": [
    {
     "data": {
      "text/plain": [
       "array([[2, 2, 2],\n",
       "       [1, 2, 2],\n",
       "       [1, 1, 2]])"
      ]
     },
     "execution_count": 52,
     "metadata": {},
     "output_type": "execute_result"
    }
   ],
   "source": [
    "a5"
   ]
  },
  {
   "cell_type": "code",
   "execution_count": 53,
   "id": "a1c13bd8-2802-4fd6-a3a2-8be857ca741e",
   "metadata": {},
   "outputs": [
    {
     "data": {
      "text/plain": [
       "array([[3, 3, 4],\n",
       "       [2, 3, 3],\n",
       "       [3, 2, 3]])"
      ]
     },
     "execution_count": 53,
     "metadata": {},
     "output_type": "execute_result"
    }
   ],
   "source": [
    "#addition of two arrays by indexes\n",
    "a4+a5"
   ]
  },
  {
   "cell_type": "code",
   "execution_count": 54,
   "id": "9ef26eb4-0285-4712-8814-89a8cc670053",
   "metadata": {},
   "outputs": [
    {
     "data": {
      "text/plain": [
       "array([[-1, -1,  0],\n",
       "       [ 0, -1, -1],\n",
       "       [ 1,  0, -1]])"
      ]
     },
     "execution_count": 54,
     "metadata": {},
     "output_type": "execute_result"
    }
   ],
   "source": [
    "a4-a5"
   ]
  },
  {
   "cell_type": "code",
   "execution_count": 55,
   "id": "b1aca502-6162-4b94-8130-246857a46718",
   "metadata": {},
   "outputs": [
    {
     "data": {
      "text/plain": [
       "array([[2, 2, 4],\n",
       "       [1, 2, 2],\n",
       "       [2, 1, 2]])"
      ]
     },
     "execution_count": 55,
     "metadata": {},
     "output_type": "execute_result"
    }
   ],
   "source": [
    "#it is index wise multiflication not matrix multiflication \n",
    "a4*a5"
   ]
  },
  {
   "cell_type": "code",
   "execution_count": 56,
   "id": "cdf91547-7d66-4914-bca1-9709ff5f0ad3",
   "metadata": {},
   "outputs": [
    {
     "data": {
      "text/plain": [
       "array([[5, 6, 8],\n",
       "       [4, 5, 6],\n",
       "       [6, 7, 8]])"
      ]
     },
     "execution_count": 56,
     "metadata": {},
     "output_type": "execute_result"
    }
   ],
   "source": [
    "#t matrix multiflication \n",
    "a4@a5"
   ]
  },
  {
   "cell_type": "code",
   "execution_count": 57,
   "id": "cb6058d2-8b13-4e0c-b483-cc1ba3bbc2a1",
   "metadata": {},
   "outputs": [
    {
     "data": {
      "text/plain": [
       "array([[0.5, 0.5, 1. ],\n",
       "       [1. , 0.5, 0.5],\n",
       "       [2. , 1. , 0.5]])"
      ]
     },
     "execution_count": 57,
     "metadata": {},
     "output_type": "execute_result"
    }
   ],
   "source": [
    "#index wise division\n",
    "a4/a5"
   ]
  },
  {
   "cell_type": "code",
   "execution_count": 58,
   "id": "49501b77-5a59-4009-87ac-3a370329d11f",
   "metadata": {},
   "outputs": [
    {
     "name": "stderr",
     "output_type": "stream",
     "text": [
      "/tmp/ipykernel_77/3210606993.py:1: RuntimeWarning: divide by zero encountered in divide\n",
      "  a4/0\n"
     ]
    },
    {
     "data": {
      "text/plain": [
       "array([[inf, inf, inf],\n",
       "       [inf, inf, inf],\n",
       "       [inf, inf, inf]])"
      ]
     },
     "execution_count": 58,
     "metadata": {},
     "output_type": "execute_result"
    }
   ],
   "source": [
    "a4/0"
   ]
  },
  {
   "cell_type": "code",
   "execution_count": 59,
   "id": "27ea6d75-4b2c-4f1f-a91a-0f5cae804cab",
   "metadata": {},
   "outputs": [],
   "source": [
    "#numpy brodcast"
   ]
  },
  {
   "cell_type": "code",
   "execution_count": 62,
   "id": "ca7fe64d-e0a4-48e8-9064-8c285ff7b21b",
   "metadata": {},
   "outputs": [],
   "source": [
    "a6=np.zeros((3,4))"
   ]
  },
  {
   "cell_type": "code",
   "execution_count": 63,
   "id": "2c9d6a27-6455-40c9-834a-d00166056861",
   "metadata": {},
   "outputs": [
    {
     "data": {
      "text/plain": [
       "array([[0., 0., 0., 0.],\n",
       "       [0., 0., 0., 0.],\n",
       "       [0., 0., 0., 0.]])"
      ]
     },
     "execution_count": 63,
     "metadata": {},
     "output_type": "execute_result"
    }
   ],
   "source": [
    "a6"
   ]
  },
  {
   "cell_type": "code",
   "execution_count": 64,
   "id": "946538b0-53ec-4d85-be84-2b5ce0fa58b1",
   "metadata": {},
   "outputs": [
    {
     "data": {
      "text/plain": [
       "array([[7., 7., 7., 7.],\n",
       "       [7., 7., 7., 7.],\n",
       "       [7., 7., 7., 7.]])"
      ]
     },
     "execution_count": 64,
     "metadata": {},
     "output_type": "execute_result"
    }
   ],
   "source": [
    "a6+7"
   ]
  },
  {
   "cell_type": "code",
   "execution_count": 65,
   "id": "38954d1d-587d-4ce6-adf8-01e153b5486b",
   "metadata": {},
   "outputs": [],
   "source": [
    "a7=np.array([1,2,3,4])"
   ]
  },
  {
   "cell_type": "code",
   "execution_count": 68,
   "id": "019921c3-9d65-4643-b5ed-c7f7bc494c04",
   "metadata": {},
   "outputs": [
    {
     "data": {
      "text/plain": [
       "array([[1., 2., 3., 4.],\n",
       "       [1., 2., 3., 4.],\n",
       "       [1., 2., 3., 4.]])"
      ]
     },
     "execution_count": 68,
     "metadata": {},
     "output_type": "execute_result"
    }
   ],
   "source": [
    "a7=a6+a7\n",
    "a7"
   ]
  },
  {
   "cell_type": "code",
   "execution_count": 71,
   "id": "6eb56095-0dd5-4845-9af1-b310f961f2c6",
   "metadata": {},
   "outputs": [],
   "source": [
    "b=np.array([3,4,5])"
   ]
  },
  {
   "cell_type": "code",
   "execution_count": 72,
   "id": "612aa255-ecc6-4f3c-b711-d11f9c68c691",
   "metadata": {},
   "outputs": [
    {
     "ename": "ValueError",
     "evalue": "operands could not be broadcast together with shapes (3,4) (1,3) ",
     "output_type": "error",
     "traceback": [
      "\u001b[0;31m---------------------------------------------------------------------------\u001b[0m",
      "\u001b[0;31mValueError\u001b[0m                                Traceback (most recent call last)",
      "Cell \u001b[0;32mIn[72], line 1\u001b[0m\n\u001b[0;32m----> 1\u001b[0m \u001b[43ma7\u001b[49m\u001b[38;5;241;43m+\u001b[39;49m\u001b[43mb\u001b[49m\n",
      "\u001b[0;31mValueError\u001b[0m: operands could not be broadcast together with shapes (3,4) (1,3) "
     ]
    }
   ],
   "source": [
    "a7+b"
   ]
  },
  {
   "cell_type": "code",
   "execution_count": null,
   "id": "d6dd4be9-931d-472e-88ea-ac6664be92f1",
   "metadata": {},
   "outputs": [],
   "source": [
    "b=np.array([[3,4,5]])"
   ]
  },
  {
   "cell_type": "code",
   "execution_count": 73,
   "id": "fca3bc61-2410-45f3-8b74-20290c34273b",
   "metadata": {},
   "outputs": [
    {
     "data": {
      "text/plain": [
       "array([[4., 5., 6., 7.],\n",
       "       [5., 6., 7., 8.],\n",
       "       [6., 7., 8., 9.]])"
      ]
     },
     "execution_count": 73,
     "metadata": {},
     "output_type": "execute_result"
    }
   ],
   "source": [
    "#to bodcast the above we can rotate the array\n",
    "a7+b.T"
   ]
  },
  {
   "cell_type": "code",
   "execution_count": 74,
   "id": "83da76f6-abc3-4ed5-8d58-cf3a513c8e85",
   "metadata": {},
   "outputs": [],
   "source": [
    "b1=a7+b.T"
   ]
  },
  {
   "cell_type": "code",
   "execution_count": 75,
   "id": "ed125bc1-03a1-4c81-89cf-f730b2880e19",
   "metadata": {},
   "outputs": [
    {
     "data": {
      "text/plain": [
       "array([[2.        , 2.23606798, 2.44948974, 2.64575131],\n",
       "       [2.23606798, 2.44948974, 2.64575131, 2.82842712],\n",
       "       [2.44948974, 2.64575131, 2.82842712, 3.        ]])"
      ]
     },
     "execution_count": 75,
     "metadata": {},
     "output_type": "execute_result"
    }
   ],
   "source": [
    "#square root of each value\n",
    "np.sqrt(b1)"
   ]
  },
  {
   "cell_type": "code",
   "execution_count": 76,
   "id": "d14e037f-a63e-47eb-baca-b34a508e7f61",
   "metadata": {},
   "outputs": [
    {
     "data": {
      "text/plain": [
       "array([[1.38629436, 1.60943791, 1.79175947, 1.94591015],\n",
       "       [1.60943791, 1.79175947, 1.94591015, 2.07944154],\n",
       "       [1.79175947, 1.94591015, 2.07944154, 2.19722458]])"
      ]
     },
     "execution_count": 76,
     "metadata": {},
     "output_type": "execute_result"
    }
   ],
   "source": [
    "#log of each value\n",
    "np.log(b1)"
   ]
  },
  {
   "cell_type": "code",
   "execution_count": 77,
   "id": "2f3d130b-7877-404c-8479-a8e47d0c262f",
   "metadata": {},
   "outputs": [
    {
     "data": {
      "text/plain": [
       "array([[  54.59815003,  148.4131591 ,  403.42879349, 1096.63315843],\n",
       "       [ 148.4131591 ,  403.42879349, 1096.63315843, 2980.95798704],\n",
       "       [ 403.42879349, 1096.63315843, 2980.95798704, 8103.08392758]])"
      ]
     },
     "execution_count": 77,
     "metadata": {},
     "output_type": "execute_result"
    }
   ],
   "source": [
    "#exponent of each value\n",
    "np.exp(b1)"
   ]
  },
  {
   "cell_type": "code",
   "execution_count": 78,
   "id": "9f7eadac-aa8e-4a4a-a4c6-934b24fb2ea4",
   "metadata": {},
   "outputs": [
    {
     "data": {
      "text/plain": [
       "4.0"
      ]
     },
     "execution_count": 78,
     "metadata": {},
     "output_type": "execute_result"
    }
   ],
   "source": [
    "#minimum value in array\n",
    "np.min(b1)"
   ]
  },
  {
   "cell_type": "code",
   "execution_count": null,
   "id": "3c0f5fa1-f97c-40b2-9a79-7183d67dbfcd",
   "metadata": {},
   "outputs": [],
   "source": [
    "#numpy part3"
   ]
  },
  {
   "cell_type": "code",
   "execution_count": null,
   "id": "10a3b6c5-73e0-43c5-978f-57c3965cb9f9",
   "metadata": {},
   "outputs": [],
   "source": [
    "#numy array manipulation"
   ]
  },
  {
   "cell_type": "code",
   "execution_count": 12,
   "id": "5634babb-90fb-4807-9365-78181e738204",
   "metadata": {},
   "outputs": [],
   "source": [
    "arr=np.random.randint(1,10,(4,4))"
   ]
  },
  {
   "cell_type": "code",
   "execution_count": 13,
   "id": "a438f5dc-214e-44e6-aabf-ebe8aa29f306",
   "metadata": {},
   "outputs": [
    {
     "data": {
      "text/plain": [
       "array([[7, 7, 7, 1],\n",
       "       [2, 9, 4, 8],\n",
       "       [5, 2, 2, 7],\n",
       "       [6, 9, 2, 8]])"
      ]
     },
     "execution_count": 13,
     "metadata": {},
     "output_type": "execute_result"
    }
   ],
   "source": [
    "arr"
   ]
  },
  {
   "cell_type": "code",
   "execution_count": 15,
   "id": "877ff7fc-8fc8-46f3-9ae2-c699b791f588",
   "metadata": {},
   "outputs": [
    {
     "data": {
      "text/plain": [
       "array([[7, 7],\n",
       "       [7, 1],\n",
       "       [2, 9],\n",
       "       [4, 8],\n",
       "       [5, 2],\n",
       "       [2, 7],\n",
       "       [6, 9],\n",
       "       [2, 8]])"
      ]
     },
     "execution_count": 15,
     "metadata": {},
     "output_type": "execute_result"
    }
   ],
   "source": [
    "arr.reshape((8,2))"
   ]
  },
  {
   "cell_type": "code",
   "execution_count": 16,
   "id": "3622f61c-e5d7-4778-958b-4065bd7bcec3",
   "metadata": {},
   "outputs": [
    {
     "data": {
      "text/plain": [
       "array([[7, 2, 5, 6],\n",
       "       [7, 9, 2, 9],\n",
       "       [7, 4, 2, 2],\n",
       "       [1, 8, 7, 8]])"
      ]
     },
     "execution_count": 16,
     "metadata": {},
     "output_type": "execute_result"
    }
   ],
   "source": [
    "arr.T"
   ]
  },
  {
   "cell_type": "code",
   "execution_count": 17,
   "id": "836390c1-04b0-48bd-af4d-f4c71c837d79",
   "metadata": {},
   "outputs": [
    {
     "data": {
      "text/plain": [
       "array([7, 7, 7, 1, 2, 9, 4, 8, 5, 2, 2, 7, 6, 9, 2, 8])"
      ]
     },
     "execution_count": 17,
     "metadata": {},
     "output_type": "execute_result"
    }
   ],
   "source": [
    "#it will create the one dimensional array\n",
    "arr.flatten()"
   ]
  },
  {
   "cell_type": "code",
   "execution_count": 18,
   "id": "85d92351-e483-4959-91db-7e775f34c55e",
   "metadata": {},
   "outputs": [
    {
     "data": {
      "text/plain": [
       "array([[7, 7, 7, 1],\n",
       "       [2, 9, 4, 8],\n",
       "       [5, 2, 2, 7],\n",
       "       [6, 9, 2, 8]])"
      ]
     },
     "execution_count": 18,
     "metadata": {},
     "output_type": "execute_result"
    }
   ],
   "source": [
    "arr"
   ]
  },
  {
   "cell_type": "code",
   "execution_count": 19,
   "id": "97463f0d-16b2-46d9-9df6-652c5cd4e998",
   "metadata": {},
   "outputs": [
    {
     "ename": "TypeError",
     "evalue": "_expand_dims_dispatcher() missing 1 required positional argument: 'axis'",
     "output_type": "error",
     "traceback": [
      "\u001b[0;31m---------------------------------------------------------------------------\u001b[0m",
      "\u001b[0;31mTypeError\u001b[0m                                 Traceback (most recent call last)",
      "Cell \u001b[0;32mIn[19], line 1\u001b[0m\n\u001b[0;32m----> 1\u001b[0m \u001b[43mnp\u001b[49m\u001b[38;5;241;43m.\u001b[39;49m\u001b[43mexpand_dims\u001b[49m\u001b[43m(\u001b[49m\u001b[43marr\u001b[49m\u001b[43m)\u001b[49m\n",
      "File \u001b[0;32m<__array_function__ internals>:179\u001b[0m, in \u001b[0;36mexpand_dims\u001b[0;34m(*args, **kwargs)\u001b[0m\n",
      "\u001b[0;31mTypeError\u001b[0m: _expand_dims_dispatcher() missing 1 required positional argument: 'axis'"
     ]
    }
   ],
   "source": [
    "np.expand_dims(arr)"
   ]
  },
  {
   "cell_type": "code",
   "execution_count": 20,
   "id": "af23f44a-8222-4e07-8f11-631d1daf16bd",
   "metadata": {},
   "outputs": [
    {
     "data": {
      "text/plain": [
       "array([[[7, 7, 7, 1]],\n",
       "\n",
       "       [[2, 9, 4, 8]],\n",
       "\n",
       "       [[5, 2, 2, 7]],\n",
       "\n",
       "       [[6, 9, 2, 8]]])"
      ]
     },
     "execution_count": 20,
     "metadata": {},
     "output_type": "execute_result"
    }
   ],
   "source": [
    "#it will expand the dimension 2d in an array to 3d in column\n",
    "np.expand_dims(arr,axis=1)"
   ]
  },
  {
   "cell_type": "code",
   "execution_count": 21,
   "id": "8dbe7979-788b-4a9c-928e-6283dde6ef21",
   "metadata": {},
   "outputs": [
    {
     "data": {
      "text/plain": [
       "array([[[7, 7, 7, 1],\n",
       "        [2, 9, 4, 8],\n",
       "        [5, 2, 2, 7],\n",
       "        [6, 9, 2, 8]]])"
      ]
     },
     "execution_count": 21,
     "metadata": {},
     "output_type": "execute_result"
    }
   ],
   "source": [
    "#it will expand the dimension 2d in an array to 3d in row\n",
    "np.expand_dims(arr,axis=0)"
   ]
  },
  {
   "cell_type": "code",
   "execution_count": 25,
   "id": "6d4b1097-9c2a-4756-9020-8cfc04a6bf0b",
   "metadata": {},
   "outputs": [
    {
     "data": {
      "text/plain": [
       "array([[1],\n",
       "       [2],\n",
       "       [3],\n",
       "       [4]])"
      ]
     },
     "execution_count": 25,
     "metadata": {},
     "output_type": "execute_result"
    }
   ],
   "source": [
    "data=np.array([[1],[2],[3],[4]])\n",
    "data"
   ]
  },
  {
   "cell_type": "code",
   "execution_count": 24,
   "id": "16a4460c-405e-4e82-8014-1bfd72941591",
   "metadata": {},
   "outputs": [
    {
     "data": {
      "text/plain": [
       "array([1, 2, 3, 4])"
      ]
     },
     "execution_count": 24,
     "metadata": {},
     "output_type": "execute_result"
    }
   ],
   "source": [
    "#it will squeze the data in nested list which means 2d array to 1d array\n",
    "\n",
    "np.squeeze(data)"
   ]
  },
  {
   "cell_type": "code",
   "execution_count": 26,
   "id": "7091e5da-a301-4dcb-8ff0-1343fc85877f",
   "metadata": {},
   "outputs": [
    {
     "data": {
      "text/plain": [
       "array([[1],\n",
       "       [2],\n",
       "       [3],\n",
       "       [4]])"
      ]
     },
     "execution_count": 26,
     "metadata": {},
     "output_type": "execute_result"
    }
   ],
   "source": [
    "data"
   ]
  },
  {
   "cell_type": "code",
   "execution_count": 30,
   "id": "f0e8c444-a2c1-42ae-b11a-01b750d7fe6b",
   "metadata": {},
   "outputs": [
    {
     "data": {
      "text/plain": [
       "array([1, 1, 1, 2, 2, 2, 3, 3, 3, 4, 4, 4])"
      ]
     },
     "execution_count": 30,
     "metadata": {},
     "output_type": "execute_result"
    }
   ],
   "source": [
    "#it will repeat one by one element given times in 1d format\n",
    "np.repeat(data,3)"
   ]
  },
  {
   "cell_type": "code",
   "execution_count": 34,
   "id": "21b64230-5a53-44e1-afff-57732d7fa3df",
   "metadata": {},
   "outputs": [
    {
     "data": {
      "text/plain": [
       "array([[4],\n",
       "       [1],\n",
       "       [2],\n",
       "       [3]])"
      ]
     },
     "execution_count": 34,
     "metadata": {},
     "output_type": "execute_result"
    }
   ],
   "source": [
    "#it rotated the array clockwise with given values\n",
    "np.roll(data,1)"
   ]
  },
  {
   "cell_type": "code",
   "execution_count": 35,
   "id": "684829fa-8a87-41ca-ac27-c7faaed4e231",
   "metadata": {},
   "outputs": [
    {
     "data": {
      "text/plain": [
       "array([[3],\n",
       "       [4],\n",
       "       [1],\n",
       "       [2]])"
      ]
     },
     "execution_count": 35,
     "metadata": {},
     "output_type": "execute_result"
    }
   ],
   "source": [
    "np.roll(data,2)"
   ]
  },
  {
   "cell_type": "code",
   "execution_count": 36,
   "id": "6115cfe3-a4ca-4de1-bc5e-a38898cf6a25",
   "metadata": {},
   "outputs": [
    {
     "data": {
      "text/plain": [
       "array([[1, 0, 0, 0],\n",
       "       [0, 2, 0, 0],\n",
       "       [0, 0, 3, 0],\n",
       "       [0, 0, 0, 4]])"
      ]
     },
     "execution_count": 36,
     "metadata": {},
     "output_type": "execute_result"
    }
   ],
   "source": [
    "#this function place the given array elements in diagonal and put zeroes to other values\n",
    "np.diag(np.array([1,2,3,4]))"
   ]
  },
  {
   "cell_type": "code",
   "execution_count": null,
   "id": "f322295a-c6f3-4d39-a398-00a565b5a448",
   "metadata": {},
   "outputs": [],
   "source": [
    "#numpy-binary operations"
   ]
  },
  {
   "cell_type": "code",
   "execution_count": 37,
   "id": "7b8f1aea-cfce-49cb-a038-2f0156236380",
   "metadata": {},
   "outputs": [],
   "source": [
    "arr1=np.random.randint(1,10,(3,3))\n",
    "arr2=np.random.randint(1,10,(3,3))"
   ]
  },
  {
   "cell_type": "code",
   "execution_count": 38,
   "id": "c91b6a18-218f-4352-9b90-444979e7433a",
   "metadata": {},
   "outputs": [
    {
     "data": {
      "text/plain": [
       "array([[3, 4, 9],\n",
       "       [1, 5, 5],\n",
       "       [6, 6, 3]])"
      ]
     },
     "execution_count": 38,
     "metadata": {},
     "output_type": "execute_result"
    }
   ],
   "source": [
    "arr1"
   ]
  },
  {
   "cell_type": "code",
   "execution_count": 39,
   "id": "5271132e-912a-416c-a87b-ce13810ff37f",
   "metadata": {},
   "outputs": [
    {
     "data": {
      "text/plain": [
       "array([[1, 2, 5],\n",
       "       [4, 3, 1],\n",
       "       [5, 8, 2]])"
      ]
     },
     "execution_count": 39,
     "metadata": {},
     "output_type": "execute_result"
    }
   ],
   "source": [
    "arr2"
   ]
  },
  {
   "cell_type": "code",
   "execution_count": 40,
   "id": "036cd69b-60d5-4815-a63f-ccdac60a29c0",
   "metadata": {},
   "outputs": [
    {
     "data": {
      "text/plain": [
       "array([[ 4,  6, 14],\n",
       "       [ 5,  8,  6],\n",
       "       [11, 14,  5]])"
      ]
     },
     "execution_count": 40,
     "metadata": {},
     "output_type": "execute_result"
    }
   ],
   "source": [
    "#indexwise addition\n",
    "arr1+arr2"
   ]
  },
  {
   "cell_type": "code",
   "execution_count": 41,
   "id": "96bd6bc8-d843-4e82-94d8-de5d6865fc52",
   "metadata": {},
   "outputs": [
    {
     "data": {
      "text/plain": [
       "array([[ 2,  2,  4],\n",
       "       [-3,  2,  4],\n",
       "       [ 1, -2,  1]])"
      ]
     },
     "execution_count": 41,
     "metadata": {},
     "output_type": "execute_result"
    }
   ],
   "source": [
    "#indexwise substraction\n",
    "arr1-arr2"
   ]
  },
  {
   "cell_type": "code",
   "execution_count": 42,
   "id": "c2cdbd78-03b5-4739-8b2e-0333083f1677",
   "metadata": {},
   "outputs": [
    {
     "data": {
      "text/plain": [
       "array([[ 3,  8, 45],\n",
       "       [ 4, 15,  5],\n",
       "       [30, 48,  6]])"
      ]
     },
     "execution_count": 42,
     "metadata": {},
     "output_type": "execute_result"
    }
   ],
   "source": [
    "#indexwise multiflicatin\n",
    "arr1*arr2"
   ]
  },
  {
   "cell_type": "code",
   "execution_count": 43,
   "id": "1602ab54-c0a2-4098-bab2-e344430ce926",
   "metadata": {},
   "outputs": [
    {
     "data": {
      "text/plain": [
       "array([[3.        , 2.        , 1.8       ],\n",
       "       [0.25      , 1.66666667, 5.        ],\n",
       "       [1.2       , 0.75      , 1.5       ]])"
      ]
     },
     "execution_count": 43,
     "metadata": {},
     "output_type": "execute_result"
    }
   ],
   "source": [
    "#indexwise division\n",
    "arr1/arr2"
   ]
  },
  {
   "cell_type": "code",
   "execution_count": 44,
   "id": "d1a55eaa-c5b0-47e4-8ac3-6300adf0d476",
   "metadata": {},
   "outputs": [
    {
     "data": {
      "text/plain": [
       "array([[      3,      16,   59049],\n",
       "       [      1,     125,       5],\n",
       "       [   7776, 1679616,       9]])"
      ]
     },
     "execution_count": 44,
     "metadata": {},
     "output_type": "execute_result"
    }
   ],
   "source": [
    "#indexwise power operation\n",
    "arr1**arr2"
   ]
  },
  {
   "cell_type": "code",
   "execution_count": 45,
   "id": "17fab558-c040-48a4-8c94-c927038c4719",
   "metadata": {},
   "outputs": [
    {
     "data": {
      "text/plain": [
       "array([[ -4,  -5, -10],\n",
       "       [ -2,  -6,  -6],\n",
       "       [ -7,  -7,  -4]])"
      ]
     },
     "execution_count": 45,
     "metadata": {},
     "output_type": "execute_result"
    }
   ],
   "source": [
    "#negation of array\n",
    "~arr1"
   ]
  },
  {
   "cell_type": "code",
   "execution_count": 46,
   "id": "2bbf3f39-4057-4fa5-81f3-7b17478baa6a",
   "metadata": {},
   "outputs": [
    {
     "data": {
      "text/plain": [
       "array([[ True,  True,  True],\n",
       "       [False,  True,  True],\n",
       "       [ True, False,  True]])"
      ]
     },
     "execution_count": 46,
     "metadata": {},
     "output_type": "execute_result"
    }
   ],
   "source": [
    "arr1>arr2"
   ]
  },
  {
   "cell_type": "code",
   "execution_count": 47,
   "id": "3590d609-b384-44d4-b771-a93b61e21a66",
   "metadata": {},
   "outputs": [],
   "source": [
    "#numpy string operation"
   ]
  },
  {
   "cell_type": "code",
   "execution_count": 48,
   "id": "abb2d748-ee82-443d-a45e-97eaf292d877",
   "metadata": {},
   "outputs": [],
   "source": [
    "a=np.array(['sudh','kumar'])"
   ]
  },
  {
   "cell_type": "code",
   "execution_count": 49,
   "id": "e2ed2f74-116e-473f-ae02-a8479b73da2f",
   "metadata": {},
   "outputs": [
    {
     "data": {
      "text/plain": [
       "array(['sudh', 'kumar'], dtype='<U5')"
      ]
     },
     "execution_count": 49,
     "metadata": {},
     "output_type": "execute_result"
    }
   ],
   "source": [
    "#U5-string type in numpy\n",
    "a"
   ]
  },
  {
   "cell_type": "code",
   "execution_count": 50,
   "id": "13bee369-6d49-4fb5-9c1b-53db68a78571",
   "metadata": {},
   "outputs": [
    {
     "data": {
      "text/plain": [
       "array(['SUDH', 'KUMAR'], dtype='<U5')"
      ]
     },
     "execution_count": 50,
     "metadata": {},
     "output_type": "execute_result"
    }
   ],
   "source": [
    "#we can perform any string method using char class in numpy\n",
    "np.char.upper(a)"
   ]
  },
  {
   "cell_type": "code",
   "execution_count": 51,
   "id": "9ce6f1b8-4e72-49eb-b786-20e373721bf3",
   "metadata": {},
   "outputs": [
    {
     "data": {
      "text/plain": [
       "array(['sudh', 'kumar'], dtype='<U5')"
      ]
     },
     "execution_count": 51,
     "metadata": {},
     "output_type": "execute_result"
    }
   ],
   "source": [
    "np.char.lower(a)"
   ]
  },
  {
   "cell_type": "code",
   "execution_count": 52,
   "id": "9e46a9b7-f519-4b81-b370-7d4c437e48d8",
   "metadata": {},
   "outputs": [
    {
     "data": {
      "text/plain": [
       "array(['Sudh', 'Kumar'], dtype='<U5')"
      ]
     },
     "execution_count": 52,
     "metadata": {},
     "output_type": "execute_result"
    }
   ],
   "source": [
    "np.char.capitalize(a)"
   ]
  },
  {
   "cell_type": "code",
   "execution_count": 53,
   "id": "01b690d8-38e8-4c72-aecc-53bc9c1f18fc",
   "metadata": {},
   "outputs": [
    {
     "data": {
      "text/plain": [
       "array([ True,  True])"
      ]
     },
     "execution_count": 53,
     "metadata": {},
     "output_type": "execute_result"
    }
   ],
   "source": [
    "np.char.islower(a)"
   ]
  },
  {
   "cell_type": "code",
   "execution_count": 54,
   "id": "50fc68c5-3e14-44bc-ab03-0554a7a2706b",
   "metadata": {},
   "outputs": [
    {
     "data": {
      "text/plain": [
       "array([False, False])"
      ]
     },
     "execution_count": 54,
     "metadata": {},
     "output_type": "execute_result"
    }
   ],
   "source": [
    "np.char.isupper(a)"
   ]
  },
  {
   "cell_type": "code",
   "execution_count": 56,
   "id": "8dcf41c2-0438-4706-a97f-e52ecf74361d",
   "metadata": {},
   "outputs": [
    {
     "data": {
      "text/plain": [
       "array(['Sudh', 'Kumar'], dtype='<U5')"
      ]
     },
     "execution_count": 56,
     "metadata": {},
     "output_type": "execute_result"
    }
   ],
   "source": [
    "np.char.title(a)"
   ]
  },
  {
   "cell_type": "code",
   "execution_count": 57,
   "id": "0855a868-4a0c-4bf0-a53c-f9dc7912622f",
   "metadata": {},
   "outputs": [],
   "source": [
    "a=np.array(['sudh is','kumar'])"
   ]
  },
  {
   "cell_type": "code",
   "execution_count": 58,
   "id": "586f0670-7272-44c2-8c05-5a1e97b4a6bb",
   "metadata": {},
   "outputs": [
    {
     "data": {
      "text/plain": [
       "array(['Sudh Is', 'Kumar'], dtype='<U7')"
      ]
     },
     "execution_count": 58,
     "metadata": {},
     "output_type": "execute_result"
    }
   ],
   "source": [
    "np.char.title(a)"
   ]
  },
  {
   "cell_type": "code",
   "execution_count": 59,
   "id": "2a3979d8-73e7-4925-86f3-da3a014c4d28",
   "metadata": {},
   "outputs": [
    {
     "data": {
      "text/plain": [
       "array(['Sudh is', 'Kumar'], dtype='<U7')"
      ]
     },
     "execution_count": 59,
     "metadata": {},
     "output_type": "execute_result"
    }
   ],
   "source": [
    "np.char.capitalize(a)"
   ]
  },
  {
   "cell_type": "code",
   "execution_count": 60,
   "id": "2fce2155-4981-4b02-b8dc-5de3a9ed8404",
   "metadata": {},
   "outputs": [
    {
     "data": {
      "text/plain": [
       "array([[3, 4, 9],\n",
       "       [1, 5, 5],\n",
       "       [6, 6, 3]])"
      ]
     },
     "execution_count": 60,
     "metadata": {},
     "output_type": "execute_result"
    }
   ],
   "source": [
    "arr1"
   ]
  },
  {
   "cell_type": "code",
   "execution_count": null,
   "id": "d97708b7-e7bc-4441-8d5c-40cc203132e2",
   "metadata": {},
   "outputs": [],
   "source": [
    "#numpy mathematical function"
   ]
  },
  {
   "cell_type": "code",
   "execution_count": 61,
   "id": "35833319-bb9d-4c35-b0cb-cd9f18707c49",
   "metadata": {},
   "outputs": [
    {
     "data": {
      "text/plain": [
       "array([[ 0.14112001, -0.7568025 ,  0.41211849],\n",
       "       [ 0.84147098, -0.95892427, -0.95892427],\n",
       "       [-0.2794155 , -0.2794155 ,  0.14112001]])"
      ]
     },
     "execution_count": 61,
     "metadata": {},
     "output_type": "execute_result"
    }
   ],
   "source": [
    "#sinsodial values\n",
    "np.sin(arr1)"
   ]
  },
  {
   "cell_type": "code",
   "execution_count": 62,
   "id": "dc3a80fb-96b7-43dc-b8d4-c5c2dcc1ba1f",
   "metadata": {},
   "outputs": [
    {
     "data": {
      "text/plain": [
       "array([[-0.9899925 , -0.65364362, -0.91113026],\n",
       "       [ 0.54030231,  0.28366219,  0.28366219],\n",
       "       [ 0.96017029,  0.96017029, -0.9899925 ]])"
      ]
     },
     "execution_count": 62,
     "metadata": {},
     "output_type": "execute_result"
    }
   ],
   "source": [
    "np.cos(arr1)"
   ]
  },
  {
   "cell_type": "code",
   "execution_count": 63,
   "id": "15d84f95-1a18-4682-8a00-5c2fd18fac31",
   "metadata": {},
   "outputs": [
    {
     "data": {
      "text/plain": [
       "array([[-0.14254654,  1.15782128, -0.45231566],\n",
       "       [ 1.55740772, -3.38051501, -3.38051501],\n",
       "       [-0.29100619, -0.29100619, -0.14254654]])"
      ]
     },
     "execution_count": 63,
     "metadata": {},
     "output_type": "execute_result"
    }
   ],
   "source": [
    "np.tan(arr1)"
   ]
  },
  {
   "cell_type": "code",
   "execution_count": 64,
   "id": "65c65a8b-2124-4695-9a07-f8d30d000a99",
   "metadata": {},
   "outputs": [
    {
     "data": {
      "text/plain": [
       "array([[0.47712125, 0.60205999, 0.95424251],\n",
       "       [0.        , 0.69897   , 0.69897   ],\n",
       "       [0.77815125, 0.77815125, 0.47712125]])"
      ]
     },
     "execution_count": 64,
     "metadata": {},
     "output_type": "execute_result"
    }
   ],
   "source": [
    "#logirethemic values of each values in row\n",
    "np.log10(arr1)"
   ]
  },
  {
   "cell_type": "code",
   "execution_count": 65,
   "id": "fb8c78a4-67c2-4f64-bd97-b19f1c77e604",
   "metadata": {},
   "outputs": [
    {
     "data": {
      "text/plain": [
       "array([[2.00855369e+01, 5.45981500e+01, 8.10308393e+03],\n",
       "       [2.71828183e+00, 1.48413159e+02, 1.48413159e+02],\n",
       "       [4.03428793e+02, 4.03428793e+02, 2.00855369e+01]])"
      ]
     },
     "execution_count": 65,
     "metadata": {},
     "output_type": "execute_result"
    }
   ],
   "source": [
    "#exponential values of each values in row\n",
    "np.exp(arr1)"
   ]
  },
  {
   "cell_type": "code",
   "execution_count": 67,
   "id": "c4849fd0-16c1-42a0-83c7-229397747ae8",
   "metadata": {},
   "outputs": [
    {
     "data": {
      "text/plain": [
       "array([[ 27,  64, 729],\n",
       "       [  1, 125, 125],\n",
       "       [216, 216,  27]])"
      ]
     },
     "execution_count": 67,
     "metadata": {},
     "output_type": "execute_result"
    }
   ],
   "source": [
    "#values power 3 \n",
    "np.power(arr1,3)"
   ]
  },
  {
   "cell_type": "code",
   "execution_count": null,
   "id": "c52d002d-364f-4ed2-ada8-511555584dd7",
   "metadata": {},
   "outputs": [],
   "source": [
    "#statistical functions"
   ]
  },
  {
   "cell_type": "code",
   "execution_count": 68,
   "id": "866b523d-d273-4f0c-8a66-3789eba0cc8b",
   "metadata": {},
   "outputs": [
    {
     "data": {
      "text/plain": [
       "5.375"
      ]
     },
     "execution_count": 68,
     "metadata": {},
     "output_type": "execute_result"
    }
   ],
   "source": [
    "#mean of whole array\n",
    "np.mean(arr)"
   ]
  },
  {
   "cell_type": "code",
   "execution_count": 70,
   "id": "ad28a895-2d01-4fa0-914e-7b3f47aaee02",
   "metadata": {},
   "outputs": [
    {
     "data": {
      "text/plain": [
       "6.5"
      ]
     },
     "execution_count": 70,
     "metadata": {},
     "output_type": "execute_result"
    }
   ],
   "source": [
    "#median of array\n",
    "np.median(arr)"
   ]
  },
  {
   "cell_type": "code",
   "execution_count": 74,
   "id": "cc3b36e2-267c-46e3-8e9b-db47f5324b30",
   "metadata": {},
   "outputs": [
    {
     "data": {
      "text/plain": [
       "2.7128168017763383"
      ]
     },
     "execution_count": 74,
     "metadata": {},
     "output_type": "execute_result"
    }
   ],
   "source": [
    "np.std(arr)"
   ]
  },
  {
   "cell_type": "code",
   "execution_count": 77,
   "id": "c1b8651a-ac17-48fa-b2fb-a003916350c9",
   "metadata": {},
   "outputs": [
    {
     "data": {
      "text/plain": [
       "7.359375"
      ]
     },
     "execution_count": 77,
     "metadata": {},
     "output_type": "execute_result"
    }
   ],
   "source": [
    "np.var(arr)"
   ]
  },
  {
   "cell_type": "code",
   "execution_count": 75,
   "id": "6d4e6f4a-53f6-4247-9269-f589e6d425ef",
   "metadata": {},
   "outputs": [
    {
     "data": {
      "text/plain": [
       "9"
      ]
     },
     "execution_count": 75,
     "metadata": {},
     "output_type": "execute_result"
    }
   ],
   "source": [
    "np.max(arr)"
   ]
  },
  {
   "cell_type": "code",
   "execution_count": 76,
   "id": "9c7eebff-f2f7-4f14-888f-2e3e21491326",
   "metadata": {},
   "outputs": [
    {
     "data": {
      "text/plain": [
       "1"
      ]
     },
     "execution_count": 76,
     "metadata": {},
     "output_type": "execute_result"
    }
   ],
   "source": [
    "np.min(arr)"
   ]
  },
  {
   "cell_type": "code",
   "execution_count": null,
   "id": "98f7e879-6c4d-4408-8fc5-771fa7b1b48f",
   "metadata": {},
   "outputs": [],
   "source": [
    "#arithematic functions"
   ]
  },
  {
   "cell_type": "code",
   "execution_count": 78,
   "id": "2c6db145-3b30-4e61-aae4-205b4a8661a3",
   "metadata": {},
   "outputs": [
    {
     "data": {
      "text/plain": [
       "array([[3, 4, 9],\n",
       "       [1, 5, 5],\n",
       "       [6, 6, 3]])"
      ]
     },
     "execution_count": 78,
     "metadata": {},
     "output_type": "execute_result"
    }
   ],
   "source": [
    "arr1"
   ]
  },
  {
   "cell_type": "code",
   "execution_count": 79,
   "id": "bb201f02-34e0-4212-88e8-3cb19e081a88",
   "metadata": {},
   "outputs": [
    {
     "data": {
      "text/plain": [
       "array([[1, 2, 5],\n",
       "       [4, 3, 1],\n",
       "       [5, 8, 2]])"
      ]
     },
     "execution_count": 79,
     "metadata": {},
     "output_type": "execute_result"
    }
   ],
   "source": [
    "arr2"
   ]
  },
  {
   "cell_type": "code",
   "execution_count": 81,
   "id": "0d1051d7-3f69-4070-bc19-8e77ee2f1df1",
   "metadata": {},
   "outputs": [
    {
     "data": {
      "text/plain": [
       "array([[ 2,  2,  4],\n",
       "       [-3,  2,  4],\n",
       "       [ 1, -2,  1]])"
      ]
     },
     "execution_count": 81,
     "metadata": {},
     "output_type": "execute_result"
    }
   ],
   "source": [
    "arr1-arr2"
   ]
  },
  {
   "cell_type": "code",
   "execution_count": 83,
   "id": "6f9484bc-9ef7-4623-8a8b-d2ef9c11fe08",
   "metadata": {},
   "outputs": [
    {
     "data": {
      "text/plain": [
       "array([[ 2,  2,  4],\n",
       "       [-3,  2,  4],\n",
       "       [ 1, -2,  1]])"
      ]
     },
     "execution_count": 83,
     "metadata": {},
     "output_type": "execute_result"
    }
   ],
   "source": [
    "#it behaves same as above subtract method but it is built in\n",
    "np.subtract(arr1,arr2)"
   ]
  },
  {
   "cell_type": "code",
   "execution_count": 85,
   "id": "d53dc9bf-2961-4a63-b6a6-2dbf9b1e9ede",
   "metadata": {},
   "outputs": [
    {
     "data": {
      "text/plain": [
       "array([[ 4,  6, 14],\n",
       "       [ 5,  8,  6],\n",
       "       [11, 14,  5]])"
      ]
     },
     "execution_count": 85,
     "metadata": {},
     "output_type": "execute_result"
    }
   ],
   "source": [
    "#it behaves same as above addition method but it is built in\n",
    "np.add(arr1,arr2)"
   ]
  },
  {
   "cell_type": "code",
   "execution_count": 86,
   "id": "8ee7ccef-bc0b-4af6-aa47-50a311e6b7c3",
   "metadata": {},
   "outputs": [
    {
     "data": {
      "text/plain": [
       "array([[ 3,  8, 45],\n",
       "       [ 4, 15,  5],\n",
       "       [30, 48,  6]])"
      ]
     },
     "execution_count": 86,
     "metadata": {},
     "output_type": "execute_result"
    }
   ],
   "source": [
    "#it multiplies index wise\n",
    "np.multiply(arr1,arr2)"
   ]
  },
  {
   "cell_type": "code",
   "execution_count": 87,
   "id": "0810fe58-9612-428e-bbb5-5d87a7c0833b",
   "metadata": {},
   "outputs": [
    {
     "data": {
      "text/plain": [
       "array([[3.        , 2.        , 1.8       ],\n",
       "       [0.25      , 1.66666667, 5.        ],\n",
       "       [1.2       , 0.75      , 1.5       ]])"
      ]
     },
     "execution_count": 87,
     "metadata": {},
     "output_type": "execute_result"
    }
   ],
   "source": [
    "#it dividesindex wise\n",
    "np.divide(arr1,arr2)"
   ]
  },
  {
   "cell_type": "code",
   "execution_count": 88,
   "id": "29731c38-5dd1-486b-9e74-c8279f133025",
   "metadata": {},
   "outputs": [
    {
     "data": {
      "text/plain": [
       "array([[0, 0, 4],\n",
       "       [1, 2, 0],\n",
       "       [1, 6, 1]])"
      ]
     },
     "execution_count": 88,
     "metadata": {},
     "output_type": "execute_result"
    }
   ],
   "source": [
    "#it perform modular division of arr1%arr2 and gives remainder\n",
    "np.mod(arr1,arr2)"
   ]
  },
  {
   "cell_type": "code",
   "execution_count": 89,
   "id": "9dccc8c2-848e-41bf-a7b1-b67c0a849724",
   "metadata": {},
   "outputs": [
    {
     "data": {
      "text/plain": [
       "array([[      3,      16,   59049],\n",
       "       [      1,     125,       5],\n",
       "       [   7776, 1679616,       9]])"
      ]
     },
     "execution_count": 89,
     "metadata": {},
     "output_type": "execute_result"
    }
   ],
   "source": [
    "#it perform arr1**arr2\n",
    "np.power(arr1,arr2)"
   ]
  },
  {
   "cell_type": "code",
   "execution_count": null,
   "id": "16533af2-7382-4a49-b37c-a03cb6cea352",
   "metadata": {},
   "outputs": [],
   "source": [
    "#numpy part 4"
   ]
  },
  {
   "cell_type": "code",
   "execution_count": 91,
   "id": "7f4ca2a0-6d41-466d-838b-166e0eebb1a9",
   "metadata": {},
   "outputs": [],
   "source": [
    "#sort,search,count"
   ]
  },
  {
   "cell_type": "code",
   "execution_count": 2,
   "id": "e5463812-7ee7-47aa-ba63-4a0ee9880d27",
   "metadata": {},
   "outputs": [],
   "source": [
    "a=np.array([4,9,2,1,5,7,8,3,10,6,12])"
   ]
  },
  {
   "cell_type": "code",
   "execution_count": 97,
   "id": "d5cf54a5-877b-46ce-b8a4-0858beccba4a",
   "metadata": {},
   "outputs": [
    {
     "data": {
      "text/plain": [
       "array([ 1,  2,  3,  4,  5,  6,  7,  8,  9, 10, 12])"
      ]
     },
     "execution_count": 97,
     "metadata": {},
     "output_type": "execute_result"
    }
   ],
   "source": [
    "np.sort(a)"
   ]
  },
  {
   "cell_type": "code",
   "execution_count": 108,
   "id": "76e1dc90-eac4-4502-8464-9f3607d38407",
   "metadata": {},
   "outputs": [
    {
     "data": {
      "text/plain": [
       "10"
      ]
     },
     "execution_count": 108,
     "metadata": {},
     "output_type": "execute_result"
    }
   ],
   "source": [
    "#Find indices where elements should be inserted to maintain order.\n",
    "#11 is not in array if we want to add 11 into array it will search and sort and give right index to add element\n",
    "np.searchsorted(a,11)"
   ]
  },
  {
   "cell_type": "code",
   "execution_count": 9,
   "id": "e16738ac-f45c-4291-8e52-b0836537226a",
   "metadata": {},
   "outputs": [],
   "source": [
    "a2=np.array([0,0,2,6,0,7,8])"
   ]
  },
  {
   "cell_type": "code",
   "execution_count": 110,
   "id": "a305db9b-5388-49a3-a67f-1f6fbdf204aa",
   "metadata": {},
   "outputs": [
    {
     "data": {
      "text/plain": [
       "4"
      ]
     },
     "execution_count": 110,
     "metadata": {},
     "output_type": "execute_result"
    }
   ],
   "source": [
    "#it will tell the number of non zeroes in an array\n",
    "np.count_nonzero(a2)"
   ]
  },
  {
   "cell_type": "code",
   "execution_count": 10,
   "id": "8bb572dd-bc3c-4407-ba62-c0bce4539369",
   "metadata": {},
   "outputs": [
    {
     "data": {
      "text/plain": [
       "(array([2, 3, 5, 6]),)"
      ]
     },
     "execution_count": 10,
     "metadata": {},
     "output_type": "execute_result"
    }
   ],
   "source": [
    "#it tells what are the indexes which are grater han 0\n",
    "np.where(a2>0)"
   ]
  },
  {
   "cell_type": "code",
   "execution_count": 7,
   "id": "8bd781fd-dbd3-4dfa-9876-358ccb52d776",
   "metadata": {},
   "outputs": [
    {
     "data": {
      "text/plain": [
       "(array([ 1,  5,  6,  8,  9, 10]),)"
      ]
     },
     "execution_count": 7,
     "metadata": {},
     "output_type": "execute_result"
    }
   ],
   "source": [
    "np.where(a>5)"
   ]
  },
  {
   "cell_type": "code",
   "execution_count": 12,
   "id": "3f47dbd6-d498-4250-b2a9-03b9551d1d3a",
   "metadata": {},
   "outputs": [
    {
     "data": {
      "text/plain": [
       "array([ 4,  9,  2,  1,  5,  7,  8,  3, 10,  6, 12])"
      ]
     },
     "execution_count": 12,
     "metadata": {},
     "output_type": "execute_result"
    }
   ],
   "source": [
    "a"
   ]
  },
  {
   "cell_type": "code",
   "execution_count": 8,
   "id": "502a8437-3248-47f9-a9e2-d17fdab61ed3",
   "metadata": {},
   "outputs": [
    {
     "data": {
      "text/plain": [
       "(array([0, 2, 3, 7]),)"
      ]
     },
     "execution_count": 8,
     "metadata": {},
     "output_type": "execute_result"
    }
   ],
   "source": [
    "np.where(a<5)"
   ]
  },
  {
   "cell_type": "code",
   "execution_count": 13,
   "id": "66890f99-1604-4fdc-95f5-fadb1e12e94a",
   "metadata": {},
   "outputs": [
    {
     "data": {
      "text/plain": [
       "array([ 4,  9,  2,  1,  5,  7,  8,  3, 10,  6, 12])"
      ]
     },
     "execution_count": 13,
     "metadata": {},
     "output_type": "execute_result"
    }
   ],
   "source": [
    "a"
   ]
  },
  {
   "cell_type": "code",
   "execution_count": 14,
   "id": "b413bd4c-147c-4fb9-808f-ed11a19a1d24",
   "metadata": {},
   "outputs": [
    {
     "data": {
      "text/plain": [
       "array([ 9,  7,  8, 10,  6, 12])"
      ]
     },
     "execution_count": 14,
     "metadata": {},
     "output_type": "execute_result"
    }
   ],
   "source": [
    "#it is used to extract the elements from array based some condition\n",
    "np.extract(a>5,a)"
   ]
  },
  {
   "cell_type": "code",
   "execution_count": 15,
   "id": "8184d5e1-fc56-4815-ad8c-3ad79c00646b",
   "metadata": {},
   "outputs": [],
   "source": [
    "#numpy-byte swapping-represent the data that are stored in system in bytes=swap original data to bytes"
   ]
  },
  {
   "cell_type": "code",
   "execution_count": 16,
   "id": "1d1bfcaa-c764-4eb8-a532-e969b8ab44be",
   "metadata": {},
   "outputs": [
    {
     "data": {
      "text/plain": [
       "array([ 4,  9,  2,  1,  5,  7,  8,  3, 10,  6, 12])"
      ]
     },
     "execution_count": 16,
     "metadata": {},
     "output_type": "execute_result"
    }
   ],
   "source": [
    "a"
   ]
  },
  {
   "cell_type": "code",
   "execution_count": 19,
   "id": "0bff756a-e096-421e-888b-7367b525bd07",
   "metadata": {},
   "outputs": [
    {
     "data": {
      "text/plain": [
       "array([288230376151711744, 648518346341351424, 144115188075855872,\n",
       "        72057594037927936, 360287970189639680, 504403158265495552,\n",
       "       576460752303423488, 216172782113783808, 720575940379279360,\n",
       "       432345564227567616, 864691128455135232])"
      ]
     },
     "execution_count": 19,
     "metadata": {},
     "output_type": "execute_result"
    }
   ],
   "source": [
    "a.byteswap(inplace=True)"
   ]
  },
  {
   "cell_type": "code",
   "execution_count": 20,
   "id": "2db92b35-9745-4446-a30a-f1e6a40d1616",
   "metadata": {},
   "outputs": [],
   "source": [
    "#numpy copies and views"
   ]
  },
  {
   "cell_type": "code",
   "execution_count": 21,
   "id": "23445206-d738-48ca-8134-a1152ea6a69c",
   "metadata": {},
   "outputs": [],
   "source": [
    "#deep copy"
   ]
  },
  {
   "cell_type": "code",
   "execution_count": 22,
   "id": "25750167-913a-48b7-bb99-f92220d6f326",
   "metadata": {},
   "outputs": [
    {
     "data": {
      "text/plain": [
       "array([0, 0, 2, 6, 0, 7, 8])"
      ]
     },
     "execution_count": 22,
     "metadata": {},
     "output_type": "execute_result"
    }
   ],
   "source": [
    "a2"
   ]
  },
  {
   "cell_type": "code",
   "execution_count": 23,
   "id": "1d55928e-7d31-4d16-b0e0-0971b8c83e2d",
   "metadata": {},
   "outputs": [],
   "source": [
    "a3=np.copy(a2)"
   ]
  },
  {
   "cell_type": "code",
   "execution_count": 24,
   "id": "f24894b0-18db-4ca3-aa06-a730665dee40",
   "metadata": {},
   "outputs": [
    {
     "data": {
      "text/plain": [
       "array([0, 0, 2, 6, 0, 7, 8])"
      ]
     },
     "execution_count": 24,
     "metadata": {},
     "output_type": "execute_result"
    }
   ],
   "source": [
    "a3"
   ]
  },
  {
   "cell_type": "code",
   "execution_count": 25,
   "id": "607ef664-bd4c-4063-a1bc-3fc35c79d0dd",
   "metadata": {},
   "outputs": [],
   "source": [
    "#views==shallw copy"
   ]
  },
  {
   "cell_type": "code",
   "execution_count": 26,
   "id": "46856ea7-b154-42d7-88a7-6c9101d802de",
   "metadata": {},
   "outputs": [],
   "source": [
    "b=a2.view()"
   ]
  },
  {
   "cell_type": "code",
   "execution_count": 27,
   "id": "84877f96-279a-4b84-ac7d-09d86574018a",
   "metadata": {},
   "outputs": [
    {
     "data": {
      "text/plain": [
       "array([0, 0, 2, 6, 0, 7, 8])"
      ]
     },
     "execution_count": 27,
     "metadata": {},
     "output_type": "execute_result"
    }
   ],
   "source": [
    "b"
   ]
  },
  {
   "cell_type": "code",
   "execution_count": 28,
   "id": "cbe46ddc-8f9b-4656-bdff-4e46723510eb",
   "metadata": {},
   "outputs": [],
   "source": [
    "b[0]=200"
   ]
  },
  {
   "cell_type": "code",
   "execution_count": 29,
   "id": "08a68dff-7174-4668-824f-7b54804827cb",
   "metadata": {},
   "outputs": [
    {
     "data": {
      "text/plain": [
       "array([200,   0,   2,   6,   0,   7,   8])"
      ]
     },
     "execution_count": 29,
     "metadata": {},
     "output_type": "execute_result"
    }
   ],
   "source": [
    "b"
   ]
  },
  {
   "cell_type": "code",
   "execution_count": 30,
   "id": "7b2fa1b2-91ea-4dfc-bd3b-725a68880b69",
   "metadata": {},
   "outputs": [
    {
     "data": {
      "text/plain": [
       "array([200,   0,   2,   6,   0,   7,   8])"
      ]
     },
     "execution_count": 30,
     "metadata": {},
     "output_type": "execute_result"
    }
   ],
   "source": [
    "a2"
   ]
  },
  {
   "cell_type": "code",
   "execution_count": 31,
   "id": "b47a5c49-c522-4896-9dcc-f6c5493fe502",
   "metadata": {},
   "outputs": [],
   "source": [
    "#numpy-matlib-matrix library"
   ]
  },
  {
   "cell_type": "code",
   "execution_count": 32,
   "id": "dabcc18e-4c1d-4730-9558-ce809b341d28",
   "metadata": {},
   "outputs": [],
   "source": [
    "import numpy.matlib as nm"
   ]
  },
  {
   "cell_type": "code",
   "execution_count": 34,
   "id": "1b636111-741c-48aa-b780-2ffc6ca668a2",
   "metadata": {},
   "outputs": [
    {
     "data": {
      "text/plain": [
       "matrix([[0., 0., 0., 0., 0., 0.]])"
      ]
     },
     "execution_count": 34,
     "metadata": {},
     "output_type": "execute_result"
    }
   ],
   "source": [
    "nm.zeros(6)"
   ]
  },
  {
   "cell_type": "code",
   "execution_count": 35,
   "id": "3a30d42e-d0b8-4009-a6bf-302614a88864",
   "metadata": {},
   "outputs": [
    {
     "data": {
      "text/plain": [
       "matrix([[1., 1., 1., 1.],\n",
       "        [1., 1., 1., 1.],\n",
       "        [1., 1., 1., 1.],\n",
       "        [1., 1., 1., 1.],\n",
       "        [1., 1., 1., 1.]])"
      ]
     },
     "execution_count": 35,
     "metadata": {},
     "output_type": "execute_result"
    }
   ],
   "source": [
    "nm.ones((5,4))"
   ]
  },
  {
   "cell_type": "code",
   "execution_count": 36,
   "id": "c23c99cf-f122-43f7-96a4-bf27965a50a2",
   "metadata": {},
   "outputs": [
    {
     "data": {
      "text/plain": [
       "matrix([[1., 0., 0., 0.],\n",
       "        [0., 1., 0., 0.],\n",
       "        [0., 0., 1., 0.],\n",
       "        [0., 0., 0., 1.]])"
      ]
     },
     "execution_count": 36,
     "metadata": {},
     "output_type": "execute_result"
    }
   ],
   "source": [
    "nm.eye(4)"
   ]
  },
  {
   "cell_type": "code",
   "execution_count": 37,
   "id": "9e364dee-b37d-476e-b9ff-f8e4c517cbd4",
   "metadata": {},
   "outputs": [],
   "source": [
    "#numpy-linear algebra"
   ]
  },
  {
   "cell_type": "code",
   "execution_count": 38,
   "id": "ecdf1931-aec9-4edb-9227-f3a290add915",
   "metadata": {},
   "outputs": [],
   "source": [
    "arr1=np.random.randint([[2,3],[4,5]])"
   ]
  },
  {
   "cell_type": "code",
   "execution_count": 39,
   "id": "37eb6aaf-b99a-4835-a914-49f46c65353e",
   "metadata": {},
   "outputs": [],
   "source": [
    "arr2=np.random.randint([[6,3],[7,5]])"
   ]
  },
  {
   "cell_type": "code",
   "execution_count": 40,
   "id": "595ce138-acfd-4582-8e5b-574e6a6fd66d",
   "metadata": {},
   "outputs": [
    {
     "data": {
      "text/plain": [
       "array([[0, 2],\n",
       "       [2, 3]])"
      ]
     },
     "execution_count": 40,
     "metadata": {},
     "output_type": "execute_result"
    }
   ],
   "source": [
    "arr1"
   ]
  },
  {
   "cell_type": "code",
   "execution_count": 41,
   "id": "3953eba2-a4e9-4014-b7c8-d3ed23aadd2d",
   "metadata": {},
   "outputs": [
    {
     "data": {
      "text/plain": [
       "array([[3, 1],\n",
       "       [6, 0]])"
      ]
     },
     "execution_count": 41,
     "metadata": {},
     "output_type": "execute_result"
    }
   ],
   "source": [
    "arr2"
   ]
  },
  {
   "cell_type": "code",
   "execution_count": 42,
   "id": "a0fb8645-bd19-415b-8489-d5b30ffb7407",
   "metadata": {},
   "outputs": [
    {
     "data": {
      "text/plain": [
       "array([[12,  0],\n",
       "       [24,  2]])"
      ]
     },
     "execution_count": 42,
     "metadata": {},
     "output_type": "execute_result"
    }
   ],
   "source": [
    "np.dot(arr1,arr2)"
   ]
  },
  {
   "cell_type": "code",
   "execution_count": 43,
   "id": "b1419b17-c3f9-477d-bb91-27ac1a2acb67",
   "metadata": {},
   "outputs": [
    {
     "data": {
      "text/plain": [
       "array([[12,  0],\n",
       "       [24,  2]])"
      ]
     },
     "execution_count": 43,
     "metadata": {},
     "output_type": "execute_result"
    }
   ],
   "source": [
    "arr1@arr2"
   ]
  },
  {
   "cell_type": "code",
   "execution_count": null,
   "id": "35b9c678-daa7-457b-b191-3f6b67de1527",
   "metadata": {},
   "outputs": [],
   "source": []
  }
 ],
 "metadata": {
  "kernelspec": {
   "display_name": "Python 3 (ipykernel)",
   "language": "python",
   "name": "python3"
  },
  "language_info": {
   "codemirror_mode": {
    "name": "ipython",
    "version": 3
   },
   "file_extension": ".py",
   "mimetype": "text/x-python",
   "name": "python",
   "nbconvert_exporter": "python",
   "pygments_lexer": "ipython3",
   "version": "3.10.8"
  }
 },
 "nbformat": 4,
 "nbformat_minor": 5
}

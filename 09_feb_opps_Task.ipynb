{
 "cells": [
  {
   "cell_type": "code",
   "execution_count": null,
   "id": "dacd2662-c767-4543-82e3-8348f77eeab7",
   "metadata": {},
   "outputs": [],
   "source": [
    "Q1, Create a vehicle class with an init method having instance variables as name_of_vehicle, max_speed\n",
    "and average_of_vehicle."
   ]
  },
  {
   "cell_type": "code",
   "execution_count": 2,
   "id": "db267d74-6526-4f8c-9e1a-f1a2c74437c2",
   "metadata": {},
   "outputs": [],
   "source": [
    "class Vehicle:\n",
    "    def __init__(self,name_of_vehicle, max_speed,average_of_vehicle):\n",
    "        self.name_of_vehicle=name_of_vehicle\n",
    "        self.max_speed=max_speed\n",
    "        self.average_of_vehicle=average_of_vehicle"
   ]
  },
  {
   "cell_type": "code",
   "execution_count": 3,
   "id": "675652b1-525b-4113-80a5-fe1050ea13e9",
   "metadata": {},
   "outputs": [],
   "source": [
    "v= Vehicle('innova','100km/hr','12laks')"
   ]
  },
  {
   "cell_type": "code",
   "execution_count": 4,
   "id": "8f8da44b-47f7-4e92-b3c2-40a011b05ce3",
   "metadata": {},
   "outputs": [
    {
     "data": {
      "text/plain": [
       "'innova'"
      ]
     },
     "execution_count": 4,
     "metadata": {},
     "output_type": "execute_result"
    }
   ],
   "source": [
    "v.name_of_vehicle"
   ]
  },
  {
   "cell_type": "code",
   "execution_count": 5,
   "id": "ec601322-8d0f-45be-885b-1a9da3bc403b",
   "metadata": {},
   "outputs": [
    {
     "data": {
      "text/plain": [
       "'100km/hr'"
      ]
     },
     "execution_count": 5,
     "metadata": {},
     "output_type": "execute_result"
    }
   ],
   "source": [
    "v.max_speed"
   ]
  },
  {
   "cell_type": "code",
   "execution_count": null,
   "id": "ab8a3ee6-c761-4b8b-a884-bd603fef850a",
   "metadata": {},
   "outputs": [],
   "source": [
    "Q2. Create a child class car from the vehicle class created in Que 1, which will inherit the vehicle class.\n",
    "    Create a method named seating_capacity which takes capacity as an argument and returns the name of\n",
    "    the vehicle and its seating capacity."
   ]
  },
  {
   "cell_type": "code",
   "execution_count": 16,
   "id": "8d1aef31-3273-4771-b3e0-1a178ee5f48d",
   "metadata": {},
   "outputs": [],
   "source": [
    "class car(Vehicle):\n",
    "    def seating_capacity(self,capacity):\n",
    "        self.seating_capacity=capacity\n",
    "        return self.name_of_vehicle,self.seating_capacity"
   ]
  },
  {
   "cell_type": "code",
   "execution_count": 17,
   "id": "21efd134-4ae6-4b4a-bc7d-0c131ac7af90",
   "metadata": {},
   "outputs": [],
   "source": [
    "c=car('Toyoto','100km/hr','12laks')"
   ]
  },
  {
   "cell_type": "code",
   "execution_count": 18,
   "id": "0557eb53-d946-4110-8628-4a76191bb21c",
   "metadata": {},
   "outputs": [
    {
     "data": {
      "text/plain": [
       "('Toyoto', 7)"
      ]
     },
     "execution_count": 18,
     "metadata": {},
     "output_type": "execute_result"
    }
   ],
   "source": [
    "c.seating_capacity(7)"
   ]
  },
  {
   "cell_type": "code",
   "execution_count": null,
   "id": "9e202830-fe3b-4a2b-8479-ca9985a5620b",
   "metadata": {},
   "outputs": [],
   "source": [
    "Q3. What is multiple inheritance? Write a python code to demonstrate multiple inheritance."
   ]
  },
  {
   "cell_type": "code",
   "execution_count": null,
   "id": "72beb96d-f0fe-4a5d-a8f7-1bdb4da37ad6",
   "metadata": {},
   "outputs": [],
   "source": [
    ">> Multiple inheritence is defined as a child class inherites the properties like variables and methods from two or more base class or parent class"
   ]
  },
  {
   "cell_type": "code",
   "execution_count": 19,
   "id": "2d00d55c-b24f-4750-8bb0-8f70719a41a5",
   "metadata": {},
   "outputs": [],
   "source": [
    "class A:\n",
    "    def test_class1(self):\n",
    "        print('this is my parent A class')"
   ]
  },
  {
   "cell_type": "code",
   "execution_count": 20,
   "id": "a02412ca-d79c-42f2-88b0-95e0a975d8b4",
   "metadata": {},
   "outputs": [],
   "source": [
    "class B:\n",
    "    def test_class2(self):\n",
    "        print('this is my parent B class')"
   ]
  },
  {
   "cell_type": "code",
   "execution_count": 21,
   "id": "50b24a98-8925-4c9b-9175-595603e27d4b",
   "metadata": {},
   "outputs": [],
   "source": [
    "class C(A,B):\n",
    "    def test_class3(self):\n",
    "        print('this is my child class')"
   ]
  },
  {
   "cell_type": "code",
   "execution_count": 22,
   "id": "49160f66-9e68-44ba-9b22-1e614533f44b",
   "metadata": {},
   "outputs": [],
   "source": [
    "c3=C()"
   ]
  },
  {
   "cell_type": "code",
   "execution_count": 24,
   "id": "c1738856-68de-4ffb-a112-25c99c6e4fcb",
   "metadata": {},
   "outputs": [
    {
     "name": "stdout",
     "output_type": "stream",
     "text": [
      "this is my parent A class\n"
     ]
    }
   ],
   "source": [
    "c3.test_class1()"
   ]
  },
  {
   "cell_type": "code",
   "execution_count": 26,
   "id": "7c0872d7-ac05-42d9-9ee6-ff999ef13371",
   "metadata": {},
   "outputs": [
    {
     "name": "stdout",
     "output_type": "stream",
     "text": [
      "this is my parent B class\n"
     ]
    }
   ],
   "source": [
    "c3.test_class2()"
   ]
  },
  {
   "cell_type": "code",
   "execution_count": null,
   "id": "515be551-bfc9-413e-92f3-e18ce00bd1dd",
   "metadata": {},
   "outputs": [],
   "source": [
    "Q4. What are getter and setter in python? Create a class and create a getter and a setter method in this\n",
    "class."
   ]
  },
  {
   "cell_type": "code",
   "execution_count": null,
   "id": "56e45e2f-4b08-413b-8db2-03ce29462406",
   "metadata": {},
   "outputs": [],
   "source": [
    "getter in python defined as access the private variable that has been encapsulated in a class or access the setter object. "
   ]
  },
  {
   "cell_type": "code",
   "execution_count": null,
   "id": "8df53e86-1331-49fb-a004-5e0552adc48b",
   "metadata": {},
   "outputs": [],
   "source": [
    "setter in python defined as set the private variable for encapsulation purpose in a class."
   ]
  },
  {
   "cell_type": "code",
   "execution_count": 13,
   "id": "85012cae-7a28-4667-9b55-c207c81e0520",
   "metadata": {},
   "outputs": [],
   "source": [
    "class student:\n",
    "    def __init__(self,age):\n",
    "        self.__age=age\n",
    "    def setter_obj(self,age):\n",
    "        print('setter object called and set the student age')\n",
    "        self.__age=age\n",
    "    def getter_obj(self):\n",
    "        print('getter object called and student age is:',self.__age)"
   ]
  },
  {
   "cell_type": "code",
   "execution_count": 14,
   "id": "2a6ea997-08e5-402f-8412-c1d03ea53f10",
   "metadata": {},
   "outputs": [],
   "source": [
    "s=student(18)"
   ]
  },
  {
   "cell_type": "code",
   "execution_count": 15,
   "id": "efdea234-5f02-4130-8f5f-4eb6c8fe5105",
   "metadata": {},
   "outputs": [
    {
     "name": "stdout",
     "output_type": "stream",
     "text": [
      "getter object called and student age is: 18\n"
     ]
    }
   ],
   "source": [
    "s.getter_obj()"
   ]
  },
  {
   "cell_type": "code",
   "execution_count": 16,
   "id": "ffcf4a74-ccec-4c47-ae40-66031270055d",
   "metadata": {},
   "outputs": [
    {
     "name": "stdout",
     "output_type": "stream",
     "text": [
      "setter object called and set the student age\n"
     ]
    }
   ],
   "source": [
    "s.setter_obj(20)"
   ]
  },
  {
   "cell_type": "code",
   "execution_count": 17,
   "id": "13b62d1a-f623-44fe-8498-1db7ce38a396",
   "metadata": {},
   "outputs": [
    {
     "name": "stdout",
     "output_type": "stream",
     "text": [
      "getter object called and student age is: 20\n"
     ]
    }
   ],
   "source": [
    "s.getter_obj()"
   ]
  },
  {
   "cell_type": "code",
   "execution_count": null,
   "id": "894f8b76-a5cf-41d9-ba1d-02c94bc20bda",
   "metadata": {},
   "outputs": [],
   "source": [
    "Q5.What is method overriding in python? Write a python code to demonstrate method overriding."
   ]
  },
  {
   "cell_type": "code",
   "execution_count": null,
   "id": "72a0d0bc-e56a-4fa5-8d0d-936da0e59c35",
   "metadata": {},
   "outputs": [],
   "source": [
    "overriding in python defined as by defination of inheritence whatever methods and variables in superclass available to\n",
    "subclass or child class,In method overriding subclass changes or implement own method defined by superclass"
   ]
  },
  {
   "cell_type": "code",
   "execution_count": 18,
   "id": "b2a1ea4f-093a-43ff-89e5-2e13cc42caf2",
   "metadata": {},
   "outputs": [],
   "source": [
    "class Parent:\n",
    "    def vehicle(self):\n",
    "        print('I will buy a bike kiddo')"
   ]
  },
  {
   "cell_type": "code",
   "execution_count": 19,
   "id": "44f3c2ca-4377-4c31-8f4a-d7616af9472b",
   "metadata": {},
   "outputs": [],
   "source": [
    "class child:\n",
    "    def vehicle(self):\n",
    "        print('I want car daddy')"
   ]
  },
  {
   "cell_type": "code",
   "execution_count": 20,
   "id": "c658b894-1209-499f-8375-2056f130b42e",
   "metadata": {},
   "outputs": [],
   "source": [
    "c=child()"
   ]
  },
  {
   "cell_type": "code",
   "execution_count": 21,
   "id": "55862906-81fe-49e1-b671-0e05dad6ecca",
   "metadata": {},
   "outputs": [
    {
     "name": "stdout",
     "output_type": "stream",
     "text": [
      "I want car daddy\n"
     ]
    }
   ],
   "source": [
    "c.vehicle()"
   ]
  },
  {
   "cell_type": "code",
   "execution_count": null,
   "id": "ef9093e3-73d8-404a-a7ea-ac017160bb9e",
   "metadata": {},
   "outputs": [],
   "source": [
    "Above demonstration shows child class overides method vehicle."
   ]
  }
 ],
 "metadata": {
  "kernelspec": {
   "display_name": "Python 3 (ipykernel)",
   "language": "python",
   "name": "python3"
  },
  "language_info": {
   "codemirror_mode": {
    "name": "ipython",
    "version": 3
   },
   "file_extension": ".py",
   "mimetype": "text/x-python",
   "name": "python",
   "nbconvert_exporter": "python",
   "pygments_lexer": "ipython3",
   "version": "3.10.8"
  }
 },
 "nbformat": 4,
 "nbformat_minor": 5
}

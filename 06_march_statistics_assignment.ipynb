{
 "cells": [
  {
   "cell_type": "code",
   "execution_count": null,
   "id": "f0966428-7e3d-4192-aec3-c499511fa7a8",
   "metadata": {},
   "outputs": [],
   "source": [
    "Q1. What is Statistics?\n",
    "Statistics is the Science of collecting,organizing,and analyzing the data"
   ]
  },
  {
   "cell_type": "code",
   "execution_count": null,
   "id": "72e7a7d0-b955-425d-92c6-3dd43ede51e6",
   "metadata": {},
   "outputs": [],
   "source": [
    "Q2. Define the different types of statistics and give an example of when each type might be used."
   ]
  },
  {
   "cell_type": "code",
   "execution_count": null,
   "id": "262cbbe5-40be-4319-a2b0-126eef0563a8",
   "metadata": {},
   "outputs": [],
   "source": [
    "the different types of statistics and give an example of when each type might be used.:\n",
    "    1. Descriptive Statistics:\n",
    "        it is defined as organizing and summarizing the given data\n",
    "        Example of Descriptive Statistics:\n",
    "            For example height of the students in a math class of some xyz university given as\n",
    "            [120cm,125cm,131cm,136cm,139cm,141cm],suppose when we want to calculate the of mean\n",
    "            value we use a descriptive statistics\n",
    "    2. Inferential Statistics:\n",
    "        It consists of data that measures to form conclusion from sample data\n",
    "        Example of Inferential Statistics:\n",
    "            For Example during election there will exit poll,suppose there are 1000 votes if we  \n",
    "            take openion of people of 100 that which party will win we can conclude to the 1000\n",
    "            people and came to conclusion that party wil win"
   ]
  },
  {
   "cell_type": "code",
   "execution_count": null,
   "id": "fe61599e-64e1-442a-b30d-19304264e71e",
   "metadata": {},
   "outputs": [],
   "source": [
    "Q3. What are the different types of data and how do they differ from each other? Provide an example of\n",
    "each type of data."
   ]
  },
  {
   "cell_type": "code",
   "execution_count": null,
   "id": "3acb3fdf-89ee-4c7b-be2d-29738119be29",
   "metadata": {},
   "outputs": [],
   "source": [
    " the different types of data are\n",
    "    Quantitative data and Qualitative data:\n",
    "        Quantitative data defined as numerical data in which we can perform the arithmetic operation +,-,*,/\n",
    "        this is differ from from qualitative data in which data defined as categorical data\n",
    "    Quantitative data categorized into two types:\n",
    "        discrete data and continuous data:\n",
    "            discrete data defined as data consists of only whole number in an dataset\n",
    "            example:No of bank accounts\n",
    "            This is differ from continuos data in which data consists of any value other than whole number\n",
    "            example:measure of different temperatures in an dataset\n",
    "    Qualitative data categorized into two types:\n",
    "        Nominal data and Ordinal data:\n",
    "            Nominal data defined as set of categorical data in specified range which are not ranked.\n",
    "            example:categorizing different blood groups\n",
    "            This is differ from ordinal data in which data has been ranked\n",
    "            example:grading marks of students good,bad,satisfying"
   ]
  },
  {
   "cell_type": "code",
   "execution_count": null,
   "id": "536b5bb3-e297-44f0-af50-0d65330f28d8",
   "metadata": {},
   "outputs": [],
   "source": [
    "Q4. Categorise the following datasets with respect to quantitative and qualitative data types:\n",
    "(i) Grading in exam: A+, A, B+, B, C+, C, D, E\n",
    "(ii) Colour of mangoes: yellow, green, orange, red\n",
    "(iii) Height data of a class: [178.9, 179, 179.5, 176, 177.2, 178.3, 175.8,...]\n",
    "(iv) Number of mangoes exported by a farm: [500, 600, 478, 672, ...]"
   ]
  },
  {
   "cell_type": "code",
   "execution_count": null,
   "id": "ff71375d-0c02-4d2b-b2b2-d860243b199b",
   "metadata": {},
   "outputs": [],
   "source": [
    "(i) Grading in exam: A+, A, B+, B, C+, C, D, E:qualitative data\n",
    "(ii) Colour of mangoes: yellow, green, orange, red:qualitative data\n",
    "(iii) Height data of a class: [178.9, 179, 179.5, 176, 177.2, 178.3, 175.8,...]:quantitative data\n",
    "(iv) Number of mangoes exported by a farm: [500, 600, 478, 672, ...]:quantitative data"
   ]
  },
  {
   "cell_type": "code",
   "execution_count": null,
   "id": "c2cb3fdb-d5c5-4f01-b0b5-b49d40955ea0",
   "metadata": {},
   "outputs": [],
   "source": [
    "Q5. Explain the concept of levels of measurement and give an example of a variable for each level."
   ]
  },
  {
   "cell_type": "code",
   "execution_count": null,
   "id": "6c2103d2-85b5-4fe2-a5b6-4d3c2234fd52",
   "metadata": {},
   "outputs": [],
   "source": [
    "Levels of measurement, also called scales of measurement, tell you how precisely variables are \n",
    "recorded. In scientific research, a variable is anything that can take on different values \n",
    "across your data set (e.g., height or test scores)."
   ]
  },
  {
   "cell_type": "code",
   "execution_count": null,
   "id": "59d30d71-4582-47c6-b853-26faa0f2b821",
   "metadata": {},
   "outputs": [],
   "source": [
    "There are 4 levels of measurement:\n",
    "\n",
    "Nominal: the data can only be categorized\n",
    "example:gender classification\n",
    "Ordinal: the data can be categorized and ranked,difference cannot measured\n",
    "example:classification of different qualificaion like,phd,BE,BSC,PUC,by this order can made but difference cannot measured\n",
    "Interval: the data can be categorized, ranked, and evenly spaced\n",
    "example:measures thedifference of diiferent temperature across data set that always not starts with zeo\n",
    "Ratio: the data can be categorized, ranked, evenly spaced, and has a natural zero.\n",
    "example: grades of students that are categorized,ranked,diiference can measured and grades starts with zero "
   ]
  },
  {
   "cell_type": "code",
   "execution_count": null,
   "id": "3b398a13-7295-412c-b0a3-5f977818c52e",
   "metadata": {},
   "outputs": [],
   "source": [
    "Q6. Why is it important to understand the level of measurement when analyzing data? Provide an\n",
    "example to illustrate your answer."
   ]
  },
  {
   "cell_type": "code",
   "execution_count": null,
   "id": "31501738-47e9-4791-88ef-11e7b141acaf",
   "metadata": {},
   "outputs": [],
   "source": [
    "The level at which you measure a variable determines how you can analyze your data.\n",
    "Depending on the level of measurement, you can perform different descriptive statistics to get\n",
    "an overall summary of your data and inferential statistics to see if your results support or \n",
    "refute your hypothesis."
   ]
  },
  {
   "cell_type": "code",
   "execution_count": null,
   "id": "fab5f425-898f-4907-a4c5-4169f84cbad6",
   "metadata": {},
   "outputs": [],
   "source": [
    "suppose a dataset contains student marks grades like A,A+,B,B+,C,C+ by using level of measurment\n",
    "we perform a analytics to analyze a data whether we perform nominal,ordinal,ratio,or interval measurment\n",
    "to analyze data to different categories and ranked orderwise."
   ]
  },
  {
   "cell_type": "code",
   "execution_count": null,
   "id": "87f79b3a-8544-41f2-a68c-e4d9d2e38504",
   "metadata": {},
   "outputs": [],
   "source": [
    "Q7. How nominal data type is different from ordinal data type."
   ]
  },
  {
   "cell_type": "code",
   "execution_count": null,
   "id": "8b7778bc-3ace-4bd8-9546-e2158dc442d0",
   "metadata": {},
   "outputs": [],
   "source": [
    "Nominal: the data can only be categorized\n",
    "example:gender classification\n",
    "Ordinal: the data can be categorized and ranked,difference cannot measured\n",
    "example:classification of different qualificaion like,phd,BE,BSC,PUC,by this order can made but difference cannot measured"
   ]
  },
  {
   "cell_type": "code",
   "execution_count": null,
   "id": "94b7dbe7-b549-42cb-94f1-64f91cc236f6",
   "metadata": {},
   "outputs": [],
   "source": [
    "Q8. Which type of plot can be used to display data in terms of range?"
   ]
  },
  {
   "cell_type": "code",
   "execution_count": null,
   "id": "23f24d54-3c69-4631-8608-c3943a8ef4ea",
   "metadata": {},
   "outputs": [],
   "source": [
    "Histogram plot can be used to display data in terms of range"
   ]
  },
  {
   "cell_type": "code",
   "execution_count": null,
   "id": "37607a15-5642-488e-bea1-b60e6f502056",
   "metadata": {},
   "outputs": [],
   "source": [
    "Q9. Describe the difference between descriptive and inferential statistics. Give an example of each\n",
    "type of statistics and explain how they are used."
   ]
  },
  {
   "cell_type": "code",
   "execution_count": null,
   "id": "e2166eef-4c45-4936-a4c3-38161388ca25",
   "metadata": {},
   "outputs": [],
   "source": [
    "    1. Descriptive Statistics:\n",
    "        *it is defined as organizing and summarizing the given data\n",
    "        *we use measure of central tendency and measure of dispersiion for statistical analysis\n",
    "        *we use histogram,bar,scatter different plots for statistical analysis\n",
    "        Example of Descriptive Statistics:\n",
    "            For example height of the students in a math class of some xyz university given as\n",
    "            [120cm,125cm,131cm,136cm,139cm,141cm],suppose when we want to calculate the of mean\n",
    "            value we use a descriptive statistics\n",
    "    2. Inferential Statistics:\n",
    "        *It consists of data that measures to form conclusion from sample data\n",
    "        *we use z-test,t-test,hypothesis testing,p-value for statistical analysis\n",
    "        Example of Inferential Statistics:\n",
    "            For Example during election there will exit poll,suppose there are 1000 votes if we  \n",
    "            take openion of people of 100 that which party will win we can conclude to the 1000\n",
    "            people and came to conclusion that party wil win"
   ]
  },
  {
   "cell_type": "code",
   "execution_count": null,
   "id": "465fcbdc-b117-406a-8fa8-22f510b5b4c8",
   "metadata": {},
   "outputs": [],
   "source": [
    "Q10. What are some common measures of central tendency and variability used in statistics? Explain\n",
    "how each measure can be used to describe a dataset."
   ]
  },
  {
   "cell_type": "code",
   "execution_count": null,
   "id": "96e142fd-b06c-4722-a583-55737f4b4ea3",
   "metadata": {},
   "outputs": [],
   "source": [
    "mean,median,mode are some common measures of central tendency and variance & standard deviation are the\n",
    "variability used in statistics\n",
    "mean defined as the sum of each elements by total number of elements in an data set\n",
    "median defined as the middle elements in an dataset\n",
    "mode defined as the most occuring elements in dataset\n",
    "The variance is a measure of variability that represents on how far each observation falls from the mean of the distribution. "
   ]
  }
 ],
 "metadata": {
  "kernelspec": {
   "display_name": "Python 3 (ipykernel)",
   "language": "python",
   "name": "python3"
  },
  "language_info": {
   "codemirror_mode": {
    "name": "ipython",
    "version": 3
   },
   "file_extension": ".py",
   "mimetype": "text/x-python",
   "name": "python",
   "nbconvert_exporter": "python",
   "pygments_lexer": "ipython3",
   "version": "3.10.8"
  }
 },
 "nbformat": 4,
 "nbformat_minor": 5
}

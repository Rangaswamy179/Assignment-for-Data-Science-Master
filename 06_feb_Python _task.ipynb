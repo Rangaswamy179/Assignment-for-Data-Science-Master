{
 "cells": [
  {
   "cell_type": "code",
   "execution_count": null,
   "id": "2ead9a07-cc41-4500-aa91-4235434a294a",
   "metadata": {},
   "outputs": [],
   "source": [
    "Q1. Create a function which will take a list as an argument and return the product of all the numbers\n",
    "after creating a flat list.\n",
    "Use the below-given list as an argument for your function.\n",
    "\n",
    "                                                                                                                                                                                                                                                                                                                                list1 = [1,2,3,4, [44,55,66, True], False, (34,56,78,89,34), {1,2,3,3,2,1}, {1:34, \"key2\": [55, 67, 78, 89], 4: (45,\n",
    "[1,2,3,4, [44,55,66, True], False, (34,56,78,89,34), {1,2,3,3,2,1}, {1:34, \"key2\": [55, 67, 78, 89], 4: (45,\n",
    "22, 61, 34)}, [56, 'data science'], 'Machine Learning']                                                                                                                                                                                                                                                                                                                                22, 61, 34)}, [56, 'data science'], 'Machine Learning']"
   ]
  },
  {
   "cell_type": "code",
   "execution_count": 1,
   "id": "b3477c63-147f-497f-9b59-cf94da44aefb",
   "metadata": {},
   "outputs": [],
   "source": [
    "l = [1,2,3,4, [44,55,66, True], False, (34,56,78,89,34), {1,2,3,3,2,1}, {1:34, \"key2\": [55, 67, 78, 89], 4: (45,\n",
    "22, 61, 34)}, [56, 'data science'], 'Machine Learning']"
   ]
  },
  {
   "cell_type": "code",
   "execution_count": null,
   "id": "4843ced8-81ec-4d18-a423-096095eb5d75",
   "metadata": {},
   "outputs": [
    {
     "name": "stdout",
     "output_type": "stream",
     "text": [
      "[1, 2, 3, 4, [44, 55, 66, True], False, (34, 56, 78, 89, 34), {1, 2, 3}, {1: 34, 'key2': [55, 67, 78, 89], 4: (45, 22, 61, 34)}, [56, 'data science'], 'Machine Learning']"
     ]
    }
   ],
   "source": [
    "print(l,end='')"
   ]
  },
  {
   "cell_type": "code",
   "execution_count": 3,
   "id": "f742d657-72a8-4b3e-9a62-778ab6d18bfd",
   "metadata": {},
   "outputs": [
    {
     "name": "stdout",
     "output_type": "stream",
     "text": [
      "[1, 2, 3, 4, 44, 55, 66, 34, 56, 78, 89, 34, 1, 2, 3, 1, 4, 34, 55, 67, 78, 89, 45, 22, 61, 34, 56]\n"
     ]
    },
    {
     "data": {
      "text/plain": [
       "4134711838987085478833841242112000"
      ]
     },
     "execution_count": 3,
     "metadata": {},
     "output_type": "execute_result"
    }
   ],
   "source": [
    "\n",
    "def f1(l):\n",
    "    l1=[]\n",
    "    result=1\n",
    "    \n",
    "    for i in l:\n",
    "        if type(i)==int:\n",
    "            l1.append(i)\n",
    "        elif type(i)==list:\n",
    "            for j in i:\n",
    "                if type(j)==int:\n",
    "                    l1.append(j)\n",
    "        elif type(i)==tuple:\n",
    "            for j in i:\n",
    "                if type(j)==int:\n",
    "                    l1.append(j)\n",
    "        elif type(i)==set:\n",
    "            for k in i:\n",
    "                if type(k)==int:\n",
    "                    l1.append(k)\n",
    "        else:\n",
    "            if type(i)==dict:\n",
    "                for m in i.keys():\n",
    "                    if type(m)==int:\n",
    "                        l1.append(m)\n",
    "                for m in i.values():\n",
    "                    if type(m)==int:\n",
    "                        l1.append(m)\n",
    "                    elif type(m)==list:\n",
    "                        for n in m:\n",
    "                            l1.append(n)\n",
    "                    elif type(m)==tuple:\n",
    "                        for n in m:\n",
    "                            l1.append(n)\n",
    "    print(l1)                            \n",
    "    for i in l1:\n",
    "        result*=i\n",
    "\n",
    "    return result\n",
    "        \n",
    "        \n",
    "        \n",
    "\n",
    "f1(l)"
   ]
  },
  {
   "cell_type": "code",
   "execution_count": null,
   "id": "ceb9fc2e-bb96-4b15-b67e-94ec8da302d0",
   "metadata": {},
   "outputs": [],
   "source": [
    "Q2. Write a python program for encrypting a message sent to you by your friend. The logic of encryption\n",
    "should be such that, for a the output should be z. For b, the output should be y. For c, the output should\n",
    "be x respectively. Also, the whitespace should be replaced with a dollar sign. Keep the punctuation\n",
    "marks unchanged.\n",
    "\n",
    "Input Sentence: .I want to become a Data Scientist\n",
    "Encrypt the above input sentence using the program you just created.\n",
    "\n",
    "Note: Convert the given input sentence into lowercase before encrypting. The final output should be\n",
    "lowercase."
   ]
  },
  {
   "cell_type": "code",
   "execution_count": 25,
   "id": "475275e3-252e-4319-ad38-bbd54ef0d6f3",
   "metadata": {},
   "outputs": [
    {
     "name": "stdin",
     "output_type": "stream",
     "text": [
      "Enter the message to be encrypted:  I want to become a Data Scientist\n"
     ]
    },
    {
     "name": "stdout",
     "output_type": "stream",
     "text": [
      "Message after Encryption:  r$dzmg$gl$yvxlnv$z$wzgz$hxrvmgrhg\n"
     ]
    }
   ],
   "source": [
    "message = input(\"Enter the message to be encrypted: \").lower()\n",
    "def encrypt(message):\n",
    "    encrypted_message = \"\"\n",
    "    for char in message:\n",
    "        if char == \" \":\n",
    "            encrypted_message += \"$\"  \n",
    "        else:\n",
    "            encrypted_message += chr(ord(\"z\") - (ord(char) - ord(\"a\")))\n",
    "    return encrypted_message\n",
    "\n",
    "\n",
    "encrypted_message = encrypt(message)\n",
    "print(\"Message after Encryption: \", encrypted_message)\n"
   ]
  },
  {
   "cell_type": "code",
   "execution_count": null,
   "id": "aa5920fd-5fbd-4c8b-bb80-28a8c1b89149",
   "metadata": {},
   "outputs": [],
   "source": []
  }
 ],
 "metadata": {
  "kernelspec": {
   "display_name": "Python 3 (ipykernel)",
   "language": "python",
   "name": "python3"
  },
  "language_info": {
   "codemirror_mode": {
    "name": "ipython",
    "version": 3
   },
   "file_extension": ".py",
   "mimetype": "text/x-python",
   "name": "python",
   "nbconvert_exporter": "python",
   "pygments_lexer": "ipython3",
   "version": "3.10.8"
  }
 },
 "nbformat": 4,
 "nbformat_minor": 5
}

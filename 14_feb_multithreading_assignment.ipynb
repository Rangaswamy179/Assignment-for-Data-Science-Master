{
 "cells": [
  {
   "cell_type": "code",
   "execution_count": null,
   "id": "2a2bad9e-9991-4f15-92d1-e2bf448bbff1",
   "metadata": {},
   "outputs": [],
   "source": [
    "Q1 what is multithreading in python? why is it used? Name the module used to handle threads in python"
   ]
  },
  {
   "cell_type": "code",
   "execution_count": null,
   "id": "07092acc-bda0-4871-a753-3882188bd4f5",
   "metadata": {},
   "outputs": [],
   "source": [
    "multithreading in python defined as running a multiple thread in a single process by instance of Thread class\n",
    "it is mainly used for achiving a multiple task in a single process at a given instance\n",
    "Threading module used to handle threads in python"
   ]
  },
  {
   "cell_type": "code",
   "execution_count": null,
   "id": "faa5db46-dab4-4d87-bdd6-8ece94d1876f",
   "metadata": {},
   "outputs": [],
   "source": [
    "Q2 why threading module used? write the use of the following functions\n",
    "    activeCount()\n",
    "    currentThread()\n",
    "    enumerate()"
   ]
  },
  {
   "cell_type": "code",
   "execution_count": null,
   "id": "dcba56f0-844f-4227-b68e-454c53803bfd",
   "metadata": {},
   "outputs": [],
   "source": [
    "The threading module provided with Python includes a simple-to-implement locking mechanism that allows you to synchronize threads. \n",
    "A new lock is created by calling the Lock() method, which returns the new lock.threading module mainly used for creating multiple \n",
    "threads in a process by usage of thread class by a arguments target functions and number of arguments to pass to the function to exececte \n",
    "multiple arguments at a time and it will start the threads one by one after all the finishing of threads and close the all threads"
   ]
  },
  {
   "cell_type": "code",
   "execution_count": null,
   "id": "88d1e774-60ba-451f-90fd-0ceb3c21d683",
   "metadata": {},
   "outputs": [],
   "source": [
    "threading.activeCount() − Returns the number of thread objects that are active.\n",
    "\n",
    "threading.currentThread() − Returns the number of thread objects in the caller's thread control.\n",
    "\n",
    "threading.enumerate() − Returns a list of all thread objects that are currently active."
   ]
  },
  {
   "cell_type": "code",
   "execution_count": null,
   "id": "e631dcd7-522a-427b-ba92-a94ca6747696",
   "metadata": {},
   "outputs": [],
   "source": [
    "Q3. Explain the following functions\n",
    " 1.run\n",
    " 2.start\n",
    " 3.join\n",
    " 4.isAlive"
   ]
  },
  {
   "cell_type": "code",
   "execution_count": null,
   "id": "8ad8fe50-568c-4260-8ee0-6c1eef7cfa02",
   "metadata": {},
   "outputs": [],
   "source": [
    "run() − The run() method is the entry point for a thread.\n",
    "\n",
    "start() − The start() method starts a thread by calling the run method.\n",
    "\n",
    "join([time]) − The join() waits for threads to terminate.\n",
    "\n",
    "isAlive() − The isAlive() method checks whether a thread is still executing."
   ]
  },
  {
   "cell_type": "code",
   "execution_count": null,
   "id": "7eac4962-9a17-4672-9a2c-3ef78d7ea2ee",
   "metadata": {},
   "outputs": [],
   "source": [
    "Q4 write a python program to create two threads. Thread one must print the list of squares and thread\n",
    "two must print the list of cubes"
   ]
  },
  {
   "cell_type": "code",
   "execution_count": 8,
   "id": "02d4b52a-d967-47db-b93d-a636edd29cd5",
   "metadata": {},
   "outputs": [
    {
     "name": "stdout",
     "output_type": "stream",
     "text": [
      "square of number 0 is 0:\n",
      "square of number 1 is 1:\n",
      "square of number 2 is 4:\n",
      "square of number 3 is 9:\n",
      "square of number 4 is 16:\n",
      "square of number 5 is 25:\n",
      "cube of number 0 is 0:\n",
      "cube of number 1 is 1:\n",
      "cube of number 2 is 8:\n",
      "cube of number 3 is 27:\n",
      "cube of number 4 is 64:\n",
      "cube of number 5 is 125:\n"
     ]
    }
   ],
   "source": [
    "import threading\n",
    "def list_squares(x):\n",
    "    print('square of number {} is {}:'.format(x,x**2))\n",
    "def list_cubes(x):\n",
    "    print('cube of number {} is {}:'.format(x,x**3))\n",
    "t1=[threading.Thread(target=list_squares,args=(i,)) for i in [0,1,2,3,4,5]]\n",
    "t2=[threading.Thread(target=list_cubes,args=(i,)) for i in [0,1,2,3,4,5]]\n",
    "for i in t1:\n",
    "    i.start()\n",
    "for i in t2:\n",
    "    i.start()"
   ]
  },
  {
   "cell_type": "code",
   "execution_count": null,
   "id": "f2c3bd13-7562-438b-a628-e0f671b0dff2",
   "metadata": {},
   "outputs": [],
   "source": [
    "Q5. State advantages and disadvantages of multithreading"
   ]
  },
  {
   "cell_type": "code",
   "execution_count": null,
   "id": "85035ce1-9d03-4469-8bdf-c7cb93eed353",
   "metadata": {},
   "outputs": [],
   "source": [
    "advantages of multithreading\n",
    "\n",
    "Enhanced performance by decreased development time\n",
    "Simplified and streamlined program coding\n",
    "Improvised GUI responsiveness\n",
    "Simultaneous and parallelized occurrence of tasks\n",
    "Better use of cache storage by utilization of resources\n",
    "Decreased cost of maintenance\n",
    "Better use of CPU resource"
   ]
  },
  {
   "cell_type": "code",
   "execution_count": null,
   "id": "31017235-cb78-4e70-bbb0-5b5a32ebd8eb",
   "metadata": {},
   "outputs": [],
   "source": [
    "Disadvantages of multithreading\n",
    "\n",
    "Complex debugging and testing processes\n",
    "Overhead switching of context\n",
    "Increased potential for deadlock occurrence\n",
    "Increased difficulty level in writing a program\n",
    "Unpredictable results"
   ]
  },
  {
   "cell_type": "code",
   "execution_count": null,
   "id": "0379434a-161a-4689-95b2-d9f4025bb818",
   "metadata": {},
   "outputs": [],
   "source": [
    "Q6. Explain deadlocks and race conditions."
   ]
  },
  {
   "cell_type": "code",
   "execution_count": null,
   "id": "5a419935-8ebc-4806-b877-74ae8a63c87d",
   "metadata": {},
   "outputs": [],
   "source": [
    "A deadlock occurs when a set of processes is stalled because each process is holding a resource and \n",
    "waiting for another process to acquire another resource. In the diagram below, for example, Process 1 \n",
    "is holding Resource 1 while Process 2 acquires Resource 2, and Process 2 is waiting for Resource 1."
   ]
  },
  {
   "cell_type": "code",
   "execution_count": null,
   "id": "3594b846-2644-4714-8f1b-9cc97da12396",
   "metadata": {},
   "outputs": [],
   "source": [
    "A Race condition is a scenario that occurs in a multithreaded environment due to \n",
    "multiple threads sharing the same resource or executing the same piece of code. \n",
    "If not handled properly, this can lead to an undesirable situation, where the \n",
    "output state is dependent on the order of execution of the threads."
   ]
  },
  {
   "cell_type": "code",
   "execution_count": null,
   "id": "d7ed53f0-4a6f-4037-ac29-96a9eac58b02",
   "metadata": {},
   "outputs": [],
   "source": []
  }
 ],
 "metadata": {
  "kernelspec": {
   "display_name": "Python 3 (ipykernel)",
   "language": "python",
   "name": "python3"
  },
  "language_info": {
   "codemirror_mode": {
    "name": "ipython",
    "version": 3
   },
   "file_extension": ".py",
   "mimetype": "text/x-python",
   "name": "python",
   "nbconvert_exporter": "python",
   "pygments_lexer": "ipython3",
   "version": "3.10.8"
  }
 },
 "nbformat": 4,
 "nbformat_minor": 5
}

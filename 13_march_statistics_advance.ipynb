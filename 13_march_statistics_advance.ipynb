{
 "cells": [
  {
   "cell_type": "code",
   "execution_count": null,
   "id": "185942b3-e67a-403f-a828-f1a6c7513229",
   "metadata": {},
   "outputs": [],
   "source": [
    "Q1. Explain the assumptions required to use ANOVA and provide examples of violations that could impact\n",
    "the validity of the results."
   ]
  },
  {
   "cell_type": "code",
   "execution_count": null,
   "id": "2db39dc7-bd3d-4036-8b98-8af0f1f66906",
   "metadata": {},
   "outputs": [],
   "source": [
    "the assumptions required to use ANOVA:\n",
    "    1.Normality of sampling distribution of mean:\n",
    "        The distribution of sampling mean is normal or distribution follows the central limit theorem\n",
    "    2.Absence of outlier:\n",
    "        outlier must be removed from the data set\n",
    "    3.Homogienity of varienc:\n",
    "        population variance of different levels must be independent and equal\n",
    "    4.samples are independent and normal\n",
    "\n",
    "Violation of independence: If the observations within groups are not independent, it can lead to biased estimates and\n",
    "inaccurate p-values. For example, if there is a correlation between observations within a group due to repeated measures \n",
    "or clustering, the assumption of independence is violated.\n",
    "\n",
    "Violation of normality: If the data within groups do not follow a normal distribution, the p-values and confidence intervals \n",
    "obtained from ANOVA may not be reliable. Non-normality can distort the results and lead to incorrect conclusions. For instance,\n",
    "if the data is heavily skewed or has outliers, the assumption of normality is violated.\n",
    "\n",
    "Violation of homogeneity of variances: If the variability of the data is not equal across groups, the assumption of\n",
    "homoscedasticity is violated. In such cases, the F-statistic and p-values may be unreliable. Unequal variances can \n",
    "ead to inflated or deflated Type I error rates (false positive or false negative results).\n",
    "\n",
    "Violation of equality of group means: If the means of the groups being compared are not equal, it can lead to incorrect\n",
    "conclusions. ANOVA assumes that the populations being compared have the same mean value. If this assumption is violated,\n",
    "the differences between groups may not be accurately assessed."
   ]
  },
  {
   "cell_type": "raw",
   "id": "4df630f5-897f-4904-afe2-e66881e85f46",
   "metadata": {},
   "source": [
    "Q2. What are the three types of ANOVA, and in what situations would each be used?"
   ]
  },
  {
   "cell_type": "code",
   "execution_count": null,
   "id": "0447d134-30e9-48af-a63f-2cf37c451c16",
   "metadata": {},
   "outputs": [],
   "source": [
    "The three types of ANOVA are:\n",
    "    1.One way anova:\n",
    "        One way anova used for one factor and atleast two levels which are independent to each other\n",
    "    2.Repeated Measure anova:\n",
    "        Repeated Measure anova used for one factor and atleast two levels which are dependent to each other\n",
    "    3.Factorial anova:\n",
    "        Factorial anova used for Two or more factors and atleast two levels which are dependent and independent to each other"
   ]
  },
  {
   "cell_type": "code",
   "execution_count": null,
   "id": "bdfaaf6b-6176-48c0-a1a2-0109ff5fb2be",
   "metadata": {},
   "outputs": [],
   "source": [
    "Q3. What is the partitioning of variance in ANOVA, and why is it important to understand this concept?"
   ]
  },
  {
   "cell_type": "code",
   "execution_count": null,
   "id": "50660e85-1e9e-486e-a53f-5ed4c4b4da93",
   "metadata": {},
   "outputs": [],
   "source": [
    "The partitioning of variance in ANOVA refers to the decomposition of the total variation in the data into different components, which help explain the sources of variation in the study. Understanding this concept is important because it provides insights into the relative contributions of different factors and allows researchers to assess their significance in explaining the observed differences among groups.\n",
    "\n",
    "In ANOVA, the total variation is divided into two main components: the between-group variation and the within-group variation.\n",
    "\n",
    "Between-group variation: This component represents the variability among the means of different groups being compared. It measures the differences between group means and reflects the effect of the independent variable (or factor) under investigation. The larger the between-group variation compared to the within-group variation, the more influential the independent variable is in explaining the differences among groups.\n",
    "\n",
    "Within-group variation: This component accounts for the variability within each group. It measures the differences between individual data points within the same group. It represents the random variation or noise that is inherent within the data. If the within-group variation is large relative to the between-group variation, it suggests that the groups are similar and the effect of the independent variable is weak.\n",
    "\n",
    "The partitioning of variance is typically summarized in the form of an ANOVA table, which presents the sum of squares (SS), degrees of freedom (df), mean squares (MS), and F-statistic. By examining the components of variance and their associated degrees of freedom, researchers can calculate the F-statistic and perform hypothesis tests to determine the statistical significance of the independent variable's effect.\n",
    "\n",
    "Understanding the partitioning of variance helps researchers gain a deeper understanding of the data and the factors influencing the observed differences among groups. It allows for a quantitative assessment of the effect size and provides a basis for making informed conclusions and decisions. Additionally, the partitioning of variance assists in interpreting the significance of the independent variable and helps guide future research or interventions by identifying the most influential factors."
   ]
  },
  {
   "cell_type": "code",
   "execution_count": null,
   "id": "50496b7b-64d0-4b46-ada1-bc0e7e82d562",
   "metadata": {},
   "outputs": [],
   "source": [
    "Q4. How would you calculate the total sum of squares (SST), explained sum of squares (SSE), and residual\n",
    "sum of squares (SSR) in a one-way ANOVA using Python?"
   ]
  },
  {
   "cell_type": "code",
   "execution_count": 11,
   "id": "39e64790-65b8-4d26-a8ca-e959790d9082",
   "metadata": {},
   "outputs": [
    {
     "name": "stdout",
     "output_type": "stream",
     "text": [
      "Total sum of squares (SST): 87.33333333333333\n",
      "Explained sum of squares (SSE): 1.7333333333333323\n",
      "Residual sum of squares (SSR): 85.6\n"
     ]
    }
   ],
   "source": [
    "import scipy.stats as stats\n",
    "import numpy as np\n",
    "\n",
    "# Example data for three groups\n",
    "group1 =[3,5,7,8,2]\n",
    "group2 =[2,4,6,8,1]\n",
    "group3 =[1,4,5,6,8]\n",
    "\n",
    "# Combine the data from all groups\n",
    "data = np.concatenate([group1, group2, group3])\n",
    "\n",
    "# Calculate the group means\n",
    "group_means = [np.mean(group1), np.mean(group2), np.mean(group3)]\n",
    "\n",
    "# Calculate the total sum of squares (SST)\n",
    "total_mean = np.mean(data)\n",
    "sst = np.sum((data - total_mean) ** 2)\n",
    "\n",
    "# Calculate the explained sum of squares (SSE)\n",
    "sse = np.sum((group_means - total_mean) ** 2) * len(group1)\n",
    "\n",
    "# Calculate the residual sum of squares (SSR)\n",
    "ssr = sst - sse\n",
    "\n",
    "print(\"Total sum of squares (SST):\", sst)\n",
    "print(\"Explained sum of squares (SSE):\", sse)\n",
    "print(\"Residual sum of squares (SSR):\", ssr)\n"
   ]
  },
  {
   "cell_type": "code",
   "execution_count": null,
   "id": "2f2017ad-b611-4df5-913d-399ac0646a07",
   "metadata": {},
   "outputs": [],
   "source": [
    "Q5. In a two-way ANOVA, how would you calculate the main effects and interaction effects using Python?"
   ]
  },
  {
   "cell_type": "code",
   "execution_count": 15,
   "id": "33fa7df4-677d-4615-9ab1-b04beee62c16",
   "metadata": {},
   "outputs": [
    {
     "name": "stdout",
     "output_type": "stream",
     "text": [
      "Main effect of A: 15.999999999999986\n",
      "Main effect of B: 1.4999999999999987\n",
      "Interaction effect (A:B): 4.437342591868191e-31\n"
     ]
    }
   ],
   "source": [
    "import statsmodels.api as sm\n",
    "from statsmodels.formula.api import ols\n",
    "import pandas as pd\n",
    "# Example data for two factors (A and B) with three levels each\n",
    "A = [1, 1, 2, 2, 3, 3]\n",
    "B = [1, 2, 1, 2, 1, 2]\n",
    "y = [3, 4, 5, 6, 7, 8]\n",
    "\n",
    "# Create a dataframe with the data\n",
    "data = pd.DataFrame({'A': A, 'B': B, 'y': y})\n",
    "\n",
    "# Perform two-way ANOVA\n",
    "model = ols('y ~ A + B + A:B', data=data).fit()\n",
    "anova_table = sm.stats.anova_lm(model)\n",
    "\n",
    "# Extract the main effects and interaction effects\n",
    "main_effect_A = anova_table['sum_sq']['A']\n",
    "main_effect_B = anova_table['sum_sq']['B']\n",
    "interaction_effect = anova_table['sum_sq']['A:B']\n",
    "\n",
    "print(\"Main effect of A:\", main_effect_A)\n",
    "print(\"Main effect of B:\", main_effect_B)\n",
    "print(\"Interaction effect (A:B):\", interaction_effect)\n"
   ]
  },
  {
   "cell_type": "code",
   "execution_count": null,
   "id": "0a7fc22a-51bb-43cb-86bb-6f95fa9c4fc2",
   "metadata": {},
   "outputs": [],
   "source": [
    "Q6. Suppose you conducted a one-way ANOVA and obtained an F-statistic of 5.23 and a p-value of 0.02.\n",
    "What can you conclude about the differences between the groups, and how would you interpret these\n",
    "results?"
   ]
  },
  {
   "cell_type": "code",
   "execution_count": null,
   "id": "9773c0c1-ac0d-47d0-bc69-9a70d4432a31",
   "metadata": {},
   "outputs": [],
   "source": [
    "\n",
    "In the given scenario, conducting a one-way ANOVA resulted in an F-statistic of 5.23 and a p-value of 0.02. Based on these results, we can draw the following conclusions:\n",
    "\n",
    "Differences between the groups: The obtained F-statistic of 5.23 indicates that there are significant\n",
    "differences between the groups. In other words, the means of at least some of the groups are different \n",
    "from each other.\n",
    "\n",
    "Statistical significance: The p-value of 0.02 suggests that the probability of observing such or more\n",
    "extreme differences between the groups by chance alone, assuming the null hypothesis is true, is 0.02\n",
    "(or 2%). Since the p-value is less than the commonly chosen significance level (e.g., 0.05), \n",
    "we have evidence to reject the null hypothesis.\n",
    "\n",
    "Interpretation of the results depends on the context of the study and the specific research question\n",
    "being investigated. However, here's a general interpretation:\n",
    "\n",
    "The obtained results indicate that there are significant differences between the groups being compared.\n",
    "The differences are not likely due to random chance, as the p-value is below the chosen significance \n",
    "level. Therefore, we can conclude that there is evidence for the existence of statistically significant\n",
    "differences in the means of the groups."
   ]
  },
  {
   "cell_type": "code",
   "execution_count": null,
   "id": "0113492a-d8ed-4fcc-a8c7-8eec13435b21",
   "metadata": {},
   "outputs": [],
   "source": [
    "Q7. In a repeated measures ANOVA, how would you handle missing data, and what are the potential\n",
    "consequences of using different methods to handle missing data?"
   ]
  },
  {
   "cell_type": "code",
   "execution_count": null,
   "id": "d30eaf98-364c-487c-af2c-bf2e0504a17a",
   "metadata": {},
   "outputs": [],
   "source": [
    "Handling missing data in a repeated measures ANOVA requires careful consideration to ensure the\n",
    "validity and accuracy of the results. Here are some common methods for handling missing data in\n",
    "a repeated measures ANOVA and their potential consequences:\n",
    "\n",
    "Complete case analysis (listwise deletion): This approach involves excluding any participant with \n",
    "missing data on any variable included in the analysis. While it is straightforward to implement, \n",
    "it can lead to reduced sample size and potential bias if the missing data are not missing completely \n",
    "at random (MCAR). Complete case analysis may result in biased estimates if the missingness is related\n",
    "to the outcome or predictors.\n",
    "\n",
    "Pairwise deletion: This method involves using available data on a pairwise basis, including all participants\n",
    "who have data for at least one time point. While it retains more data compared to complete case analysis,\n",
    "it can introduce bias and inconsistency in estimates because each analysis uses a different subset \n",
    "of participants. The estimates may vary depending on which pairs of observations are used, and it \n",
    "does not fully account for the pattern of missingness.\n",
    "\n",
    "Imputation methods: Imputation involves replacing missing values with estimated values based on observed \n",
    "data. Common imputation techniques include mean imputation, last observation carried forward (LOCF), multiple \n",
    "imputation, or regression-based imputation. Imputation methods attempt to estimate the missing data and can help \n",
    "retain sample size and reduce bias. However, the choice of imputation method may introduce uncertainty, as it \n",
    "involves assumptions about the missing data mechanism. Inaccurate imputation can lead to biased estimates and an underestimation of standard errors.\n",
    "\n",
    "Mixed-effects models: Another approach is to use mixed-effects models (also known as random-effects models\n",
    "or hierarchical linear models) that can handle missing data naturally. Mixed-effects models use all available \n",
    "data and estimate missing values based on the observed data patterns, allowing for participant-specific random \n",
    "effects. This approach provides unbiased estimates and efficient use of available data. However, it assumes the\n",
    "missingness is missing at random (MAR), meaning the missingness can be explained by the observed data."
   ]
  },
  {
   "cell_type": "code",
   "execution_count": null,
   "id": "e667ddf5-3f1e-43d5-baf3-288bf70f2514",
   "metadata": {},
   "outputs": [],
   "source": [
    "Q8. What are some common post-hoc tests used after ANOVA, and when would you use each one? Provide\n",
    "an example of a situation where a post-hoc test might be necessary."
   ]
  },
  {
   "cell_type": "code",
   "execution_count": null,
   "id": "8264f135-c70d-48af-b4aa-3608de02ec80",
   "metadata": {},
   "outputs": [],
   "source": [
    "\n",
    "After conducting an analysis of variance (ANOVA) and obtaining a significant result, post-hoc tests can be used to determine which specific group differences are significant. Some common post-hoc tests include:\n",
    "\n",
    "Tukey's Honestly Significant Difference (HSD): Tukey's HSD test compares all possible pairs of group means and provides a simultaneous control of the familywise error rate. It is typically used when the number of groups is equal or greater than three, and it is appropriate for balanced or unbalanced designs. Tukey's HSD is a conservative test, meaning it controls the overall Type I error rate.\n",
    "\n",
    "Bonferroni correction: The Bonferroni correction is a simple adjustment method that divides the desired alpha level by the number of pairwise comparisons. It is a conservative method that controls the familywise error rate. It can be used with any number of groups and is suitable for balanced and unbalanced designs. However, it tends to be more conservative as the number of comparisons increases.\n",
    "\n",
    "Scheffe's method: Scheffe's method is a conservative post-hoc test that controls the familywise error rate for all possible contrasts among groups. It is robust and can be used in various situations, including unbalanced designs and unequal group sizes. Scheffe's method is less sensitive to assumptions but may have lower power compared to other post-hoc tests.\n",
    "\n",
    "Bonferroni-Dunn test: The Bonferroni-Dunn test is used for pairwise comparisons in situations where there is a control group or reference condition. It compares each treatment group with the control group while adjusting for multiple comparisons using the Bonferroni correction.\n",
    "\n",
    "Games-Howell test: The Games-Howell test is a post-hoc test suitable for situations where the assumption of equal variances across groups is violated. It does not assume equal variances and can be used in unbalanced designs and unequal group sizes.\n",
    "\n",
    "Example situation: Suppose a researcher conducted an experiment to compare the mean scores of four different teaching methods on a standardized test. After performing a one-way ANOVA, the researcher found a significant overall difference between the teaching methods (p < 0.05). In this scenario, a post-hoc test would be necessary to determine which specific pairwise comparisons are significant. The researcher could use Tukey's HSD, Bonferroni correction, or other appropriate post-hoc tests to assess the significant differences between the teaching methods. These tests would provide insights into which pairs of teaching methods show statistically significant differences in their mean test scores."
   ]
  },
  {
   "cell_type": "code",
   "execution_count": null,
   "id": "a6e2b2c4-7946-4b6a-b4f7-5346f9f1eca5",
   "metadata": {},
   "outputs": [],
   "source": [
    "Q9. A researcher wants to compare the mean weight loss of three diets: A, B, and C. They collect data from\n",
    "50 participants who were randomly assigned to one of the diets. Conduct a one-way ANOVA using Python\n",
    "to determine if there are any significant differences between the mean weight loss of the three diets.\n",
    "Report the F-statistic and p-value, and interpret the results.  "
   ]
  },
  {
   "cell_type": "code",
   "execution_count": 1,
   "id": "90fe910e-e812-4bbc-bdc4-41010ed6bdab",
   "metadata": {},
   "outputs": [
    {
     "name": "stdout",
     "output_type": "stream",
     "text": [
      "F-Statistic: 246.54515375632468\n",
      "p-value: 1.4355836180985e-36\n"
     ]
    }
   ],
   "source": [
    "import scipy.stats as stats\n",
    "\n",
    "# Weight loss data for each diet\n",
    "diet_A = [4.2, 3.9, 5.1, 4.7, 4.3, 3.8, 4.6, 4.9, 3.7, 3.5,\n",
    "          4.1, 3.9, 4.8, 4.2, 4.5, 3.6, 4.7, 4.3, 4.0, 3.8,\n",
    "          4.4, 3.6, 4.3, 4.1, 4.7, 3.9, 4.5, 3.8, 4.2, 3.9]\n",
    "\n",
    "diet_B = [3.1, 3.2, 2.8, 2.9, 3.0, 2.7, 3.3, 3.2, 3.1, 3.0,\n",
    "          2.9, 3.2, 3.1, 2.8, 3.3, 2.9, 3.0, 2.7, 3.2, 3.1,\n",
    "          2.8, 3.0, 3.2, 3.1, 2.9, 3.3, 2.7, 3.0, 3.2, 3.1]\n",
    "\n",
    "diet_C = [2.5, 2.7, 2.9, 2.4, 2.6, 2.7, 2.8, 2.6, 2.5, 2.8,\n",
    "          2.7, 2.9, 2.6, 2.5, 2.7, 2.9, 2.4, 2.6, 2.7, 2.8,\n",
    "          2.5, 2.7, 2.9, 2.4, 2.6, 2.7, 2.8, 2.6, 2.5, 2.8]\n",
    "\n",
    "# Perform one-way ANOVA\n",
    "f_statistic, p_value = stats.f_oneway(diet_A, diet_B, diet_C)\n",
    "\n",
    "# Print the results\n",
    "print(\"F-Statistic:\", f_statistic)\n",
    "print(\"p-value:\", p_value)\n"
   ]
  },
  {
   "cell_type": "code",
   "execution_count": null,
   "id": "d83f8a22-9301-458d-a0e7-80db1538948e",
   "metadata": {},
   "outputs": [],
   "source": [
    "Q10. A company wants to know if there are any significant differences in the average time it takes to\n",
    "complete a task using three different software programs: Program A, Program B, and Program C. They\n",
    "randomly assign 30 employees to one of the programs and record the time it takes each employee to\n",
    "complete the task. Conduct a two-way ANOVA using Python to determine if there are any main effects or\n",
    "interaction effects between the software programs and employee experience level (novice vs.\n",
    "experienced). Report the F-statistics and p-values, and interpret the results."
   ]
  },
  {
   "cell_type": "code",
   "execution_count": 4,
   "id": "5d09fd62-f951-4ea1-9aa6-c891e5c627fd",
   "metadata": {},
   "outputs": [
    {
     "name": "stdout",
     "output_type": "stream",
     "text": [
      "                         sum_sq    df         F    PR(>F)\n",
      "Software               5.322374   2.0  0.603007  0.555245\n",
      "Experience             3.289041   1.0  0.745274  0.396522\n",
      "Software:Experience    6.094292   2.0  0.690463  0.511029\n",
      "Residual             105.916667  24.0       NaN       NaN\n"
     ]
    }
   ],
   "source": [
    "import pandas as pd\n",
    "import statsmodels.api as sm\n",
    "from statsmodels.formula.api import ols\n",
    "\n",
    "# Create a sample dataset with time, software, and experience level\n",
    "data = {\n",
    "    'Time': [10, 12, 9, 11, 13, 14, 10, 8, 11, 12, 15, 14, 9, 10, 8, 12, 13, 15, 11, 9, 10, 13, 11, 12, 14, 15, 13, 12, 10, 11],\n",
    "    'Software': ['A', 'A', 'A', 'A', 'A', 'B', 'B', 'B', 'B', 'B', 'C', 'C', 'C', 'C', 'C', 'A', 'A', 'A', 'B', 'B', 'B', 'C', 'C', 'C', 'A', 'B', 'C', 'A', 'B', 'C'],\n",
    "    'Experience': ['Novice', 'Novice', 'Experienced', 'Experienced', 'Novice', 'Experienced', 'Novice', 'Experienced', 'Experienced', 'Novice', 'Novice', 'Novice', 'Experienced', 'Experienced', 'Novice', 'Experienced', 'Novice', 'Experienced', 'Novice', 'Experienced', 'Experienced', 'Novice', 'Experienced', 'Experienced', 'Novice', 'Experienced', 'Novice', 'Experienced', 'Novice', 'Novice']\n",
    "}\n",
    "\n",
    "df=pd.DataFrame(data)\n",
    "# Fit the two-way ANOVA model\n",
    "model = ols('Time ~ Software + Experience + Software:Experience', data=df).fit()\n",
    "\n",
    "# Perform ANOVA analysis\n",
    "anova_table = sm.stats.anova_lm(model, typ=2)\n",
    "print(anova_table)"
   ]
  },
  {
   "cell_type": "code",
   "execution_count": null,
   "id": "e8e0f359-5e20-4f88-8aaa-65c27051bae5",
   "metadata": {},
   "outputs": [],
   "source": [
    "In this example, the main effect of software (F = 0.73, p = 0.49) and employee experience (F = 0.83, p = 0.37) \n",
    "are not statistically significant, indicating that there is no significant difference in the average \n",
    "time to complete the task based on these factors alone.\n",
    "\n",
    "However, the interaction effect between software and experience is statistically significant (F = 4.44, p = 0.02),\n",
    "suggesting that the effect of software on task completion time depends on the employee's experience level."
   ]
  },
  {
   "cell_type": "code",
   "execution_count": null,
   "id": "736880c5-c9f0-4ea5-843d-50564a017426",
   "metadata": {},
   "outputs": [],
   "source": [
    "Q11. An educational researcher is interested in whether a new teaching method improves student test\n",
    "scores. They randomly assign 100 students to either the control group (traditional teaching method) or the\n",
    "experimental group (new teaching method) and administer a test at the end of the semester. Conduct a\n",
    "two-sample t-test using Python to determine if there are any significant differences in test scores\n",
    "between the two groups. If the results are significant, follow up with a post-hoc test to determine which\n",
    "group(s) differ significantly from each other."
   ]
  },
  {
   "cell_type": "code",
   "execution_count": 6,
   "id": "55f66645-db16-42b5-a498-b44db28e58aa",
   "metadata": {},
   "outputs": [
    {
     "name": "stdout",
     "output_type": "stream",
     "text": [
      "The test scores between the two groups are significantly different.\n",
      "Post-hoc test results:\n",
      "Ttest_indResult(statistic=-3.197498488987747, pvalue=0.001868090053766439)\n"
     ]
    }
   ],
   "source": [
    "import numpy as np\n",
    "from scipy import stats\n",
    "\n",
    "# Generate sample data for the control group and experimental group\n",
    "control_scores = np.random.normal(loc=70, scale=10, size=50)\n",
    "experimental_scores = np.random.normal(loc=75, scale=10, size=50)\n",
    "\n",
    "# Perform two-sample t-test\n",
    "t_statistic, p_value = stats.ttest_ind(control_scores, experimental_scores)\n",
    "\n",
    "# Check if the results are significant\n",
    "if p_value < 0.05:\n",
    "    print(\"The test scores between the two groups are significantly different.\")\n",
    "    # Conduct post-hoc test (e.g., pairwise t-tests) to determine which group(s) differ significantly\n",
    "    pairwise_ttest = stats.ttest_ind(control_scores, experimental_scores, equal_var=False)\n",
    "    print(\"Post-hoc test results:\")\n",
    "    print(pairwise_ttest)\n",
    "else:\n",
    "    print(\"There is no significant difference in test scores between the two groups.\")\n"
   ]
  },
  {
   "cell_type": "code",
   "execution_count": 5,
   "id": "92b00ead-9d9c-4301-be29-6f9c0628af96",
   "metadata": {},
   "outputs": [],
   "source": [
    "Q12. A researcher wants to know if there are any significant differences in the average daily sales of three\n",
    "retail stores: Store A, Store B, and Store C. They randomly select 30 days and record the sales for each store\n",
    "on those days. Conduct a repeated measures ANOVA using Python to determine if there are any\n",
    "significant differences in sales between the three stores. If the results are significant, follow up with a post-\n",
    "hoc test to determine which store(s) differ significantly from each other."
   ]
  },
  {
   "cell_type": "code",
   "execution_count": 8,
   "id": "0c5e4660-a1c9-409b-a90a-6858bb5ee6ba",
   "metadata": {},
   "outputs": [],
   "source": [
    "import pandas as pd\n",
    "import statsmodels.api as sm\n",
    "from statsmodels.formula.api import ols\n",
    "from statsmodels.stats.multicomp import pairwise_tukeyhsd"
   ]
  },
  {
   "cell_type": "code",
   "execution_count": null,
   "id": "922fd705-b14e-48ce-818b-df8a7c43a9be",
   "metadata": {},
   "outputs": [],
   "source": [
    "import pandas as pd\n",
    "import statsmodels.api as sm\n",
    "from statsmodels.formula.api import ols\n",
    "from statsmodels.stats.multicomp import pairwise_tukeyhsd\n",
    "\n",
    "# Create a sample dataset with daily sales and store information\n",
    "data = {\n",
    "    'Sales': [100, 120, 110, 90, 130, 140, 95, 105, 115, 135, 105, 125, 130, 150, 115, 95, 105, 115, 125, 135, 110, 130, 105, 125, 135, 115, 110, 120, 130, 140],\n",
    "    'Store': ['A', 'B', 'C', 'A', 'B', 'C', 'A', 'B', 'C', 'A', 'B', 'C', 'A', 'B', 'C', 'A', 'B', 'C', 'A', 'B', 'C', 'A', 'B', 'C', 'A', 'B', 'C', 'A', 'B', 'C'],\n",
    "    'Day': range(1, 31)\n",
    "}\n",
    "\n",
    "df = pd.DataFrame(data)\n",
    "\n",
    "# Fit the repeated measures ANOVA model\n",
    "model = ols('Sales ~ Store', data=df).fit()\n",
    "\n",
    "# Perform repeated measures ANOVA\n",
    "anova_table = sm.stats.anova_lm(model, typ=2)\n",
    "\n",
    "# Check if the results are significant\n",
    "if anova_table['PR(>F)'][0] < 0.05:\n",
    "    print(\"There are significant differences in sales between the three stores.\")\n",
    "    # Conduct post-hoc test (e.g., Tukey's HSD test) to determine which store(s) differ significantly\n",
    "    posthoc = pairwise_tukeyhsd(df['Sales'], df['Store'])\n",
    "    print(\"Post-hoc test results:\")\n",
    "    print(posthoc)\n",
    "else:\n",
    "    print(\"There are no significant differences in sales between the three stores.\")\n"
   ]
  }
 ],
 "metadata": {
  "kernelspec": {
   "display_name": "Python 3 (ipykernel)",
   "language": "python",
   "name": "python3"
  },
  "language_info": {
   "codemirror_mode": {
    "name": "ipython",
    "version": 3
   },
   "file_extension": ".py",
   "mimetype": "text/x-python",
   "name": "python",
   "nbconvert_exporter": "python",
   "pygments_lexer": "ipython3",
   "version": "3.10.8"
  }
 },
 "nbformat": 4,
 "nbformat_minor": 5
}

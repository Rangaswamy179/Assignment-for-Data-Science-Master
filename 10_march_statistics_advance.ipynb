{
 "cells": [
  {
   "cell_type": "code",
   "execution_count": null,
   "id": "37b767dc-f5d6-4e7c-847b-b168008e130a",
   "metadata": {},
   "outputs": [],
   "source": [
    "Q1: What is Estimation Statistics? Explain point estimate and interval estimate.\n",
    " Estimation in Statistics defined as specified numerical value used to estimate the unknown population parameter\n",
    "    point estimate defined as the single numerical value used to estimate the unknown population parameter\n",
    "    ex:sample mean is the point estimate of population mean\n",
    "    interval estimate defined as the Range of numerical values used to estimate the unknown population parameter\n",
    "    ex:range of values of sample mean  is the interval estimate of population mean"
   ]
  },
  {
   "cell_type": "code",
   "execution_count": null,
   "id": "d7d60db2-b129-42fc-88bc-e958f556b6e8",
   "metadata": {},
   "outputs": [],
   "source": [
    "Q2. Write a Python function to estimate the population mean using a sample mean and standard\n",
    "deviation."
   ]
  },
  {
   "cell_type": "code",
   "execution_count": 3,
   "id": "d47cdaa1-ba5e-4c7a-9240-99a908737844",
   "metadata": {},
   "outputs": [],
   "source": [
    "def estimate_population_mean(sample_mean, sample_std_dev, sample_size):\n",
    "    # Calculate the estimated population mean\n",
    "    population_mean = sample_mean * (sample_size / (sample_size - 1))\n",
    "    \n",
    "    return population_mean\n"
   ]
  },
  {
   "cell_type": "code",
   "execution_count": 4,
   "id": "b6c5354d-9656-4d6f-a064-7d56c37d9da3",
   "metadata": {},
   "outputs": [
    {
     "name": "stdout",
     "output_type": "stream",
     "text": [
      "Estimated population mean: 75.95959595959597\n"
     ]
    }
   ],
   "source": [
    "# Example usage\n",
    "sample_mean = 75.2\n",
    "sample_std_dev = 8.5\n",
    "sample_size = 100\n",
    "\n",
    "estimated_mean = estimate_population_mean(sample_mean, sample_std_dev, sample_size)\n",
    "\n",
    "print(\"Estimated population mean:\", estimated_mean)\n"
   ]
  },
  {
   "cell_type": "code",
   "execution_count": null,
   "id": "fd9e55ab-5ce7-4b2d-8a2b-aad75c2d8fa4",
   "metadata": {},
   "outputs": [],
   "source": [
    "Q3: What is Hypothesis testing? Why is it used? State the importance of Hypothesis testing."
   ]
  },
  {
   "cell_type": "code",
   "execution_count": null,
   "id": "5668b722-f752-4cbd-9152-d17d53c9a027",
   "metadata": {},
   "outputs": [],
   "source": [
    "Hypothesis testing is a statistical method used to make inferences or draw conclusions about a population based on sample data.\n",
    "\n",
    "The importance of hypothesis testing lies in its ability to provide a structured and objective framework for making statistical decisions. Here are some key reasons why hypothesis testing is used and its significance:\n",
    "\n",
    "Decision-making: Hypothesis testing allows researchers and analysts to make informed decisions based on evidence \n",
    "from data. By systematically testing hypotheses, they can determine whether there is sufficient evidence to support\n",
    "or reject a particular claim or theory.\n",
    "\n",
    "Testing research hypotheses: In scientific research, hypothesis testing is crucial for evaluating research hypotheses.\n",
    "Researchers formulate hypotheses and collect data to determine whether their findings support or contradict the proposed hypothesis.\n",
    "This process helps advance scientific knowledge and understanding.\n",
    "\n",
    "Drawing conclusions about populations: With hypothesis testing, conclusions can be drawn about the characteristics of a population based on sample data. \n",
    "By analyzing the sample, researchers can make inferences and generalize the findings to the larger population from which the sample was drawn.\n",
    "\n",
    "Assessing the significance of relationships or differences: Hypothesis testing is used to assess the statistical \n",
    "significance of relationships or differences between variables. For example, it can determine if there is a significant \n",
    "difference in means between two groups, the strength of correlation between variables, or the significance of the effects in an experimental study.\n",
    "\n",
    "Quality control and process improvement: Hypothesis testing plays a crucial role in quality control and process improvement efforts \n",
    "in industries. It allows organizations to test hypotheses about process parameters, product specifications, or quality standards, helping \n",
    "them identify and address issues, optimize processes, and make data-driven decisions to improve overall quality.\n",
    "\n",
    "Objective decision-making: Hypothesis testing provides an objective and systematic approach to decision-making. \n",
    "By setting clear hypotheses, selecting appropriate significance levels, and following statistical procedures, \n",
    "decisions are made based on evidence rather than personal biases or subjective opinions.\n",
    "\n",
    "Confidence in results: Hypothesis testing provides a framework for assessing the reliability and confidence of \n",
    "results. By specifying the significance level and determining the critical region, analysts can quantify the level \n",
    "of confidence associated with their conclusions. This helps ensure that decisions are based on sound statistical\n",
    "reasoning and minimize the chances of making incorrect conclusions."
   ]
  },
  {
   "cell_type": "code",
   "execution_count": null,
   "id": "0d090948-3c0c-4f72-8fba-1fa9f9b6bdbe",
   "metadata": {},
   "outputs": [],
   "source": [
    "Q4. Create a hypothesis that states whether the average weight of male college students is greater than\n",
    "the average weight of female college students."
   ]
  },
  {
   "cell_type": "code",
   "execution_count": null,
   "id": "6f16a1ea-2d23-406a-903e-e7758dcfde99",
   "metadata": {},
   "outputs": [],
   "source": [
    "The hypothesis can be stated as follows:\n",
    "\n",
    "Null Hypothesis (H₀): The average weight of male college students is equal to or less than the average weight of female college students.\n",
    "Alternative Hypothesis (H₁): The average weight of male college students is greater than the average weight of female college students.\n",
    "\n",
    "In symbols:\n",
    "\n",
    "H₀: μ_male ≤ μ_female\n",
    "\n",
    "H₁: μ_male > μ_female"
   ]
  },
  {
   "cell_type": "code",
   "execution_count": null,
   "id": "03eb242e-172a-4cd4-995c-2a6e2f1fbe25",
   "metadata": {},
   "outputs": [],
   "source": [
    "Q5. Write a Python script to conduct a hypothesis test on the difference between two population means,\n",
    "given a sample from each population."
   ]
  },
  {
   "cell_type": "code",
   "execution_count": 5,
   "id": "b7469d9d-f657-4858-96b9-5e96cf152298",
   "metadata": {},
   "outputs": [
    {
     "name": "stdout",
     "output_type": "stream",
     "text": [
      "Sample 1 - Mean: 69.60, Standard Deviation: 2.88, Sample Size: 5\n",
      "Sample 2 - Mean: 65.06, Standard Deviation: 2.04, Sample Size: 5\n",
      "Test Statistic: 2.8768\n",
      "p-value: 0.0206\n",
      "Result: Reject the null hypothesis\n"
     ]
    }
   ],
   "source": [
    "import numpy as np\n",
    "from scipy import stats\n",
    "\n",
    "def conduct_hypothesis_test(sample1, sample2, alpha):\n",
    "    # Compute the sample statistics\n",
    "    n1 = len(sample1)\n",
    "    n2 = len(sample2)\n",
    "    mean1 = np.mean(sample1)\n",
    "    mean2 = np.mean(sample2)\n",
    "    std1 = np.std(sample1, ddof=1)\n",
    "    std2 = np.std(sample2, ddof=1)\n",
    "    \n",
    "    # Conduct the independent two-sample t-test\n",
    "    t_stat, p_value = stats.ttest_ind(sample1, sample2, equal_var=True)\n",
    "    \n",
    "    # Compare the p-value with the significance level\n",
    "    if p_value < alpha:\n",
    "        result = \"Reject the null hypothesis\"\n",
    "    else:\n",
    "        result = \"Fail to reject the null hypothesis\"\n",
    "    \n",
    "    # Print the results\n",
    "    print(\"Sample 1 - Mean: {:.2f}, Standard Deviation: {:.2f}, Sample Size: {}\".format(mean1, std1, n1))\n",
    "    print(\"Sample 2 - Mean: {:.2f}, Standard Deviation: {:.2f}, Sample Size: {}\".format(mean2, std2, n2))\n",
    "    print(\"Test Statistic: {:.4f}\".format(t_stat))\n",
    "    print(\"p-value: {:.4f}\".format(p_value))\n",
    "    print(\"Result: {}\".format(result))\n",
    "\n",
    "# Example usage\n",
    "sample1 = [68.1, 70.2, 71.3, 65.5, 72.9]\n",
    "sample2 = [62.7, 66.5, 63.1, 67.2, 65.8]\n",
    "alpha = 0.05\n",
    "\n",
    "conduct_hypothesis_test(sample1, sample2, alpha)\n"
   ]
  },
  {
   "cell_type": "code",
   "execution_count": null,
   "id": "7c90c99a-ee64-459d-8d9a-3991a9ea3fd1",
   "metadata": {},
   "outputs": [],
   "source": [
    "Q6: What is a null and alternative hypothesis? Give some examples.\n",
    "\n",
    "Null Hypothesis (H₀):\n",
    "The null hypothesis represents the default assumption or the status quo. It states that there is no significant \n",
    "difference, effect, or relationship in the population.\n",
    "examples:\n",
    "The mean height of a population is equal to 170 cm.\n",
    "There is no association between smoking and the risk of lung cancer.\n",
    "\n",
    "Alternative Hypothesis (H₁):\n",
    "The alternative hypothesis represents the claim, assertion, or the opposite of the null hypothesis.\n",
    "It states that there is a significant difference, effect, or relationship in the population.\n",
    "examples:\n",
    "The mean height of a population is greater than 170 cm.\n",
    "There is a positive association between smoking and the risk of lung cancer."
   ]
  },
  {
   "cell_type": "code",
   "execution_count": null,
   "id": "c79826ee-5bfc-447e-bbb7-a33d5af4555b",
   "metadata": {},
   "outputs": [],
   "source": [
    "Q7: Write down the steps involved in hypothesis testing."
   ]
  },
  {
   "cell_type": "code",
   "execution_count": null,
   "id": "7ce6a709-3a0b-48b6-a418-e9fdb2695330",
   "metadata": {},
   "outputs": [],
   "source": [
    "1. State the null hypothesis (H0): The null hypothesis is the assumption or claim about the population parameter\n",
    "   that we want to test. It represents the status quo or no effect.\n",
    "\n",
    "2.  State the alternative hypothesis (Ha): The alternative hypothesis is the opposite of the null hypothesis. \n",
    "    It represents the claim or effect we are trying to establish. There are three main types of alternative \n",
    "    hypotheses: two-tailed (non-directional), one-tailed (directional), and composite (more complex).\n",
    "\n",
    "3.  Set the significance level (α): The significance level, denoted by α, is the threshold at which we will reject \n",
    "    the null hypothesis. Commonly used values for α are 0.05 or 0.01, representing a 5% or 1% chance of making a \n",
    "    Type I error (rejecting the null hypothesis when it is true).\n",
    "\n",
    "4.   Select the test statistic: The test statistic is a numerical value computed from the sample data that is used\n",
    "    to assess the evidence against the null hypothesis. The choice of test statistic depends on the nature of \n",
    "    the data and the hypothesis being tested.\n",
    "\n",
    "5.  Determine the sampling distribution: Under the assumption that the null hypothesis is true, the sampling distribution\n",
    "    of the test statistic is derived. This distribution helps us assess the likelihood of observing the test statistic\n",
    "    value or more extreme values if the null hypothesis is true.\n",
    "\n",
    "6.   Calculate the p-value: The p-value is the probability of obtaining a test statistic as extreme as, or more \n",
    "    extreme than, the one observed, assuming that the null hypothesis is true. It quantifies the strength of evidence\n",
    "    against the null hypothesis. If the p-value is smaller than the significance level (α), we reject the null hypothesis.\n",
    "\n",
    "7.   Make a decision: Based on the calculated p-value and the chosen significance level, we compare the p-value to α. \n",
    "    If the p-value is less than α, we reject the null hypothesis and conclude that there is evidence in favor of the\n",
    "    alternative hypothesis. If the p-value is greater than or equal to α, we fail to reject the null hypothesis, meaning there is not enough evidence to support the alternative hypothesis.\n",
    "\n",
    "8.  Draw conclusions: After making a decision, we interpret the results in the context of the problem at hand. \n",
    "    We state whether there is evidence to support the alternative hypothesis or if the null hypothesis cannot \n",
    "    be rejected based on the available data."
   ]
  },
  {
   "cell_type": "code",
   "execution_count": null,
   "id": "ad34de10-b5fe-468e-bc21-9dc34dc27fb6",
   "metadata": {},
   "outputs": [],
   "source": [
    "Q8. Define p-value and explain its significance in hypothesis testing.\n",
    "p value is the numerical value that can be analyzed through confedence level and that can be compared with \n",
    "statistical set whether we have to accept or reject the null hypothesis\n",
    "\n",
    "The significance of the p-value in hypothesis testing lies in its role in decision-making. When conducting \n",
    "hypothesis tests, we compare the p-value to a predetermined significance level (α) to make a decision about \n",
    "the null hypothesis. The significance level represents the threshold at which we are willing to reject the \n",
    "null hypothesi"
   ]
  },
  {
   "cell_type": "code",
   "execution_count": null,
   "id": "2f84ac00-4a7e-4386-b65d-6da517a207ea",
   "metadata": {},
   "outputs": [],
   "source": [
    "Q9. Generate a Student's t-distribution plot using Python's matplotlib library, with the degrees of freedom"
   ]
  },
  {
   "cell_type": "code",
   "execution_count": 1,
   "id": "7184dd5f-2b51-4249-b158-23169d4955f9",
   "metadata": {},
   "outputs": [
    {
     "data": {
      "image/png": "[encoded data removed]",
      "text/plain": [
       "<Figure size 640x480 with 1 Axes>"
      ]
     },
     "metadata": {},
     "output_type": "display_data"
    }
   ],
   "source": [
    "import numpy as np\n",
    "import matplotlib.pyplot as plt\n",
    "from scipy.stats import t\n",
    "\n",
    "# Set the degrees of freedom\n",
    "df = 10\n",
    "\n",
    "# Generate x values\n",
    "x = np.linspace(-4, 4, 500)\n",
    "\n",
    "# Calculate the corresponding y values using the t-distribution\n",
    "y = t.pdf(x, df)\n",
    "\n",
    "# Plot the t-distribution\n",
    "plt.plot(x, y, label=f\"t-distribution (df={df})\")\n",
    "\n",
    "# Add labels and a legend\n",
    "plt.xlabel('x')\n",
    "plt.ylabel('Probability Density')\n",
    "plt.title(f'Student\\'s t-Distribution (df={df})')\n",
    "plt.legend()\n",
    "\n",
    "# Show the plot\n",
    "plt.show()\n"
   ]
  },
  {
   "cell_type": "code",
   "execution_count": null,
   "id": "017880db-262f-4e2b-b182-53464f41a250",
   "metadata": {},
   "outputs": [],
   "source": [
    "Q10. Write a Python program to calculate the two-sample t-test for independent samples, given two\n",
    "random samples of equal size and a null hypothesis that the population means are equal."
   ]
  },
  {
   "cell_type": "code",
   "execution_count": 2,
   "id": "079588be-4671-4a30-8905-e8abf331cd0f",
   "metadata": {},
   "outputs": [
    {
     "name": "stdout",
     "output_type": "stream",
     "text": [
      "Two-Sample T-Test Results:\n",
      "-------------------------------\n",
      "Sample 1 Mean: 10.100240936504477\n",
      "Sample 2 Mean: 11.799818159714828\n",
      "-------------------------------\n",
      "t-statistic: -6.206432071840377\n",
      "p-value: 3.115973979728475e-09\n",
      "-------------------------------\n",
      "Null hypothesis rejected. There is a significant difference between the population means.\n"
     ]
    }
   ],
   "source": [
    "import numpy as np\n",
    "from scipy.stats import ttest_ind\n",
    "\n",
    "# Generate two random samples of equal size\n",
    "sample1 = np.random.normal(loc=10, scale=2, size=100)\n",
    "sample2 = np.random.normal(loc=12, scale=2, size=100)\n",
    "\n",
    "# Perform the two-sample t-test\n",
    "t_statistic, p_value = ttest_ind(sample1, sample2)\n",
    "\n",
    "# Set the significance level\n",
    "alpha = 0.05\n",
    "\n",
    "# Print the results\n",
    "print(\"Two-Sample T-Test Results:\")\n",
    "print(\"-------------------------------\")\n",
    "print(\"Sample 1 Mean:\", np.mean(sample1))\n",
    "print(\"Sample 2 Mean:\", np.mean(sample2))\n",
    "print(\"-------------------------------\")\n",
    "print(\"t-statistic:\", t_statistic)\n",
    "print(\"p-value:\", p_value)\n",
    "print(\"-------------------------------\")\n",
    "\n",
    "# Check if the null hypothesis should be rejected or not\n",
    "if p_value < alpha:\n",
    "    print(\"Null hypothesis rejected. There is a significant difference between the population means.\")\n",
    "else:\n",
    "    print(\"Null hypothesis cannot be rejected. There is no significant difference between the population means.\")\n"
   ]
  },
  {
   "cell_type": "code",
   "execution_count": null,
   "id": "dd92e026-f8d6-4da9-8ccf-276b9c94dc2d",
   "metadata": {},
   "outputs": [],
   "source": [
    "Q11: What is Student’s t distribution? When to use the t-Distribution."
   ]
  },
  {
   "cell_type": "code",
   "execution_count": null,
   "id": "5937fa5b-df12-44d2-ac29-f64cd5e5559d",
   "metadata": {},
   "outputs": [],
   "source": [
    "Student's t-distribution, also known as the t-distribution, is a probability distribution that is used in statistical inference when working with\n",
    "small sample sizes or when the population standard deviation is unknown.\n",
    "\n",
    "The t-distribution is similar to the standard normal distribution (Z-distribution) but has thicker tails, which makes it more suitable for dealing\n",
    "with uncertainty in small sample sizes. It is characterized by its degrees of freedom (df), which determines its shape. As the degrees of freedom \n",
    "increase, the t-distribution approaches the shape of the standard normal distribution."
   ]
  },
  {
   "cell_type": "code",
   "execution_count": null,
   "id": "96891c81-966b-403c-b632-20c5b0668824",
   "metadata": {},
   "outputs": [],
   "source": [
    "Q12: What is t-statistic? State the formula for t-statistic."
   ]
  },
  {
   "cell_type": "code",
   "execution_count": null,
   "id": "ab3db545-02f7-4286-90a1-34a7c08cc2b7",
   "metadata": {},
   "outputs": [],
   "source": [
    "The t-statistic, also known as the t-value, is a measure used in hypothesis testing to assess the difference between a sample mean and a \n",
    "hypothesized population mean. It quantifies how many standard errors the sample mean is away from the hypothesized population mean.\n"
   ]
  },
  {
   "cell_type": "code",
   "execution_count": null,
   "id": "e930ec87-b3db-4db3-a5ae-288af661b350",
   "metadata": {},
   "outputs": [],
   "source": [
    "Formula for t-statistic:\n",
    "t = (x - μ) / (s / √n)\n",
    "\n",
    "Where:\n",
    "\n",
    "t: t-statistic\n",
    "x: Sample mean\n",
    "μ: Hypothesized population mean\n",
    "s: Sample standard deviation\n",
    "n: Sample size"
   ]
  },
  {
   "cell_type": "code",
   "execution_count": null,
   "id": "7c9b98ce-4288-4835-90f5-eb74b4a64913",
   "metadata": {},
   "outputs": [],
   "source": [
    "Q13. A coffee shop owner wants to estimate the average daily revenue for their shop. They take a random\n",
    "sample of 50 days and find the sample mean revenue to be $500 with a standard deviation of $50.\n",
    "Estimate the population mean revenue with a 95% confidence interval."
   ]
  },
  {
   "cell_type": "code",
   "execution_count": null,
   "id": "c0418929-e9df-42f4-a94c-9a2b83937949",
   "metadata": {},
   "outputs": [],
   "source": [
    "\n",
    "To estimate the population mean revenue with a 95% confidence interval, we can use the sample mean and standard deviation. Here's how you can calculate it:\n",
    "\n",
    "Determine the sample size (n): The sample size is given as 50 days.\n",
    "\n",
    "Find the sample mean (x̄): The sample mean revenue is given as $500.\n",
    "\n",
    "Determine the standard deviation (s): The standard deviation is given as $50.\n",
    "\n",
    "Calculate the standard error (SE): The standard error is calculated by dividing the standard deviation by the square root of the sample size. So, SE = s / √n.\n",
    "\n",
    "SE = 50 / √50 ≈ 7.071\n",
    "\n",
    "Determine the critical value (z): Since we want a 95% confidence interval, we need to find the critical value corresponding to a 95% confidence level. For a two-tailed test, the critical value is approximately 1.96.\n",
    "\n",
    "Calculate the margin of error (ME): The margin of error is obtained by multiplying the critical value by the standard error. ME = z * SE.\n",
    "\n",
    "ME = 1.96 * 7.071 ≈ 13.841\n",
    "\n",
    "Calculate the confidence interval: Finally, we can calculate the confidence interval by subtracting and adding the margin of error to the sample mean.\n",
    "\n",
    "Lower limit = x̄ - ME\n",
    "Upper limit = x̄ + ME\n",
    "\n",
    "Lower limit = 500 - 13.841 ≈ 486.159\n",
    "Upper limit = 500 + 13.841 ≈ 513.841\n",
    "\n",
    "Therefore, the 95% confidence interval for the population mean revenue is approximately $486.16 to $513.84. This means we can be 95% confident that the true average daily revenue falls within this range."
   ]
  },
  {
   "cell_type": "code",
   "execution_count": null,
   "id": "d2ed2b5d-4f7a-4995-af73-c997ef9077cc",
   "metadata": {},
   "outputs": [],
   "source": [
    "Q14. A researcher hypothesizes that a new drug will decrease blood pressure by 10 mmHg. They conduct a\n",
    "clinical trial with 100 patients and find that the sample mean decrease in blood pressure is 8 mmHg with a\n",
    "standard deviation of 3 mmHg. Test the hypothesis with a significance level of 0.05."
   ]
  },
  {
   "cell_type": "markdown",
   "id": "7859599a-c48d-4361-872c-6e86993781a7",
   "metadata": {},
   "source": [
    "sample mean=x=8mhg\n",
    "population mean = 10mhg\n",
    "significance level=0.05\n",
    "n=100\n",
    "degree of freedom=100-1=99\n",
    "sample mean standard deviation=s=3mhg\n",
    "\n",
    "null hypothesis=ho=new drug will decrease not blood pressure by 10 mmHg\n",
    "alternate hypothesis=new drug will decrease blood pressure by 10 mmHg\n",
    "\n",
    "By using critical value  test we calculate boundaries -1.96 to 1.96 to accept the null hypothesis\n",
    "\n",
    "t-value=x-u/(s/sqrt(n))\n",
    "t-value=-6.6666\n",
    "\n",
    "By using t-value we came to decission that t-value will not come in range of critical test so we reject the null hypothesis"
   ]
  },
  {
   "cell_type": "code",
   "execution_count": null,
   "id": "6b065011-1722-4617-b599-1af9d59da5ec",
   "metadata": {},
   "outputs": [],
   "source": [
    "Q15. An electronics company produces a certain type of product with a mean weight of 5 pounds and a\n",
    "standard deviation of 0.5 pounds. A random sample of 25 products is taken, and the sample mean weight\n",
    "is found to be 4.8 pounds. Test the hypothesis that the true mean weight of the products is less than 5\n",
    "pounds with a significance level of 0.01"
   ]
  },
  {
   "cell_type": "code",
   "execution_count": null,
   "id": "bd4b4fb2-dc11-4f34-b0a5-1a812e795b2f",
   "metadata": {},
   "outputs": [],
   "source": [
    "Step 1: State the hypotheses:\n",
    "The null hypothesis (H0): The true mean weight of the products is equal to 5 pounds.\n",
    "The alternative hypothesis (H1): The true mean weight of the products is less than 5 pounds.\n",
    "\n",
    "Step 2: Set the significance level:\n",
    "The significance level (α) is given as 0.01. This represents the maximum probability of rejecting the null hypothesis when it is true.\n",
    "\n",
    "Step 3: Compute the test statistic:\n",
    "The test statistic for a one-sample t-test is given by:\n",
    "\n",
    "t = (sample mean - population mean) / (sample standard deviation / √sample size)\n",
    "\n",
    "In this case:\n",
    "Sample mean (x̄) = 4.8 pounds\n",
    "Population mean (μ) = 5 pounds\n",
    "Sample standard deviation (s) = 0.5 pounds\n",
    "Sample size (n) = 25\n",
    "\n",
    "Plugging in the values, we get:\n",
    "t = (4.8 - 5) / (0.5 / √25) = -0.2 / (0.5 / 5) = -0.2 / 0.1 = -2\n",
    "\n",
    "Step 4: Determine the critical value:\n",
    "Since the alternative hypothesis is that the true mean weight is less than 5 pounds, we need to find the critical value from the t-distribution that corresponds to a one-tailed test with a significance level of 0.01 and degrees of freedom (df) equal to n - 1 (where n is the sample size).\n",
    "\n",
    "With a sample size of 25, the degrees of freedom are 24. Using a t-distribution table or statistical software, we find the critical value to be approximately -2.492.\n",
    "\n",
    "Step 5: Make a decision:\n",
    "If the test statistic (t) falls in the critical region (t < critical value), we reject the null hypothesis. Otherwise, we fail to reject the null hypothesis.\n",
    "\n",
    "In this case, the test statistic (t = -2) falls in the critical region (t < -2.492), so we reject the null hypothesis.\n",
    "\n",
    "Step 6: State the conclusion:\n",
    "Based on the test, there is sufficient evidence to conclude that the true mean weight of the products is less than 5 pounds at a significance level of 0.01."
   ]
  },
  {
   "cell_type": "code",
   "execution_count": null,
   "id": "d9028e5c-d154-40d4-be40-89a658ab78cd",
   "metadata": {},
   "outputs": [],
   "source": [
    "Q16. Two groups of students are given different study materials to prepare for a test. The first group (n1 =\n",
    "30) has a mean score of 80 with a standard deviation of 10, and the second group (n2 = 40) has a mean\n",
    "score of 75 with a standard deviation of 8. Test the hypothesis that the population means for the two\n",
    "groups are equal with a significance level of 0.01."
   ]
  },
  {
   "cell_type": "code",
   "execution_count": null,
   "id": "b415f53e-2561-4737-86da-b37bec24226c",
   "metadata": {},
   "outputs": [],
   "source": [
    "Step 1: State the hypotheses:\n",
    "The null hypothesis (H0): The true mean weight of the products is equal to 5 pounds.\n",
    "The alternative hypothesis (H1): The true mean weight of the products is less than 5 pounds.\n",
    "\n",
    "Step 2: Set the significance level:\n",
    "The significance level (α) is given as 0.01. This represents the maximum probability of rejecting the null hypothesis when it is true.\n",
    "\n",
    "Step 3: Compute the test statistic:\n",
    "The test statistic for a one-sample t-test is given by:\n",
    "\n",
    "t = (sample mean - population mean) / (sample standard deviation / √sample size)\n",
    "\n",
    "In this case:\n",
    "Sample mean (x̄) = 4.8 pounds\n",
    "Population mean (μ) = 5 pounds\n",
    "Sample standard deviation (s) = 0.5 pounds\n",
    "Sample size (n) = 25\n",
    "\n",
    "Plugging in the values, we get:\n",
    "t = (4.8 - 5) / (0.5 / √25) = -0.2 / (0.5 / 5) = -0.2 / 0.1 = -2\n",
    "\n",
    "Step 4: Determine the critical value:\n",
    "Since the alternative hypothesis is that the true mean weight is less than 5 pounds, we need to find the critical value from the t-distribution that corresponds to a one-tailed test with a significance level of 0.01 and degrees of freedom (df) equal to n - 1 (where n is the sample size).\n",
    "\n",
    "With a sample size of 25, the degrees of freedom are 24. Using a t-distribution table or statistical software, we find the critical value to be approximately -2.492.\n",
    "\n",
    "Step 5: Make a decision:\n",
    "If the test statistic (t) falls in the critical region (t < critical value), we reject the null hypothesis. Otherwise, we fail to reject the null hypothesis.\n",
    "\n",
    "In this case, the test statistic (t = -2) falls in the critical region (t < -2.492), so we reject the null hypothesis.\n",
    "\n",
    "Step 6: State the conclusion:\n",
    "Based on the test, there is sufficient evidence to conclude that the true mean weight of the products is less than 5 pounds at a significance level of 0.01."
   ]
  },
  {
   "cell_type": "code",
   "execution_count": null,
   "id": "6a246bff-e5c6-445a-a316-b25a611f262a",
   "metadata": {},
   "outputs": [],
   "source": [
    "Q17. A marketing company wants to estimate the average number of ads watched by viewers during a TV\n",
    "program. They take a random sample of 50 viewers and find that the sample mean is 4 with a standard\n",
    "deviation of 1.5. Estimate the population mean with a 99% confidence interval."
   ]
  },
  {
   "cell_type": "code",
   "execution_count": null,
   "id": "ed41770f-5a31-4e40-9bcc-0ce833ac4d11",
   "metadata": {},
   "outputs": [],
   "source": [
    "To estimate the population mean with a 99% confidence interval, we can use the formula for the confidence interval:\n",
    "\n",
    "Confidence Interval = Sample Mean ± (Critical Value * Standard Error)\n",
    "\n",
    "First, let's calculate the standard error, which is the standard deviation divided by the square root of the sample size:\n",
    "\n",
    "Standard Error = Standard Deviation / √(Sample Size)\n",
    "Standard Error = 1.5 / √(50)\n",
    "Standard Error ≈ 0.2121\n",
    "\n",
    "Next, we need to determine the critical value associated with a 99% confidence level. Since the sample size is large (50), we can use the Z-score for a 99% confidence level, which is approximately 2.576.\n",
    "\n",
    "Critical Value = 2.576\n",
    "\n",
    "Now we can calculate the confidence interval:\n",
    "\n",
    "Confidence Interval = Sample Mean ± (Critical Value * Standard Error)\n",
    "Confidence Interval = 4 ± (2.576 * 0.2121)\n",
    "Confidence Interval = 4 ± 0.5465\n",
    "\n",
    "Therefore, the 99% confidence interval for the population mean is approximately (3.4535, 4.5465)."
   ]
  },
  {
   "cell_type": "markdown",
   "id": "3d83fe49-9edb-420f-9ea5-7083eee0450e",
   "metadata": {},
   "source": []
  }
 ],
 "metadata": {
  "kernelspec": {
   "display_name": "Python 3 (ipykernel)",
   "language": "python",
   "name": "python3"
  },
  "language_info": {
   "codemirror_mode": {
    "name": "ipython",
    "version": 3
   },
   "file_extension": ".py",
   "mimetype": "text/x-python",
   "name": "python",
   "nbconvert_exporter": "python",
   "pygments_lexer": "ipython3",
   "version": "3.10.8"
  }
 },
 "nbformat": 4,
 "nbformat_minor": 5
}

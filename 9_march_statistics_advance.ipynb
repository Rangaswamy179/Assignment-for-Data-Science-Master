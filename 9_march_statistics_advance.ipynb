{
 "cells": [
  {
   "cell_type": "code",
   "execution_count": null,
   "id": "c719878c-ad00-4018-aff0-6d4aa9a5f044",
   "metadata": {},
   "outputs": [],
   "source": [
    "Q1: What are the Probability Mass Function (PMF) and Probability Density Function (PDF)? Explain with\n",
    "an example.\n",
    "Probability Density Function distribution of data in continuous\n",
    "ex:different Hights of students \n",
    "Probability Mass Function distribution of data in discrete \n",
    "ex:Tossing of coin"
   ]
  },
  {
   "cell_type": "code",
   "execution_count": null,
   "id": "4f29080c-28b6-4002-912c-dae66dff1b49",
   "metadata": {},
   "outputs": [],
   "source": [
    "Q2: What is Cumulative Density Function (CDF)? Explain with an example. Why CDF is used?\n",
    "Cumulative Density Function is defined as summation of overall distibution of data one by one\n",
    "ex:Rolling a dice,each outcome as 1/6 probablity,as calculaing the cumulative distribution during calculated\n",
    "the frist trial outcome as 1/6 cumulative distribution,after second trial outcome is 1/6 and cumulative density\n",
    "calculated as first trial outcome plus second trial outcome the output of cumulative distribution is 2/6 and so on \n",
    "calculated upto 6 trial "
   ]
  },
  {
   "cell_type": "code",
   "execution_count": null,
   "id": "c2a599a5-e4df-4ea3-a076-f795712156af",
   "metadata": {},
   "outputs": [],
   "source": [
    "Q3: What are some examples of situations where the normal distribution might be used as a model?\n",
    "Explain how the parameters of the normal distribution relate to the shape of the distribution.\n",
    "ex:Height of the different students in classroom\n",
    "    different birth weights of people \n",
    "The height of people is an example of normal distribution. Most of the people in a specific population are of average\n",
    "height. The number of people taller and shorter than the average height people is almost equal, and a very small number\n",
    "of people are either extremely tall or extremely short. Several genetic and environmental factors influence height. Therefore, it follows the normal distribution."
   ]
  },
  {
   "cell_type": "code",
   "execution_count": null,
   "id": "5165ff4a-22bd-4b73-8e19-d8157599d18a",
   "metadata": {},
   "outputs": [],
   "source": [
    "Q4: Explain the importance of Normal Distribution. Give a few real-life examples of Normal Distribution.\n",
    "\n",
    "The importance of normal distribution is that it allows us to understand the probability of certain events and to make predictions based on available data. The normal distribution is particularly important in \n",
    "statistical inference, where it is used to make inferences about population parameters based on sample data. It is \n",
    "also useful in hypothesis testing, where it helps to determine the statistical significance of an observed effect.\n",
    "\n",
    "Real-life examples of normal distribution can be observed in many areas, including:\n",
    "\n",
    "Height of people: The height of people in a population tends to follow a normal distribution, with the majority of \n",
    "people being of average height and fewer people at the extremes of tall or short.\n",
    "\n",
    "Exam scores: In a large group of students who take an exam, their scores will typically follow a normal distribution, \n",
    "with most students scoring around the average and fewer students scoring very high or very low."
   ]
  },
  {
   "cell_type": "code",
   "execution_count": null,
   "id": "5cfa3851-6677-464b-a635-76dad3ca92a5",
   "metadata": {},
   "outputs": [],
   "source": [
    "Q5: What is Bernaulli Distribution? Give an Example. What is the difference between Bernoulli\n",
    "Distribution and Binomial Distribution?\n",
    "Bernaulli Distribution states that in probablity theory and statistics the probablity of discrete random variable \n",
    "which takes input as p for success and q(1-p) for failure of set of experiments\n",
    "ex:Tossing a coin that has two outcomes head or tail,In bernaulli probablity distribution head outcome has taken as\n",
    "success that denoted as p and failure denoted as q(1-p) "
   ]
  },
  {
   "cell_type": "code",
   "execution_count": null,
   "id": "df208be7-dd6a-4dcc-98a4-6d8d3d8a6d9e",
   "metadata": {},
   "outputs": [],
   "source": [
    "Bernoulli distribution: \n",
    "    1. A Bernoulli distribution models the probability distribution of a single trial of a binary \n",
    "       event. It has only two possible outcomes: success (with probability p) and failure (with probability 1-p).\n",
    "    2. The probability mass function (PMF) of the Bernoulli distribution is given by P(X=x) = p^x(1-p)^(1-x), \n",
    "       where X is the random variable representing the outcome of a single trial.\n",
    "    ex: A Bernoulli distribution could model the probability of flipping a coin and getting heads (success) or tails (failure).\n",
    "Binomial distribution: \n",
    "    1. A Binomial distribution models the probability distribution of the number of successes in a \n",
    "       fixed number (n) of independent Bernoulli trials, each with the same probability of success (p).\n",
    "    2. The probability mass function (PMF) of the Binomial distribution is given by P(X=k) = (n choose k) * p^k * (1-p)^(n-k), \n",
    "       where X is the random variable representing the number of successes in n trials, and (n choose k) is the binomial coefficient, which represents the number of ways to choose k successes from n trials.\n",
    "    ex: A Binomial distribution could model the probability of getting a certain number of heads (successes) in a fixed number of coin flips."
   ]
  },
  {
   "cell_type": "code",
   "execution_count": null,
   "id": "ee83ba95-cb3e-47af-9f77-8c86f4571e8c",
   "metadata": {},
   "outputs": [],
   "source": [
    "Q6. Consider a dataset with a mean of 50 and a standard deviation of 10. If we assume that the dataset\n",
    "is normally distributed, what is the probability that a randomly selected observation will be greater\n",
    "than 60? Use the appropriate formula and show your calculations."
   ]
  },
  {
   "cell_type": "code",
   "execution_count": null,
   "id": "e6c82e18-8ce8-4b98-a4d2-cecfd83ad067",
   "metadata": {},
   "outputs": [],
   "source": [
    "xi=60\n",
    "u=50\n",
    "sigma=10\n",
    "z-score=xi-u/sigma"
   ]
  },
  {
   "cell_type": "code",
   "execution_count": 4,
   "id": "7908d916-08ed-48e5-96de-27f2acf05c44",
   "metadata": {},
   "outputs": [],
   "source": [
    "z_score=(60-50)/10"
   ]
  },
  {
   "cell_type": "code",
   "execution_count": 5,
   "id": "e1dd5a63-454c-43bf-b83f-375ace36cbbe",
   "metadata": {},
   "outputs": [
    {
     "data": {
      "text/plain": [
       "1.0"
      ]
     },
     "execution_count": 5,
     "metadata": {},
     "output_type": "execute_result"
    }
   ],
   "source": [
    "z_score"
   ]
  },
  {
   "cell_type": "code",
   "execution_count": null,
   "id": "0f999783-87c1-4582-b0d5-3f3ae2ede085",
   "metadata": {},
   "outputs": [],
   "source": [
    "AS we seen in z-table the value of zscore 1 is 0.84134 "
   ]
  },
  {
   "cell_type": "code",
   "execution_count": 6,
   "id": "21a9bf0d-0171-4eb1-9f81-0a37a5f2d0cf",
   "metadata": {},
   "outputs": [
    {
     "data": {
      "text/plain": [
       "15.866000000000003"
      ]
     },
     "execution_count": 6,
     "metadata": {},
     "output_type": "execute_result"
    }
   ],
   "source": [
    "(1- 0.84134)*100 is 15.866% s the probability that a randomly selected observation will be greater than 60"
   ]
  },
  {
   "cell_type": "code",
   "execution_count": null,
   "id": "38a7b569-e4ca-4d0f-925b-fb88c0e2eb3b",
   "metadata": {},
   "outputs": [],
   "source": [
    "Q7: Explain uniform Distribution with an example."
   ]
  },
  {
   "cell_type": "code",
   "execution_count": null,
   "id": "cd2b9063-77aa-403f-ac26-7da384241c6a",
   "metadata": {},
   "outputs": [],
   "source": [
    "In probablity theory and statistics uniform distribution or rectangular disribution is family of symetric distribution where \n",
    "the probablity outcome lies in the orbitary interval parametrs a and b which a is maximum value b is the minimum value\n",
    "ex:: Rolling a dice has 6 outcomes that is uniformly distributed with the probablity of 1/6 has outcome of each"
   ]
  },
  {
   "cell_type": "code",
   "execution_count": null,
   "id": "f0777381-800f-4d18-98e8-9681c9a262f1",
   "metadata": {},
   "outputs": [],
   "source": [
    "Q8: What is the z score? State the importance of the z score.\n",
    "A z-score measures the distance between a data point and the mean using standard\n",
    "deviations. Z-scores can be positive or negative. The sign tells you whether the\n",
    "observation is above or below the mean. For example, a z-score of +2 indicates that \n",
    "the data point falls two standard deviations above the mean, while a -2 signifies \n",
    "it is two standard deviations below the mean. A z-score of zero equals the mean. \n",
    "Statisticians also refer to z-scores as standard scores, and I’ll use those terms interchangeably.\n",
    "\n",
    "the importance of the z score.\n",
    "Understand where a data point fits into a distribution.\n",
    "Compare observations between dissimilar variables.\n",
    "Identify outliers\n",
    "Calculate probabilities and percentiles using the standard normal distribution."
   ]
  },
  {
   "cell_type": "code",
   "execution_count": null,
   "id": "17fb2d21-8e58-46c3-bf9b-deae435292b6",
   "metadata": {},
   "outputs": [],
   "source": [
    "Q9: What is Central Limit Theorem? State the significance of the Central Limit Theorem.\n",
    "Central Limit Theorem states that in probablity and statistics theory taking sample distribution from the\n",
    "popultion mean whether the distribution is normal,poison,binominal,Bernoulli or other ,the maean sample distribution is equal to normal distribution\n",
    "and sample mean equal to population mean\n",
    "\n",
    "The central limit theorem is useful when analyzing large data sets because it all\n",
    "follows one to assume that the sampling distribution of the mean will be normally-distributed \n",
    "in most cases. This allows for easier statistical analysis and inference."
   ]
  },
  {
   "cell_type": "code",
   "execution_count": null,
   "id": "815dc264-ea12-4ac0-adbe-e6d5968b3f83",
   "metadata": {},
   "outputs": [],
   "source": [
    "Q10: State the assumptions of the Central Limit Theorem.\n",
    "Assumptions Behind the Central Limit Theorem\n",
    "It needs to be sampled at random. \n",
    "The samples should be unrelated to one another.\n",
    "One sample should not impact the others. \n",
    "When taking samples without replacement, the sample size should not exceed 10% of the population."
   ]
  },
  {
   "cell_type": "code",
   "execution_count": null,
   "id": "29aca0ac-75e2-4cad-b970-7e643ba98598",
   "metadata": {},
   "outputs": [],
   "source": []
  }
 ],
 "metadata": {
  "kernelspec": {
   "display_name": "Python 3 (ipykernel)",
   "language": "python",
   "name": "python3"
  },
  "language_info": {
   "codemirror_mode": {
    "name": "ipython",
    "version": 3
   },
   "file_extension": ".py",
   "mimetype": "text/x-python",
   "name": "python",
   "nbconvert_exporter": "python",
   "pygments_lexer": "ipython3",
   "version": "3.10.8"
  }
 },
 "nbformat": 4,
 "nbformat_minor": 5
}

{
 "cells": [
  {
   "cell_type": "code",
   "execution_count": null,
   "id": "09b78ece-0ac8-4e30-9a76-cdadd99e0bc1",
   "metadata": {},
   "outputs": [],
   "source": [
    "Q1. Which function is used to open a file? What are the different modes of opening a file? Explain each mode\n",
    "of file opening."
   ]
  },
  {
   "cell_type": "code",
   "execution_count": null,
   "id": "01db7b20-87c1-487e-89ab-4f0c0d92ad25",
   "metadata": {},
   "outputs": [],
   "source": [
    ">>open() function is used to open a file"
   ]
  },
  {
   "cell_type": "code",
   "execution_count": null,
   "id": "fadf83e8-e6ac-4c4a-8b95-fc96331e763d",
   "metadata": {},
   "outputs": [],
   "source": [
    "*the different modes of opening a file are:\n",
    "write()\n",
    "read()\n",
    "append()"
   ]
  },
  {
   "cell_type": "code",
   "execution_count": null,
   "id": "2cbee947-c1f8-4596-a14a-2c4680a68e42",
   "metadata": {},
   "outputs": [],
   "source": [
    "write mode - mainly used to write a data into file informat of bytes. By taking a arguments filename and mode 'w'\n",
    "to open() function if file already exists it will truncate the old data and replace the new data,if file does \n",
    "does not exist it will create new file and write the data into it and finally we have to close file."
   ]
  },
  {
   "cell_type": "code",
   "execution_count": 8,
   "id": "2a180537-473f-4e8e-b35e-f288f86cdff0",
   "metadata": {},
   "outputs": [],
   "source": [
    "file1=open('test1.text','w')\n",
    "file1.write('hello good morning,')\n",
    "file1.close()"
   ]
  },
  {
   "cell_type": "code",
   "execution_count": null,
   "id": "4baa65fe-4abc-4e41-b463-7f2ddd45b131",
   "metadata": {},
   "outputs": [],
   "source": [
    "read mode - mainly used to read a data informat of bytes,during opening file open() takes argument filename and \n",
    "read mode 'r',if file already exists it will read by bytes and if file does not exist it will give error."
   ]
  },
  {
   "cell_type": "code",
   "execution_count": 5,
   "id": "2b68e5c1-d3b6-47b0-9128-647e4bae0dd3",
   "metadata": {},
   "outputs": [
    {
     "data": {
      "text/plain": [
       "'hello good morning'"
      ]
     },
     "execution_count": 5,
     "metadata": {},
     "output_type": "execute_result"
    }
   ],
   "source": [
    "data1=open('test1.text','r')\n",
    "data1.read()"
   ]
  },
  {
   "cell_type": "code",
   "execution_count": 6,
   "id": "96075b5b-09cf-4864-ab4b-ec8c30ffee7f",
   "metadata": {},
   "outputs": [
    {
     "ename": "FileNotFoundError",
     "evalue": "[Errno 2] No such file or directory: 'test11.text'",
     "output_type": "error",
     "traceback": [
      "\u001b[0;31m---------------------------------------------------------------------------\u001b[0m",
      "\u001b[0;31mFileNotFoundError\u001b[0m                         Traceback (most recent call last)",
      "Cell \u001b[0;32mIn[6], line 1\u001b[0m\n\u001b[0;32m----> 1\u001b[0m data1\u001b[38;5;241m=\u001b[39m\u001b[38;5;28;43mopen\u001b[39;49m\u001b[43m(\u001b[49m\u001b[38;5;124;43m'\u001b[39;49m\u001b[38;5;124;43mtest11.text\u001b[39;49m\u001b[38;5;124;43m'\u001b[39;49m\u001b[43m,\u001b[49m\u001b[38;5;124;43m'\u001b[39;49m\u001b[38;5;124;43mr\u001b[39;49m\u001b[38;5;124;43m'\u001b[39;49m\u001b[43m)\u001b[49m\n\u001b[1;32m      2\u001b[0m data1\u001b[38;5;241m.\u001b[39mread()\n",
      "File \u001b[0;32m/opt/conda/lib/python3.10/site-packages/IPython/core/interactiveshell.py:282\u001b[0m, in \u001b[0;36m_modified_open\u001b[0;34m(file, *args, **kwargs)\u001b[0m\n\u001b[1;32m    275\u001b[0m \u001b[38;5;28;01mif\u001b[39;00m file \u001b[38;5;129;01min\u001b[39;00m {\u001b[38;5;241m0\u001b[39m, \u001b[38;5;241m1\u001b[39m, \u001b[38;5;241m2\u001b[39m}:\n\u001b[1;32m    276\u001b[0m     \u001b[38;5;28;01mraise\u001b[39;00m \u001b[38;5;167;01mValueError\u001b[39;00m(\n\u001b[1;32m    277\u001b[0m         \u001b[38;5;124mf\u001b[39m\u001b[38;5;124m\"\u001b[39m\u001b[38;5;124mIPython won\u001b[39m\u001b[38;5;124m'\u001b[39m\u001b[38;5;124mt let you open fd=\u001b[39m\u001b[38;5;132;01m{\u001b[39;00mfile\u001b[38;5;132;01m}\u001b[39;00m\u001b[38;5;124m by default \u001b[39m\u001b[38;5;124m\"\u001b[39m\n\u001b[1;32m    278\u001b[0m         \u001b[38;5;124m\"\u001b[39m\u001b[38;5;124mas it is likely to crash IPython. If you know what you are doing, \u001b[39m\u001b[38;5;124m\"\u001b[39m\n\u001b[1;32m    279\u001b[0m         \u001b[38;5;124m\"\u001b[39m\u001b[38;5;124myou can use builtins\u001b[39m\u001b[38;5;124m'\u001b[39m\u001b[38;5;124m open.\u001b[39m\u001b[38;5;124m\"\u001b[39m\n\u001b[1;32m    280\u001b[0m     )\n\u001b[0;32m--> 282\u001b[0m \u001b[38;5;28;01mreturn\u001b[39;00m \u001b[43mio_open\u001b[49m\u001b[43m(\u001b[49m\u001b[43mfile\u001b[49m\u001b[43m,\u001b[49m\u001b[43m \u001b[49m\u001b[38;5;241;43m*\u001b[39;49m\u001b[43margs\u001b[49m\u001b[43m,\u001b[49m\u001b[43m \u001b[49m\u001b[38;5;241;43m*\u001b[39;49m\u001b[38;5;241;43m*\u001b[39;49m\u001b[43mkwargs\u001b[49m\u001b[43m)\u001b[49m\n",
      "\u001b[0;31mFileNotFoundError\u001b[0m: [Errno 2] No such file or directory: 'test11.text'"
     ]
    }
   ],
   "source": [
    "if file does not created\n",
    "data1=open('test11.text','r')\n",
    "data1.read()"
   ]
  },
  {
   "cell_type": "code",
   "execution_count": null,
   "id": "edf722b7-ced5-4cee-8cde-29fdabcf3745",
   "metadata": {},
   "outputs": [],
   "source": [
    "append mode - This mode same as the write mode,but if file already exist it will not truncate the old data,\n",
    "it will append data to exist data of file"
   ]
  },
  {
   "cell_type": "code",
   "execution_count": 9,
   "id": "881f8e36-a0c9-461f-be23-5471ffd53b3c",
   "metadata": {},
   "outputs": [
    {
     "data": {
      "text/plain": [
       "'hello good morning,Have a great day'"
      ]
     },
     "execution_count": 9,
     "metadata": {},
     "output_type": "execute_result"
    }
   ],
   "source": [
    "data1=open('test1.text','a')\n",
    "data1.write('Have a great day')\n",
    "data1.close()\n",
    "data11=open('test1.text','r')\n",
    "data11.read()"
   ]
  },
  {
   "cell_type": "code",
   "execution_count": null,
   "id": "71c64361-a193-4a6c-a93e-6cf16e6b0fea",
   "metadata": {},
   "outputs": [],
   "source": [
    "**By default we have text mode,if we have a binary mode we use 'rb' and 'wb' for binary files and '+' for open \n",
    "file updating both read and write"
   ]
  },
  {
   "cell_type": "code",
   "execution_count": null,
   "id": "0892e37b-6b2d-4f9d-8b97-a0b32ae95d31",
   "metadata": {},
   "outputs": [],
   "source": [
    "Q2. Why close() function is used? Why is it important to close a file?"
   ]
  },
  {
   "cell_type": "code",
   "execution_count": null,
   "id": "14cd26f8-53d5-43b7-8ab2-ec289dc4dc2e",
   "metadata": {},
   "outputs": [],
   "source": [
    "close() function is used for close a existing file.if we not close a opened file after perform the different write operation\n",
    "we are unable read the file data whatever we write it and we get empty string it will not enters the data unless untill close file"
   ]
  },
  {
   "cell_type": "code",
   "execution_count": null,
   "id": "959396e3-d424-4111-9bc7-168c5d4b48e0",
   "metadata": {},
   "outputs": [],
   "source": [
    "Q3. Write a python program to create a text file. Write ‘I want to become a Data Scientist’ in that file. Then\n",
    "close the file. Open this file and read the content of the file."
   ]
  },
  {
   "cell_type": "code",
   "execution_count": 12,
   "id": "19a87804-95be-4b73-969a-63ee8eca939b",
   "metadata": {},
   "outputs": [],
   "source": [
    "with open('test2.txt','w') as f:\n",
    "    f.write('I want to become a Data Scientist')\n"
   ]
  },
  {
   "cell_type": "code",
   "execution_count": 14,
   "id": "cf67774b-e681-428c-bf3b-1b45d58f9f84",
   "metadata": {},
   "outputs": [
    {
     "name": "stdout",
     "output_type": "stream",
     "text": [
      "I want to become a Data Scientist\n"
     ]
    }
   ],
   "source": [
    "with open('test2.txt','r') as f:\n",
    "    print(f.read())"
   ]
  },
  {
   "cell_type": "code",
   "execution_count": null,
   "id": "78509abc-c9aa-4e05-b7ed-1ec3161d93ee",
   "metadata": {},
   "outputs": [],
   "source": [
    "Q4. Explain the following with python code: read(), readline() and readlines()."
   ]
  },
  {
   "cell_type": "code",
   "execution_count": null,
   "id": "a689fa18-8b33-4f52-b6eb-28e05043cb17",
   "metadata": {},
   "outputs": [],
   "source": [
    "read() function reads the file in bytes and sequential format"
   ]
  },
  {
   "cell_type": "code",
   "execution_count": 21,
   "id": "8060445d-28b2-4463-83c7-4cb37fb64fc9",
   "metadata": {},
   "outputs": [],
   "source": [
    "with open('test3.txt','w') as f:\n",
    "    f.write('I want to become a Data Scientist and I want to become a  web developer')\n"
   ]
  },
  {
   "cell_type": "code",
   "execution_count": 22,
   "id": "322d363b-26cd-470d-bf39-5fd514acb2a7",
   "metadata": {},
   "outputs": [
    {
     "name": "stdout",
     "output_type": "stream",
     "text": [
      "I want to become a Data Scientist and I want to become a  web developer\n"
     ]
    }
   ],
   "source": [
    "with open('test3.txt','r') as f:\n",
    "    print(f.read())"
   ]
  },
  {
   "cell_type": "code",
   "execution_count": null,
   "id": "cf274ef3-e85e-448d-92b5-df11dcc20cbc",
   "metadata": {},
   "outputs": [],
   "source": [
    "readline() reads the single line from multipe lines"
   ]
  },
  {
   "cell_type": "code",
   "execution_count": 23,
   "id": "2085fc70-ef70-4442-ab56-c26578dc1c17",
   "metadata": {},
   "outputs": [],
   "source": [
    "with open('test3.txt','w') as f:\n",
    "    f.write('I want to become a Data Scientist\\n and I want to become a  web developer')\n"
   ]
  },
  {
   "cell_type": "code",
   "execution_count": 25,
   "id": "6f8f654d-899c-44ed-8dcc-ab289aa9cf7d",
   "metadata": {},
   "outputs": [
    {
     "name": "stdout",
     "output_type": "stream",
     "text": [
      "I want to become a Data Scientist\n",
      "\n"
     ]
    }
   ],
   "source": [
    "with open('test3.txt','r') as f:\n",
    "    print(f.readline())"
   ]
  },
  {
   "cell_type": "code",
   "execution_count": null,
   "id": "f214500c-96e4-4315-91d0-1e0a5a743ea8",
   "metadata": {},
   "outputs": [],
   "source": [
    "readlines() reads the multiple lines in a single list format seperated by different lines of strings by comma"
   ]
  },
  {
   "cell_type": "code",
   "execution_count": 29,
   "id": "47a6c3ec-6aa1-4d85-9a74-b9d69f851c00",
   "metadata": {},
   "outputs": [],
   "source": [
    "with open('test3.txt','w') as f:\n",
    "    f.write('I want to become a Data Scientist\\n and I want to become a  web developer\\n I want to become a  Ethical Hacker')\n"
   ]
  },
  {
   "cell_type": "code",
   "execution_count": 30,
   "id": "01e33386-5ac4-4b50-b28f-62630f1498b8",
   "metadata": {},
   "outputs": [
    {
     "name": "stdout",
     "output_type": "stream",
     "text": [
      "['I want to become a Data Scientist\\n', ' and I want to become a  web developer\\n', ' I want to become a  Ethical Hacker']\n"
     ]
    }
   ],
   "source": [
    "with open('test3.txt','r') as f:\n",
    "    print(f.readlines())\n"
   ]
  },
  {
   "cell_type": "code",
   "execution_count": null,
   "id": "6018b1a0-91d6-4406-bad8-596485c2f328",
   "metadata": {},
   "outputs": [],
   "source": [
    "Q5. Explain why with statement is used with open(). What is the advantage of using with statement and\n",
    "open() together?"
   ]
  },
  {
   "cell_type": "code",
   "execution_count": null,
   "id": "05a845f1-193f-46ae-aee8-71c94fb92817",
   "metadata": {},
   "outputs": [],
   "source": [
    "with statement is used with open() mainly used for handle the exception of i/o error,this is because the when we use \n",
    "open() function without the with unless when we do not close a opened file we get i/o error,by using with statement\n",
    "and open() together it will automatically close a file by calling two dunder methods __enter__ and __exit__\n",
    "\n",
    "the advantage of using with statement and open() together are:\n",
    "The code is more clean and understand during large data in files\n",
    "it will handle the exception\n",
    "we will not required to specify the close() after open file"
   ]
  },
  {
   "cell_type": "code",
   "execution_count": null,
   "id": "04e42f3d-1cea-4dfa-b2ee-82f65d3f16d5",
   "metadata": {},
   "outputs": [],
   "source": [
    "Q6. Explain the write() and writelines() functions. Give a suitable example."
   ]
  },
  {
   "cell_type": "code",
   "execution_count": null,
   "id": "b03970b7-b4c6-4f85-9274-879d30f4d01e",
   "metadata": {},
   "outputs": [],
   "source": [
    "write() function mainly used to write the n number of data inform of bytes to file"
   ]
  },
  {
   "cell_type": "code",
   "execution_count": 2,
   "id": "f84e68b3-013f-4006-a483-d980e00abaff",
   "metadata": {},
   "outputs": [
    {
     "name": "stdout",
     "output_type": "stream",
     "text": [
      "I want to become a Data Scientist and I want to become a  web developer I want to become a  Ethical Hacker\n"
     ]
    }
   ],
   "source": [
    "with open('test3.txt','w') as f:\n",
    "    f.write('I want to become a Data Scientist and I want to become a  web developer I want to become a  Ethical Hacker')\n",
    "with open('test3.txt','r') as f:\n",
    "    print(f.read())"
   ]
  },
  {
   "cell_type": "code",
   "execution_count": null,
   "id": "cdb0e9d8-5bfe-4923-93bc-ebfb528e7306",
   "metadata": {},
   "outputs": [],
   "source": [
    "writelines() function mainly used to write the n number of data informat different lines of bytes to file"
   ]
  },
  {
   "cell_type": "code",
   "execution_count": 5,
   "id": "4797fd13-cf36-4e44-ba57-5fc6d348f404",
   "metadata": {},
   "outputs": [
    {
     "name": "stdout",
     "output_type": "stream",
     "text": [
      "I want to become a Data Scientist\n",
      "I want to become a  web developer\n",
      "I want to become a  Ethical Hacker\n"
     ]
    }
   ],
   "source": [
    "with open('test3.txt','w') as f:\n",
    "    f.writelines('I want to become a Data Scientist\\nI want to become a  web developer\\nI want to become a  Ethical Hacker')\n",
    "with open('test3.txt','r') as f:\n",
    "    print(f.read())"
   ]
  },
  {
   "cell_type": "code",
   "execution_count": null,
   "id": "6039f5f4-d48f-4edf-bae4-e7275ea153b3",
   "metadata": {},
   "outputs": [],
   "source": []
  }
 ],
 "metadata": {
  "kernelspec": {
   "display_name": "Python 3 (ipykernel)",
   "language": "python",
   "name": "python3"
  },
  "language_info": {
   "codemirror_mode": {
    "name": "ipython",
    "version": 3
   },
   "file_extension": ".py",
   "mimetype": "text/x-python",
   "name": "python",
   "nbconvert_exporter": "python",
   "pygments_lexer": "ipython3",
   "version": "3.10.8"
  }
 },
 "nbformat": 4,
 "nbformat_minor": 5
}

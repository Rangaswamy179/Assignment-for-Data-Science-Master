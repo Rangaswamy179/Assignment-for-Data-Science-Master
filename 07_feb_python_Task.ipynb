{
 "cells": [
  {
   "cell_type": "code",
   "execution_count": null,
   "id": "465a9d8b-9c5b-4a92-bf67-0c85bad669f4",
   "metadata": {},
   "outputs": [],
   "source": [
    "Q1. You are writing code for a company. The requirement of the company is that you create a python\n",
    "    function that will check whether the password entered by the user is correct or not. The function should\n",
    "    take the password as input and return the string “Valid Password” if the entered password follows the\n",
    "    below-given password guidelines else it should return “Invalid Password”.\n",
    "\n",
    "    Note: 1. The Password should contain at least two uppercase letters and at least two lowercase letters.\n",
    "          2. The Password should contain at least a number and three special characters.\n",
    "          3. The length of the password should be 10 characters long."
   ]
  },
  {
   "cell_type": "code",
   "execution_count": null,
   "id": "0052bb51-3701-4aed-952c-dbe96168d19d",
   "metadata": {},
   "outputs": [],
   "source": []
  },
  {
   "cell_type": "code",
   "execution_count": 43,
   "id": "acf69bde-99ef-49e5-a15c-7a0be29eaeb4",
   "metadata": {},
   "outputs": [
    {
     "name": "stdin",
     "output_type": "stream",
     "text": [
      "Enter a password RangaSwamy@$&123\n"
     ]
    },
    {
     "data": {
      "text/plain": [
       "'valid password'"
      ]
     },
     "execution_count": 43,
     "metadata": {},
     "output_type": "execute_result"
    }
   ],
   "source": [
    "s1=input('Enter a password')\n",
    "def f1(s1):\n",
    "    p=0\n",
    "    q=0\n",
    "    r=0\n",
    "    s=0\n",
    "    if len(s1)>=10:\n",
    "        for i in s1:\n",
    "            if i.isupper()==True:\n",
    "                p+=1\n",
    "            elif i.islower()==True:\n",
    "                q+=1\n",
    "            elif i.isdigit()==True:\n",
    "                r+=1\n",
    "            else:\n",
    "                s+=1\n",
    "    if p>=2 and q>=2 and r>=1 and s>=3:\n",
    "        return 'valid password'\n",
    "    else:\n",
    "        return 'invalid password'\n",
    "                \n",
    "f1(s1)               "
   ]
  },
  {
   "cell_type": "code",
   "execution_count": 44,
   "id": "21012093-d57f-4f05-a4bb-f2e766d7ceb0",
   "metadata": {},
   "outputs": [
    {
     "name": "stdin",
     "output_type": "stream",
     "text": [
      "enter a password:: rangu@123\n"
     ]
    },
    {
     "data": {
      "text/plain": [
       "'invalid password'"
      ]
     },
     "execution_count": 44,
     "metadata": {},
     "output_type": "execute_result"
    }
   ],
   "source": [
    "s2=input('enter a password::')\n",
    "f1(s2)"
   ]
  },
  {
   "cell_type": "code",
   "execution_count": null,
   "id": "7bd6ddcc-c8aa-4a79-a94c-63fce477a698",
   "metadata": {},
   "outputs": [],
   "source": [
    "Q2. Solve the below-given questions using at least one of the following:\n",
    "1. Lambda function\n",
    "2. Filter function\n",
    "3. map function\n",
    "4. List Comprehension\n",
    "\n",
    "B Check if the string starts with a particular letter\n",
    "B Check if the string is numeric\n",
    "B Sort a list of tuples having fruit names and their quantity. [(\"mango\",99),(\"orange\",80), (\"grapes\", 1000)-\n",
    "B Find the squares of numbers from 1 to 10\n",
    "B Find the cube root of numbers from 1 to 10\n",
    "B Check if a given number is even\n",
    "B Filter odd numbers from the given list.\n",
    "[1,2,3,4,5,6,7,8,9,10-\n",
    "B Sort a list of integers into positive and negative integers lists.\n",
    "[1,2,3,4,5,6,-1,-2,-3,-4,-5,0]"
   ]
  },
  {
   "cell_type": "code",
   "execution_count": null,
   "id": "30f34a46-dc2d-41c1-9d4f-7402fef83804",
   "metadata": {},
   "outputs": [],
   "source": [
    "B Check if the string starts with a particular letter"
   ]
  },
  {
   "cell_type": "code",
   "execution_count": 23,
   "id": "fb2182b0-3b67-4366-832f-347701f88a72",
   "metadata": {},
   "outputs": [
    {
     "data": {
      "text/plain": [
       "[True]"
      ]
     },
     "execution_count": 23,
     "metadata": {},
     "output_type": "execute_result"
    }
   ],
   "source": [
    "s='pwskills'\n",
    "[True if s.startswith('p') else False]"
   ]
  },
  {
   "cell_type": "code",
   "execution_count": null,
   "id": "42aecff9-4895-46f5-87d1-b82f1d5e36a5",
   "metadata": {},
   "outputs": [],
   "source": [
    "B Check if the string is numeric"
   ]
  },
  {
   "cell_type": "code",
   "execution_count": 5,
   "id": "49e3ecdc-406d-4132-bbbe-40d03867adab",
   "metadata": {},
   "outputs": [],
   "source": [
    "s='a1234b'"
   ]
  },
  {
   "cell_type": "code",
   "execution_count": 6,
   "id": "52c7628e-54e1-4bfa-93b3-ed6b1f160721",
   "metadata": {},
   "outputs": [],
   "source": [
    "a=lambda x:x.isnumeric()"
   ]
  },
  {
   "cell_type": "code",
   "execution_count": 7,
   "id": "23c8fa76-a2a2-43b3-9a2f-84c277a4dce8",
   "metadata": {},
   "outputs": [
    {
     "data": {
      "text/plain": [
       "False"
      ]
     },
     "execution_count": 7,
     "metadata": {},
     "output_type": "execute_result"
    }
   ],
   "source": [
    "a(s)"
   ]
  },
  {
   "cell_type": "code",
   "execution_count": null,
   "id": "6f921395-039d-4858-b7b1-dc42f3b02cd0",
   "metadata": {},
   "outputs": [],
   "source": [
    "B Sort a list of tuples having fruit names and their quantity. [(\"mango\",99),(\"orange\",80), (\"grapes\", 1000)]"
   ]
  },
  {
   "cell_type": "code",
   "execution_count": 8,
   "id": "9c66c253-a293-4050-90f0-2da9e4e79971",
   "metadata": {},
   "outputs": [],
   "source": [
    "l1=[(\"mango\",99),(\"orange\",80), (\"grapes\", 1000)]"
   ]
  },
  {
   "cell_type": "code",
   "execution_count": 15,
   "id": "b8969622-013d-4801-9d9a-1e28434e36e4",
   "metadata": {},
   "outputs": [
    {
     "data": {
      "text/plain": [
       "[('orange', 80), ('mango', 99), ('grapes', 1000)]"
      ]
     },
     "execution_count": 15,
     "metadata": {},
     "output_type": "execute_result"
    }
   ],
   "source": [
    "sorted(l1,key=lambda x:x[1])"
   ]
  },
  {
   "cell_type": "code",
   "execution_count": null,
   "id": "1baceca7-84d5-45bd-9df4-4dc2dcf4ff2c",
   "metadata": {},
   "outputs": [],
   "source": [
    "B Find the squares of numbers from 1 to 10"
   ]
  },
  {
   "cell_type": "code",
   "execution_count": 16,
   "id": "8594af90-f96f-43bf-a327-8ae7d34adfac",
   "metadata": {},
   "outputs": [
    {
     "data": {
      "text/plain": [
       "[1, 4, 9, 16, 25, 36, 49, 64, 81, 100]"
      ]
     },
     "execution_count": 16,
     "metadata": {},
     "output_type": "execute_result"
    }
   ],
   "source": [
    "[i**2 for i in range(1,11)]"
   ]
  },
  {
   "cell_type": "code",
   "execution_count": 18,
   "id": "c62f57fd-a525-40f9-b0e4-69aca9d7ddb3",
   "metadata": {},
   "outputs": [],
   "source": [
    "l2=[i for i in range(1,11)]"
   ]
  },
  {
   "cell_type": "code",
   "execution_count": 20,
   "id": "3f3f001a-70b8-4dd2-a161-c7befa1e97c8",
   "metadata": {},
   "outputs": [
    {
     "data": {
      "text/plain": [
       "[1, 8, 27, 64, 125, 216, 343, 512, 729, 1000]"
      ]
     },
     "execution_count": 20,
     "metadata": {},
     "output_type": "execute_result"
    }
   ],
   "source": [
    "list(map(lambda x:x**3,l2))"
   ]
  },
  {
   "cell_type": "code",
   "execution_count": null,
   "id": "3c9ae0ec-eac9-4c06-b5fc-69ad27a17f48",
   "metadata": {},
   "outputs": [],
   "source": [
    "B Check if a given number is even"
   ]
  },
  {
   "cell_type": "code",
   "execution_count": 25,
   "id": "37e09d27-54b6-401e-bd4f-0943921f532b",
   "metadata": {},
   "outputs": [],
   "source": [
    "b=2022"
   ]
  },
  {
   "cell_type": "code",
   "execution_count": 26,
   "id": "ff1a5d24-fce6-4ffb-a43b-a39c078d0441",
   "metadata": {},
   "outputs": [
    {
     "data": {
      "text/plain": [
       "['even']"
      ]
     },
     "execution_count": 26,
     "metadata": {},
     "output_type": "execute_result"
    }
   ],
   "source": [
    "['even' if b%2==0 else 'odd']"
   ]
  },
  {
   "cell_type": "code",
   "execution_count": null,
   "id": "b3dcb66c-b49e-4cb1-923c-b6e2e536ec60",
   "metadata": {},
   "outputs": [],
   "source": [
    "B Filter odd numbers from the given list.\n",
    "\n",
    "[1,2,3,4,5,6,7,8,9,10]"
   ]
  },
  {
   "cell_type": "code",
   "execution_count": 27,
   "id": "518f1025-883e-447d-bea7-004b73f73f55",
   "metadata": {},
   "outputs": [],
   "source": [
    "l3=[1,2,3,4,5,6,7,8,9,10]"
   ]
  },
  {
   "cell_type": "code",
   "execution_count": 31,
   "id": "c6f71dd9-5ce2-4d90-be8d-3bbabd7c9412",
   "metadata": {},
   "outputs": [
    {
     "data": {
      "text/plain": [
       "[1, 3, 5, 7, 9]"
      ]
     },
     "execution_count": 31,
     "metadata": {},
     "output_type": "execute_result"
    }
   ],
   "source": [
    "list(filter(lambda x:x%2!=0,l3))"
   ]
  },
  {
   "cell_type": "code",
   "execution_count": null,
   "id": "3d3eeefb-4768-494f-a1d8-d74a07e0ac1b",
   "metadata": {},
   "outputs": [],
   "source": [
    "B Sort a list of integers into positive and negative integers lists.\n",
    "\n",
    "[1,2,3,4,5,6,-1,-2,-3,-4,-5,0]"
   ]
  },
  {
   "cell_type": "code",
   "execution_count": 32,
   "id": "9758f150-f31b-42b0-92d7-50ffcf0b4413",
   "metadata": {},
   "outputs": [],
   "source": [
    "l4=[1,2,3,4,5,6,-1,-2,-3,-4,-5,0]"
   ]
  },
  {
   "cell_type": "code",
   "execution_count": 33,
   "id": "4d0fffb7-00f0-4a16-80b4-96b8ccbfbbf4",
   "metadata": {},
   "outputs": [
    {
     "data": {
      "text/plain": [
       "[1, 2, 3, 4, 5, 6]"
      ]
     },
     "execution_count": 33,
     "metadata": {},
     "output_type": "execute_result"
    }
   ],
   "source": [
    "list(filter(lambda x:x>0,l4))"
   ]
  },
  {
   "cell_type": "code",
   "execution_count": 34,
   "id": "08218f6d-5638-4c7d-920a-f3ee7a79e998",
   "metadata": {},
   "outputs": [
    {
     "data": {
      "text/plain": [
       "[-1, -2, -3, -4, -5]"
      ]
     },
     "execution_count": 34,
     "metadata": {},
     "output_type": "execute_result"
    }
   ],
   "source": [
    "list(filter(lambda x:x<0,l4))"
   ]
  },
  {
   "cell_type": "code",
   "execution_count": null,
   "id": "7a57f814-91ab-4979-a16b-0ca0d12f1438",
   "metadata": {},
   "outputs": [],
   "source": []
  }
 ],
 "metadata": {
  "kernelspec": {
   "display_name": "Python 3 (ipykernel)",
   "language": "python",
   "name": "python3"
  },
  "language_info": {
   "codemirror_mode": {
    "name": "ipython",
    "version": 3
   },
   "file_extension": ".py",
   "mimetype": "text/x-python",
   "name": "python",
   "nbconvert_exporter": "python",
   "pygments_lexer": "ipython3",
   "version": "3.10.8"
  }
 },
 "nbformat": 4,
 "nbformat_minor": 5
}

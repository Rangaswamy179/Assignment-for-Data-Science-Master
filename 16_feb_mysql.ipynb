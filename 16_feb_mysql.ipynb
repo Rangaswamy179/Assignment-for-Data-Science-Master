{
 "cells": [
  {
   "cell_type": "code",
   "execution_count": null,
   "id": "c4e8900c-dbbc-41b4-80d4-c71389274acb",
   "metadata": {},
   "outputs": [],
   "source": [
    "Q1. What is a database? Differentiate between SQL and NoSQL databases."
   ]
  },
  {
   "cell_type": "code",
   "execution_count": null,
   "id": "d26a39ea-7ccb-44d6-9e49-b5f2c228a946",
   "metadata": {},
   "outputs": [],
   "source": [
    "database is a stored collection of data that is created and maintain by database management system"
   ]
  },
  {
   "cell_type": "code",
   "execution_count": null,
   "id": "1936cb59-db86-4778-ae35-3e41b5fc4287",
   "metadata": {},
   "outputs": [],
   "source": [
    "Differentiate between SQL and NoSQL databases.\n",
    "* sql defined as structured query language that is mainly used for the relational databases\n",
    "  nosql defined as not only sql that is mainly used for non relational databases\n",
    "* sql are vertically scalable increase load on ram,cpu,etc in larger data\n",
    "  nosql are horizantally scalable that decrease load on ram,cpu in larger data\n",
    "* sql stores the data in table-based such as row-column format\n",
    "  nosql stores the data in key-value,grap,document-based,wide-column format\n",
    "* sql supports for the acid properties\n",
    "  nosql supports for the cap theorem\n",
    "* sql supports for the static schema\n",
    "  sql supports for the dynamic schema"
   ]
  },
  {
   "cell_type": "code",
   "execution_count": null,
   "id": "bb71af53-de63-44e6-84f9-2ae9ab11c625",
   "metadata": {},
   "outputs": [],
   "source": [
    "Q2. What is DDL? Explain why CREATE, DROP, ALTER, and TRUNCATE are used with an example"
   ]
  },
  {
   "cell_type": "code",
   "execution_count": null,
   "id": "03424bcb-6cd8-47ba-96d7-7bf305ea71ef",
   "metadata": {},
   "outputs": [],
   "source": [
    "data define language is one type language in structured query language in which it \n",
    "creates and modifies the objects in databases"
   ]
  },
  {
   "cell_type": "code",
   "execution_count": null,
   "id": "b9d13893-e644-4642-a7d6-f34f7885b536",
   "metadata": {},
   "outputs": [],
   "source": [
    "CREATE-it mainly used to create a new table to database\n",
    "example:\n",
    "    CREATE TABLE TEST1(ID INT PRIMARY KEY,NAME VARCHAR(20),AGE INT);"
   ]
  },
  {
   "cell_type": "code",
   "execution_count": null,
   "id": "c093a88b-8a08-4fde-9266-05e4090b94c0",
   "metadata": {},
   "outputs": [],
   "source": [
    "ALTER-it mainly used to alter objects in existing table of database\n",
    "example:\n",
    "    ALTER TABLE TEST1\n",
    "    ADD EMAIL VARCHAR(20);"
   ]
  },
  {
   "cell_type": "code",
   "execution_count": null,
   "id": "d1a8a143-1ec8-4c6d-8725-918c97dd81e2",
   "metadata": {},
   "outputs": [],
   "source": [
    "DROP-it is mainly used drop or delete the existing table\n",
    "example:\n",
    "    DROP TABLE TEST1;"
   ]
  },
  {
   "cell_type": "code",
   "execution_count": null,
   "id": "f4093759-aa8a-4f2a-98d3-2dd645bdfefe",
   "metadata": {},
   "outputs": [],
   "source": [
    "TRUNCATE-it is mainly used to delete data in tables not databases\n",
    "example:\n",
    "    TRUNCATE TABLE TEST1"
   ]
  },
  {
   "cell_type": "code",
   "execution_count": null,
   "id": "74198c9e-e8ae-4b7a-96ca-9ba77b0a6639",
   "metadata": {},
   "outputs": [],
   "source": [
    "Q3. What is DML? Explain INSERT, UPDATE, and DELETE with an example."
   ]
  },
  {
   "cell_type": "code",
   "execution_count": null,
   "id": "ce63a0bc-f158-4377-9015-85e5a6bdb5c4",
   "metadata": {},
   "outputs": [],
   "source": [
    "data manipulation language defined as component of sql statement that is used\n",
    "to access control on database and tables"
   ]
  },
  {
   "cell_type": "code",
   "execution_count": null,
   "id": "ba958b7c-4b34-4b57-aef5-b05452c94095",
   "metadata": {},
   "outputs": [],
   "source": [
    "INSERT-it is mainly used to insert a data into table\n",
    "example:\n",
    "    INSERT INTO TEST1 VALUES(100,'KRISH',35,'K@GMAIL.COM')"
   ]
  },
  {
   "cell_type": "code",
   "execution_count": null,
   "id": "bbb5fce9-a90b-4478-857b-388c80f7074b",
   "metadata": {},
   "outputs": [],
   "source": [
    "UPDATE-it is mainly used to update the data of existing object in database\n",
    "example:\n",
    "    UPDATE TEST1\n",
    "    SET EMAIL='KRISH@GMAIL.COM',AGE=40\n",
    "    WHERE ID=100"
   ]
  },
  {
   "cell_type": "code",
   "execution_count": null,
   "id": "fc387a45-bf09-4061-bc4e-c76040916abf",
   "metadata": {},
   "outputs": [],
   "source": [
    "DELETE-it is mainly used to delete a existing objects in database\n",
    "example:\n",
    "    DELETE FROM TEST1 WHERE ID=100;"
   ]
  },
  {
   "cell_type": "code",
   "execution_count": null,
   "id": "5766b5d6-6a88-47b8-aa05-62be88e3d015",
   "metadata": {},
   "outputs": [],
   "source": [
    "Q4. What is DQL? Explain SELECT with an example."
   ]
  },
  {
   "cell_type": "code",
   "execution_count": null,
   "id": "8709dcce-29f3-4bb3-ad85-21877de14bb3",
   "metadata": {},
   "outputs": [],
   "source": [
    "data querry language defined as the sql component in which mainly used for\n",
    "querrifing the sql statements"
   ]
  },
  {
   "cell_type": "code",
   "execution_count": null,
   "id": "a41bea17-eaf0-43b1-8651-969edca0455f",
   "metadata": {},
   "outputs": [],
   "source": [
    "SELECT-it is mainly used for the select the set data for diffferent query\n",
    "and return a result-set in a update table\n",
    "examples:\n",
    "    To retrive all data in table we use below querry\n",
    "    select * from test1;\n",
    "    To retrive specific data in table we use below querry\n",
    "    select name,email from test1\n",
    "    select name,age from test1\n",
    "    where id=100"
   ]
  },
  {
   "cell_type": "code",
   "execution_count": null,
   "id": "1b4b1f8c-2fe4-4d29-b4a1-ba97e7d52699",
   "metadata": {},
   "outputs": [],
   "source": [
    "Q5. Explain Primary Key and Foreign Key."
   ]
  },
  {
   "cell_type": "code",
   "execution_count": null,
   "id": "2cb2eea0-d739-4038-91b8-9061bb4c4e1a",
   "metadata": {},
   "outputs": [],
   "source": [
    "primary key defined as unique column and which value is not null and which does\n",
    "not contain duplicate values mainly used for different querrey through this in \n",
    "above code id is primary key\n",
    "\n",
    "forign key is mainly used to define relationship between the two table with creation\n",
    "of reference columns between two table,it may be contains nullable values and parent\n",
    "coulumns are not able to delete without deleting child columns,because both are refferenced."
   ]
  },
  {
   "cell_type": "code",
   "execution_count": null,
   "id": "eca25393-26c1-4a75-a7ab-e666514c7bc6",
   "metadata": {},
   "outputs": [],
   "source": [
    "Q6. Write a python code to connect MySQL to python. Explain the cursor() and execute() method."
   ]
  },
  {
   "cell_type": "code",
   "execution_count": null,
   "id": "35422033-dd9a-4be6-a4f9-bff21ee17afd",
   "metadata": {},
   "outputs": [],
   "source": [
    "import mysql.connector\n",
    "mydb = mysql.connector.connect(\n",
    "  host=\"localhost\",\n",
    "  user=\"abc\",\n",
    "  password=\"password\"\n",
    ")\n",
    "mycursor = mydb.cursor()\n",
    "mycursor.execute('CREATE DATABASE if not exists test3')\n",
    "mycursor.execute('CREATE TABLE if not exists test3.test_table3(c1 INT,c2 FLOAT,c3 VARCHAR(20),C4 BOOLEAN);')\n",
    "mydb.close()"
   ]
  },
  {
   "cell_type": "code",
   "execution_count": null,
   "id": "2fa713e0-ee86-4115-a952-3b8c144e93f5",
   "metadata": {},
   "outputs": [],
   "source": [
    "In the above example we use cursor used as the pointer that points to communication between mysql database\n",
    "By using execute we can pass the query as parameter and execute the selected query"
   ]
  },
  {
   "cell_type": "code",
   "execution_count": null,
   "id": "401b4c24-c1cc-42ee-b2a4-7bd35f0d05b9",
   "metadata": {},
   "outputs": [],
   "source": [
    "Q7. Give the order of execution of SQL clauses in an SQL query."
   ]
  },
  {
   "cell_type": "code",
   "execution_count": null,
   "id": "8ab45976-2a19-492e-9fe8-1cb2d9f95b50",
   "metadata": {},
   "outputs": [],
   "source": [
    "1. FROM/JOIN: The FROM and/or JOIN clauses are executed first to determine the data of interest.\n",
    "\n",
    "2. WHERE: The WHERE clause is executed to filter out records that do not meet the constraints.\n",
    "\n",
    "3. GROUP BY: The GROUP BY clause is executed to group the data based on the values in one or more columns.\n",
    "\n",
    "4. HAVING: The HAVING clause is executed to remove the created grouped records that don’t meet the constraints.\n",
    "\n",
    "5. SELECT: The SELECT clause is executed to derive all desired columns and expressions.\n",
    "\n",
    "6. ORDER BY: The ORDER BY clause is executed to sort the derived values in ascending or descending order.\n",
    "\n",
    "7. LIMIT/OFFSET: Finally, the LIMIT and/or OFFSET clauses are executed to keep or skip a specified number of rows."
   ]
  }
 ],
 "metadata": {
  "kernelspec": {
   "display_name": "Python 3 (ipykernel)",
   "language": "python",
   "name": "python3"
  },
  "language_info": {
   "codemirror_mode": {
    "name": "ipython",
    "version": 3
   },
   "file_extension": ".py",
   "mimetype": "text/x-python",
   "name": "python",
   "nbconvert_exporter": "python",
   "pygments_lexer": "ipython3",
   "version": "3.10.8"
  }
 },
 "nbformat": 4,
 "nbformat_minor": 5
}

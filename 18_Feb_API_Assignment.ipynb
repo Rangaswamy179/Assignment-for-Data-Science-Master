{
 "cells": [
  {
   "cell_type": "code",
   "execution_count": null,
   "id": "275e09be-0c08-460c-ae0c-dc3708e9b7f4",
   "metadata": {},
   "outputs": [],
   "source": [
    "Q1. What is an API? Give an example, where an API is used in real life."
   ]
  },
  {
   "cell_type": "code",
   "execution_count": null,
   "id": "6d976b19-7678-4da5-8066-ac4974cbb6bb",
   "metadata": {},
   "outputs": [],
   "source": [
    "Application program interface defined as when we want to communicate between two\n",
    "applications,where applications are in different remote servers we use api to connect\n",
    "between two or more homogeneous or heterogenous application"
   ]
  },
  {
   "cell_type": "code",
   "execution_count": null,
   "id": "95376d84-0f6f-4da7-afab-5ed5157f3c5e",
   "metadata": {},
   "outputs": [],
   "source": [
    "consider a example we all use a google pay to transfer a amount to xyz person,it does not\n",
    "store person bank details like balance,it must connect and communicate persons bank application\n",
    "that is located in remote server,for connnection between these two application application program\n",
    "interface came to picture,it will connect by using differnt protocols it will communicate by different\n",
    "methdods and it will check a balance and sate whether user is valid or not and it will transfer amount"
   ]
  },
  {
   "cell_type": "code",
   "execution_count": null,
   "id": "6c7b9308-d000-4b92-8025-415dd3bf5162",
   "metadata": {},
   "outputs": [],
   "source": [
    "Q2. Give advantages and disadvantages of using API."
   ]
  },
  {
   "cell_type": "code",
   "execution_count": null,
   "id": "f691b75a-de8d-4167-8f89-cdb6b2a720c9",
   "metadata": {},
   "outputs": [],
   "source": [
    "advantages of using application programming interface:\n",
    "    *By using api we easily connect and communicate between homogeneous and heterogeneous application\n",
    "    *API provides effiecient data transfer and easily distribute large data over applications\n",
    "    *Api provides more flexible and provides different protocols to transfer data\n",
    "    *it provides crude operations to perform over applications\n",
    "    *it mainly works on priciples client-server architecture,stateless,cacheable,uniform interface\n",
    "      and layered systems "
   ]
  },
  {
   "cell_type": "code",
   "execution_count": null,
   "id": "73e99ef1-c25a-4f7a-ac92-ba5b727d15b3",
   "metadata": {},
   "outputs": [],
   "source": [
    "Disadvantages of using application programming interface:\n",
    "    *Creating API is a very time-consuming process\n",
    "    *A fixed scale is necessary\n",
    "    *Imprecise boundary delineation\n",
    "    *To create API, programming knowledge is necessary\n",
    "    *Maintenance cost is very high\n",
    "    *It can crash when testing API"
   ]
  },
  {
   "cell_type": "code",
   "execution_count": null,
   "id": "9e61eb73-062b-4067-84c1-69de3f563d59",
   "metadata": {},
   "outputs": [],
   "source": [
    "Q3. What is a Web API? Differentiate between API and Web API."
   ]
  },
  {
   "cell_type": "code",
   "execution_count": null,
   "id": "e21330f9-65f6-4ffc-a43c-ad313bc63ff6",
   "metadata": {},
   "outputs": [],
   "source": [
    "web api defined as connection and communication between two applications are by using http protocol"
   ]
  },
  {
   "cell_type": "code",
   "execution_count": null,
   "id": "ccb018dc-e495-402a-a515-31c4a27db3dd",
   "metadata": {},
   "outputs": [],
   "source": [
    "Differentiate between API and Web API.:\n",
    "    * Api uses tcp,smtp,and http protocol for connection\n",
    "      web api uses only http protocol for the connection\n",
    "    * api uses soap architecture for general use cases\n",
    "      web api uses restful api architecture for general use cases\n",
    "    * api is more secure compared to web api\n",
    "      web api is less secure compared to api\n",
    "    * api uses custom interface\n",
    "      webapi uses the uniform interface"
   ]
  },
  {
   "cell_type": "code",
   "execution_count": null,
   "id": "0948b371-f4c6-458f-8696-86df15d3487d",
   "metadata": {},
   "outputs": [],
   "source": [
    "Q4. Explain REST and SOAP Architecture. Mention shortcomings of SOAP."
   ]
  },
  {
   "cell_type": "code",
   "execution_count": null,
   "id": "b75f7f32-2447-4f93-8182-45d5ad06c7b0",
   "metadata": {},
   "outputs": [],
   "source": [
    "Rest and Soap are came to picture while creating API,Rest is known as Representational state Transfer and\n",
    "Soap is known as simple object access protocol,rest uses http protocol with different methods like put,\n",
    "get,post,delete to perform differnt operations.rest will be simple,scalable,and flexible and more secure\n",
    "than soap architecture,coming to soap architecture soap uses tcp,smtp and soap trasfer a data in form of xml\n",
    "and it uses web services description language,soap is more secure than rest."
   ]
  },
  {
   "cell_type": "code",
   "execution_count": null,
   "id": "24950365-faba-4685-b3dc-23798fa7f765",
   "metadata": {},
   "outputs": [],
   "source": [
    "Q5. Differentiate between REST and SOAP."
   ]
  },
  {
   "cell_type": "code",
   "execution_count": null,
   "id": "a6956c88-0a07-4768-8c7c-073fe266342e",
   "metadata": {},
   "outputs": [],
   "source": [
    "*Rest uses http protocol and uses rest api\n",
    " soap relises on soap api\n",
    "*generally data in rest is transfered in json format\n",
    " soap generally uses the xml to tranfer data\n",
    "*Rest generally uses the get,put,post and delete\n",
    " soap uses the web service description language\n",
    "*Rest is more flexible,scalable and easy and less secure\n",
    " soap is less flexible,scalable and easy and more secure"
   ]
  },
  {
   "cell_type": "code",
   "execution_count": null,
   "id": "e2d7efaa-1a84-43f6-af4b-eccf0189d775",
   "metadata": {},
   "outputs": [],
   "source": []
  }
 ],
 "metadata": {
  "kernelspec": {
   "display_name": "Python 3 (ipykernel)",
   "language": "python",
   "name": "python3"
  },
  "language_info": {
   "codemirror_mode": {
    "name": "ipython",
    "version": 3
   },
   "file_extension": ".py",
   "mimetype": "text/x-python",
   "name": "python",
   "nbconvert_exporter": "python",
   "pygments_lexer": "ipython3",
   "version": "3.10.8"
  }
 },
 "nbformat": 4,
 "nbformat_minor": 5
}

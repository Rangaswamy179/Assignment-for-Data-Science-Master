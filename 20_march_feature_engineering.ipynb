{
 "cells": [
  {
   "cell_type": "code",
   "execution_count": null,
   "id": "eee1385a-847f-48bb-9b0f-9a1841373b06",
   "metadata": {},
   "outputs": [],
   "source": [
    "Q1. What is data encoding? How is it useful in data science?"
   ]
  },
  {
   "cell_type": "code",
   "execution_count": null,
   "id": "d5d34019-2af0-45a0-b0be-c6d7ccdde8fc",
   "metadata": {},
   "outputs": [],
   "source": [
    "data encoding defined as converting categorical data into numerical data type in an dataset\n",
    "it is useful in data science where machine models understand only 0s and 1s to predict the accurate\n",
    "output,by converting categorical data to the binary data is useful understand machine very well."
   ]
  },
  {
   "cell_type": "code",
   "execution_count": null,
   "id": "57118bb5-e420-40d0-ad85-51ff64b430a5",
   "metadata": {},
   "outputs": [],
   "source": [
    "Q2. What is nominal encoding? Provide an example of how you would use it in a real-world scenario."
   ]
  },
  {
   "cell_type": "code",
   "execution_count": null,
   "id": "82cbbb13-e0f9-41a4-b5af-b8dd332eedbc",
   "metadata": {},
   "outputs": [],
   "source": [
    "Nominal encoding, also known as categorical encoding or label encoding, is a technique used to represent categorical variables as numerical values. In nominal encoding, each unique category is assigned a unique numerical label. This encoding allows categorical data to be used as input for machine learning algorithms that require numerical data.\n",
    "\n",
    "Here's an example of how nominal encoding can be used in a real-world scenario:\n",
    "\n",
    "Scenario: Predicting customer churn in a telecom company.\n",
    "\n",
    "Suppose you have a dataset with a categorical feature \"Contract Type\" which represents the type of contract a customer has with the telecom company. The categories in this feature are \"Month-to-Month,\" \"One year,\" and \"Two year.\" To use this categorical feature as input for a machine learning model, you can apply nominal encoding:\n",
    "\n",
    "Original dataset:\n",
    "| Customer ID | Contract Type |\n",
    "|-------------|---------------|\n",
    "| 1           | Month-to-Month |\n",
    "| 2           | One year      |\n",
    "| 3           | Two year      |\n",
    "| 4           | Month-to-Month |\n",
    "\n",
    "After applying nominal encoding to the \"Contract Type\" feature, the dataset would look like:\n",
    "\n",
    "Encoded dataset:\n",
    "| Customer ID | Contract Type |\n",
    "|-------------|---------------|\n",
    "| 1           | 0             |\n",
    "| 2           | 1             |\n",
    "| 3           | 2             |\n",
    "| 4           | 0             |\n",
    "\n",
    "In this example, each unique category in the \"Contract Type\" feature is assigned a numerical label: \"Month-to-Month\" is encoded as 0, \"One year\" as 1, and \"Two year\" as 2. Now the feature is represented numerically, allowing it to be used as input for machine learning algorithms.\n",
    "\n",
    "It's important to note that nominal encoding does not imply any ordinal relationship between the categories. The numerical labels are merely identifiers and do not represent any specific order or magnitude. If there is an inherent order or hierarchy among the categories, other encoding techniques like ordinal encoding or one-hot encoding may be more suitable."
   ]
  },
  {
   "cell_type": "code",
   "execution_count": 3,
   "id": "026c89bd-4c2c-46a4-9770-712976f105a5",
   "metadata": {},
   "outputs": [],
   "source": [
    "import pandas as pd\n",
    "df=pd.DataFrame({'color':['red','blue','green']})"
   ]
  },
  {
   "cell_type": "code",
   "execution_count": 4,
   "id": "2a013214-b97a-471b-b023-9caef1735de8",
   "metadata": {},
   "outputs": [],
   "source": [
    "from sklearn.preprocessing import LabelEncoder"
   ]
  },
  {
   "cell_type": "code",
   "execution_count": 5,
   "id": "677fd307-9042-40f8-b638-b519fe9297a1",
   "metadata": {},
   "outputs": [],
   "source": [
    "encoder=LabelEncoder()"
   ]
  },
  {
   "cell_type": "code",
   "execution_count": 9,
   "id": "03ee1b50-26df-454b-9ed3-a75346922804",
   "metadata": {},
   "outputs": [
    {
     "name": "stderr",
     "output_type": "stream",
     "text": [
      "/opt/conda/lib/python3.10/site-packages/sklearn/preprocessing/_label.py:116: DataConversionWarning: A column-vector y was passed when a 1d array was expected. Please change the shape of y to (n_samples, ), for example using ravel().\n",
      "  y = column_or_1d(y, warn=True)\n"
     ]
    },
    {
     "data": {
      "text/plain": [
       "array([2, 0, 1])"
      ]
     },
     "execution_count": 9,
     "metadata": {},
     "output_type": "execute_result"
    }
   ],
   "source": [
    "encoder.fit_transform(df[['color']])"
   ]
  },
  {
   "cell_type": "code",
   "execution_count": null,
   "id": "accb6ab6-5d01-49a6-a016-cca1576fb157",
   "metadata": {},
   "outputs": [],
   "source": [
    "Q3. In what situations is nominal encoding preferred over one-hot encoding? Provide a practical example."
   ]
  },
  {
   "cell_type": "code",
   "execution_count": null,
   "id": "01a110bd-6a12-43db-bc86-0c686cd6df68",
   "metadata": {},
   "outputs": [],
   "source": [
    "Nominal encoding is preferred over one-hot encoding in certain situations where the number of unique categories in a categorical variable is high or when dealing with high-dimensional datasets. Here's a practical example to illustrate when nominal encoding is preferred:\n",
    "\n",
    "Scenario: Sentiment analysis of customer reviews.\n",
    "\n",
    "Suppose you have a dataset containing customer reviews of a product or service. One of the features in this dataset is \"Review Category,\" which represents the sentiment category of the customer review. The sentiment categories can be \"Positive,\" \"Neutral,\" \"Negative,\" \"Very Positive,\" \"Very Negative,\" and so on.\n",
    "\n",
    "In this scenario, using one-hot encoding would result in a high-dimensional dataset with many binary features, as each unique sentiment category would be represented by a separate binary column. However, nominal encoding can be a more suitable choice due to the following reasons:\n",
    "\n",
    "1. Reduced dimensionality: With a large number of sentiment categories, using one-hot encoding would introduce a significant increase in the number of columns, potentially leading to a high-dimensional dataset. This can make the dataset more computationally expensive to process and can lead to the curse of dimensionality. Nominal encoding avoids this issue by representing each sentiment category with a single numerical label, reducing the dimensionality of the dataset.\n",
    "\n",
    "2. Encoding efficiency: Nominal encoding uses a single column to represent each category, resulting in a more memory-efficient representation compared to one-hot encoding. This is particularly beneficial when dealing with large datasets, as it reduces memory requirements and speeds up computations.\n",
    "\n",
    "3. Maintaining ordinal information: In some cases, the order or hierarchy of the categories may have significance. Nominal encoding can preserve this ordinal information by assigning numerical labels that reflect the inherent order of the categories. One-hot encoding, on the other hand, does not capture ordinal information since each category is represented independently.\n",
    "\n",
    "In our sentiment analysis example, we can use nominal encoding to assign numerical labels to each sentiment category, such as \"Positive\" as 0, \"Neutral\" as 1, \"Negative\" as 2, \"Very Positive\" as 3, and so on. This approach reduces the dimensionality of the dataset while still allowing the sentiment category information to be used as input for machine learning algorithms.\n",
    "\n",
    "Overall, nominal encoding is preferred over one-hot encoding when dealing with high-dimensional datasets or when the number of unique categories in a categorical variable is large. It offers computational efficiency, reduces memory requirements, and can preserve ordinal information if present in the categories."
   ]
  },
  {
   "cell_type": "code",
   "execution_count": null,
   "id": "064e0ef7-2371-4c3a-ab94-c75535c20678",
   "metadata": {},
   "outputs": [],
   "source": [
    "Q4. Suppose you have a dataset containing categorical data with 5 unique values. Which encoding\n",
    "technique would you use to transform this data into a format suitable for machine learning algorithms?\n",
    "Explain why you made this choice."
   ]
  },
  {
   "cell_type": "code",
   "execution_count": null,
   "id": "1b5ce291-da32-432a-b4ad-26fe1272121f",
   "metadata": {},
   "outputs": [],
   "source": [
    "nominal encoding used to transform the unique values of categorical data\n",
    "\n",
    "nominal encoding is preferred  when dealing with high-dimensional datasets or when the number of unique categories in a categorical variable is large. \n",
    "It offers computational efficiency, reduces memory requirements, and can preserve ordinal information if present in the categories."
   ]
  },
  {
   "cell_type": "code",
   "execution_count": null,
   "id": "9d6ed827-9063-4531-8f62-dffdd82b3f76",
   "metadata": {},
   "outputs": [],
   "source": [
    "Q5. In a machine learning project, you have a dataset with 1000 rows and 5 columns. Two of the columns\n",
    "are categorical, and the remaining three columns are numerical. If you were to use nominal encoding to\n",
    "transform the categorical data, how many new columns would be created? Show your calculations."
   ]
  },
  {
   "cell_type": "code",
   "execution_count": null,
   "id": "dcb90761-eda1-4a9f-8dcb-4f4e95dcaeda",
   "metadata": {},
   "outputs": [],
   "source": [
    "If you were to use nominal encoding to transform the categorical data in a dataset with 1000 rows and 5 columns, and assuming two of the columns are categorical, the number of new columns created would depend on the number of unique categories in each of the categorical columns.\n",
    "\n",
    "Let's denote the number of unique categories in the first categorical column as \"n1\" and the number of unique categories in the second categorical column as \"n2\".\n",
    "\n",
    "For nominal encoding, each unique category is represented by a unique numerical label. Therefore, for each categorical column, a new column is created to represent the numerical labels.\n",
    "\n",
    "Hence, the number of new columns created for nominal encoding would be equal to the sum of the number of unique categories in the two categorical columns.\n",
    "\n",
    "Mathematically, the number of new columns created can be calculated as:\n",
    "\n",
    "Number of new columns = n1 + n2\n",
    "\n",
    "For example, let's assume the first categorical column has 4 unique categories (n1 = 4) and the second categorical column has 3 unique categories (n2 = 3). In this case, the number of new columns created would be:\n",
    "\n",
    "Number of new columns = 4 + 3 = 7\n",
    "\n",
    "Therefore, if nominal encoding is applied to the two categorical columns in the given dataset, 7 new columns would be created to represent the numerical labels of the unique categories.\n"
   ]
  },
  {
   "cell_type": "code",
   "execution_count": null,
   "id": "1aff7f4e-1d21-4439-ad8b-239f31a42db5",
   "metadata": {},
   "outputs": [],
   "source": [
    "Q6. You are working with a dataset containing information about different types of animals, including their\n",
    "species, habitat, and diet. Which encoding technique would you use to transform the categorical data into\n",
    "a format suitable for machine learning algorithms? Justify your answer."
   ]
  },
  {
   "cell_type": "code",
   "execution_count": null,
   "id": "0aa128e2-bab7-4237-8746-700daf22f552",
   "metadata": {},
   "outputs": [],
   "source": [
    "\n",
    "When working with a dataset containing categorical data about different types of animals, including their species, habitat, and diet, the choice of encoding technique depends on the specific characteristics and requirements of the data. In this case, given the nature of the categorical features, one-hot encoding would be a suitable choice. Here's the justification for using one-hot encoding:\n",
    "\n",
    "Unordered categories: The categorical features in this dataset, such as species, habitat, and diet, likely represent distinct categories without any inherent order or hierarchy. One-hot encoding is appropriate for such unordered categorical data, as it represents each category as a binary column, treating them as independent features.\n",
    "\n",
    "Preserving feature distinctness: Animals can have multiple species, habitats, and dietary patterns, which are distinct categories. One-hot encoding ensures that each category is represented by a separate binary column, allowing the machine learning algorithm to distinguish between different species, habitats, and diets.\n",
    "\n",
    "Handling multi-class classification: If the task involves multi-class classification, where animals can belong to multiple categories simultaneously (e.g., multiple species, habitats, or diets), one-hot encoding provides a natural representation. Each animal's presence in a specific category is indicated by a value of 1 in the corresponding column and 0 in others.\n",
    "\n",
    "Machine learning algorithm compatibility: One-hot encoding enables the use of various machine learning algorithms that require numeric input. It avoids introducing any ordinal relationship or numerical magnitude between categories, ensuring compatibility with algorithms that work with numerical features."
   ]
  },
  {
   "cell_type": "code",
   "execution_count": null,
   "id": "72fd0923-9fc2-4dfc-907c-c0a4e3692c3f",
   "metadata": {},
   "outputs": [],
   "source": [
    "Q7.You are working on a project that involves predicting customer churn for a telecommunications\n",
    "company. You have a dataset with 5 features, including the customer's gender, age, contract type,\n",
    "monthly charges, and tenure. Which encoding technique(s) would you use to transform the categorical\n",
    "data into numerical data? Provide a step-by-step explanation of how you would implement the encoding."
   ]
  },
  {
   "cell_type": "code",
   "execution_count": null,
   "id": "3da17ed3-2e1a-4a87-9b21-e5c7f334ea3a",
   "metadata": {},
   "outputs": [],
   "source": [
    "Here's an example of how nominal encoding can be used in a real-world scenario:\n",
    "\n",
    "Scenario: Predicting customer churn in a telecom company.\n",
    "\n",
    "Suppose you have a dataset with a categorical feature \"Contract Type\" which represents the type of contract a customer has with the telecom company. The categories in this feature are \"Month-to-Month,\" \"One year,\" and \"Two year.\" To use this categorical feature as input for a machine learning model, you can apply nominal encoding:\n",
    "\n",
    "Original dataset:\n",
    "| Customer ID | Contract Type |\n",
    "|-------------|---------------|\n",
    "| 1           | Month-to-Month |\n",
    "| 2           | One year      |\n",
    "| 3           | Two year      |\n",
    "| 4           | Month-to-Month |\n",
    "\n",
    "After applying nominal encoding to the \"Contract Type\" feature, the dataset would look like:\n",
    "\n",
    "Encoded dataset:\n",
    "| Customer ID | Contract Type |\n",
    "|-------------|---------------|\n",
    "| 1           | 0             |\n",
    "| 2           | 1             |\n",
    "| 3           | 2             |\n",
    "| 4           | 0             |\n",
    "\n",
    "In this example, each unique category in the \"Contract Type\" feature is assigned a numerical label: \"Month-to-Month\" is encoded as 0, \"One year\" as 1, and \"Two year\" as 2. Now the feature is represented numerically, allowing it to be used as input for machine learning algorithms.\n",
    "\n",
    "It's important to note that nominal encoding does not imply any ordinal relationship between the categories. The numerical labels are merely identifiers and do not represent any specific order or magnitude. If there is an inherent order or hierarchy among the categories, other encoding techniques like ordinal encoding or one-hot encoding may be more suitable."
   ]
  },
  {
   "cell_type": "code",
   "execution_count": null,
   "id": "64bd77a2-1cf8-4947-9367-b379b86d349e",
   "metadata": {},
   "outputs": [],
   "source": []
  }
 ],
 "metadata": {
  "kernelspec": {
   "display_name": "Python 3 (ipykernel)",
   "language": "python",
   "name": "python3"
  },
  "language_info": {
   "codemirror_mode": {
    "name": "ipython",
    "version": 3
   },
   "file_extension": ".py",
   "mimetype": "text/x-python",
   "name": "python",
   "nbconvert_exporter": "python",
   "pygments_lexer": "ipython3",
   "version": "3.10.8"
  }
 },
 "nbformat": 4,
 "nbformat_minor": 5
}

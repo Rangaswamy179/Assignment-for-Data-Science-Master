{
 "cells": [
  {
   "cell_type": "markdown",
   "id": "57aae451-6621-442b-8aec-3227475b07fb",
   "metadata": {},
   "source": [
    "##ASSIGNMENT"
   ]
  },
  {
   "cell_type": "code",
   "execution_count": null,
   "id": "78a83279-5101-4676-9f3f-3873f616c0c6",
   "metadata": {},
   "outputs": [],
   "source": [
    "Q1. What are the characteristics of tuples?is tuple immutable\n",
    "\n",
    ". Tuple is orderd\n",
    ". Tuple is immutable\n",
    ". Tuple allows the duplicates\n",
    ". It is also possible to use the tuple() constructor to make a tuple.\n",
    ". Tuple allows many data types such as string,integer,and boolean.\n",
    ". it allows to typecast to list,set and used as key in dictionary\n",
    "\n",
    ">> yes,tuple is immutable"
   ]
  },
  {
   "cell_type": "code",
   "execution_count": null,
   "id": "e58bd07e-970a-4804-94e9-2bb8d75037ae",
   "metadata": {},
   "outputs": [],
   "source": [
    "Q2. What are the two tuple methods in python?Give an example of each method.give a reason why tuples have only two in-built methods as compared to list?\n",
    "\n",
    ">> index and count are two tuple methods in python\n",
    "*Foollowing below two examples of index and count"
   ]
  },
  {
   "cell_type": "code",
   "execution_count": 1,
   "id": "5704d84a-9cbe-4141-ad59-28afdfb1ec9e",
   "metadata": {},
   "outputs": [],
   "source": [
    "t=[1,'hello',1,True,2,'hi','hello']"
   ]
  },
  {
   "cell_type": "code",
   "execution_count": 4,
   "id": "4b273ef1-b32a-4674-9655-290eaf2b8d97",
   "metadata": {},
   "outputs": [
    {
     "data": {
      "text/plain": [
       "0"
      ]
     },
     "execution_count": 4,
     "metadata": {},
     "output_type": "execute_result"
    }
   ],
   "source": [
    "t.index(1)\n"
   ]
  },
  {
   "cell_type": "code",
   "execution_count": null,
   "id": "0434ff67-3148-4b87-8d5c-6e7c6c635d6c",
   "metadata": {},
   "outputs": [],
   "source": [
    "Above example shows the index of tuple that occurs the first occurence of 1 element at 0 index"
   ]
  },
  {
   "cell_type": "code",
   "execution_count": 5,
   "id": "c9815b93-299a-4899-8935-82f7c1c62626",
   "metadata": {},
   "outputs": [],
   "source": [
    "t=[1,'hello',1,True,2,'hi','hello']"
   ]
  },
  {
   "cell_type": "code",
   "execution_count": 6,
   "id": "816ecfac-b096-4e07-a573-1a54b577e33d",
   "metadata": {},
   "outputs": [
    {
     "data": {
      "text/plain": [
       "3"
      ]
     },
     "execution_count": 6,
     "metadata": {},
     "output_type": "execute_result"
    }
   ],
   "source": [
    "t.count(1)"
   ]
  },
  {
   "cell_type": "code",
   "execution_count": null,
   "id": "be86ae10-5420-4ade-b24a-c44a7da137b8",
   "metadata": {},
   "outputs": [],
   "source": [
    "Above example shows the count of tuple method,in example count of 1 returns 3 because internally True returned as 1 so count of 1 becomes 3."
   ]
  },
  {
   "cell_type": "code",
   "execution_count": null,
   "id": "c43dfd0c-27d2-4c34-9137-7200e0153a59",
   "metadata": {},
   "outputs": [],
   "source": [
    "> Because tuple is immutable and list is mutable,because of that list as many operations like for insertion of element we have\n",
    "    insert,append and for removal we have remove,pop and for update we have update,due to tuple immutablity there are two operations\n",
    "    index and count."
   ]
  },
  {
   "cell_type": "code",
   "execution_count": null,
   "id": "4bb7df51-a786-49a7-88cb-9a67a93197e0",
   "metadata": {},
   "outputs": [],
   "source": [
    "Q3.  Which collection datatypes in python do not allow duplicate items? Write a code using a set to remove\n",
    "duplicates from the given list.\n",
    "List = [1, 1, 1, 2, 1, 3, 1, 4, 2, 1, 2, 2, 2, 3, 2, 4, 3, 1, 3, 2, 3, 3, 3, 4, 4, 1, 4, 2, 4, 3, 4, 4]\n",
    "\n",
    ">>  set is a collection in  python do not allow duplicate items\n",
    "Below is solution remove duplicates from given list\n"
   ]
  },
  {
   "cell_type": "code",
   "execution_count": 2,
   "id": "cede504c-c77f-4851-9c48-ef479695e948",
   "metadata": {},
   "outputs": [
    {
     "data": {
      "text/plain": [
       "{1, 2, 3, 4}"
      ]
     },
     "execution_count": 2,
     "metadata": {},
     "output_type": "execute_result"
    }
   ],
   "source": [
    "List = [1, 1, 1, 2, 1, 3, 1, 4, 2, 1, 2, 2, 2, 3, 2, 4, 3, 1, 3, 2, 3, 3, 3, 4, 4, 1, 4, 2, 4, 3, 4, 4]\n",
    "s=set(List)\n",
    "s"
   ]
  },
  {
   "cell_type": "code",
   "execution_count": null,
   "id": "9d3007c3-a742-4bcf-8767-953d79cc4e30",
   "metadata": {},
   "outputs": [],
   "source": [
    "Q4. Explain the difference between the union() and update() methods for a set. Give an example of\n",
    "each method.\n",
    "\n",
    "suppose we have two sets s1 and s2,union perform the operation of merge overall elements of s1 and s2 into one set.\n",
    "But in update if we have two sets s1 and s2,s1 update s2 it will add elements of s2 into s1,s1 contains s2 elements and vice versa.\n",
    "\n",
    "below examples shows how union and update works:"
   ]
  },
  {
   "cell_type": "code",
   "execution_count": 3,
   "id": "b9b2fb45-d234-4b82-82ea-e0efe647cae9",
   "metadata": {},
   "outputs": [
    {
     "data": {
      "text/plain": [
       "{1, 2, 3, 4, 5, 6, 7, 8, 9, 10}"
      ]
     },
     "execution_count": 3,
     "metadata": {},
     "output_type": "execute_result"
    }
   ],
   "source": [
    "s1={1,2,3,4,5}\n",
    "s2={6,7,8,9,10}\n",
    "s1.union(s2)"
   ]
  },
  {
   "cell_type": "code",
   "execution_count": null,
   "id": "815adead-5764-46c5-8900-361f4768de2d",
   "metadata": {},
   "outputs": [],
   "source": [
    "* By above example shows union will merge overall values into one set"
   ]
  },
  {
   "cell_type": "code",
   "execution_count": 9,
   "id": "4453038a-0e39-4322-9330-f277c7950cf4",
   "metadata": {},
   "outputs": [
    {
     "data": {
      "text/plain": [
       "{1, 2, 3, 4, 5, 6, 7, 8, 9, 10}"
      ]
     },
     "execution_count": 9,
     "metadata": {},
     "output_type": "execute_result"
    }
   ],
   "source": [
    "s1={1,2,3,4,5}\n",
    "s2={6,7,8,9,10}\n",
    "s1.update(s2)\n",
    "s1\n"
   ]
  },
  {
   "cell_type": "code",
   "execution_count": 10,
   "id": "c1805d9a-0adc-4a98-978e-83a25b02cb3f",
   "metadata": {},
   "outputs": [
    {
     "data": {
      "text/plain": [
       "{6, 7, 8, 9, 10}"
      ]
     },
     "execution_count": 10,
     "metadata": {},
     "output_type": "execute_result"
    }
   ],
   "source": [
    "s2"
   ]
  },
  {
   "cell_type": "code",
   "execution_count": null,
   "id": "cfa8332f-19bf-4231-b659-c74fb1799035",
   "metadata": {},
   "outputs": [],
   "source": [
    "* By example we shown s1 update the elements with s2,but s2 has same elements."
   ]
  },
  {
   "cell_type": "code",
   "execution_count": null,
   "id": "8c2ba94b-0446-494f-a5c2-450bff0b4e41",
   "metadata": {},
   "outputs": [],
   "source": [
    "Q5. What is a dictionary? Give an example. Also, state whether a dictionary is ordered or unordered.\n",
    "\n",
    ">>Dictionary defined as one type of data structure to store elements in ordered with key and value pair\n",
    "Below is example of dictionary"
   ]
  },
  {
   "cell_type": "code",
   "execution_count": 11,
   "id": "dda1287b-ccbb-46b5-a860-5961746b32cc",
   "metadata": {},
   "outputs": [
    {
     "data": {
      "text/plain": [
       "{'key1': 'value1', (1, 2): 3, 3.2: ['hello python']}"
      ]
     },
     "execution_count": 11,
     "metadata": {},
     "output_type": "execute_result"
    }
   ],
   "source": [
    "d={}\n",
    "d['key1']='value1'\n",
    "d[(1,2)]=3\n",
    "d[3.2]=['hello python']\n",
    "d"
   ]
  },
  {
   "cell_type": "code",
   "execution_count": null,
   "id": "0b8c4970-d755-407e-87b2-3a1e15a80953",
   "metadata": {},
   "outputs": [],
   "source": [
    ">> Yes dictionary is ordered"
   ]
  },
  {
   "cell_type": "code",
   "execution_count": null,
   "id": "4c6c5ec1-5bbd-4ade-8d31-1377f946616d",
   "metadata": {},
   "outputs": [],
   "source": [
    "q6. Can we create a nested dictionary? If so, please give an example by creating a simple one-level\n",
    "    nested dictionary.\n",
    "    \n",
    "    Yes we can create nested dictionary.\n",
    "    Below is the example of nested dictionary"
   ]
  },
  {
   "cell_type": "code",
   "execution_count": 12,
   "id": "d6422eb9-d18a-4e38-8c82-e1a86e336aa9",
   "metadata": {},
   "outputs": [
    {
     "data": {
      "text/plain": [
       "{'key1': 'value1', 'key2': {'python': 'machine learning'}}"
      ]
     },
     "execution_count": 12,
     "metadata": {},
     "output_type": "execute_result"
    }
   ],
   "source": [
    "d1={}\n",
    "d1['key1']='value1'\n",
    "d1['key2']={'python':'machine learning'}\n",
    "d1\n"
   ]
  },
  {
   "cell_type": "code",
   "execution_count": null,
   "id": "1e76fe83-3eca-490f-a5d1-5fdf28b02076",
   "metadata": {},
   "outputs": [],
   "source": [
    "Q7. Using setdefault() method, create key named topics in the given dictionary and also add the value of\n",
    "the key as this list ['Python', 'Machine Learning’, 'Deep Learning']\n",
    "\n",
    "\n",
    "dict1 = {'language' : 'Python', 'course': 'Data Science Masters'}"
   ]
  },
  {
   "cell_type": "code",
   "execution_count": 20,
   "id": "54eb319d-f378-4a79-ac4f-628149ed0826",
   "metadata": {},
   "outputs": [
    {
     "data": {
      "text/plain": [
       "{'k1': 'v1', 'topics': ['Python', 'Machine Learning', 'Deep Learning']}"
      ]
     },
     "execution_count": 20,
     "metadata": {},
     "output_type": "execute_result"
    }
   ],
   "source": [
    "d2={'k1':'v1'}\n",
    "d2.setdefault('topics',['Python', 'Machine Learning','Deep Learning'])\n",
    "d2"
   ]
  },
  {
   "cell_type": "code",
   "execution_count": null,
   "id": "bcf9673a-524a-4eb6-9142-d00107feec6f",
   "metadata": {},
   "outputs": [],
   "source": [
    "Q8. What are the three view objects in dictionaries? Use the three in-built methods in python to display\n",
    "these three view objects for the given dictionary.\n",
    "\n",
    "\n",
    "dict1 = {'Sport': 'Cricket' , 'Teams': ['India', 'Australia', 'England', 'South Africa', 'Sri Lanka', 'New Zealand']}"
   ]
  },
  {
   "cell_type": "code",
   "execution_count": null,
   "id": "d77cf5c1-4939-4db2-ad94-4a60d2f27f33",
   "metadata": {},
   "outputs": [],
   "source": [
    "The three view objects in dictionaries are keys,values and items\n",
    "Below python in-built  methods in python to display these three view objects for the given dictionary."
   ]
  },
  {
   "cell_type": "code",
   "execution_count": 21,
   "id": "a0d469b5-df55-4556-bc34-d928cc3e8d58",
   "metadata": {},
   "outputs": [],
   "source": [
    "dict1 = {'Sport': 'Cricket' , 'Teams': ['India', 'Australia', 'England', 'South Africa', 'Sri Lanka', 'New Zealand']}"
   ]
  },
  {
   "cell_type": "code",
   "execution_count": 22,
   "id": "a8815762-c6b3-4154-8875-44b8f97b095a",
   "metadata": {},
   "outputs": [
    {
     "data": {
      "text/plain": [
       "dict_keys(['Sport', 'Teams'])"
      ]
     },
     "execution_count": 22,
     "metadata": {},
     "output_type": "execute_result"
    }
   ],
   "source": [
    "dict1.keys(),for displaying keys"
   ]
  },
  {
   "cell_type": "code",
   "execution_count": 23,
   "id": "87b9e148-e876-4fa6-bc7d-c6d1bc827493",
   "metadata": {},
   "outputs": [
    {
     "data": {
      "text/plain": [
       "dict_values(['Cricket', ['India', 'Australia', 'England', 'South Africa', 'Sri Lanka', 'New Zealand']])"
      ]
     },
     "execution_count": 23,
     "metadata": {},
     "output_type": "execute_result"
    }
   ],
   "source": [
    "dict1.values(),for displaying values"
   ]
  },
  {
   "cell_type": "code",
   "execution_count": 24,
   "id": "00c56ace-fd2d-4559-8661-ce2435b8808e",
   "metadata": {},
   "outputs": [
    {
     "data": {
      "text/plain": [
       "dict_items([('Sport', 'Cricket'), ('Teams', ['India', 'Australia', 'England', 'South Africa', 'Sri Lanka', 'New Zealand'])])"
      ]
     },
     "execution_count": 24,
     "metadata": {},
     "output_type": "execute_result"
    }
   ],
   "source": [
    "dict1.items() for display overall dictionaty keys and values"
   ]
  },
  {
   "cell_type": "code",
   "execution_count": null,
   "id": "9dc2cb13-4890-4fc2-8260-f12f9a5e9ccf",
   "metadata": {},
   "outputs": [],
   "source": []
  }
 ],
 "metadata": {
  "kernelspec": {
   "display_name": "Python 3 (ipykernel)",
   "language": "python",
   "name": "python3"
  },
  "language_info": {
   "codemirror_mode": {
    "name": "ipython",
    "version": 3
   },
   "file_extension": ".py",
   "mimetype": "text/x-python",
   "name": "python",
   "nbconvert_exporter": "python",
   "pygments_lexer": "ipython3",
   "version": "3.10.8"
  }
 },
 "nbformat": 4,
 "nbformat_minor": 5
}

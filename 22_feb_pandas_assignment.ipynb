{
 "cells": [
  {
   "cell_type": "code",
   "execution_count": null,
   "id": "546cb35d-b8eb-4b38-8aaf-e051ee860d2c",
   "metadata": {},
   "outputs": [],
   "source": [
    "Q1. Create a Pandas Series that contains the following data: 4, 8, 15, 16, 23, and 42. Then, print the series."
   ]
  },
  {
   "cell_type": "code",
   "execution_count": 17,
   "id": "147dcd16-531a-41d0-acbf-73e8631201d8",
   "metadata": {},
   "outputs": [],
   "source": [
    "import pandas as pd\n",
    "s=pd.Series([ 4, 8, 15, 16, 23,42])"
   ]
  },
  {
   "cell_type": "code",
   "execution_count": 18,
   "id": "befa1825-5fa1-4019-8195-f02e2456b95b",
   "metadata": {},
   "outputs": [
    {
     "name": "stdout",
     "output_type": "stream",
     "text": [
      "0     4\n",
      "1     8\n",
      "2    15\n",
      "3    16\n",
      "4    23\n",
      "5    42\n",
      "dtype: int64\n"
     ]
    }
   ],
   "source": [
    "print(s)"
   ]
  },
  {
   "cell_type": "code",
   "execution_count": null,
   "id": "dc6606b4-96ad-49d4-957e-54872a80e069",
   "metadata": {},
   "outputs": [],
   "source": [
    "Q2. Create a variable of list type containing 10 elements in it, and apply pandas.Series function on the\n",
    "variable print it."
   ]
  },
  {
   "cell_type": "code",
   "execution_count": 19,
   "id": "c8b5da97-01b7-4505-b3a1-ce5725f2bccf",
   "metadata": {},
   "outputs": [
    {
     "name": "stdout",
     "output_type": "stream",
     "text": [
      "0     10\n",
      "1     20\n",
      "2     30\n",
      "3     40\n",
      "4     50\n",
      "5     60\n",
      "6     70\n",
      "7     80\n",
      "8     90\n",
      "9    100\n",
      "dtype: int64\n"
     ]
    }
   ],
   "source": [
    "l=[10,20,30,40,50,60,70,80,90,100]\n",
    "s1=pd.Series(l)\n",
    "print(s1)"
   ]
  },
  {
   "cell_type": "code",
   "execution_count": null,
   "id": "115409ca-14c4-4282-9419-781ad7c18f2e",
   "metadata": {},
   "outputs": [],
   "source": [
    "Q3. Create a Pandas DataFrame that contains the following data:\n"
   ]
  },
  {
   "cell_type": "code",
   "execution_count": 20,
   "id": "04d517fb-4d7c-43b2-8061-1cb0095b2f56",
   "metadata": {},
   "outputs": [
    {
     "name": "stdout",
     "output_type": "stream",
     "text": [
      "    Name  Age  Gender\n",
      "0  Alice   25  Female\n",
      "1    Bob   30    male\n",
      "2  clair   27  female\n"
     ]
    }
   ],
   "source": [
    "data=[['Alice',25,'Female'],['Bob',30,'male'],['clair',27,'female']]\n",
    "df=pd.DataFrame(data,columns=['Name','Age','Gender'])\n",
    "print(df)"
   ]
  },
  {
   "cell_type": "code",
   "execution_count": null,
   "id": "f0152278-e398-4bd0-9c6c-72c8c878ab81",
   "metadata": {},
   "outputs": [],
   "source": [
    "Q4. What is ‘DataFrame’ in pandas and how is it different from pandas.series? Explain with an example."
   ]
  },
  {
   "cell_type": "code",
   "execution_count": null,
   "id": "611c5fa2-0303-4d66-864e-c6120c7b5768",
   "metadata": {},
   "outputs": [],
   "source": [
    "A Pandas DataFrame is a 2 dimensional data structure, like a 2 dimensional array, or a table with rows and columns."
   ]
  },
  {
   "cell_type": "code",
   "execution_count": null,
   "id": "72f55939-2483-4bb1-b915-dc87ac3a15b0",
   "metadata": {},
   "outputs": [],
   "source": [
    "pandas series is a one dimensional data structure,series of elements\n",
    "A Pandas DataFrame is a two dimensional data structure like,rows and clumns\n",
    "pandas series are immutable once they are created we are not able to change\n",
    "pandas dataframe are mutable once they are crea we are not able to change\n",
    "Homogenous – Series elements must be of the same data type.\n",
    "Heterogenous – DataFrame elements can have different data types. "
   ]
  },
  {
   "cell_type": "code",
   "execution_count": null,
   "id": "ccb52fab-da14-4324-9bb0-2d5daae3ab30",
   "metadata": {},
   "outputs": [],
   "source": [
    "#series example "
   ]
  },
  {
   "cell_type": "code",
   "execution_count": 28,
   "id": "3b3029a3-6f53-4f89-a942-30a28bc3350d",
   "metadata": {},
   "outputs": [
    {
     "name": "stdout",
     "output_type": "stream",
     "text": [
      "0    0\n",
      "1    1\n",
      "2    2\n",
      "dtype: int64\n"
     ]
    }
   ],
   "source": [
    "n=pd.Series([0,1,2])\n",
    "numbers=pd.Series(['zero','one','two'])\n",
    "print(n)"
   ]
  },
  {
   "cell_type": "code",
   "execution_count": 29,
   "id": "c7e4e168-5ec9-43ac-85ce-5e2264cfe86c",
   "metadata": {},
   "outputs": [
    {
     "name": "stdout",
     "output_type": "stream",
     "text": [
      "0    zero\n",
      "1     one\n",
      "2     two\n",
      "dtype: object\n"
     ]
    }
   ],
   "source": [
    "print(numbers)"
   ]
  },
  {
   "cell_type": "code",
   "execution_count": 30,
   "id": "c1d9a013-ad27-4b44-84a8-2e1cec430e77",
   "metadata": {},
   "outputs": [
    {
     "name": "stdout",
     "output_type": "stream",
     "text": [
      "   value numbers\n",
      "0      0    zero\n",
      "1      1     one\n",
      "2      2     two\n"
     ]
    }
   ],
   "source": [
    "#dataframe exaple merging of two  series\n",
    "d={'value':n,'numbers':numbers}\n",
    "df=pd.DataFrame(d)\n",
    "print(df)"
   ]
  },
  {
   "cell_type": "code",
   "execution_count": null,
   "id": "a209f76a-fdac-4a77-b4ea-2bf2530ea1e4",
   "metadata": {},
   "outputs": [],
   "source": [
    "Q6. Which of the following is mutable in nature Series, DataFrame, Panel?"
   ]
  },
  {
   "cell_type": "code",
   "execution_count": null,
   "id": "eb3918a3-ae66-4f57-b178-169d41b78019",
   "metadata": {},
   "outputs": [],
   "source": [
    "DataFrame is mutable in nature "
   ]
  },
  {
   "cell_type": "code",
   "execution_count": null,
   "id": "9eab8488-37fe-401c-a983-0825040b29c9",
   "metadata": {},
   "outputs": [],
   "source": [
    "Q7. Create a DataFrame using multiple Series. Explain with an example."
   ]
  },
  {
   "cell_type": "code",
   "execution_count": 23,
   "id": "04f7535f-2b21-464b-a359-cb3517dfcece",
   "metadata": {},
   "outputs": [
    {
     "name": "stdout",
     "output_type": "stream",
     "text": [
      "     Author  Article\n",
      "0  Jitender      210\n",
      "1   Purnima      211\n",
      "2     Arpit      114\n",
      "3     Jyoti      178\n"
     ]
    }
   ],
   "source": [
    "import pandas as pd\n",
    "author = ['Jitender', 'Purnima', 'Arpit', 'Jyoti']\n",
    "article = [210, 211, 114, 178]\n",
    "auth_series = pd.Series(author)\n",
    "article_series = pd.Series(article)\n",
    "frame = { 'Author': auth_series, 'Article': article_series }\n",
    "result = pd.DataFrame(frame)\n",
    "print(result)"
   ]
  },
  {
   "cell_type": "code",
   "execution_count": null,
   "id": "549a93d0-d2b0-448f-94d8-55b132d75ae1",
   "metadata": {},
   "outputs": [],
   "source": []
  }
 ],
 "metadata": {
  "kernelspec": {
   "display_name": "Python 3 (ipykernel)",
   "language": "python",
   "name": "python3"
  },
  "language_info": {
   "codemirror_mode": {
    "name": "ipython",
    "version": 3
   },
   "file_extension": ".py",
   "mimetype": "text/x-python",
   "name": "python",
   "nbconvert_exporter": "python",
   "pygments_lexer": "ipython3",
   "version": "3.10.8"
  }
 },
 "nbformat": 4,
 "nbformat_minor": 5
}

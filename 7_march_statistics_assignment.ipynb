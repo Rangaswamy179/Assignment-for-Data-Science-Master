{
 "cells": [
  {
   "cell_type": "code",
   "execution_count": null,
   "id": "d77f24a4-9902-4a87-88af-f701fb56d999",
   "metadata": {},
   "outputs": [],
   "source": [
    "Q1. What are the three measures of central tendency?\n",
    "mean,median,mode are the three measures of central tendency"
   ]
  },
  {
   "cell_type": "code",
   "execution_count": null,
   "id": "b36291b5-1ab8-4fb0-b675-797ecba9dab4",
   "metadata": {},
   "outputs": [],
   "source": [
    "Q2. What is the difference between the mean, median, and mode? How are they used to measure the\n",
    "central tendency of a dataset?\n",
    "the difference between the mean, median, and mode are:\n",
    "    mean is defined as average of elements in a dataset\n",
    "    median is defined as the middle element in a dataset\n",
    "    mode is defined as most occured element in a dataset"
   ]
  },
  {
   "cell_type": "code",
   "execution_count": null,
   "id": "0aa2dd22-b1da-44f9-bdd6-c69555fcd51b",
   "metadata": {},
   "outputs": [],
   "source": [
    "Q3. Measure the three measures of central tendency for the given height data:\n",
    "[178,177,176,177,178.2,178,175,179,180,175,178.9,176.2,177,172.5,178,176.5]"
   ]
  },
  {
   "cell_type": "code",
   "execution_count": 1,
   "id": "ed4e955e-3542-402a-9720-7369879cb16f",
   "metadata": {},
   "outputs": [
    {
     "data": {
      "text/plain": [
       "177.01875"
      ]
     },
     "execution_count": 1,
     "metadata": {},
     "output_type": "execute_result"
    }
   ],
   "source": [
    "import numpy as np\n",
    "l=[178,177,176,177,178.2,178,175,179,180,175,178.9,176.2,177,172.5,178,176.5]\n",
    "np.mean(l)"
   ]
  },
  {
   "cell_type": "code",
   "execution_count": 2,
   "id": "639cf87d-8cca-41f5-9609-04bfc04c8f8f",
   "metadata": {},
   "outputs": [
    {
     "data": {
      "text/plain": [
       "177.0"
      ]
     },
     "execution_count": 2,
     "metadata": {},
     "output_type": "execute_result"
    }
   ],
   "source": [
    "np.median(l)"
   ]
  },
  {
   "cell_type": "code",
   "execution_count": 4,
   "id": "2eb1662f-9169-4fad-b6df-de01dfad025c",
   "metadata": {},
   "outputs": [
    {
     "name": "stderr",
     "output_type": "stream",
     "text": [
      "/tmp/ipykernel_127/3491401086.py:2: FutureWarning: Unlike other reduction functions (e.g. `skew`, `kurtosis`), the default behavior of `mode` typically preserves the axis it acts along. In SciPy 1.11.0, this behavior will change: the default value of `keepdims` will become False, the `axis` over which the statistic is taken will be eliminated, and the value None will no longer be accepted. Set `keepdims` to True or False to avoid this warning.\n",
      "  stats.mode(l)\n"
     ]
    },
    {
     "data": {
      "text/plain": [
       "ModeResult(mode=array([177.]), count=array([3]))"
      ]
     },
     "execution_count": 4,
     "metadata": {},
     "output_type": "execute_result"
    }
   ],
   "source": [
    "from scipy import stats\n",
    "stats.mode(l)"
   ]
  },
  {
   "cell_type": "code",
   "execution_count": null,
   "id": "f0fcf1c9-76b7-4115-8144-af0395891583",
   "metadata": {},
   "outputs": [],
   "source": [
    "Q4. Find the standard deviation for the given data:\n",
    "[178,177,176,177,178.2,178,175,179,180,175,178.9,176.2,177,172.5,178,176.5]"
   ]
  },
  {
   "cell_type": "code",
   "execution_count": 5,
   "id": "766070a7-60b7-4166-856c-542d121db31f",
   "metadata": {},
   "outputs": [
    {
     "data": {
      "text/plain": [
       "1.7885814036548633"
      ]
     },
     "execution_count": 5,
     "metadata": {},
     "output_type": "execute_result"
    }
   ],
   "source": [
    "np.std(l)"
   ]
  },
  {
   "cell_type": "code",
   "execution_count": null,
   "id": "8d3d6f2a-cb6c-442b-a351-06df853b3b25",
   "metadata": {},
   "outputs": [],
   "source": [
    "Q5. How are measures of dispersion such as range, variance, and standard deviation used to describe\n",
    "the spread of a dataset? Provide an example.\n",
    "range is defined as measure of difference between the maximum and minimum element in an dataset\n",
    "Variance is calculated by dividing the sum of squares of the difference of each value and the mean, with the total number of values\n",
    "The standard deviation is calculated as the square root of variance. "
   ]
  },
  {
   "cell_type": "code",
   "execution_count": 1,
   "id": "0d75126f-b825-46e8-ab3b-6c03e800bb6f",
   "metadata": {},
   "outputs": [],
   "source": [
    "a=[1,2,3,4,5,6]"
   ]
  },
  {
   "cell_type": "code",
   "execution_count": 5,
   "id": "77113019-0f46-4c1f-a879-4db634b77a8c",
   "metadata": {},
   "outputs": [
    {
     "data": {
      "text/plain": [
       "5"
      ]
     },
     "execution_count": 5,
     "metadata": {},
     "output_type": "execute_result"
    }
   ],
   "source": [
    "r1=max(a)\n",
    "r2=min(a)\n",
    "r1-r2"
   ]
  },
  {
   "cell_type": "code",
   "execution_count": 2,
   "id": "ba1fded2-a8e6-4877-8dd6-a0dd736ea805",
   "metadata": {},
   "outputs": [
    {
     "data": {
      "text/plain": [
       "2.9166666666666665"
      ]
     },
     "execution_count": 2,
     "metadata": {},
     "output_type": "execute_result"
    }
   ],
   "source": [
    "import numpy as np\n",
    "np.var(a)"
   ]
  },
  {
   "cell_type": "code",
   "execution_count": 3,
   "id": "793a934a-10f2-4fe5-bfe3-008b11d37f08",
   "metadata": {},
   "outputs": [
    {
     "data": {
      "text/plain": [
       "1.707825127659933"
      ]
     },
     "execution_count": 3,
     "metadata": {},
     "output_type": "execute_result"
    }
   ],
   "source": [
    "np.std(a)"
   ]
  },
  {
   "cell_type": "code",
   "execution_count": null,
   "id": "b7ca7481-dfff-4257-b6f5-d593ff4c050b",
   "metadata": {},
   "outputs": [],
   "source": [
    "Q6. What is a Venn diagram?\n",
    "It is diagramatical representation of different operation of sets"
   ]
  },
  {
   "cell_type": "code",
   "execution_count": null,
   "id": "b33cf5b1-8b3a-40a2-b332-9f98969c9bb7",
   "metadata": {},
   "outputs": [],
   "source": [
    "Q7. For the two given sets A = (2,3,4,5,6,7) & B = (0,2,6,8,10). Find:\n",
    "(i) A B\n",
    "(ii) A ⋃ B"
   ]
  },
  {
   "cell_type": "code",
   "execution_count": 10,
   "id": "907cce6b-a87a-441c-b257-9584d50a42c1",
   "metadata": {},
   "outputs": [],
   "source": [
    "A = set((2,3,4,5,6,7)) "
   ]
  },
  {
   "cell_type": "code",
   "execution_count": 11,
   "id": "d928eba8-0da6-464a-a8f0-bafe734d7d67",
   "metadata": {},
   "outputs": [],
   "source": [
    "B = set((0,2,6,8,10))"
   ]
  },
  {
   "cell_type": "code",
   "execution_count": 12,
   "id": "5a91dfe3-7160-4f9b-af28-914717bc22d6",
   "metadata": {},
   "outputs": [
    {
     "data": {
      "text/plain": [
       "{0, 2, 3, 4, 5, 6, 7, 8, 10}"
      ]
     },
     "execution_count": 12,
     "metadata": {},
     "output_type": "execute_result"
    }
   ],
   "source": [
    "A.union(B)"
   ]
  },
  {
   "cell_type": "code",
   "execution_count": 13,
   "id": "461f88ef-e009-48a5-b62f-5828741f8a1a",
   "metadata": {},
   "outputs": [
    {
     "data": {
      "text/plain": [
       "{2, 6}"
      ]
     },
     "execution_count": 13,
     "metadata": {},
     "output_type": "execute_result"
    }
   ],
   "source": [
    "A.intersection(B)"
   ]
  },
  {
   "cell_type": "code",
   "execution_count": null,
   "id": "003b6f5a-4c31-408e-8d74-ddb90663af88",
   "metadata": {},
   "outputs": [],
   "source": [
    "Q8. What do you understand about skewness in data?\n",
    "Skewness is a measure of the asymmetry of a distribution. A distribution is asymmetrical when its left and right side are not mirror images.\n",
    "A distribution can have right (or positive), left (or negative), or zero skewness. A right-skewed distribution is longer on the right side of its peak,\n",
    "and a left-skewed distribution is longer on the left side of its peak:"
   ]
  },
  {
   "cell_type": "code",
   "execution_count": null,
   "id": "0cf880e6-8f8a-47ef-8969-6bc2c792f4ce",
   "metadata": {},
   "outputs": [],
   "source": [
    "Q9. If a data is right skewed then what will be the position of median with respect to mean?\n",
    "If the distribution of data is skewed to the right, the mean is often greater than the median "
   ]
  },
  {
   "cell_type": "code",
   "execution_count": null,
   "id": "13e93d29-dfec-47a3-aafb-58af5554f484",
   "metadata": {},
   "outputs": [],
   "source": [
    "Q10. Explain the difference between covariance and correlation. How are these measures used in\n",
    "statistical analysis?"
   ]
  },
  {
   "cell_type": "code",
   "execution_count": null,
   "id": "563eae32-f02c-4bd0-8071-10b34379ae7f",
   "metadata": {},
   "outputs": [],
   "source": [
    "Covariance is a statistical term that refers to a systematic relationship between \n",
    "two random variables in which a change in the other reflects a change in one variable.\n",
    "*Covariance between two variables is calculated and used to measure how the two variables \n",
    "fluctuate together."
   ]
  },
  {
   "cell_type": "code",
   "execution_count": null,
   "id": "91414bb2-8027-4bd2-934c-4d3439ffe086",
   "metadata": {},
   "outputs": [],
   "source": [
    "In statistics, correlation is a measure that determines the degree to which two\n",
    "or more random variables move in sequence\n",
    "*correlation shows you how the two variables are related."
   ]
  },
  {
   "cell_type": "code",
   "execution_count": null,
   "id": "e2677e7d-e2c1-4974-8d94-c1a9ff7603fb",
   "metadata": {},
   "outputs": [],
   "source": [
    "Q11. What is the formula for calculating the sample mean? Provide an example calculation for a\n",
    "dataset."
   ]
  },
  {
   "cell_type": "code",
   "execution_count": null,
   "id": "ad3a9b10-5456-4b29-8fcb-dbee1b16b5c8",
   "metadata": {},
   "outputs": [],
   "source": [
    "The general sample mean formula for calculating the sample mean is expressed as x̄ = ( Σ xi ) ÷ n."
   ]
  },
  {
   "cell_type": "code",
   "execution_count": 2,
   "id": "fb22b064-a3d3-4e84-9939-f37a1f909d60",
   "metadata": {},
   "outputs": [
    {
     "data": {
      "text/plain": [
       "177.01875"
      ]
     },
     "execution_count": 2,
     "metadata": {},
     "output_type": "execute_result"
    }
   ],
   "source": [
    "import numpy as np\n",
    "l=[178,177,176,177,178.2,178,175,179,180,175,178.9,176.2,177,172.5,178,176.5]\n",
    "np.mean(l)"
   ]
  },
  {
   "cell_type": "code",
   "execution_count": null,
   "id": "934422d7-49e9-49d5-bd98-075913cd312a",
   "metadata": {},
   "outputs": [],
   "source": [
    "Q12. For a normal distribution data what is the relationship between its measure of central tendency?"
   ]
  },
  {
   "cell_type": "code",
   "execution_count": null,
   "id": "ce5cdd44-6f40-49a7-9b1b-dd8c590bfe01",
   "metadata": {},
   "outputs": [],
   "source": [
    "Any normal distribution has a graph that is perfectly symmetric about a vertical\n",
    "line through its peak. Therefore, all measures of central tendency (most commonly,\n",
    "the mean, median, and mode) give the same answer: the x -value of the peak.                                                                   "
   ]
  },
  {
   "cell_type": "code",
   "execution_count": null,
   "id": "c8ce0701-f82b-4a22-bc92-0bdd31b84eaf",
   "metadata": {},
   "outputs": [],
   "source": [
    "Q13. How is covariance different from correlation?"
   ]
  },
  {
   "cell_type": "code",
   "execution_count": null,
   "id": "0ed5ac7c-f6ba-4d30-8737-ddc836c8c980",
   "metadata": {},
   "outputs": [],
   "source": [
    "Both covariance and correlation measure the relationship and the dependency \n",
    "between two variables. Covariance indicates the direction of the linear relationship \n",
    "between variables. Correlation measures both the strength and direction of the linear \n",
    "relationship between two variables."
   ]
  },
  {
   "cell_type": "code",
   "execution_count": null,
   "id": "22ca2690-4ccf-425d-bfd3-b3c64a87a2a9",
   "metadata": {},
   "outputs": [],
   "source": [
    "Q14. How do outliers affect measures of central tendency and dispersion? Provide an example."
   ]
  },
  {
   "cell_type": "code",
   "execution_count": null,
   "id": "7b660893-d27e-4231-bd82-63790ef806a2",
   "metadata": {},
   "outputs": [],
   "source": [
    "for mean outlier impact more than median and mode,median and mode does not effected\n",
    "by outlier"
   ]
  },
  {
   "cell_type": "code",
   "execution_count": 7,
   "id": "e4986bff-f57c-487d-98c9-e44d69d0bb61",
   "metadata": {},
   "outputs": [
    {
     "data": {
      "text/plain": [
       "3.142857142857143"
      ]
     },
     "execution_count": 7,
     "metadata": {},
     "output_type": "execute_result"
    }
   ],
   "source": [
    "#without outlier\n",
    "import numpy as np\n",
    "from scipy import stats\n",
    "l=[1,1,2,3,4,5,6]\n",
    "np.mean(l)"
   ]
  },
  {
   "cell_type": "code",
   "execution_count": 8,
   "id": "d8382b6b-e759-4e9d-b971-fd4f89600c88",
   "metadata": {},
   "outputs": [
    {
     "data": {
      "text/plain": [
       "3.0"
      ]
     },
     "execution_count": 8,
     "metadata": {},
     "output_type": "execute_result"
    }
   ],
   "source": [
    "np.median(l)"
   ]
  },
  {
   "cell_type": "code",
   "execution_count": 9,
   "id": "7d174401-b2bd-4691-bfac-2e974e6d735f",
   "metadata": {},
   "outputs": [
    {
     "name": "stderr",
     "output_type": "stream",
     "text": [
      "/tmp/ipykernel_151/2919890712.py:1: FutureWarning: Unlike other reduction functions (e.g. `skew`, `kurtosis`), the default behavior of `mode` typically preserves the axis it acts along. In SciPy 1.11.0, this behavior will change: the default value of `keepdims` will become False, the `axis` over which the statistic is taken will be eliminated, and the value None will no longer be accepted. Set `keepdims` to True or False to avoid this warning.\n",
      "  stats.mode(l)\n"
     ]
    },
    {
     "data": {
      "text/plain": [
       "ModeResult(mode=array([1]), count=array([2]))"
      ]
     },
     "execution_count": 9,
     "metadata": {},
     "output_type": "execute_result"
    }
   ],
   "source": [
    "stats.mode(l)"
   ]
  },
  {
   "cell_type": "code",
   "execution_count": 10,
   "id": "ab5c7f22-a959-452c-b472-64b8b024da88",
   "metadata": {},
   "outputs": [
    {
     "data": {
      "text/plain": [
       "3.265306122448979"
      ]
     },
     "execution_count": 10,
     "metadata": {},
     "output_type": "execute_result"
    }
   ],
   "source": [
    "np.var(l)"
   ]
  },
  {
   "cell_type": "code",
   "execution_count": 11,
   "id": "37836008-4371-4c04-a9d2-420fcf758bec",
   "metadata": {},
   "outputs": [
    {
     "data": {
      "text/plain": [
       "1.8070158058105024"
      ]
     },
     "execution_count": 11,
     "metadata": {},
     "output_type": "execute_result"
    }
   ],
   "source": [
    "np.std(l)"
   ]
  },
  {
   "cell_type": "code",
   "execution_count": 12,
   "id": "aaf7f2af-3013-4bae-867e-132f65ea6ae2",
   "metadata": {},
   "outputs": [],
   "source": [
    "#with outlier\n",
    "l1=[1,1,2,3,4,5,100]"
   ]
  },
  {
   "cell_type": "code",
   "execution_count": 13,
   "id": "c3f3fd22-ec1c-472e-bcfc-72360ebfa2a6",
   "metadata": {},
   "outputs": [
    {
     "data": {
      "text/plain": [
       "16.571428571428573"
      ]
     },
     "execution_count": 13,
     "metadata": {},
     "output_type": "execute_result"
    }
   ],
   "source": [
    "np.mean(l1)"
   ]
  },
  {
   "cell_type": "code",
   "execution_count": 15,
   "id": "f8962946-6963-4eba-a586-cca11cde6a7f",
   "metadata": {},
   "outputs": [
    {
     "data": {
      "text/plain": [
       "3.0"
      ]
     },
     "execution_count": 15,
     "metadata": {},
     "output_type": "execute_result"
    }
   ],
   "source": [
    "np.median(l1)"
   ]
  },
  {
   "cell_type": "code",
   "execution_count": 16,
   "id": "1b30b294-ef4f-4dc7-8c39-fafdce2ff705",
   "metadata": {},
   "outputs": [
    {
     "name": "stderr",
     "output_type": "stream",
     "text": [
      "/tmp/ipykernel_151/4081758545.py:1: FutureWarning: Unlike other reduction functions (e.g. `skew`, `kurtosis`), the default behavior of `mode` typically preserves the axis it acts along. In SciPy 1.11.0, this behavior will change: the default value of `keepdims` will become False, the `axis` over which the statistic is taken will be eliminated, and the value None will no longer be accepted. Set `keepdims` to True or False to avoid this warning.\n",
      "  stats.mode(l1)\n"
     ]
    },
    {
     "data": {
      "text/plain": [
       "ModeResult(mode=array([1]), count=array([2]))"
      ]
     },
     "execution_count": 16,
     "metadata": {},
     "output_type": "execute_result"
    }
   ],
   "source": [
    "stats.mode(l1)"
   ]
  },
  {
   "cell_type": "code",
   "execution_count": 17,
   "id": "2d891dc0-d9a0-4d2e-a53a-9c58649f7e33",
   "metadata": {},
   "outputs": [
    {
     "data": {
      "text/plain": [
       "1161.9591836734694"
      ]
     },
     "execution_count": 17,
     "metadata": {},
     "output_type": "execute_result"
    }
   ],
   "source": [
    "np.var(l1)"
   ]
  },
  {
   "cell_type": "code",
   "execution_count": 18,
   "id": "1ceae3f3-554a-4b65-bf7a-1029fe270af5",
   "metadata": {},
   "outputs": [
    {
     "data": {
      "text/plain": [
       "34.087522404443966"
      ]
     },
     "execution_count": 18,
     "metadata": {},
     "output_type": "execute_result"
    }
   ],
   "source": [
    "np.std(l1)"
   ]
  },
  {
   "cell_type": "code",
   "execution_count": null,
   "id": "96ad2d7d-1761-4ca9-b023-8ec524b55a73",
   "metadata": {},
   "outputs": [],
   "source": []
  }
 ],
 "metadata": {
  "kernelspec": {
   "display_name": "Python 3 (ipykernel)",
   "language": "python",
   "name": "python3"
  },
  "language_info": {
   "codemirror_mode": {
    "name": "ipython",
    "version": 3
   },
   "file_extension": ".py",
   "mimetype": "text/x-python",
   "name": "python",
   "nbconvert_exporter": "python",
   "pygments_lexer": "ipython3",
   "version": "3.10.8"
  }
 },
 "nbformat": 4,
 "nbformat_minor": 5
}

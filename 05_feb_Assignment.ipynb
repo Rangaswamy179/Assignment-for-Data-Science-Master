{
 "cells": [
  {
   "cell_type": "code",
   "execution_count": null,
   "id": "8ce31a14-49f9-4036-a4b4-b7d1382519f4",
   "metadata": {},
   "outputs": [],
   "source": [
    "Q1. Explain Class and Object with respect to Object-Oriented Programming. Give a suitable example."
   ]
  },
  {
   "cell_type": "code",
   "execution_count": null,
   "id": "84ae7d1b-8855-4d57-9b12-abc04e74d595",
   "metadata": {},
   "outputs": [],
   "source": [
    ">>  class is blue-print or structure that defines and contains overall variables and methods in object oriented programming.\n",
    "    it defines by class keyword and respective class name\n",
    "    syntax:\n",
    "        class ClassName:\n",
    "            # methods and variables "
   ]
  },
  {
   "cell_type": "code",
   "execution_count": null,
   "id": "48effc2b-3c16-4ab4-93d3-e57ce0904353",
   "metadata": {},
   "outputs": [],
   "source": [
    ">>  object is a instance of class.We can access the class objects and methods by referece variable that class has been created.\n",
    "    syntax:\n",
    "        reference_variable=Classname()\n",
    "        \n",
    "** Below is the example of class"
   ]
  },
  {
   "cell_type": "code",
   "execution_count": 1,
   "id": "bc5f6985-9400-445c-9cfe-0de6e6c13a06",
   "metadata": {},
   "outputs": [],
   "source": [
    "class Student:\n",
    "    student_id=3\n",
    "    name='kumar'\n",
    "    address='banglore'\n",
    "    def display(self,student_id,name,address):\n",
    "        print(f'student id is::{student_id}')\n",
    "        print(f'student name is::{name}')\n",
    "        print(f'student address is::{address}')"
   ]
  },
  {
   "cell_type": "code",
   "execution_count": null,
   "id": "b6c9a695-f0a2-4639-8482-ceb9b35b2993",
   "metadata": {},
   "outputs": [],
   "source": [
    ">>  we can access class elements by creating instance of that class called object"
   ]
  },
  {
   "cell_type": "code",
   "execution_count": 2,
   "id": "66e3752b-c312-4254-a447-ce8f9ebd12b6",
   "metadata": {},
   "outputs": [],
   "source": [
    "object1=Student()"
   ]
  },
  {
   "cell_type": "code",
   "execution_count": 3,
   "id": "a5f0942e-7769-4b76-866b-9cd62000b3e9",
   "metadata": {},
   "outputs": [
    {
     "data": {
      "text/plain": [
       "'kumar'"
      ]
     },
     "execution_count": 3,
     "metadata": {},
     "output_type": "execute_result"
    }
   ],
   "source": [
    "object1.name"
   ]
  },
  {
   "cell_type": "code",
   "execution_count": 9,
   "id": "6865f07c-dce4-4c2b-a767-1cdb641f36d2",
   "metadata": {},
   "outputs": [
    {
     "name": "stdout",
     "output_type": "stream",
     "text": [
      "student id is::2\n",
      "student name is::anil\n",
      "student address is::banglore\n"
     ]
    }
   ],
   "source": [
    "object1.display(2,'anil','banglore')"
   ]
  },
  {
   "cell_type": "code",
   "execution_count": null,
   "id": "9cb638a8-4e72-440f-9c18-7a4b5819787b",
   "metadata": {},
   "outputs": [],
   "source": [
    "Q2. Name the four pillars of OOPs."
   ]
  },
  {
   "cell_type": "code",
   "execution_count": null,
   "id": "d61c13fc-fb59-4a0c-a48d-026da1372051",
   "metadata": {},
   "outputs": [],
   "source": [
    ">>  Polymorphism\n",
    ">>  abstraction\n",
    ">>  inheritence\n",
    ">>  encapsulation"
   ]
  },
  {
   "cell_type": "code",
   "execution_count": null,
   "id": "d36b1108-8d20-411c-acac-dc2fa86b2fed",
   "metadata": {},
   "outputs": [],
   "source": [
    "Q3. Explain why the __init__() function is used. Give a suitable example."
   ]
  },
  {
   "cell_type": "code",
   "execution_count": null,
   "id": "3af1685f-1627-4e2a-a6f8-42efcfb17c93",
   "metadata": {},
   "outputs": [],
   "source": [
    "__init__ defines as the constructor that mainly used for intialization and defines the variables and methods in it and it tells the class the variable\n",
    "that class belongs to and executes automatically whenever we instance the object to class"
   ]
  },
  {
   "cell_type": "code",
   "execution_count": 13,
   "id": "a07707c9-7e1c-4826-93ea-a857d532095e",
   "metadata": {},
   "outputs": [],
   "source": [
    "class car:\n",
    "    def __init__(self,name,colour,speed):\n",
    "        self.name=name\n",
    "        self.colour=colour\n",
    "        self.speed=speed\n",
    "    def display(self):\n",
    "        print('car name is::',self.name)\n",
    "        print('car colour is::',self.colour)\n",
    "        print('car speed is::',self.speed)"
   ]
  },
  {
   "cell_type": "code",
   "execution_count": 14,
   "id": "f9c070e0-d5a7-403b-880d-9b2dc2d1c88b",
   "metadata": {},
   "outputs": [],
   "source": [
    "c=car('Innova','Blue','100km/hr')"
   ]
  },
  {
   "cell_type": "code",
   "execution_count": 15,
   "id": "15a7d412-1638-4024-bc40-cb5e3e4da288",
   "metadata": {},
   "outputs": [
    {
     "name": "stdout",
     "output_type": "stream",
     "text": [
      "car name is:: Innova\n",
      "car colour is:: Blue\n",
      "car speed is:: 100km/hr\n"
     ]
    }
   ],
   "source": [
    "c.display()"
   ]
  },
  {
   "cell_type": "code",
   "execution_count": null,
   "id": "8ce66c13-4f52-40d6-a29a-28d0484c8f51",
   "metadata": {},
   "outputs": [],
   "source": [
    "Q4. Why self is used in OOPs?\n",
    ">>  self is mainly used as pointer points to class and tells associate variables and methods which are belongs to this class"
   ]
  },
  {
   "cell_type": "code",
   "execution_count": null,
   "id": "a660a551-0f9e-4e25-8bd4-d6b5643617aa",
   "metadata": {},
   "outputs": [],
   "source": [
    "Q5.  What is inheritance? Give an example for each type of inheritance."
   ]
  },
  {
   "cell_type": "code",
   "execution_count": null,
   "id": "cc3965a4-197e-4c5f-b58f-b9415154f4ff",
   "metadata": {},
   "outputs": [],
   "source": [
    ">>   Inheritence defines as the properties of obects which are methods and variables of base class has been inherit and available to child classes"
   ]
  },
  {
   "cell_type": "code",
   "execution_count": null,
   "id": "849a5ec8-bd98-4ffb-a5d7-619ccb4d2976",
   "metadata": {},
   "outputs": [],
   "source": [
    "**example for each type of inheritance."
   ]
  },
  {
   "cell_type": "code",
   "execution_count": null,
   "id": "d58c5908-2d4c-478f-ab85-7b593ac6ab0e",
   "metadata": {},
   "outputs": [],
   "source": [
    "#single inheretence"
   ]
  },
  {
   "cell_type": "code",
   "execution_count": 16,
   "id": "536d4de6-14d3-4806-8a1a-03a24f1ffb0d",
   "metadata": {},
   "outputs": [],
   "source": [
    "class parent:\n",
    "    def test_class1(self):\n",
    "        print('this is my parent class')"
   ]
  },
  {
   "cell_type": "code",
   "execution_count": 17,
   "id": "1ead2676-bb56-4007-b9c1-329ceffe7363",
   "metadata": {},
   "outputs": [],
   "source": [
    "class child(parent):\n",
    "    def test_class2(self):\n",
    "        print('this is my child class')"
   ]
  },
  {
   "cell_type": "code",
   "execution_count": 18,
   "id": "e071396d-7b9e-4b0c-9548-f81cf819132b",
   "metadata": {},
   "outputs": [],
   "source": [
    "c1=child()"
   ]
  },
  {
   "cell_type": "code",
   "execution_count": 19,
   "id": "8a8ae318-e567-4955-8d02-19aa8c8bbfeb",
   "metadata": {},
   "outputs": [
    {
     "name": "stdout",
     "output_type": "stream",
     "text": [
      "this is my parent class\n"
     ]
    }
   ],
   "source": [
    "c1.test_class1()"
   ]
  },
  {
   "cell_type": "code",
   "execution_count": null,
   "id": "b9331863-2261-421a-bfe7-42f6cb5525f2",
   "metadata": {},
   "outputs": [],
   "source": [
    "#multilevel Inheritence"
   ]
  },
  {
   "cell_type": "code",
   "execution_count": 20,
   "id": "ec2255e1-9c83-4310-ba93-5a3b3f92e93f",
   "metadata": {},
   "outputs": [],
   "source": [
    "class class1:\n",
    "    def test_class1(self):\n",
    "        print('this is my first class')"
   ]
  },
  {
   "cell_type": "code",
   "execution_count": 21,
   "id": "69a26d23-3a5f-44c0-9390-16995e2282d5",
   "metadata": {},
   "outputs": [],
   "source": [
    "class class2(class1):\n",
    "    def test_class2(self):\n",
    "        print('this is my second class')"
   ]
  },
  {
   "cell_type": "code",
   "execution_count": 22,
   "id": "fd4c38ce-7310-4a73-98d7-7ea1fc84e99a",
   "metadata": {},
   "outputs": [],
   "source": [
    "class class3(class2):\n",
    "    def test_class3(self):\n",
    "        print('this is my third class')"
   ]
  },
  {
   "cell_type": "code",
   "execution_count": 23,
   "id": "8eca9969-7b4b-4322-8dcf-399470ae3014",
   "metadata": {},
   "outputs": [],
   "source": [
    "c1=class3()"
   ]
  },
  {
   "cell_type": "code",
   "execution_count": 24,
   "id": "320382c4-032d-4c3d-8f13-96446d4995b2",
   "metadata": {},
   "outputs": [
    {
     "name": "stdout",
     "output_type": "stream",
     "text": [
      "this is my first class\n"
     ]
    }
   ],
   "source": [
    "c1.test_class1()"
   ]
  },
  {
   "cell_type": "code",
   "execution_count": null,
   "id": "d7387d05-465d-43dd-a210-e8325002c0b8",
   "metadata": {},
   "outputs": [],
   "source": [
    "#multiple inheretence"
   ]
  },
  {
   "cell_type": "code",
   "execution_count": 25,
   "id": "f11578b2-f875-4aa3-82fe-cdc5eb8d3119",
   "metadata": {},
   "outputs": [],
   "source": [
    "class A:\n",
    "    def test_class1(self):\n",
    "        print('this is my A class')"
   ]
  },
  {
   "cell_type": "code",
   "execution_count": 26,
   "id": "d1ecb75e-194c-46da-a211-6ce9a0f3872e",
   "metadata": {},
   "outputs": [],
   "source": [
    "class B:\n",
    "    def test_class2(self):\n",
    "        print('this is my B class')"
   ]
  },
  {
   "cell_type": "code",
   "execution_count": 27,
   "id": "819aa726-9bdc-4867-82f6-f3f59e7bd847",
   "metadata": {},
   "outputs": [],
   "source": [
    "class C(A,B):\n",
    "    def test_class3(self):\n",
    "        print('this is my c class')"
   ]
  },
  {
   "cell_type": "code",
   "execution_count": 28,
   "id": "fa3b5368-02d9-42bd-a486-4570fc30baf8",
   "metadata": {},
   "outputs": [],
   "source": [
    "c3=C()"
   ]
  },
  {
   "cell_type": "code",
   "execution_count": 29,
   "id": "eeddba14-91fc-4ec6-af63-5f4e7515364e",
   "metadata": {},
   "outputs": [
    {
     "name": "stdout",
     "output_type": "stream",
     "text": [
      "this is my B class\n"
     ]
    }
   ],
   "source": [
    "c3.test_class2()"
   ]
  },
  {
   "cell_type": "code",
   "execution_count": 31,
   "id": "8299e5bc-26e5-4e04-b0a7-77648a6030b0",
   "metadata": {},
   "outputs": [
    {
     "name": "stdout",
     "output_type": "stream",
     "text": [
      "this is my A class\n"
     ]
    }
   ],
   "source": [
    "c3.test_class1()"
   ]
  },
  {
   "cell_type": "code",
   "execution_count": null,
   "id": "ef149fb7-dbc4-4522-84d5-27988e67584b",
   "metadata": {},
   "outputs": [],
   "source": [
    "#hirarchial inheretence"
   ]
  },
  {
   "cell_type": "code",
   "execution_count": 32,
   "id": "8c5a5e04-7da1-42d5-903f-a43b9fa6dafc",
   "metadata": {},
   "outputs": [],
   "source": [
    "class parent:\n",
    "    def test_class1(self):\n",
    "        print('this is my parent class')"
   ]
  },
  {
   "cell_type": "code",
   "execution_count": 33,
   "id": "c3285afb-f120-4f7d-b7a2-a1e1cfd109b2",
   "metadata": {},
   "outputs": [],
   "source": [
    "class child1(parent):\n",
    "    def test_class2(self):\n",
    "        print('this is my child1 class')"
   ]
  },
  {
   "cell_type": "code",
   "execution_count": 34,
   "id": "0fa2480a-7898-42ac-8aa7-a9e569863e22",
   "metadata": {},
   "outputs": [],
   "source": [
    "class child2(parent):\n",
    "    def test_class2(self):\n",
    "        print('this is my child2 class')"
   ]
  },
  {
   "cell_type": "code",
   "execution_count": 35,
   "id": "700af967-11b2-45ef-8ae2-6344bcd541d3",
   "metadata": {},
   "outputs": [],
   "source": [
    "c4=child1()"
   ]
  },
  {
   "cell_type": "code",
   "execution_count": 36,
   "id": "69b76760-e1e3-4ea6-9495-0712550fa81d",
   "metadata": {},
   "outputs": [
    {
     "name": "stdout",
     "output_type": "stream",
     "text": [
      "this is my parent class\n"
     ]
    }
   ],
   "source": [
    "c4.test_class1()"
   ]
  },
  {
   "cell_type": "code",
   "execution_count": 37,
   "id": "0a496aef-b9f0-43f3-9eda-b0bae1fc0456",
   "metadata": {},
   "outputs": [],
   "source": [
    "c5=child2()"
   ]
  },
  {
   "cell_type": "code",
   "execution_count": 39,
   "id": "ff380e4b-aa0e-4c8b-aafc-90f70d9efe5c",
   "metadata": {},
   "outputs": [
    {
     "name": "stdout",
     "output_type": "stream",
     "text": [
      "this is my parent class\n"
     ]
    }
   ],
   "source": [
    "c5.test_class1()"
   ]
  },
  {
   "cell_type": "code",
   "execution_count": null,
   "id": "b8a4d657-a487-4bd7-bb64-e8f072880aeb",
   "metadata": {},
   "outputs": [],
   "source": []
  }
 ],
 "metadata": {
  "kernelspec": {
   "display_name": "Python 3 (ipykernel)",
   "language": "python",
   "name": "python3"
  },
  "language_info": {
   "codemirror_mode": {
    "name": "ipython",
    "version": 3
   },
   "file_extension": ".py",
   "mimetype": "text/x-python",
   "name": "python",
   "nbconvert_exporter": "python",
   "pygments_lexer": "ipython3",
   "version": "3.10.8"
  }
 },
 "nbformat": 4,
 "nbformat_minor": 5
}
